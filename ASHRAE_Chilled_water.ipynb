{
  "nbformat": 4,
  "nbformat_minor": 0,
  "metadata": {
    "colab": {
      "name": "Copy of ASHRAE GPU-Chilled water.ipynb",
      "provenance": [],
      "collapsed_sections": [],
      "machine_shape": "hm"
    },
    "kernelspec": {
      "name": "python3",
      "display_name": "Python 3"
    }
  },
  "cells": [
    {
      "cell_type": "code",
      "metadata": {
        "id": "pkpOoLmu3WeC",
        "colab_type": "code",
        "colab": {}
      },
      "source": [
        "import os,shutil"
      ],
      "execution_count": null,
      "outputs": []
    },
    {
      "cell_type": "code",
      "metadata": {
        "id": "80SLOezQ66de",
        "colab_type": "code",
        "colab": {}
      },
      "source": [
        "os.environ['KAGGLE_USERNAME']='rohanazad'\n",
        "os.environ['KAGGLE_KEY']='3450ec52cf8078dd8dcd1832dc07016a'"
      ],
      "execution_count": null,
      "outputs": []
    },
    {
      "cell_type": "code",
      "metadata": {
        "id": "y7x1pAux75az",
        "colab_type": "code",
        "colab": {
          "base_uri": "https://localhost:8080/",
          "height": 354
        },
        "outputId": "a4082682-a0ba-4af7-c597-86cbb59661e8"
      },
      "source": [
        "!kaggle competitions download -c ashrae-energy-prediction"
      ],
      "execution_count": null,
      "outputs": [
        {
          "output_type": "stream",
          "text": [
            "Warning: Looks like you're using an outdated API Version, please consider updating (server 1.5.6 / client 1.5.4)\n",
            "Downloading test.csv.zip to /content\n",
            " 86% 144M/167M [00:01<00:00, 103MB/s] \n",
            "100% 167M/167M [00:01<00:00, 119MB/s]\n",
            "Downloading weather_train.csv.zip to /content\n",
            "  0% 0.00/1.27M [00:00<?, ?B/s]\n",
            "100% 1.27M/1.27M [00:00<00:00, 177MB/s]\n",
            "Downloading sample_submission.csv.zip to /content\n",
            " 80% 71.0M/88.4M [00:00<00:00, 114MB/s] \n",
            "100% 88.4M/88.4M [00:00<00:00, 164MB/s]\n",
            "Downloading building_metadata.csv to /content\n",
            "  0% 0.00/44.5k [00:00<?, ?B/s]\n",
            "100% 44.5k/44.5k [00:00<00:00, 43.9MB/s]\n",
            "Downloading train.csv.zip to /content\n",
            " 99% 118M/120M [00:01<00:00, 119MB/s] \n",
            "100% 120M/120M [00:01<00:00, 108MB/s]\n",
            "Downloading weather_test.csv.zip to /content\n",
            "  0% 0.00/2.53M [00:00<?, ?B/s]\n",
            "100% 2.53M/2.53M [00:00<00:00, 166MB/s]\n"
          ],
          "name": "stdout"
        }
      ]
    },
    {
      "cell_type": "code",
      "metadata": {
        "id": "Xm3NAdYx7_6-",
        "colab_type": "code",
        "colab": {}
      },
      "source": [
        "import pandas as pd"
      ],
      "execution_count": null,
      "outputs": []
    },
    {
      "cell_type": "code",
      "metadata": {
        "id": "c6Lp7Rw09JR1",
        "colab_type": "code",
        "colab": {}
      },
      "source": [
        "import zipfile\n",
        "\n",
        "unzipped_train=zipfile.ZipFile('train.csv.zip')\n",
        "unzipped_train.extractall()\n",
        "unzipped_train.close()\n",
        "\n",
        "unzipped_test=zipfile.ZipFile('test.csv.zip')\n",
        "unzipped_test.extractall()\n",
        "unzipped_test.close()"
      ],
      "execution_count": null,
      "outputs": []
    },
    {
      "cell_type": "code",
      "metadata": {
        "id": "uy2EjlD29vtB",
        "colab_type": "code",
        "colab": {}
      },
      "source": [
        "train=pd.read_csv('train.csv')\n",
        "test=pd.read_csv('test.csv')\n",
        "weather_train_dir='/content/drive/My Drive/weather_train3.csv'\n",
        "weather_train=pd.read_csv(weather_train_dir)\n",
        "weather_test_dir='/content/drive/My Drive/weather_test2.csv'\n",
        "weather_test=pd.read_csv(weather_test_dir)\n",
        "building_met_dir='/content/drive/My Drive/building_metadata_save.csv'\n",
        "building_met=pd.read_csv(building_met_dir)"
      ],
      "execution_count": null,
      "outputs": []
    },
    {
      "cell_type": "code",
      "metadata": {
        "id": "4-c_lrEJ-kjt",
        "colab_type": "code",
        "colab": {
          "base_uri": "https://localhost:8080/",
          "height": 105
        },
        "outputId": "9ab2a8d2-4a8f-4cc5-aaf8-11c87a5de32f"
      },
      "source": [
        "print('shape of train:',train.shape)\n",
        "print('shape of test:',test.shape)\n",
        "print('shape of weather_train:',weather_train.shape)\n",
        "print('shape of weather_test:',weather_test.shape)\n",
        "print('shape of building_metadata:',building_met.shape)"
      ],
      "execution_count": null,
      "outputs": [
        {
          "output_type": "stream",
          "text": [
            "shape of train: (20216100, 4)\n",
            "shape of test: (41697600, 4)\n",
            "shape of weather_train: (139788, 12)\n",
            "shape of weather_test: (277243, 12)\n",
            "shape of building_metadata: (1449, 6)\n"
          ],
          "name": "stdout"
        }
      ]
    },
    {
      "cell_type": "markdown",
      "metadata": {
        "id": "oz5bdRbU-7WB",
        "colab_type": "text"
      },
      "source": [
        "**timestamp stores data as strings in a particular format. Year,month,day,time**"
      ]
    },
    {
      "cell_type": "markdown",
      "metadata": {
        "id": "vOEXNFcH_P-7",
        "colab_type": "text"
      },
      "source": [
        "**Apply to_datetime to convert string to object**"
      ]
    },
    {
      "cell_type": "code",
      "metadata": {
        "id": "O6KF554A_UxL",
        "colab_type": "code",
        "colab": {}
      },
      "source": [
        "train['timestamp']=pd.to_datetime(train['timestamp'])\n",
        "test['timestamp']=pd.to_datetime(test['timestamp'])\n",
        "weather_train['timestamp']=pd.to_datetime(weather_train['timestamp'])\n",
        "weather_test['timestamp']=pd.to_datetime(weather_test['timestamp'])\n",
        "\n",
        "building_met['primary_use']=building_met['primary_use'].astype('category')"
      ],
      "execution_count": null,
      "outputs": []
    },
    {
      "cell_type": "markdown",
      "metadata": {
        "id": "Dcm3uyua_Za2",
        "colab_type": "text"
      },
      "source": [
        "**Merging the three dataset to create train set**"
      ]
    },
    {
      "cell_type": "code",
      "metadata": {
        "id": "XMFA57F__eUt",
        "colab_type": "code",
        "colab": {}
      },
      "source": [
        "temp=train[['building_id']]\n",
        "temp=temp.merge(building_met,on='building_id',how='left')\n",
        "del temp['building_id']\n",
        "train=pd.concat([train,temp],axis=1)\n",
        "\n"
      ],
      "execution_count": null,
      "outputs": []
    },
    {
      "cell_type": "code",
      "metadata": {
        "id": "sjJNAAie_loh",
        "colab_type": "code",
        "colab": {
          "base_uri": "https://localhost:8080/",
          "height": 197
        },
        "outputId": "c5256b73-23e8-42dc-fc25-6303516b4867"
      },
      "source": [
        "train.head()"
      ],
      "execution_count": null,
      "outputs": [
        {
          "output_type": "execute_result",
          "data": {
            "text/html": [
              "<div>\n",
              "<style scoped>\n",
              "    .dataframe tbody tr th:only-of-type {\n",
              "        vertical-align: middle;\n",
              "    }\n",
              "\n",
              "    .dataframe tbody tr th {\n",
              "        vertical-align: top;\n",
              "    }\n",
              "\n",
              "    .dataframe thead th {\n",
              "        text-align: right;\n",
              "    }\n",
              "</style>\n",
              "<table border=\"1\" class=\"dataframe\">\n",
              "  <thead>\n",
              "    <tr style=\"text-align: right;\">\n",
              "      <th></th>\n",
              "      <th>building_id</th>\n",
              "      <th>meter</th>\n",
              "      <th>timestamp</th>\n",
              "      <th>meter_reading</th>\n",
              "      <th>site_id</th>\n",
              "      <th>primary_use</th>\n",
              "      <th>square_feet</th>\n",
              "      <th>year_built</th>\n",
              "      <th>floor_count</th>\n",
              "    </tr>\n",
              "  </thead>\n",
              "  <tbody>\n",
              "    <tr>\n",
              "      <th>0</th>\n",
              "      <td>0</td>\n",
              "      <td>0</td>\n",
              "      <td>2016-01-01</td>\n",
              "      <td>0.0</td>\n",
              "      <td>0</td>\n",
              "      <td>Education</td>\n",
              "      <td>7432</td>\n",
              "      <td>2008.0</td>\n",
              "      <td>4</td>\n",
              "    </tr>\n",
              "    <tr>\n",
              "      <th>1</th>\n",
              "      <td>1</td>\n",
              "      <td>0</td>\n",
              "      <td>2016-01-01</td>\n",
              "      <td>0.0</td>\n",
              "      <td>0</td>\n",
              "      <td>Education</td>\n",
              "      <td>2720</td>\n",
              "      <td>2004.0</td>\n",
              "      <td>4</td>\n",
              "    </tr>\n",
              "    <tr>\n",
              "      <th>2</th>\n",
              "      <td>2</td>\n",
              "      <td>0</td>\n",
              "      <td>2016-01-01</td>\n",
              "      <td>0.0</td>\n",
              "      <td>0</td>\n",
              "      <td>Education</td>\n",
              "      <td>5376</td>\n",
              "      <td>1991.0</td>\n",
              "      <td>4</td>\n",
              "    </tr>\n",
              "    <tr>\n",
              "      <th>3</th>\n",
              "      <td>3</td>\n",
              "      <td>0</td>\n",
              "      <td>2016-01-01</td>\n",
              "      <td>0.0</td>\n",
              "      <td>0</td>\n",
              "      <td>Education</td>\n",
              "      <td>23685</td>\n",
              "      <td>2002.0</td>\n",
              "      <td>4</td>\n",
              "    </tr>\n",
              "    <tr>\n",
              "      <th>4</th>\n",
              "      <td>4</td>\n",
              "      <td>0</td>\n",
              "      <td>2016-01-01</td>\n",
              "      <td>0.0</td>\n",
              "      <td>0</td>\n",
              "      <td>Education</td>\n",
              "      <td>116607</td>\n",
              "      <td>1975.0</td>\n",
              "      <td>4</td>\n",
              "    </tr>\n",
              "  </tbody>\n",
              "</table>\n",
              "</div>"
            ],
            "text/plain": [
              "   building_id  meter  timestamp  ...  square_feet  year_built floor_count\n",
              "0            0      0 2016-01-01  ...         7432      2008.0           4\n",
              "1            1      0 2016-01-01  ...         2720      2004.0           4\n",
              "2            2      0 2016-01-01  ...         5376      1991.0           4\n",
              "3            3      0 2016-01-01  ...        23685      2002.0           4\n",
              "4            4      0 2016-01-01  ...       116607      1975.0           4\n",
              "\n",
              "[5 rows x 9 columns]"
            ]
          },
          "metadata": {
            "tags": []
          },
          "execution_count": 18
        }
      ]
    },
    {
      "cell_type": "code",
      "metadata": {
        "id": "hq8EE8xA_orR",
        "colab_type": "code",
        "colab": {}
      },
      "source": [
        "temp=train[['site_id','timestamp']]\n",
        "temp=temp.merge(weather_train,on=['site_id','timestamp'],how='left')\n",
        "del temp['site_id'],temp['timestamp']\n",
        "train=pd.concat([train,temp],axis=1)\n",
        "\n",
        "del temp,weather_train"
      ],
      "execution_count": null,
      "outputs": []
    },
    {
      "cell_type": "code",
      "metadata": {
        "id": "gInV2R09_17r",
        "colab_type": "code",
        "colab": {
          "base_uri": "https://localhost:8080/",
          "height": 301
        },
        "outputId": "3458b255-2d36-4301-c1d0-e25828fbddf2"
      },
      "source": [
        "train.head()"
      ],
      "execution_count": null,
      "outputs": [
        {
          "output_type": "execute_result",
          "data": {
            "text/html": [
              "<div>\n",
              "<style scoped>\n",
              "    .dataframe tbody tr th:only-of-type {\n",
              "        vertical-align: middle;\n",
              "    }\n",
              "\n",
              "    .dataframe tbody tr th {\n",
              "        vertical-align: top;\n",
              "    }\n",
              "\n",
              "    .dataframe thead th {\n",
              "        text-align: right;\n",
              "    }\n",
              "</style>\n",
              "<table border=\"1\" class=\"dataframe\">\n",
              "  <thead>\n",
              "    <tr style=\"text-align: right;\">\n",
              "      <th></th>\n",
              "      <th>building_id</th>\n",
              "      <th>meter</th>\n",
              "      <th>timestamp</th>\n",
              "      <th>meter_reading</th>\n",
              "      <th>site_id</th>\n",
              "      <th>primary_use</th>\n",
              "      <th>square_feet</th>\n",
              "      <th>year_built</th>\n",
              "      <th>floor_count</th>\n",
              "      <th>air_temperature</th>\n",
              "      <th>cloud_coverage</th>\n",
              "      <th>dew_temperature</th>\n",
              "      <th>precip_depth_1_hr</th>\n",
              "      <th>sea_level_pressure</th>\n",
              "      <th>wind_direction</th>\n",
              "      <th>wind_speed</th>\n",
              "      <th>Month</th>\n",
              "      <th>Day_date</th>\n",
              "      <th>year</th>\n",
              "    </tr>\n",
              "  </thead>\n",
              "  <tbody>\n",
              "    <tr>\n",
              "      <th>0</th>\n",
              "      <td>0</td>\n",
              "      <td>0</td>\n",
              "      <td>2016-01-01</td>\n",
              "      <td>0.0</td>\n",
              "      <td>0</td>\n",
              "      <td>Education</td>\n",
              "      <td>7432</td>\n",
              "      <td>2008.0</td>\n",
              "      <td>4</td>\n",
              "      <td>25.0</td>\n",
              "      <td>6.0</td>\n",
              "      <td>6.0</td>\n",
              "      <td>1.382557</td>\n",
              "      <td>1019.7</td>\n",
              "      <td>0.0</td>\n",
              "      <td>0.0</td>\n",
              "      <td>1.0</td>\n",
              "      <td>1.0</td>\n",
              "      <td>2016.0</td>\n",
              "    </tr>\n",
              "    <tr>\n",
              "      <th>1</th>\n",
              "      <td>1</td>\n",
              "      <td>0</td>\n",
              "      <td>2016-01-01</td>\n",
              "      <td>0.0</td>\n",
              "      <td>0</td>\n",
              "      <td>Education</td>\n",
              "      <td>2720</td>\n",
              "      <td>2004.0</td>\n",
              "      <td>4</td>\n",
              "      <td>25.0</td>\n",
              "      <td>6.0</td>\n",
              "      <td>6.0</td>\n",
              "      <td>1.382557</td>\n",
              "      <td>1019.7</td>\n",
              "      <td>0.0</td>\n",
              "      <td>0.0</td>\n",
              "      <td>1.0</td>\n",
              "      <td>1.0</td>\n",
              "      <td>2016.0</td>\n",
              "    </tr>\n",
              "    <tr>\n",
              "      <th>2</th>\n",
              "      <td>2</td>\n",
              "      <td>0</td>\n",
              "      <td>2016-01-01</td>\n",
              "      <td>0.0</td>\n",
              "      <td>0</td>\n",
              "      <td>Education</td>\n",
              "      <td>5376</td>\n",
              "      <td>1991.0</td>\n",
              "      <td>4</td>\n",
              "      <td>25.0</td>\n",
              "      <td>6.0</td>\n",
              "      <td>6.0</td>\n",
              "      <td>1.382557</td>\n",
              "      <td>1019.7</td>\n",
              "      <td>0.0</td>\n",
              "      <td>0.0</td>\n",
              "      <td>1.0</td>\n",
              "      <td>1.0</td>\n",
              "      <td>2016.0</td>\n",
              "    </tr>\n",
              "    <tr>\n",
              "      <th>3</th>\n",
              "      <td>3</td>\n",
              "      <td>0</td>\n",
              "      <td>2016-01-01</td>\n",
              "      <td>0.0</td>\n",
              "      <td>0</td>\n",
              "      <td>Education</td>\n",
              "      <td>23685</td>\n",
              "      <td>2002.0</td>\n",
              "      <td>4</td>\n",
              "      <td>25.0</td>\n",
              "      <td>6.0</td>\n",
              "      <td>6.0</td>\n",
              "      <td>1.382557</td>\n",
              "      <td>1019.7</td>\n",
              "      <td>0.0</td>\n",
              "      <td>0.0</td>\n",
              "      <td>1.0</td>\n",
              "      <td>1.0</td>\n",
              "      <td>2016.0</td>\n",
              "    </tr>\n",
              "    <tr>\n",
              "      <th>4</th>\n",
              "      <td>4</td>\n",
              "      <td>0</td>\n",
              "      <td>2016-01-01</td>\n",
              "      <td>0.0</td>\n",
              "      <td>0</td>\n",
              "      <td>Education</td>\n",
              "      <td>116607</td>\n",
              "      <td>1975.0</td>\n",
              "      <td>4</td>\n",
              "      <td>25.0</td>\n",
              "      <td>6.0</td>\n",
              "      <td>6.0</td>\n",
              "      <td>1.382557</td>\n",
              "      <td>1019.7</td>\n",
              "      <td>0.0</td>\n",
              "      <td>0.0</td>\n",
              "      <td>1.0</td>\n",
              "      <td>1.0</td>\n",
              "      <td>2016.0</td>\n",
              "    </tr>\n",
              "  </tbody>\n",
              "</table>\n",
              "</div>"
            ],
            "text/plain": [
              "   building_id  meter  timestamp  ...  Month  Day_date    year\n",
              "0            0      0 2016-01-01  ...    1.0       1.0  2016.0\n",
              "1            1      0 2016-01-01  ...    1.0       1.0  2016.0\n",
              "2            2      0 2016-01-01  ...    1.0       1.0  2016.0\n",
              "3            3      0 2016-01-01  ...    1.0       1.0  2016.0\n",
              "4            4      0 2016-01-01  ...    1.0       1.0  2016.0\n",
              "\n",
              "[5 rows x 19 columns]"
            ]
          },
          "metadata": {
            "tags": []
          },
          "execution_count": 20
        }
      ]
    },
    {
      "cell_type": "code",
      "metadata": {
        "id": "CSMfxBB_AqVI",
        "colab_type": "code",
        "colab": {
          "base_uri": "https://localhost:8080/",
          "height": 34
        },
        "outputId": "175df7be-f36a-48cf-9db4-342497b6c63e"
      },
      "source": [
        "train.shape"
      ],
      "execution_count": null,
      "outputs": [
        {
          "output_type": "execute_result",
          "data": {
            "text/plain": [
              "(20216100, 19)"
            ]
          },
          "metadata": {
            "tags": []
          },
          "execution_count": 21
        }
      ]
    },
    {
      "cell_type": "code",
      "metadata": {
        "id": "ArjwtGgVAtWm",
        "colab_type": "code",
        "colab": {
          "base_uri": "https://localhost:8080/",
          "height": 478
        },
        "outputId": "ca14adc9-2a2c-4119-fa7a-4923af2687ba"
      },
      "source": [
        "train.info()"
      ],
      "execution_count": null,
      "outputs": [
        {
          "output_type": "stream",
          "text": [
            "<class 'pandas.core.frame.DataFrame'>\n",
            "RangeIndex: 20216100 entries, 0 to 20216099\n",
            "Data columns (total 19 columns):\n",
            " #   Column              Dtype         \n",
            "---  ------              -----         \n",
            " 0   building_id         int64         \n",
            " 1   meter               int64         \n",
            " 2   timestamp           datetime64[ns]\n",
            " 3   meter_reading       float64       \n",
            " 4   site_id             int64         \n",
            " 5   primary_use         category      \n",
            " 6   square_feet         int64         \n",
            " 7   year_built          float64       \n",
            " 8   floor_count         int64         \n",
            " 9   air_temperature     float64       \n",
            " 10  cloud_coverage      float64       \n",
            " 11  dew_temperature     float64       \n",
            " 12  precip_depth_1_hr   float64       \n",
            " 13  sea_level_pressure  float64       \n",
            " 14  wind_direction      float64       \n",
            " 15  wind_speed          float64       \n",
            " 16  Month               float64       \n",
            " 17  Day_date            float64       \n",
            " 18  year                float64       \n",
            "dtypes: category(1), datetime64[ns](1), float64(12), int64(5)\n",
            "memory usage: 2.7 GB\n"
          ],
          "name": "stdout"
        }
      ]
    },
    {
      "cell_type": "markdown",
      "metadata": {
        "id": "eiQ2xQ80AzNM",
        "colab_type": "text"
      },
      "source": [
        "**Creating Hour column**"
      ]
    },
    {
      "cell_type": "code",
      "metadata": {
        "id": "2Xh1wRB9A2sZ",
        "colab_type": "code",
        "colab": {}
      },
      "source": [
        "import numpy as np\n",
        "\n",
        "train['hour_datetime']=train['timestamp'].dt.hour.astype(np.int8)\n",
        "\n",
        "del train['timestamp']"
      ],
      "execution_count": null,
      "outputs": []
    },
    {
      "cell_type": "code",
      "metadata": {
        "id": "1VzQ5paZBGbL",
        "colab_type": "code",
        "colab": {
          "base_uri": "https://localhost:8080/",
          "height": 217
        },
        "outputId": "1f14eeb9-e771-42e1-c680-c1fdec1df2a7"
      },
      "source": [
        "train.head()"
      ],
      "execution_count": null,
      "outputs": [
        {
          "output_type": "execute_result",
          "data": {
            "text/html": [
              "<div>\n",
              "<style scoped>\n",
              "    .dataframe tbody tr th:only-of-type {\n",
              "        vertical-align: middle;\n",
              "    }\n",
              "\n",
              "    .dataframe tbody tr th {\n",
              "        vertical-align: top;\n",
              "    }\n",
              "\n",
              "    .dataframe thead th {\n",
              "        text-align: right;\n",
              "    }\n",
              "</style>\n",
              "<table border=\"1\" class=\"dataframe\">\n",
              "  <thead>\n",
              "    <tr style=\"text-align: right;\">\n",
              "      <th></th>\n",
              "      <th>building_id</th>\n",
              "      <th>meter</th>\n",
              "      <th>meter_reading</th>\n",
              "      <th>site_id</th>\n",
              "      <th>primary_use</th>\n",
              "      <th>square_feet</th>\n",
              "      <th>year_built</th>\n",
              "      <th>floor_count</th>\n",
              "      <th>air_temperature</th>\n",
              "      <th>cloud_coverage</th>\n",
              "      <th>dew_temperature</th>\n",
              "      <th>precip_depth_1_hr</th>\n",
              "      <th>sea_level_pressure</th>\n",
              "      <th>wind_direction</th>\n",
              "      <th>wind_speed</th>\n",
              "      <th>Month</th>\n",
              "      <th>Day_date</th>\n",
              "      <th>year</th>\n",
              "      <th>hour_datetime</th>\n",
              "    </tr>\n",
              "  </thead>\n",
              "  <tbody>\n",
              "    <tr>\n",
              "      <th>0</th>\n",
              "      <td>0</td>\n",
              "      <td>0</td>\n",
              "      <td>0.0</td>\n",
              "      <td>0</td>\n",
              "      <td>Education</td>\n",
              "      <td>7432</td>\n",
              "      <td>2008.0</td>\n",
              "      <td>4</td>\n",
              "      <td>25.0</td>\n",
              "      <td>6.0</td>\n",
              "      <td>6.0</td>\n",
              "      <td>1.382557</td>\n",
              "      <td>1019.7</td>\n",
              "      <td>0.0</td>\n",
              "      <td>0.0</td>\n",
              "      <td>1.0</td>\n",
              "      <td>1.0</td>\n",
              "      <td>2016.0</td>\n",
              "      <td>0</td>\n",
              "    </tr>\n",
              "    <tr>\n",
              "      <th>1</th>\n",
              "      <td>1</td>\n",
              "      <td>0</td>\n",
              "      <td>0.0</td>\n",
              "      <td>0</td>\n",
              "      <td>Education</td>\n",
              "      <td>2720</td>\n",
              "      <td>2004.0</td>\n",
              "      <td>4</td>\n",
              "      <td>25.0</td>\n",
              "      <td>6.0</td>\n",
              "      <td>6.0</td>\n",
              "      <td>1.382557</td>\n",
              "      <td>1019.7</td>\n",
              "      <td>0.0</td>\n",
              "      <td>0.0</td>\n",
              "      <td>1.0</td>\n",
              "      <td>1.0</td>\n",
              "      <td>2016.0</td>\n",
              "      <td>0</td>\n",
              "    </tr>\n",
              "    <tr>\n",
              "      <th>2</th>\n",
              "      <td>2</td>\n",
              "      <td>0</td>\n",
              "      <td>0.0</td>\n",
              "      <td>0</td>\n",
              "      <td>Education</td>\n",
              "      <td>5376</td>\n",
              "      <td>1991.0</td>\n",
              "      <td>4</td>\n",
              "      <td>25.0</td>\n",
              "      <td>6.0</td>\n",
              "      <td>6.0</td>\n",
              "      <td>1.382557</td>\n",
              "      <td>1019.7</td>\n",
              "      <td>0.0</td>\n",
              "      <td>0.0</td>\n",
              "      <td>1.0</td>\n",
              "      <td>1.0</td>\n",
              "      <td>2016.0</td>\n",
              "      <td>0</td>\n",
              "    </tr>\n",
              "    <tr>\n",
              "      <th>3</th>\n",
              "      <td>3</td>\n",
              "      <td>0</td>\n",
              "      <td>0.0</td>\n",
              "      <td>0</td>\n",
              "      <td>Education</td>\n",
              "      <td>23685</td>\n",
              "      <td>2002.0</td>\n",
              "      <td>4</td>\n",
              "      <td>25.0</td>\n",
              "      <td>6.0</td>\n",
              "      <td>6.0</td>\n",
              "      <td>1.382557</td>\n",
              "      <td>1019.7</td>\n",
              "      <td>0.0</td>\n",
              "      <td>0.0</td>\n",
              "      <td>1.0</td>\n",
              "      <td>1.0</td>\n",
              "      <td>2016.0</td>\n",
              "      <td>0</td>\n",
              "    </tr>\n",
              "    <tr>\n",
              "      <th>4</th>\n",
              "      <td>4</td>\n",
              "      <td>0</td>\n",
              "      <td>0.0</td>\n",
              "      <td>0</td>\n",
              "      <td>Education</td>\n",
              "      <td>116607</td>\n",
              "      <td>1975.0</td>\n",
              "      <td>4</td>\n",
              "      <td>25.0</td>\n",
              "      <td>6.0</td>\n",
              "      <td>6.0</td>\n",
              "      <td>1.382557</td>\n",
              "      <td>1019.7</td>\n",
              "      <td>0.0</td>\n",
              "      <td>0.0</td>\n",
              "      <td>1.0</td>\n",
              "      <td>1.0</td>\n",
              "      <td>2016.0</td>\n",
              "      <td>0</td>\n",
              "    </tr>\n",
              "  </tbody>\n",
              "</table>\n",
              "</div>"
            ],
            "text/plain": [
              "   building_id  meter  meter_reading  ...  Day_date    year  hour_datetime\n",
              "0            0      0            0.0  ...       1.0  2016.0              0\n",
              "1            1      0            0.0  ...       1.0  2016.0              0\n",
              "2            2      0            0.0  ...       1.0  2016.0              0\n",
              "3            3      0            0.0  ...       1.0  2016.0              0\n",
              "4            4      0            0.0  ...       1.0  2016.0              0\n",
              "\n",
              "[5 rows x 19 columns]"
            ]
          },
          "metadata": {
            "tags": []
          },
          "execution_count": 24
        }
      ]
    },
    {
      "cell_type": "markdown",
      "metadata": {
        "id": "YwAqe9I-BNvY",
        "colab_type": "text"
      },
      "source": [
        "**Looking for missing values**"
      ]
    },
    {
      "cell_type": "code",
      "metadata": {
        "id": "mtVJR3FYBQqH",
        "colab_type": "code",
        "colab": {
          "base_uri": "https://localhost:8080/",
          "height": 617
        },
        "outputId": "f87f6756-e108-4756-d52e-6c821f18dc7a"
      },
      "source": [
        "total=train.isnull().sum().sort_values(ascending=False)\n",
        "percent=(train.isnull().sum()/train.isnull().count()).sort_values(ascending=False)\n",
        "missing_values=pd.concat([total,percent],axis=1,keys=['total','percent'])\n",
        "missing_values.head(20)"
      ],
      "execution_count": null,
      "outputs": [
        {
          "output_type": "execute_result",
          "data": {
            "text/html": [
              "<div>\n",
              "<style scoped>\n",
              "    .dataframe tbody tr th:only-of-type {\n",
              "        vertical-align: middle;\n",
              "    }\n",
              "\n",
              "    .dataframe tbody tr th {\n",
              "        vertical-align: top;\n",
              "    }\n",
              "\n",
              "    .dataframe thead th {\n",
              "        text-align: right;\n",
              "    }\n",
              "</style>\n",
              "<table border=\"1\" class=\"dataframe\">\n",
              "  <thead>\n",
              "    <tr style=\"text-align: right;\">\n",
              "      <th></th>\n",
              "      <th>total</th>\n",
              "      <th>percent</th>\n",
              "    </tr>\n",
              "  </thead>\n",
              "  <tbody>\n",
              "    <tr>\n",
              "      <th>cloud_coverage</th>\n",
              "      <td>82890</td>\n",
              "      <td>0.0041</td>\n",
              "    </tr>\n",
              "    <tr>\n",
              "      <th>Day_date</th>\n",
              "      <td>82890</td>\n",
              "      <td>0.0041</td>\n",
              "    </tr>\n",
              "    <tr>\n",
              "      <th>Month</th>\n",
              "      <td>82890</td>\n",
              "      <td>0.0041</td>\n",
              "    </tr>\n",
              "    <tr>\n",
              "      <th>wind_speed</th>\n",
              "      <td>82890</td>\n",
              "      <td>0.0041</td>\n",
              "    </tr>\n",
              "    <tr>\n",
              "      <th>wind_direction</th>\n",
              "      <td>82890</td>\n",
              "      <td>0.0041</td>\n",
              "    </tr>\n",
              "    <tr>\n",
              "      <th>sea_level_pressure</th>\n",
              "      <td>82890</td>\n",
              "      <td>0.0041</td>\n",
              "    </tr>\n",
              "    <tr>\n",
              "      <th>precip_depth_1_hr</th>\n",
              "      <td>82890</td>\n",
              "      <td>0.0041</td>\n",
              "    </tr>\n",
              "    <tr>\n",
              "      <th>dew_temperature</th>\n",
              "      <td>82890</td>\n",
              "      <td>0.0041</td>\n",
              "    </tr>\n",
              "    <tr>\n",
              "      <th>year</th>\n",
              "      <td>82890</td>\n",
              "      <td>0.0041</td>\n",
              "    </tr>\n",
              "    <tr>\n",
              "      <th>air_temperature</th>\n",
              "      <td>82890</td>\n",
              "      <td>0.0041</td>\n",
              "    </tr>\n",
              "    <tr>\n",
              "      <th>primary_use</th>\n",
              "      <td>0</td>\n",
              "      <td>0.0000</td>\n",
              "    </tr>\n",
              "    <tr>\n",
              "      <th>meter</th>\n",
              "      <td>0</td>\n",
              "      <td>0.0000</td>\n",
              "    </tr>\n",
              "    <tr>\n",
              "      <th>meter_reading</th>\n",
              "      <td>0</td>\n",
              "      <td>0.0000</td>\n",
              "    </tr>\n",
              "    <tr>\n",
              "      <th>site_id</th>\n",
              "      <td>0</td>\n",
              "      <td>0.0000</td>\n",
              "    </tr>\n",
              "    <tr>\n",
              "      <th>hour_datetime</th>\n",
              "      <td>0</td>\n",
              "      <td>0.0000</td>\n",
              "    </tr>\n",
              "    <tr>\n",
              "      <th>square_feet</th>\n",
              "      <td>0</td>\n",
              "      <td>0.0000</td>\n",
              "    </tr>\n",
              "    <tr>\n",
              "      <th>year_built</th>\n",
              "      <td>0</td>\n",
              "      <td>0.0000</td>\n",
              "    </tr>\n",
              "    <tr>\n",
              "      <th>floor_count</th>\n",
              "      <td>0</td>\n",
              "      <td>0.0000</td>\n",
              "    </tr>\n",
              "    <tr>\n",
              "      <th>building_id</th>\n",
              "      <td>0</td>\n",
              "      <td>0.0000</td>\n",
              "    </tr>\n",
              "  </tbody>\n",
              "</table>\n",
              "</div>"
            ],
            "text/plain": [
              "                    total  percent\n",
              "cloud_coverage      82890   0.0041\n",
              "Day_date            82890   0.0041\n",
              "Month               82890   0.0041\n",
              "wind_speed          82890   0.0041\n",
              "wind_direction      82890   0.0041\n",
              "sea_level_pressure  82890   0.0041\n",
              "precip_depth_1_hr   82890   0.0041\n",
              "dew_temperature     82890   0.0041\n",
              "year                82890   0.0041\n",
              "air_temperature     82890   0.0041\n",
              "primary_use             0   0.0000\n",
              "meter                   0   0.0000\n",
              "meter_reading           0   0.0000\n",
              "site_id                 0   0.0000\n",
              "hour_datetime           0   0.0000\n",
              "square_feet             0   0.0000\n",
              "year_built              0   0.0000\n",
              "floor_count             0   0.0000\n",
              "building_id             0   0.0000"
            ]
          },
          "metadata": {
            "tags": []
          },
          "execution_count": 25
        }
      ]
    },
    {
      "cell_type": "code",
      "metadata": {
        "id": "6ef05tUUB4o5",
        "colab_type": "code",
        "colab": {}
      },
      "source": [
        "train=train.dropna()"
      ],
      "execution_count": null,
      "outputs": []
    },
    {
      "cell_type": "code",
      "metadata": {
        "id": "Wjo2YPcZB_O4",
        "colab_type": "code",
        "colab": {
          "base_uri": "https://localhost:8080/",
          "height": 307
        },
        "outputId": "6991703c-3f90-4544-aa24-f6abe9d28898"
      },
      "source": [
        "train.describe()"
      ],
      "execution_count": null,
      "outputs": [
        {
          "output_type": "execute_result",
          "data": {
            "text/html": [
              "<div>\n",
              "<style scoped>\n",
              "    .dataframe tbody tr th:only-of-type {\n",
              "        vertical-align: middle;\n",
              "    }\n",
              "\n",
              "    .dataframe tbody tr th {\n",
              "        vertical-align: top;\n",
              "    }\n",
              "\n",
              "    .dataframe thead th {\n",
              "        text-align: right;\n",
              "    }\n",
              "</style>\n",
              "<table border=\"1\" class=\"dataframe\">\n",
              "  <thead>\n",
              "    <tr style=\"text-align: right;\">\n",
              "      <th></th>\n",
              "      <th>building_id</th>\n",
              "      <th>meter</th>\n",
              "      <th>meter_reading</th>\n",
              "      <th>site_id</th>\n",
              "      <th>square_feet</th>\n",
              "      <th>year_built</th>\n",
              "      <th>floor_count</th>\n",
              "      <th>air_temperature</th>\n",
              "      <th>cloud_coverage</th>\n",
              "      <th>dew_temperature</th>\n",
              "      <th>precip_depth_1_hr</th>\n",
              "      <th>sea_level_pressure</th>\n",
              "      <th>wind_direction</th>\n",
              "      <th>wind_speed</th>\n",
              "      <th>Month</th>\n",
              "      <th>Day_date</th>\n",
              "      <th>year</th>\n",
              "      <th>hour_datetime</th>\n",
              "    </tr>\n",
              "  </thead>\n",
              "  <tbody>\n",
              "    <tr>\n",
              "      <th>count</th>\n",
              "      <td>2.013321e+07</td>\n",
              "      <td>2.013321e+07</td>\n",
              "      <td>2.013321e+07</td>\n",
              "      <td>2.013321e+07</td>\n",
              "      <td>2.013321e+07</td>\n",
              "      <td>2.013321e+07</td>\n",
              "      <td>2.013321e+07</td>\n",
              "      <td>2.013321e+07</td>\n",
              "      <td>2.013321e+07</td>\n",
              "      <td>2.013321e+07</td>\n",
              "      <td>2.013321e+07</td>\n",
              "      <td>2.013321e+07</td>\n",
              "      <td>2.013321e+07</td>\n",
              "      <td>2.013321e+07</td>\n",
              "      <td>2.013321e+07</td>\n",
              "      <td>2.013321e+07</td>\n",
              "      <td>20133210.0</td>\n",
              "      <td>2.013321e+07</td>\n",
              "    </tr>\n",
              "    <tr>\n",
              "      <th>mean</th>\n",
              "      <td>7.974179e+02</td>\n",
              "      <td>6.617699e-01</td>\n",
              "      <td>2.124405e+03</td>\n",
              "      <td>7.970224e+00</td>\n",
              "      <td>1.077780e+05</td>\n",
              "      <td>1.969521e+03</td>\n",
              "      <td>4.030442e+00</td>\n",
              "      <td>1.593926e+01</td>\n",
              "      <td>1.787219e+00</td>\n",
              "      <td>1.787219e+00</td>\n",
              "      <td>1.144656e+00</td>\n",
              "      <td>9.767713e+02</td>\n",
              "      <td>1.708236e+02</td>\n",
              "      <td>3.377249e+00</td>\n",
              "      <td>6.566733e+00</td>\n",
              "      <td>1.578433e+01</td>\n",
              "      <td>2016.0</td>\n",
              "      <td>1.150934e+01</td>\n",
              "    </tr>\n",
              "    <tr>\n",
              "      <th>std</th>\n",
              "      <td>4.264339e+02</td>\n",
              "      <td>9.310602e-01</td>\n",
              "      <td>1.535506e+05</td>\n",
              "      <td>5.092977e+00</td>\n",
              "      <td>1.171483e+05</td>\n",
              "      <td>2.014374e+01</td>\n",
              "      <td>1.665084e+00</td>\n",
              "      <td>1.098146e+01</td>\n",
              "      <td>2.003313e+00</td>\n",
              "      <td>2.003313e+00</td>\n",
              "      <td>6.979683e+00</td>\n",
              "      <td>1.961202e+02</td>\n",
              "      <td>1.107229e+02</td>\n",
              "      <td>2.261500e+00</td>\n",
              "      <td>3.441398e+00</td>\n",
              "      <td>8.802123e+00</td>\n",
              "      <td>0.0</td>\n",
              "      <td>6.923804e+00</td>\n",
              "    </tr>\n",
              "    <tr>\n",
              "      <th>min</th>\n",
              "      <td>0.000000e+00</td>\n",
              "      <td>0.000000e+00</td>\n",
              "      <td>0.000000e+00</td>\n",
              "      <td>0.000000e+00</td>\n",
              "      <td>2.830000e+02</td>\n",
              "      <td>1.900000e+03</td>\n",
              "      <td>1.000000e+00</td>\n",
              "      <td>-2.890000e+01</td>\n",
              "      <td>0.000000e+00</td>\n",
              "      <td>0.000000e+00</td>\n",
              "      <td>-1.000000e+00</td>\n",
              "      <td>0.000000e+00</td>\n",
              "      <td>0.000000e+00</td>\n",
              "      <td>0.000000e+00</td>\n",
              "      <td>1.000000e+00</td>\n",
              "      <td>1.000000e+00</td>\n",
              "      <td>2016.0</td>\n",
              "      <td>0.000000e+00</td>\n",
              "    </tr>\n",
              "    <tr>\n",
              "      <th>25%</th>\n",
              "      <td>3.910000e+02</td>\n",
              "      <td>0.000000e+00</td>\n",
              "      <td>1.830000e+01</td>\n",
              "      <td>3.000000e+00</td>\n",
              "      <td>3.252700e+04</td>\n",
              "      <td>1.964000e+03</td>\n",
              "      <td>4.000000e+00</td>\n",
              "      <td>8.300000e+00</td>\n",
              "      <td>0.000000e+00</td>\n",
              "      <td>0.000000e+00</td>\n",
              "      <td>0.000000e+00</td>\n",
              "      <td>1.011100e+03</td>\n",
              "      <td>8.000000e+01</td>\n",
              "      <td>2.100000e+00</td>\n",
              "      <td>4.000000e+00</td>\n",
              "      <td>8.000000e+00</td>\n",
              "      <td>2016.0</td>\n",
              "      <td>6.000000e+00</td>\n",
              "    </tr>\n",
              "    <tr>\n",
              "      <th>50%</th>\n",
              "      <td>8.940000e+02</td>\n",
              "      <td>0.000000e+00</td>\n",
              "      <td>7.875000e+01</td>\n",
              "      <td>9.000000e+00</td>\n",
              "      <td>7.270900e+04</td>\n",
              "      <td>1.975000e+03</td>\n",
              "      <td>4.000000e+00</td>\n",
              "      <td>1.670000e+01</td>\n",
              "      <td>1.109988e+00</td>\n",
              "      <td>1.109988e+00</td>\n",
              "      <td>0.000000e+00</td>\n",
              "      <td>1.015895e+03</td>\n",
              "      <td>1.700000e+02</td>\n",
              "      <td>3.100000e+00</td>\n",
              "      <td>7.000000e+00</td>\n",
              "      <td>1.600000e+01</td>\n",
              "      <td>2016.0</td>\n",
              "      <td>1.200000e+01</td>\n",
              "    </tr>\n",
              "    <tr>\n",
              "      <th>75%</th>\n",
              "      <td>1.176000e+03</td>\n",
              "      <td>1.000000e+00</td>\n",
              "      <td>2.679400e+02</td>\n",
              "      <td>1.300000e+01</td>\n",
              "      <td>1.391130e+05</td>\n",
              "      <td>1.975054e+03</td>\n",
              "      <td>4.000000e+00</td>\n",
              "      <td>2.390000e+01</td>\n",
              "      <td>2.873133e+00</td>\n",
              "      <td>2.873133e+00</td>\n",
              "      <td>0.000000e+00</td>\n",
              "      <td>1.020200e+03</td>\n",
              "      <td>2.700000e+02</td>\n",
              "      <td>4.600000e+00</td>\n",
              "      <td>1.000000e+01</td>\n",
              "      <td>2.300000e+01</td>\n",
              "      <td>2016.0</td>\n",
              "      <td>1.800000e+01</td>\n",
              "    </tr>\n",
              "    <tr>\n",
              "      <th>max</th>\n",
              "      <td>1.448000e+03</td>\n",
              "      <td>3.000000e+00</td>\n",
              "      <td>2.190470e+07</td>\n",
              "      <td>1.500000e+01</td>\n",
              "      <td>8.750000e+05</td>\n",
              "      <td>2.017000e+03</td>\n",
              "      <td>2.600000e+01</td>\n",
              "      <td>4.720000e+01</td>\n",
              "      <td>9.000000e+00</td>\n",
              "      <td>9.000000e+00</td>\n",
              "      <td>3.430000e+02</td>\n",
              "      <td>1.045500e+03</td>\n",
              "      <td>3.600000e+02</td>\n",
              "      <td>1.900000e+01</td>\n",
              "      <td>1.200000e+01</td>\n",
              "      <td>3.100000e+01</td>\n",
              "      <td>2016.0</td>\n",
              "      <td>2.300000e+01</td>\n",
              "    </tr>\n",
              "  </tbody>\n",
              "</table>\n",
              "</div>"
            ],
            "text/plain": [
              "        building_id         meter  ...        year  hour_datetime\n",
              "count  2.013321e+07  2.013321e+07  ...  20133210.0   2.013321e+07\n",
              "mean   7.974179e+02  6.617699e-01  ...      2016.0   1.150934e+01\n",
              "std    4.264339e+02  9.310602e-01  ...         0.0   6.923804e+00\n",
              "min    0.000000e+00  0.000000e+00  ...      2016.0   0.000000e+00\n",
              "25%    3.910000e+02  0.000000e+00  ...      2016.0   6.000000e+00\n",
              "50%    8.940000e+02  0.000000e+00  ...      2016.0   1.200000e+01\n",
              "75%    1.176000e+03  1.000000e+00  ...      2016.0   1.800000e+01\n",
              "max    1.448000e+03  3.000000e+00  ...      2016.0   2.300000e+01\n",
              "\n",
              "[8 rows x 18 columns]"
            ]
          },
          "metadata": {
            "tags": []
          },
          "execution_count": 27
        }
      ]
    },
    {
      "cell_type": "code",
      "metadata": {
        "id": "v254ma5oCDow",
        "colab_type": "code",
        "colab": {
          "base_uri": "https://localhost:8080/",
          "height": 617
        },
        "outputId": "c1a56e3a-83c6-4540-add5-4c7620179cd6"
      },
      "source": [
        "total=train.isnull().sum().sort_values(ascending=False)\n",
        "percent=(train.isnull().sum()/train.isnull().count()).sort_values(ascending=False)\n",
        "missing_values=pd.concat([total,percent],axis=1,keys=['total','percent'])\n",
        "missing_values.head(20)"
      ],
      "execution_count": null,
      "outputs": [
        {
          "output_type": "execute_result",
          "data": {
            "text/html": [
              "<div>\n",
              "<style scoped>\n",
              "    .dataframe tbody tr th:only-of-type {\n",
              "        vertical-align: middle;\n",
              "    }\n",
              "\n",
              "    .dataframe tbody tr th {\n",
              "        vertical-align: top;\n",
              "    }\n",
              "\n",
              "    .dataframe thead th {\n",
              "        text-align: right;\n",
              "    }\n",
              "</style>\n",
              "<table border=\"1\" class=\"dataframe\">\n",
              "  <thead>\n",
              "    <tr style=\"text-align: right;\">\n",
              "      <th></th>\n",
              "      <th>total</th>\n",
              "      <th>percent</th>\n",
              "    </tr>\n",
              "  </thead>\n",
              "  <tbody>\n",
              "    <tr>\n",
              "      <th>hour_datetime</th>\n",
              "      <td>0</td>\n",
              "      <td>0.0</td>\n",
              "    </tr>\n",
              "    <tr>\n",
              "      <th>air_temperature</th>\n",
              "      <td>0</td>\n",
              "      <td>0.0</td>\n",
              "    </tr>\n",
              "    <tr>\n",
              "      <th>meter</th>\n",
              "      <td>0</td>\n",
              "      <td>0.0</td>\n",
              "    </tr>\n",
              "    <tr>\n",
              "      <th>meter_reading</th>\n",
              "      <td>0</td>\n",
              "      <td>0.0</td>\n",
              "    </tr>\n",
              "    <tr>\n",
              "      <th>site_id</th>\n",
              "      <td>0</td>\n",
              "      <td>0.0</td>\n",
              "    </tr>\n",
              "    <tr>\n",
              "      <th>primary_use</th>\n",
              "      <td>0</td>\n",
              "      <td>0.0</td>\n",
              "    </tr>\n",
              "    <tr>\n",
              "      <th>square_feet</th>\n",
              "      <td>0</td>\n",
              "      <td>0.0</td>\n",
              "    </tr>\n",
              "    <tr>\n",
              "      <th>year_built</th>\n",
              "      <td>0</td>\n",
              "      <td>0.0</td>\n",
              "    </tr>\n",
              "    <tr>\n",
              "      <th>floor_count</th>\n",
              "      <td>0</td>\n",
              "      <td>0.0</td>\n",
              "    </tr>\n",
              "    <tr>\n",
              "      <th>cloud_coverage</th>\n",
              "      <td>0</td>\n",
              "      <td>0.0</td>\n",
              "    </tr>\n",
              "    <tr>\n",
              "      <th>year</th>\n",
              "      <td>0</td>\n",
              "      <td>0.0</td>\n",
              "    </tr>\n",
              "    <tr>\n",
              "      <th>dew_temperature</th>\n",
              "      <td>0</td>\n",
              "      <td>0.0</td>\n",
              "    </tr>\n",
              "    <tr>\n",
              "      <th>precip_depth_1_hr</th>\n",
              "      <td>0</td>\n",
              "      <td>0.0</td>\n",
              "    </tr>\n",
              "    <tr>\n",
              "      <th>sea_level_pressure</th>\n",
              "      <td>0</td>\n",
              "      <td>0.0</td>\n",
              "    </tr>\n",
              "    <tr>\n",
              "      <th>wind_direction</th>\n",
              "      <td>0</td>\n",
              "      <td>0.0</td>\n",
              "    </tr>\n",
              "    <tr>\n",
              "      <th>wind_speed</th>\n",
              "      <td>0</td>\n",
              "      <td>0.0</td>\n",
              "    </tr>\n",
              "    <tr>\n",
              "      <th>Month</th>\n",
              "      <td>0</td>\n",
              "      <td>0.0</td>\n",
              "    </tr>\n",
              "    <tr>\n",
              "      <th>Day_date</th>\n",
              "      <td>0</td>\n",
              "      <td>0.0</td>\n",
              "    </tr>\n",
              "    <tr>\n",
              "      <th>building_id</th>\n",
              "      <td>0</td>\n",
              "      <td>0.0</td>\n",
              "    </tr>\n",
              "  </tbody>\n",
              "</table>\n",
              "</div>"
            ],
            "text/plain": [
              "                    total  percent\n",
              "hour_datetime           0      0.0\n",
              "air_temperature         0      0.0\n",
              "meter                   0      0.0\n",
              "meter_reading           0      0.0\n",
              "site_id                 0      0.0\n",
              "primary_use             0      0.0\n",
              "square_feet             0      0.0\n",
              "year_built              0      0.0\n",
              "floor_count             0      0.0\n",
              "cloud_coverage          0      0.0\n",
              "year                    0      0.0\n",
              "dew_temperature         0      0.0\n",
              "precip_depth_1_hr       0      0.0\n",
              "sea_level_pressure      0      0.0\n",
              "wind_direction          0      0.0\n",
              "wind_speed              0      0.0\n",
              "Month                   0      0.0\n",
              "Day_date                0      0.0\n",
              "building_id             0      0.0"
            ]
          },
          "metadata": {
            "tags": []
          },
          "execution_count": 28
        }
      ]
    },
    {
      "cell_type": "markdown",
      "metadata": {
        "id": "g0EDnKT1CJoa",
        "colab_type": "text"
      },
      "source": [
        "**Before applying pipeline transformation, chilled water dataset has been separated**"
      ]
    },
    {
      "cell_type": "code",
      "metadata": {
        "id": "jPshKlF3CNMC",
        "colab_type": "code",
        "colab": {}
      },
      "source": [
        "dataset_chilled_water=train.loc[(train['meter']==1)]"
      ],
      "execution_count": null,
      "outputs": []
    },
    {
      "cell_type": "code",
      "metadata": {
        "id": "Lad2LScwCUSa",
        "colab_type": "code",
        "colab": {
          "base_uri": "https://localhost:8080/",
          "height": 34
        },
        "outputId": "c6f9d205-151f-4684-c6ee-862106dc59ae"
      },
      "source": [
        "dataset_chilled_water.shape"
      ],
      "execution_count": null,
      "outputs": [
        {
          "output_type": "execute_result",
          "data": {
            "text/plain": [
              "(4161542, 19)"
            ]
          },
          "metadata": {
            "tags": []
          },
          "execution_count": 30
        }
      ]
    },
    {
      "cell_type": "code",
      "metadata": {
        "id": "lTxaEIVcCeam",
        "colab_type": "code",
        "colab": {}
      },
      "source": [
        "drop_cols=['meter_reading']"
      ],
      "execution_count": null,
      "outputs": []
    },
    {
      "cell_type": "code",
      "metadata": {
        "id": "yPIq20zhCixE",
        "colab_type": "code",
        "colab": {}
      },
      "source": [
        "training_chilled_water=dataset_chilled_water.drop(drop_cols,axis=1)"
      ],
      "execution_count": null,
      "outputs": []
    },
    {
      "cell_type": "code",
      "metadata": {
        "id": "yp0KYfXvX4bW",
        "colab_type": "code",
        "colab": {
          "base_uri": "https://localhost:8080/",
          "height": 34
        },
        "outputId": "51e3c20e-197a-4dba-a4ed-9b7eefd03901"
      },
      "source": [
        "training_chilled_water.shape"
      ],
      "execution_count": null,
      "outputs": [
        {
          "output_type": "execute_result",
          "data": {
            "text/plain": [
              "(4161542, 18)"
            ]
          },
          "metadata": {
            "tags": []
          },
          "execution_count": 33
        }
      ]
    },
    {
      "cell_type": "code",
      "metadata": {
        "id": "5kiOYm8Ec9-h",
        "colab_type": "code",
        "colab": {
          "base_uri": "https://localhost:8080/",
          "height": 283
        },
        "outputId": "f4817f08-6cb0-4538-b6c5-06564759d4de"
      },
      "source": [
        "training_chilled_water['primary_use'].count"
      ],
      "execution_count": null,
      "outputs": [
        {
          "output_type": "execute_result",
          "data": {
            "text/plain": [
              "<bound method Series.count of 172                   Education\n",
              "174                   Education\n",
              "176                   Education\n",
              "181         Lodging/residential\n",
              "184         Lodging/residential\n",
              "                   ...         \n",
              "20216039    Lodging/residential\n",
              "20216042                 Office\n",
              "20216044              Education\n",
              "20216046    Lodging/residential\n",
              "20216049    Lodging/residential\n",
              "Name: primary_use, Length: 4161542, dtype: category\n",
              "Categories (16, object): [Education, Entertainment/public assembly, Food sales and service,\n",
              "                          Healthcare, ..., Services, Technology/science, Utility,\n",
              "                          Warehouse/storage]>"
            ]
          },
          "metadata": {
            "tags": []
          },
          "execution_count": 34
        }
      ]
    },
    {
      "cell_type": "code",
      "metadata": {
        "id": "4btRSeXfCud9",
        "colab_type": "code",
        "colab": {}
      },
      "source": [
        "target_chilled_water=dataset_chilled_water['meter_reading']"
      ],
      "execution_count": null,
      "outputs": []
    },
    {
      "cell_type": "code",
      "metadata": {
        "id": "MgVwK7SkC7R2",
        "colab_type": "code",
        "colab": {
          "base_uri": "https://localhost:8080/",
          "height": 34
        },
        "outputId": "8a9f3932-7aa5-47ba-d5cc-5af28e4303d1"
      },
      "source": [
        "target_chilled_water.shape"
      ],
      "execution_count": null,
      "outputs": [
        {
          "output_type": "execute_result",
          "data": {
            "text/plain": [
              "(4161542,)"
            ]
          },
          "metadata": {
            "tags": []
          },
          "execution_count": 36
        }
      ]
    },
    {
      "cell_type": "markdown",
      "metadata": {
        "id": "Ik0lK04pnavY",
        "colab_type": "text"
      },
      "source": [
        "**For assistance in explaining Gradient boosting method**"
      ]
    },
    {
      "cell_type": "code",
      "metadata": {
        "id": "i9gpfZA5nPq4",
        "colab_type": "code",
        "colab": {}
      },
      "source": [
        "target_chilled_water_mean=target_chilled_water.mean()"
      ],
      "execution_count": null,
      "outputs": []
    },
    {
      "cell_type": "code",
      "metadata": {
        "id": "3KVi4lzknX8h",
        "colab_type": "code",
        "colab": {
          "base_uri": "https://localhost:8080/",
          "height": 34
        },
        "outputId": "ea81de53-be06-4260-ac87-61f402e1517d"
      },
      "source": [
        "target_chilled_water_mean"
      ],
      "execution_count": null,
      "outputs": [
        {
          "output_type": "execute_result",
          "data": {
            "text/plain": [
              "635.843229976886"
            ]
          },
          "metadata": {
            "tags": []
          },
          "execution_count": 38
        }
      ]
    },
    {
      "cell_type": "code",
      "metadata": {
        "id": "jmoUY7HOmBPj",
        "colab_type": "code",
        "colab": {
          "base_uri": "https://localhost:8080/",
          "height": 401
        },
        "outputId": "ce6535b0-b6a1-45e6-efe6-0647773e2be4"
      },
      "source": [
        "partial_training_chilled_water=training_chilled_water[10:20]\n",
        "partial_training_chilled_water.head(10)"
      ],
      "execution_count": null,
      "outputs": [
        {
          "output_type": "execute_result",
          "data": {
            "text/html": [
              "<div>\n",
              "<style scoped>\n",
              "    .dataframe tbody tr th:only-of-type {\n",
              "        vertical-align: middle;\n",
              "    }\n",
              "\n",
              "    .dataframe tbody tr th {\n",
              "        vertical-align: top;\n",
              "    }\n",
              "\n",
              "    .dataframe thead th {\n",
              "        text-align: right;\n",
              "    }\n",
              "</style>\n",
              "<table border=\"1\" class=\"dataframe\">\n",
              "  <thead>\n",
              "    <tr style=\"text-align: right;\">\n",
              "      <th></th>\n",
              "      <th>building_id</th>\n",
              "      <th>meter</th>\n",
              "      <th>site_id</th>\n",
              "      <th>primary_use</th>\n",
              "      <th>square_feet</th>\n",
              "      <th>year_built</th>\n",
              "      <th>floor_count</th>\n",
              "      <th>air_temperature</th>\n",
              "      <th>cloud_coverage</th>\n",
              "      <th>dew_temperature</th>\n",
              "      <th>precip_depth_1_hr</th>\n",
              "      <th>sea_level_pressure</th>\n",
              "      <th>wind_direction</th>\n",
              "      <th>wind_speed</th>\n",
              "      <th>Month</th>\n",
              "      <th>Day_date</th>\n",
              "      <th>year</th>\n",
              "      <th>hour_datetime</th>\n",
              "    </tr>\n",
              "  </thead>\n",
              "  <tbody>\n",
              "    <tr>\n",
              "      <th>200</th>\n",
              "      <td>173</td>\n",
              "      <td>1</td>\n",
              "      <td>2</td>\n",
              "      <td>Education</td>\n",
              "      <td>90903</td>\n",
              "      <td>1968.976852</td>\n",
              "      <td>4</td>\n",
              "      <td>15.6</td>\n",
              "      <td>6.0</td>\n",
              "      <td>6.0</td>\n",
              "      <td>0.157738</td>\n",
              "      <td>1015.3</td>\n",
              "      <td>270.0</td>\n",
              "      <td>3.6</td>\n",
              "      <td>1.0</td>\n",
              "      <td>1.0</td>\n",
              "      <td>2016.0</td>\n",
              "      <td>0</td>\n",
              "    </tr>\n",
              "    <tr>\n",
              "      <th>202</th>\n",
              "      <td>174</td>\n",
              "      <td>1</td>\n",
              "      <td>2</td>\n",
              "      <td>Education</td>\n",
              "      <td>90900</td>\n",
              "      <td>1968.976852</td>\n",
              "      <td>4</td>\n",
              "      <td>15.6</td>\n",
              "      <td>6.0</td>\n",
              "      <td>6.0</td>\n",
              "      <td>0.157738</td>\n",
              "      <td>1015.3</td>\n",
              "      <td>270.0</td>\n",
              "      <td>3.6</td>\n",
              "      <td>1.0</td>\n",
              "      <td>1.0</td>\n",
              "      <td>2016.0</td>\n",
              "      <td>0</td>\n",
              "    </tr>\n",
              "    <tr>\n",
              "      <th>204</th>\n",
              "      <td>175</td>\n",
              "      <td>1</td>\n",
              "      <td>2</td>\n",
              "      <td>Education</td>\n",
              "      <td>111635</td>\n",
              "      <td>1989.000000</td>\n",
              "      <td>4</td>\n",
              "      <td>15.6</td>\n",
              "      <td>6.0</td>\n",
              "      <td>6.0</td>\n",
              "      <td>0.157738</td>\n",
              "      <td>1015.3</td>\n",
              "      <td>270.0</td>\n",
              "      <td>3.6</td>\n",
              "      <td>1.0</td>\n",
              "      <td>1.0</td>\n",
              "      <td>2016.0</td>\n",
              "      <td>0</td>\n",
              "    </tr>\n",
              "    <tr>\n",
              "      <th>207</th>\n",
              "      <td>176</td>\n",
              "      <td>1</td>\n",
              "      <td>2</td>\n",
              "      <td>Education</td>\n",
              "      <td>62238</td>\n",
              "      <td>1970.000000</td>\n",
              "      <td>4</td>\n",
              "      <td>15.6</td>\n",
              "      <td>6.0</td>\n",
              "      <td>6.0</td>\n",
              "      <td>0.157738</td>\n",
              "      <td>1015.3</td>\n",
              "      <td>270.0</td>\n",
              "      <td>3.6</td>\n",
              "      <td>1.0</td>\n",
              "      <td>1.0</td>\n",
              "      <td>2016.0</td>\n",
              "      <td>0</td>\n",
              "    </tr>\n",
              "    <tr>\n",
              "      <th>210</th>\n",
              "      <td>177</td>\n",
              "      <td>1</td>\n",
              "      <td>2</td>\n",
              "      <td>Entertainment/public assembly</td>\n",
              "      <td>167066</td>\n",
              "      <td>1989.000000</td>\n",
              "      <td>4</td>\n",
              "      <td>15.6</td>\n",
              "      <td>6.0</td>\n",
              "      <td>6.0</td>\n",
              "      <td>0.157738</td>\n",
              "      <td>1015.3</td>\n",
              "      <td>270.0</td>\n",
              "      <td>3.6</td>\n",
              "      <td>1.0</td>\n",
              "      <td>1.0</td>\n",
              "      <td>2016.0</td>\n",
              "      <td>0</td>\n",
              "    </tr>\n",
              "    <tr>\n",
              "      <th>213</th>\n",
              "      <td>178</td>\n",
              "      <td>1</td>\n",
              "      <td>2</td>\n",
              "      <td>Office</td>\n",
              "      <td>23392</td>\n",
              "      <td>1975.053942</td>\n",
              "      <td>4</td>\n",
              "      <td>15.6</td>\n",
              "      <td>6.0</td>\n",
              "      <td>6.0</td>\n",
              "      <td>0.157738</td>\n",
              "      <td>1015.3</td>\n",
              "      <td>270.0</td>\n",
              "      <td>3.6</td>\n",
              "      <td>1.0</td>\n",
              "      <td>1.0</td>\n",
              "      <td>2016.0</td>\n",
              "      <td>0</td>\n",
              "    </tr>\n",
              "    <tr>\n",
              "      <th>215</th>\n",
              "      <td>179</td>\n",
              "      <td>1</td>\n",
              "      <td>2</td>\n",
              "      <td>Food sales and service</td>\n",
              "      <td>24867</td>\n",
              "      <td>2012.000000</td>\n",
              "      <td>4</td>\n",
              "      <td>15.6</td>\n",
              "      <td>6.0</td>\n",
              "      <td>6.0</td>\n",
              "      <td>0.157738</td>\n",
              "      <td>1015.3</td>\n",
              "      <td>270.0</td>\n",
              "      <td>3.6</td>\n",
              "      <td>1.0</td>\n",
              "      <td>1.0</td>\n",
              "      <td>2016.0</td>\n",
              "      <td>0</td>\n",
              "    </tr>\n",
              "    <tr>\n",
              "      <th>218</th>\n",
              "      <td>180</td>\n",
              "      <td>1</td>\n",
              "      <td>2</td>\n",
              "      <td>Education</td>\n",
              "      <td>24586</td>\n",
              "      <td>1954.388235</td>\n",
              "      <td>4</td>\n",
              "      <td>15.6</td>\n",
              "      <td>6.0</td>\n",
              "      <td>6.0</td>\n",
              "      <td>0.157738</td>\n",
              "      <td>1015.3</td>\n",
              "      <td>270.0</td>\n",
              "      <td>3.6</td>\n",
              "      <td>1.0</td>\n",
              "      <td>1.0</td>\n",
              "      <td>2016.0</td>\n",
              "      <td>0</td>\n",
              "    </tr>\n",
              "    <tr>\n",
              "      <th>220</th>\n",
              "      <td>181</td>\n",
              "      <td>1</td>\n",
              "      <td>2</td>\n",
              "      <td>Education</td>\n",
              "      <td>148829</td>\n",
              "      <td>2014.000000</td>\n",
              "      <td>4</td>\n",
              "      <td>15.6</td>\n",
              "      <td>6.0</td>\n",
              "      <td>6.0</td>\n",
              "      <td>0.157738</td>\n",
              "      <td>1015.3</td>\n",
              "      <td>270.0</td>\n",
              "      <td>3.6</td>\n",
              "      <td>1.0</td>\n",
              "      <td>1.0</td>\n",
              "      <td>2016.0</td>\n",
              "      <td>0</td>\n",
              "    </tr>\n",
              "    <tr>\n",
              "      <th>223</th>\n",
              "      <td>183</td>\n",
              "      <td>1</td>\n",
              "      <td>2</td>\n",
              "      <td>Education</td>\n",
              "      <td>132518</td>\n",
              "      <td>1992.000000</td>\n",
              "      <td>4</td>\n",
              "      <td>15.6</td>\n",
              "      <td>6.0</td>\n",
              "      <td>6.0</td>\n",
              "      <td>0.157738</td>\n",
              "      <td>1015.3</td>\n",
              "      <td>270.0</td>\n",
              "      <td>3.6</td>\n",
              "      <td>1.0</td>\n",
              "      <td>1.0</td>\n",
              "      <td>2016.0</td>\n",
              "      <td>0</td>\n",
              "    </tr>\n",
              "  </tbody>\n",
              "</table>\n",
              "</div>"
            ],
            "text/plain": [
              "     building_id  meter  site_id  ... Day_date    year  hour_datetime\n",
              "200          173      1        2  ...      1.0  2016.0              0\n",
              "202          174      1        2  ...      1.0  2016.0              0\n",
              "204          175      1        2  ...      1.0  2016.0              0\n",
              "207          176      1        2  ...      1.0  2016.0              0\n",
              "210          177      1        2  ...      1.0  2016.0              0\n",
              "213          178      1        2  ...      1.0  2016.0              0\n",
              "215          179      1        2  ...      1.0  2016.0              0\n",
              "218          180      1        2  ...      1.0  2016.0              0\n",
              "220          181      1        2  ...      1.0  2016.0              0\n",
              "223          183      1        2  ...      1.0  2016.0              0\n",
              "\n",
              "[10 rows x 18 columns]"
            ]
          },
          "metadata": {
            "tags": []
          },
          "execution_count": 47
        }
      ]
    },
    {
      "cell_type": "code",
      "metadata": {
        "id": "SH39LtA4kuYk",
        "colab_type": "code",
        "colab": {
          "base_uri": "https://localhost:8080/",
          "height": 212
        },
        "outputId": "3ae80972-a8ed-421d-e9ce-b13f0817089a"
      },
      "source": [
        "partial_target_chilled_water=target_chilled_water[10:20]\n",
        "partial_target_chilled_water.head(10)"
      ],
      "execution_count": null,
      "outputs": [
        {
          "output_type": "execute_result",
          "data": {
            "text/plain": [
              "200     19.3427\n",
              "202     52.8583\n",
              "204    116.3370\n",
              "207      0.0000\n",
              "210    130.6860\n",
              "213      5.8731\n",
              "215      0.0703\n",
              "218     20.3274\n",
              "220     12.5903\n",
              "223     13.0827\n",
              "Name: meter_reading, dtype: float64"
            ]
          },
          "metadata": {
            "tags": []
          },
          "execution_count": 44
        }
      ]
    },
    {
      "cell_type": "code",
      "metadata": {
        "id": "z6NfqnIglCXc",
        "colab_type": "code",
        "colab": {}
      },
      "source": [
        "partial_target_chilled_water_mean=partial_target_chilled_water.mean()"
      ],
      "execution_count": null,
      "outputs": []
    },
    {
      "cell_type": "code",
      "metadata": {
        "id": "q38NVfLYlMCc",
        "colab_type": "code",
        "colab": {
          "base_uri": "https://localhost:8080/",
          "height": 34
        },
        "outputId": "1d3b32bd-ab15-40bc-b6a7-2437fe780061"
      },
      "source": [
        "partial_target_chilled_water_mean"
      ],
      "execution_count": null,
      "outputs": [
        {
          "output_type": "execute_result",
          "data": {
            "text/plain": [
              "37.116780000000006"
            ]
          },
          "metadata": {
            "tags": []
          },
          "execution_count": 46
        }
      ]
    },
    {
      "cell_type": "markdown",
      "metadata": {
        "id": "7NPMtJBNDKTc",
        "colab_type": "text"
      },
      "source": [
        "**Apply pipeline transformation to training_chilled_water**"
      ]
    },
    {
      "cell_type": "code",
      "metadata": {
        "id": "acWwWD6eDJo6",
        "colab_type": "code",
        "colab": {}
      },
      "source": [
        "num_cols=['square_feet','floor_count','air_temperature',\n",
        "                 'cloud_coverage','dew_temperature','precip_depth_1_hr',\n",
        "                 'sea_level_pressure','wind_direction','wind_speed']\n",
        "cat_cols=['primary_use']"
      ],
      "execution_count": null,
      "outputs": []
    },
    {
      "cell_type": "code",
      "metadata": {
        "id": "Y1FoKy-0DPEC",
        "colab_type": "code",
        "colab": {}
      },
      "source": [
        "from sklearn.pipeline import Pipeline\n",
        "from sklearn.preprocessing import StandardScaler\n",
        "from sklearn.compose import ColumnTransformer\n",
        "from sklearn.preprocessing import OneHotEncoder\n",
        "\n",
        "num_attribs=list(num_cols)\n",
        "cat_attribs=['primary_use']\n",
        "\n",
        "num_pipeline=Pipeline([\n",
        "    ('std_scaler',StandardScaler())\n",
        "])\n",
        "\n",
        "full_pipeline=ColumnTransformer([\n",
        "    ('num',num_pipeline,num_attribs),\n",
        "    ('cat',OneHotEncoder(),cat_attribs)\n",
        "])\n",
        "\n",
        "training_prepared=full_pipeline.fit_transform(training_chilled_water)\n",
        "#('num',num_pipeline,num_attribs),"
      ],
      "execution_count": null,
      "outputs": []
    },
    {
      "cell_type": "code",
      "metadata": {
        "id": "ipL-jyIvDRFH",
        "colab_type": "code",
        "colab": {}
      },
      "source": [
        "x_train=training_prepared[:3329233]\n",
        "x_val=training_prepared[3329233:]\n",
        "y_train=target_chilled_water[:3329233]\n",
        "y_val=target_chilled_water[3329233:]"
      ],
      "execution_count": null,
      "outputs": []
    },
    {
      "cell_type": "code",
      "metadata": {
        "id": "DewL79zVDVcP",
        "colab_type": "code",
        "colab": {
          "base_uri": "https://localhost:8080/",
          "height": 92
        },
        "outputId": "7a1c3503-20bc-4514-d490-f0c112b1dab2"
      },
      "source": [
        "print('shape of x_train:',x_train.shape)\n",
        "print('shape of x_val:',x_val.shape)\n",
        "print('shape of y_train:',y_train.shape)\n",
        "print('shape of y_val:',y_val.shape)"
      ],
      "execution_count": null,
      "outputs": [
        {
          "output_type": "stream",
          "text": [
            "shape of x_train: (3329233, 23)\n",
            "shape of x_val: (832309, 23)\n",
            "shape of y_train: (3329233,)\n",
            "shape of y_val: (832309,)\n"
          ],
          "name": "stdout"
        }
      ]
    },
    {
      "cell_type": "code",
      "metadata": {
        "id": "yZUcRaCg2Ktv",
        "colab_type": "code",
        "colab": {
          "base_uri": "https://localhost:8080/",
          "height": 111
        },
        "outputId": "967f64ff-fa98-4964-c52c-1632c12a1e90"
      },
      "source": [
        "x_train[0]"
      ],
      "execution_count": null,
      "outputs": [
        {
          "output_type": "execute_result",
          "data": {
            "text/plain": [
              "array([-0.97438673, -0.07278917, -0.09180208,  2.70570229,  2.70570229,\n",
              "       -0.17254426, -0.02982145,  0.96593212,  0.2431523 ,  1.        ,\n",
              "        0.        ,  0.        ,  0.        ,  0.        ,  0.        ,\n",
              "        0.        ,  0.        ,  0.        ,  0.        ,  0.        ,\n",
              "        0.        ,  0.        ,  0.        ])"
            ]
          },
          "metadata": {
            "tags": []
          },
          "execution_count": 40
        }
      ]
    },
    {
      "cell_type": "markdown",
      "metadata": {
        "id": "eZmQBKh3DfSU",
        "colab_type": "text"
      },
      "source": [
        "**Working with test set**"
      ]
    },
    {
      "cell_type": "code",
      "metadata": {
        "id": "sat097GSDXGJ",
        "colab_type": "code",
        "colab": {
          "base_uri": "https://localhost:8080/",
          "height": 197
        },
        "outputId": "d13bd902-bb5f-448c-fea3-a7745fab0f7c"
      },
      "source": [
        "test.head()"
      ],
      "execution_count": null,
      "outputs": [
        {
          "output_type": "execute_result",
          "data": {
            "text/html": [
              "<div>\n",
              "<style scoped>\n",
              "    .dataframe tbody tr th:only-of-type {\n",
              "        vertical-align: middle;\n",
              "    }\n",
              "\n",
              "    .dataframe tbody tr th {\n",
              "        vertical-align: top;\n",
              "    }\n",
              "\n",
              "    .dataframe thead th {\n",
              "        text-align: right;\n",
              "    }\n",
              "</style>\n",
              "<table border=\"1\" class=\"dataframe\">\n",
              "  <thead>\n",
              "    <tr style=\"text-align: right;\">\n",
              "      <th></th>\n",
              "      <th>row_id</th>\n",
              "      <th>building_id</th>\n",
              "      <th>meter</th>\n",
              "      <th>timestamp</th>\n",
              "    </tr>\n",
              "  </thead>\n",
              "  <tbody>\n",
              "    <tr>\n",
              "      <th>0</th>\n",
              "      <td>0</td>\n",
              "      <td>0</td>\n",
              "      <td>0</td>\n",
              "      <td>2017-01-01</td>\n",
              "    </tr>\n",
              "    <tr>\n",
              "      <th>1</th>\n",
              "      <td>1</td>\n",
              "      <td>1</td>\n",
              "      <td>0</td>\n",
              "      <td>2017-01-01</td>\n",
              "    </tr>\n",
              "    <tr>\n",
              "      <th>2</th>\n",
              "      <td>2</td>\n",
              "      <td>2</td>\n",
              "      <td>0</td>\n",
              "      <td>2017-01-01</td>\n",
              "    </tr>\n",
              "    <tr>\n",
              "      <th>3</th>\n",
              "      <td>3</td>\n",
              "      <td>3</td>\n",
              "      <td>0</td>\n",
              "      <td>2017-01-01</td>\n",
              "    </tr>\n",
              "    <tr>\n",
              "      <th>4</th>\n",
              "      <td>4</td>\n",
              "      <td>4</td>\n",
              "      <td>0</td>\n",
              "      <td>2017-01-01</td>\n",
              "    </tr>\n",
              "  </tbody>\n",
              "</table>\n",
              "</div>"
            ],
            "text/plain": [
              "   row_id  building_id  meter  timestamp\n",
              "0       0            0      0 2017-01-01\n",
              "1       1            1      0 2017-01-01\n",
              "2       2            2      0 2017-01-01\n",
              "3       3            3      0 2017-01-01\n",
              "4       4            4      0 2017-01-01"
            ]
          },
          "metadata": {
            "tags": []
          },
          "execution_count": 41
        }
      ]
    },
    {
      "cell_type": "code",
      "metadata": {
        "id": "a8s3p5yCDnXs",
        "colab_type": "code",
        "colab": {
          "base_uri": "https://localhost:8080/",
          "height": 34
        },
        "outputId": "e3f8428e-a068-4395-ca55-094419e56360"
      },
      "source": [
        "test.shape"
      ],
      "execution_count": null,
      "outputs": [
        {
          "output_type": "execute_result",
          "data": {
            "text/plain": [
              "(41697600, 4)"
            ]
          },
          "metadata": {
            "tags": []
          },
          "execution_count": 42
        }
      ]
    },
    {
      "cell_type": "code",
      "metadata": {
        "id": "s75CqHj5Dq0F",
        "colab_type": "code",
        "colab": {}
      },
      "source": [
        "import pandas as pd\n",
        "\n",
        "temp=test[['building_id']]\n",
        "temp=temp.merge(building_met,on='building_id',how='left')\n",
        "del temp['building_id']\n",
        "test=pd.concat([test,temp],axis=1)"
      ],
      "execution_count": null,
      "outputs": []
    },
    {
      "cell_type": "code",
      "metadata": {
        "id": "Z4sMveIxD8vJ",
        "colab_type": "code",
        "colab": {
          "base_uri": "https://localhost:8080/",
          "height": 197
        },
        "outputId": "3cc7dbbb-8a1b-495e-c4c7-de90c7c7c243"
      },
      "source": [
        "test.head()"
      ],
      "execution_count": null,
      "outputs": [
        {
          "output_type": "execute_result",
          "data": {
            "text/html": [
              "<div>\n",
              "<style scoped>\n",
              "    .dataframe tbody tr th:only-of-type {\n",
              "        vertical-align: middle;\n",
              "    }\n",
              "\n",
              "    .dataframe tbody tr th {\n",
              "        vertical-align: top;\n",
              "    }\n",
              "\n",
              "    .dataframe thead th {\n",
              "        text-align: right;\n",
              "    }\n",
              "</style>\n",
              "<table border=\"1\" class=\"dataframe\">\n",
              "  <thead>\n",
              "    <tr style=\"text-align: right;\">\n",
              "      <th></th>\n",
              "      <th>row_id</th>\n",
              "      <th>building_id</th>\n",
              "      <th>meter</th>\n",
              "      <th>timestamp</th>\n",
              "      <th>site_id</th>\n",
              "      <th>primary_use</th>\n",
              "      <th>square_feet</th>\n",
              "      <th>year_built</th>\n",
              "      <th>floor_count</th>\n",
              "    </tr>\n",
              "  </thead>\n",
              "  <tbody>\n",
              "    <tr>\n",
              "      <th>0</th>\n",
              "      <td>0</td>\n",
              "      <td>0</td>\n",
              "      <td>0</td>\n",
              "      <td>2017-01-01</td>\n",
              "      <td>0</td>\n",
              "      <td>Education</td>\n",
              "      <td>7432</td>\n",
              "      <td>2008.0</td>\n",
              "      <td>4</td>\n",
              "    </tr>\n",
              "    <tr>\n",
              "      <th>1</th>\n",
              "      <td>1</td>\n",
              "      <td>1</td>\n",
              "      <td>0</td>\n",
              "      <td>2017-01-01</td>\n",
              "      <td>0</td>\n",
              "      <td>Education</td>\n",
              "      <td>2720</td>\n",
              "      <td>2004.0</td>\n",
              "      <td>4</td>\n",
              "    </tr>\n",
              "    <tr>\n",
              "      <th>2</th>\n",
              "      <td>2</td>\n",
              "      <td>2</td>\n",
              "      <td>0</td>\n",
              "      <td>2017-01-01</td>\n",
              "      <td>0</td>\n",
              "      <td>Education</td>\n",
              "      <td>5376</td>\n",
              "      <td>1991.0</td>\n",
              "      <td>4</td>\n",
              "    </tr>\n",
              "    <tr>\n",
              "      <th>3</th>\n",
              "      <td>3</td>\n",
              "      <td>3</td>\n",
              "      <td>0</td>\n",
              "      <td>2017-01-01</td>\n",
              "      <td>0</td>\n",
              "      <td>Education</td>\n",
              "      <td>23685</td>\n",
              "      <td>2002.0</td>\n",
              "      <td>4</td>\n",
              "    </tr>\n",
              "    <tr>\n",
              "      <th>4</th>\n",
              "      <td>4</td>\n",
              "      <td>4</td>\n",
              "      <td>0</td>\n",
              "      <td>2017-01-01</td>\n",
              "      <td>0</td>\n",
              "      <td>Education</td>\n",
              "      <td>116607</td>\n",
              "      <td>1975.0</td>\n",
              "      <td>4</td>\n",
              "    </tr>\n",
              "  </tbody>\n",
              "</table>\n",
              "</div>"
            ],
            "text/plain": [
              "   row_id  building_id  meter  ... square_feet  year_built floor_count\n",
              "0       0            0      0  ...        7432      2008.0           4\n",
              "1       1            1      0  ...        2720      2004.0           4\n",
              "2       2            2      0  ...        5376      1991.0           4\n",
              "3       3            3      0  ...       23685      2002.0           4\n",
              "4       4            4      0  ...      116607      1975.0           4\n",
              "\n",
              "[5 rows x 9 columns]"
            ]
          },
          "metadata": {
            "tags": []
          },
          "execution_count": 44
        }
      ]
    },
    {
      "cell_type": "code",
      "metadata": {
        "id": "KnsUVUfoD_7w",
        "colab_type": "code",
        "colab": {}
      },
      "source": [
        "temp=test[['site_id','timestamp']]\n",
        "temp=temp.merge(weather_test,on=['site_id','timestamp'],how='left')\n",
        "del temp['timestamp'],temp['site_id']\n",
        "test=pd.concat([test,temp],axis=1)\n",
        "\n",
        "del temp,weather_test"
      ],
      "execution_count": null,
      "outputs": []
    },
    {
      "cell_type": "code",
      "metadata": {
        "id": "tRKrGA4iEGbH",
        "colab_type": "code",
        "colab": {
          "base_uri": "https://localhost:8080/",
          "height": 301
        },
        "outputId": "44bff981-80a8-41d1-dbee-413f7e0d6e86"
      },
      "source": [
        "test.head()"
      ],
      "execution_count": null,
      "outputs": [
        {
          "output_type": "execute_result",
          "data": {
            "text/html": [
              "<div>\n",
              "<style scoped>\n",
              "    .dataframe tbody tr th:only-of-type {\n",
              "        vertical-align: middle;\n",
              "    }\n",
              "\n",
              "    .dataframe tbody tr th {\n",
              "        vertical-align: top;\n",
              "    }\n",
              "\n",
              "    .dataframe thead th {\n",
              "        text-align: right;\n",
              "    }\n",
              "</style>\n",
              "<table border=\"1\" class=\"dataframe\">\n",
              "  <thead>\n",
              "    <tr style=\"text-align: right;\">\n",
              "      <th></th>\n",
              "      <th>row_id</th>\n",
              "      <th>building_id</th>\n",
              "      <th>meter</th>\n",
              "      <th>timestamp</th>\n",
              "      <th>site_id</th>\n",
              "      <th>primary_use</th>\n",
              "      <th>square_feet</th>\n",
              "      <th>year_built</th>\n",
              "      <th>floor_count</th>\n",
              "      <th>air_temperature</th>\n",
              "      <th>cloud_coverage</th>\n",
              "      <th>dew_temperature</th>\n",
              "      <th>precip_depth_1_hr</th>\n",
              "      <th>sea_level_pressure</th>\n",
              "      <th>wind_direction</th>\n",
              "      <th>wind_speed</th>\n",
              "      <th>Month</th>\n",
              "      <th>Day_date</th>\n",
              "      <th>year</th>\n",
              "    </tr>\n",
              "  </thead>\n",
              "  <tbody>\n",
              "    <tr>\n",
              "      <th>0</th>\n",
              "      <td>0</td>\n",
              "      <td>0</td>\n",
              "      <td>0</td>\n",
              "      <td>2017-01-01</td>\n",
              "      <td>0</td>\n",
              "      <td>Education</td>\n",
              "      <td>7432</td>\n",
              "      <td>2008.0</td>\n",
              "      <td>4</td>\n",
              "      <td>17.8</td>\n",
              "      <td>4.0</td>\n",
              "      <td>4.0</td>\n",
              "      <td>1.169297</td>\n",
              "      <td>1021.4</td>\n",
              "      <td>100.0</td>\n",
              "      <td>3.6</td>\n",
              "      <td>1.0</td>\n",
              "      <td>1.0</td>\n",
              "      <td>2017.0</td>\n",
              "    </tr>\n",
              "    <tr>\n",
              "      <th>1</th>\n",
              "      <td>1</td>\n",
              "      <td>1</td>\n",
              "      <td>0</td>\n",
              "      <td>2017-01-01</td>\n",
              "      <td>0</td>\n",
              "      <td>Education</td>\n",
              "      <td>2720</td>\n",
              "      <td>2004.0</td>\n",
              "      <td>4</td>\n",
              "      <td>17.8</td>\n",
              "      <td>4.0</td>\n",
              "      <td>4.0</td>\n",
              "      <td>1.169297</td>\n",
              "      <td>1021.4</td>\n",
              "      <td>100.0</td>\n",
              "      <td>3.6</td>\n",
              "      <td>1.0</td>\n",
              "      <td>1.0</td>\n",
              "      <td>2017.0</td>\n",
              "    </tr>\n",
              "    <tr>\n",
              "      <th>2</th>\n",
              "      <td>2</td>\n",
              "      <td>2</td>\n",
              "      <td>0</td>\n",
              "      <td>2017-01-01</td>\n",
              "      <td>0</td>\n",
              "      <td>Education</td>\n",
              "      <td>5376</td>\n",
              "      <td>1991.0</td>\n",
              "      <td>4</td>\n",
              "      <td>17.8</td>\n",
              "      <td>4.0</td>\n",
              "      <td>4.0</td>\n",
              "      <td>1.169297</td>\n",
              "      <td>1021.4</td>\n",
              "      <td>100.0</td>\n",
              "      <td>3.6</td>\n",
              "      <td>1.0</td>\n",
              "      <td>1.0</td>\n",
              "      <td>2017.0</td>\n",
              "    </tr>\n",
              "    <tr>\n",
              "      <th>3</th>\n",
              "      <td>3</td>\n",
              "      <td>3</td>\n",
              "      <td>0</td>\n",
              "      <td>2017-01-01</td>\n",
              "      <td>0</td>\n",
              "      <td>Education</td>\n",
              "      <td>23685</td>\n",
              "      <td>2002.0</td>\n",
              "      <td>4</td>\n",
              "      <td>17.8</td>\n",
              "      <td>4.0</td>\n",
              "      <td>4.0</td>\n",
              "      <td>1.169297</td>\n",
              "      <td>1021.4</td>\n",
              "      <td>100.0</td>\n",
              "      <td>3.6</td>\n",
              "      <td>1.0</td>\n",
              "      <td>1.0</td>\n",
              "      <td>2017.0</td>\n",
              "    </tr>\n",
              "    <tr>\n",
              "      <th>4</th>\n",
              "      <td>4</td>\n",
              "      <td>4</td>\n",
              "      <td>0</td>\n",
              "      <td>2017-01-01</td>\n",
              "      <td>0</td>\n",
              "      <td>Education</td>\n",
              "      <td>116607</td>\n",
              "      <td>1975.0</td>\n",
              "      <td>4</td>\n",
              "      <td>17.8</td>\n",
              "      <td>4.0</td>\n",
              "      <td>4.0</td>\n",
              "      <td>1.169297</td>\n",
              "      <td>1021.4</td>\n",
              "      <td>100.0</td>\n",
              "      <td>3.6</td>\n",
              "      <td>1.0</td>\n",
              "      <td>1.0</td>\n",
              "      <td>2017.0</td>\n",
              "    </tr>\n",
              "  </tbody>\n",
              "</table>\n",
              "</div>"
            ],
            "text/plain": [
              "   row_id  building_id  meter  timestamp  ...  wind_speed Month  Day_date    year\n",
              "0       0            0      0 2017-01-01  ...         3.6   1.0       1.0  2017.0\n",
              "1       1            1      0 2017-01-01  ...         3.6   1.0       1.0  2017.0\n",
              "2       2            2      0 2017-01-01  ...         3.6   1.0       1.0  2017.0\n",
              "3       3            3      0 2017-01-01  ...         3.6   1.0       1.0  2017.0\n",
              "4       4            4      0 2017-01-01  ...         3.6   1.0       1.0  2017.0\n",
              "\n",
              "[5 rows x 19 columns]"
            ]
          },
          "metadata": {
            "tags": []
          },
          "execution_count": 46
        }
      ]
    },
    {
      "cell_type": "code",
      "metadata": {
        "id": "6TS7DOkl8PyE",
        "colab_type": "code",
        "colab": {}
      },
      "source": [
        "import numpy as np\n",
        "\n",
        "test['hour_datetime']=test['timestamp'].dt.hour.astype(np.int8)\n",
        "\n",
        "del test['timestamp']"
      ],
      "execution_count": null,
      "outputs": []
    },
    {
      "cell_type": "code",
      "metadata": {
        "id": "NM5bLXSb1YnQ",
        "colab_type": "code",
        "colab": {
          "base_uri": "https://localhost:8080/",
          "height": 617
        },
        "outputId": "9a69960e-ccc2-46bd-bdee-b734adef730e"
      },
      "source": [
        "total=test.isnull().sum().sort_values(ascending=False)\n",
        "percent=(test.isnull().sum()/test.isnull().count()).sort_values(ascending=False)\n",
        "missing_values=pd.concat([total,percent],axis=1,keys=['total','percent'])\n",
        "missing_values.head(20)"
      ],
      "execution_count": null,
      "outputs": [
        {
          "output_type": "execute_result",
          "data": {
            "text/html": [
              "<div>\n",
              "<style scoped>\n",
              "    .dataframe tbody tr th:only-of-type {\n",
              "        vertical-align: middle;\n",
              "    }\n",
              "\n",
              "    .dataframe tbody tr th {\n",
              "        vertical-align: top;\n",
              "    }\n",
              "\n",
              "    .dataframe thead th {\n",
              "        text-align: right;\n",
              "    }\n",
              "</style>\n",
              "<table border=\"1\" class=\"dataframe\">\n",
              "  <thead>\n",
              "    <tr style=\"text-align: right;\">\n",
              "      <th></th>\n",
              "      <th>total</th>\n",
              "      <th>percent</th>\n",
              "    </tr>\n",
              "  </thead>\n",
              "  <tbody>\n",
              "    <tr>\n",
              "      <th>cloud_coverage</th>\n",
              "      <td>199029</td>\n",
              "      <td>0.004773</td>\n",
              "    </tr>\n",
              "    <tr>\n",
              "      <th>Day_date</th>\n",
              "      <td>199029</td>\n",
              "      <td>0.004773</td>\n",
              "    </tr>\n",
              "    <tr>\n",
              "      <th>Month</th>\n",
              "      <td>199029</td>\n",
              "      <td>0.004773</td>\n",
              "    </tr>\n",
              "    <tr>\n",
              "      <th>wind_speed</th>\n",
              "      <td>199029</td>\n",
              "      <td>0.004773</td>\n",
              "    </tr>\n",
              "    <tr>\n",
              "      <th>wind_direction</th>\n",
              "      <td>199029</td>\n",
              "      <td>0.004773</td>\n",
              "    </tr>\n",
              "    <tr>\n",
              "      <th>sea_level_pressure</th>\n",
              "      <td>199029</td>\n",
              "      <td>0.004773</td>\n",
              "    </tr>\n",
              "    <tr>\n",
              "      <th>precip_depth_1_hr</th>\n",
              "      <td>199029</td>\n",
              "      <td>0.004773</td>\n",
              "    </tr>\n",
              "    <tr>\n",
              "      <th>dew_temperature</th>\n",
              "      <td>199029</td>\n",
              "      <td>0.004773</td>\n",
              "    </tr>\n",
              "    <tr>\n",
              "      <th>year</th>\n",
              "      <td>199029</td>\n",
              "      <td>0.004773</td>\n",
              "    </tr>\n",
              "    <tr>\n",
              "      <th>air_temperature</th>\n",
              "      <td>199029</td>\n",
              "      <td>0.004773</td>\n",
              "    </tr>\n",
              "    <tr>\n",
              "      <th>primary_use</th>\n",
              "      <td>0</td>\n",
              "      <td>0.000000</td>\n",
              "    </tr>\n",
              "    <tr>\n",
              "      <th>building_id</th>\n",
              "      <td>0</td>\n",
              "      <td>0.000000</td>\n",
              "    </tr>\n",
              "    <tr>\n",
              "      <th>meter</th>\n",
              "      <td>0</td>\n",
              "      <td>0.000000</td>\n",
              "    </tr>\n",
              "    <tr>\n",
              "      <th>site_id</th>\n",
              "      <td>0</td>\n",
              "      <td>0.000000</td>\n",
              "    </tr>\n",
              "    <tr>\n",
              "      <th>hour_datetime</th>\n",
              "      <td>0</td>\n",
              "      <td>0.000000</td>\n",
              "    </tr>\n",
              "    <tr>\n",
              "      <th>square_feet</th>\n",
              "      <td>0</td>\n",
              "      <td>0.000000</td>\n",
              "    </tr>\n",
              "    <tr>\n",
              "      <th>year_built</th>\n",
              "      <td>0</td>\n",
              "      <td>0.000000</td>\n",
              "    </tr>\n",
              "    <tr>\n",
              "      <th>floor_count</th>\n",
              "      <td>0</td>\n",
              "      <td>0.000000</td>\n",
              "    </tr>\n",
              "    <tr>\n",
              "      <th>row_id</th>\n",
              "      <td>0</td>\n",
              "      <td>0.000000</td>\n",
              "    </tr>\n",
              "  </tbody>\n",
              "</table>\n",
              "</div>"
            ],
            "text/plain": [
              "                     total   percent\n",
              "cloud_coverage      199029  0.004773\n",
              "Day_date            199029  0.004773\n",
              "Month               199029  0.004773\n",
              "wind_speed          199029  0.004773\n",
              "wind_direction      199029  0.004773\n",
              "sea_level_pressure  199029  0.004773\n",
              "precip_depth_1_hr   199029  0.004773\n",
              "dew_temperature     199029  0.004773\n",
              "year                199029  0.004773\n",
              "air_temperature     199029  0.004773\n",
              "primary_use              0  0.000000\n",
              "building_id              0  0.000000\n",
              "meter                    0  0.000000\n",
              "site_id                  0  0.000000\n",
              "hour_datetime            0  0.000000\n",
              "square_feet              0  0.000000\n",
              "year_built               0  0.000000\n",
              "floor_count              0  0.000000\n",
              "row_id                   0  0.000000"
            ]
          },
          "metadata": {
            "tags": []
          },
          "execution_count": 48
        }
      ]
    },
    {
      "cell_type": "code",
      "metadata": {
        "id": "TQQ7j5bw2ByT",
        "colab_type": "code",
        "colab": {}
      },
      "source": [
        "#test=test.dropna()"
      ],
      "execution_count": null,
      "outputs": []
    },
    {
      "cell_type": "code",
      "metadata": {
        "id": "QUUZMStU4OgN",
        "colab_type": "code",
        "colab": {
          "base_uri": "https://localhost:8080/",
          "height": 307
        },
        "outputId": "80f91a25-ccd6-4797-b362-13ea4b8378fb"
      },
      "source": [
        "test.describe()"
      ],
      "execution_count": null,
      "outputs": [
        {
          "output_type": "execute_result",
          "data": {
            "text/html": [
              "<div>\n",
              "<style scoped>\n",
              "    .dataframe tbody tr th:only-of-type {\n",
              "        vertical-align: middle;\n",
              "    }\n",
              "\n",
              "    .dataframe tbody tr th {\n",
              "        vertical-align: top;\n",
              "    }\n",
              "\n",
              "    .dataframe thead th {\n",
              "        text-align: right;\n",
              "    }\n",
              "</style>\n",
              "<table border=\"1\" class=\"dataframe\">\n",
              "  <thead>\n",
              "    <tr style=\"text-align: right;\">\n",
              "      <th></th>\n",
              "      <th>row_id</th>\n",
              "      <th>building_id</th>\n",
              "      <th>meter</th>\n",
              "      <th>site_id</th>\n",
              "      <th>square_feet</th>\n",
              "      <th>year_built</th>\n",
              "      <th>floor_count</th>\n",
              "      <th>air_temperature</th>\n",
              "      <th>cloud_coverage</th>\n",
              "      <th>dew_temperature</th>\n",
              "      <th>precip_depth_1_hr</th>\n",
              "      <th>sea_level_pressure</th>\n",
              "      <th>wind_direction</th>\n",
              "      <th>wind_speed</th>\n",
              "      <th>Month</th>\n",
              "      <th>Day_date</th>\n",
              "      <th>year</th>\n",
              "      <th>hour_datetime</th>\n",
              "    </tr>\n",
              "  </thead>\n",
              "  <tbody>\n",
              "    <tr>\n",
              "      <th>count</th>\n",
              "      <td>4.169760e+07</td>\n",
              "      <td>4.169760e+07</td>\n",
              "      <td>4.169760e+07</td>\n",
              "      <td>4.169760e+07</td>\n",
              "      <td>4.169760e+07</td>\n",
              "      <td>4.169760e+07</td>\n",
              "      <td>4.169760e+07</td>\n",
              "      <td>4.149857e+07</td>\n",
              "      <td>4.149857e+07</td>\n",
              "      <td>4.149857e+07</td>\n",
              "      <td>4.149857e+07</td>\n",
              "      <td>4.149857e+07</td>\n",
              "      <td>4.149857e+07</td>\n",
              "      <td>4.149857e+07</td>\n",
              "      <td>4.149857e+07</td>\n",
              "      <td>4.149857e+07</td>\n",
              "      <td>4.149857e+07</td>\n",
              "      <td>4.169760e+07</td>\n",
              "    </tr>\n",
              "    <tr>\n",
              "      <th>mean</th>\n",
              "      <td>2.084880e+07</td>\n",
              "      <td>8.075824e+02</td>\n",
              "      <td>6.642857e-01</td>\n",
              "      <td>8.086134e+00</td>\n",
              "      <td>1.069469e+05</td>\n",
              "      <td>1.969393e+03</td>\n",
              "      <td>4.021008e+00</td>\n",
              "      <td>1.550734e+01</td>\n",
              "      <td>1.830514e+00</td>\n",
              "      <td>1.830514e+00</td>\n",
              "      <td>1.252654e+00</td>\n",
              "      <td>9.786402e+02</td>\n",
              "      <td>1.718198e+02</td>\n",
              "      <td>3.383756e+00</td>\n",
              "      <td>6.517360e+00</td>\n",
              "      <td>1.571009e+01</td>\n",
              "      <td>2.017500e+03</td>\n",
              "      <td>1.150000e+01</td>\n",
              "    </tr>\n",
              "    <tr>\n",
              "      <th>std</th>\n",
              "      <td>1.203706e+07</td>\n",
              "      <td>4.297680e+02</td>\n",
              "      <td>9.278067e-01</td>\n",
              "      <td>5.134712e+00</td>\n",
              "      <td>1.160888e+05</td>\n",
              "      <td>2.045075e+01</td>\n",
              "      <td>1.655263e+00</td>\n",
              "      <td>1.128247e+01</td>\n",
              "      <td>2.010436e+00</td>\n",
              "      <td>2.010436e+00</td>\n",
              "      <td>7.862236e+00</td>\n",
              "      <td>1.919029e+02</td>\n",
              "      <td>1.100916e+02</td>\n",
              "      <td>2.235641e+00</td>\n",
              "      <td>3.445343e+00</td>\n",
              "      <td>8.803499e+00</td>\n",
              "      <td>5.000000e-01</td>\n",
              "      <td>6.922187e+00</td>\n",
              "    </tr>\n",
              "    <tr>\n",
              "      <th>min</th>\n",
              "      <td>0.000000e+00</td>\n",
              "      <td>0.000000e+00</td>\n",
              "      <td>0.000000e+00</td>\n",
              "      <td>0.000000e+00</td>\n",
              "      <td>2.830000e+02</td>\n",
              "      <td>1.900000e+03</td>\n",
              "      <td>1.000000e+00</td>\n",
              "      <td>-2.810000e+01</td>\n",
              "      <td>0.000000e+00</td>\n",
              "      <td>0.000000e+00</td>\n",
              "      <td>-1.000000e+00</td>\n",
              "      <td>0.000000e+00</td>\n",
              "      <td>0.000000e+00</td>\n",
              "      <td>0.000000e+00</td>\n",
              "      <td>1.000000e+00</td>\n",
              "      <td>1.000000e+00</td>\n",
              "      <td>2.017000e+03</td>\n",
              "      <td>0.000000e+00</td>\n",
              "    </tr>\n",
              "    <tr>\n",
              "      <th>25%</th>\n",
              "      <td>1.042440e+07</td>\n",
              "      <td>4.047500e+02</td>\n",
              "      <td>0.000000e+00</td>\n",
              "      <td>3.000000e+00</td>\n",
              "      <td>3.224350e+04</td>\n",
              "      <td>1.963000e+03</td>\n",
              "      <td>4.000000e+00</td>\n",
              "      <td>7.800000e+00</td>\n",
              "      <td>0.000000e+00</td>\n",
              "      <td>0.000000e+00</td>\n",
              "      <td>0.000000e+00</td>\n",
              "      <td>1.010900e+03</td>\n",
              "      <td>8.000000e+01</td>\n",
              "      <td>2.100000e+00</td>\n",
              "      <td>4.000000e+00</td>\n",
              "      <td>8.000000e+00</td>\n",
              "      <td>2.017000e+03</td>\n",
              "      <td>5.750000e+00</td>\n",
              "    </tr>\n",
              "    <tr>\n",
              "      <th>50%</th>\n",
              "      <td>2.084880e+07</td>\n",
              "      <td>9.000000e+02</td>\n",
              "      <td>0.000000e+00</td>\n",
              "      <td>9.000000e+00</td>\n",
              "      <td>7.226250e+04</td>\n",
              "      <td>1.975000e+03</td>\n",
              "      <td>4.000000e+00</td>\n",
              "      <td>1.670000e+01</td>\n",
              "      <td>1.082078e+00</td>\n",
              "      <td>1.082078e+00</td>\n",
              "      <td>0.000000e+00</td>\n",
              "      <td>1.015900e+03</td>\n",
              "      <td>1.700000e+02</td>\n",
              "      <td>3.100000e+00</td>\n",
              "      <td>7.000000e+00</td>\n",
              "      <td>1.600000e+01</td>\n",
              "      <td>2.017000e+03</td>\n",
              "      <td>1.150000e+01</td>\n",
              "    </tr>\n",
              "    <tr>\n",
              "      <th>75%</th>\n",
              "      <td>3.127320e+07</td>\n",
              "      <td>1.194250e+03</td>\n",
              "      <td>1.000000e+00</td>\n",
              "      <td>1.300000e+01</td>\n",
              "      <td>1.383875e+05</td>\n",
              "      <td>1.975054e+03</td>\n",
              "      <td>4.000000e+00</td>\n",
              "      <td>2.390000e+01</td>\n",
              "      <td>2.730284e+00</td>\n",
              "      <td>2.730284e+00</td>\n",
              "      <td>0.000000e+00</td>\n",
              "      <td>1.020200e+03</td>\n",
              "      <td>2.700000e+02</td>\n",
              "      <td>4.600000e+00</td>\n",
              "      <td>1.000000e+01</td>\n",
              "      <td>2.300000e+01</td>\n",
              "      <td>2.018000e+03</td>\n",
              "      <td>1.725000e+01</td>\n",
              "    </tr>\n",
              "    <tr>\n",
              "      <th>max</th>\n",
              "      <td>4.169760e+07</td>\n",
              "      <td>1.448000e+03</td>\n",
              "      <td>3.000000e+00</td>\n",
              "      <td>1.500000e+01</td>\n",
              "      <td>8.750000e+05</td>\n",
              "      <td>2.017000e+03</td>\n",
              "      <td>2.600000e+01</td>\n",
              "      <td>4.830000e+01</td>\n",
              "      <td>9.000000e+00</td>\n",
              "      <td>9.000000e+00</td>\n",
              "      <td>5.970000e+02</td>\n",
              "      <td>1.050100e+03</td>\n",
              "      <td>3.600000e+02</td>\n",
              "      <td>2.420000e+01</td>\n",
              "      <td>1.200000e+01</td>\n",
              "      <td>3.100000e+01</td>\n",
              "      <td>2.018000e+03</td>\n",
              "      <td>2.300000e+01</td>\n",
              "    </tr>\n",
              "  </tbody>\n",
              "</table>\n",
              "</div>"
            ],
            "text/plain": [
              "             row_id   building_id  ...          year  hour_datetime\n",
              "count  4.169760e+07  4.169760e+07  ...  4.149857e+07   4.169760e+07\n",
              "mean   2.084880e+07  8.075824e+02  ...  2.017500e+03   1.150000e+01\n",
              "std    1.203706e+07  4.297680e+02  ...  5.000000e-01   6.922187e+00\n",
              "min    0.000000e+00  0.000000e+00  ...  2.017000e+03   0.000000e+00\n",
              "25%    1.042440e+07  4.047500e+02  ...  2.017000e+03   5.750000e+00\n",
              "50%    2.084880e+07  9.000000e+02  ...  2.017000e+03   1.150000e+01\n",
              "75%    3.127320e+07  1.194250e+03  ...  2.018000e+03   1.725000e+01\n",
              "max    4.169760e+07  1.448000e+03  ...  2.018000e+03   2.300000e+01\n",
              "\n",
              "[8 rows x 18 columns]"
            ]
          },
          "metadata": {
            "tags": []
          },
          "execution_count": 50
        }
      ]
    },
    {
      "cell_type": "code",
      "metadata": {
        "id": "3JKYHWPbEHAX",
        "colab_type": "code",
        "colab": {}
      },
      "source": [
        "test_chilled_water= test.loc[(test['meter']==1)]"
      ],
      "execution_count": null,
      "outputs": []
    },
    {
      "cell_type": "markdown",
      "metadata": {
        "id": "cLhg7d4ul7T6",
        "colab_type": "text"
      },
      "source": [
        "Instead of getting rid of ,issing values in test set, they are replaced with 0"
      ]
    },
    {
      "cell_type": "code",
      "metadata": {
        "id": "7D85u4t5ewsp",
        "colab_type": "code",
        "colab": {
          "base_uri": "https://localhost:8080/",
          "height": 105
        },
        "outputId": "f18a0887-d2aa-49a7-e1c1-b0effd325a81"
      },
      "source": [
        "test_chilled_water['cloud_coverage'].fillna(0,inplace=True)\n",
        "test_chilled_water['Day_date'].fillna(0,inplace=True)\n",
        "test_chilled_water['Month'].fillna(0,inplace=True)\n",
        "test_chilled_water['wind_speed'].fillna(0,inplace=True)\n",
        "test_chilled_water['wind_direction'].fillna(0,inplace=True)\n",
        "test_chilled_water['sea_level_pressure'].fillna(0,inplace=True)\n",
        "test_chilled_water['precip_depth_1_hr'].fillna(0,inplace=True)\n",
        "test_chilled_water['dew_temperature'].fillna(0,inplace=True)\n",
        "test_chilled_water['year'].fillna(2017,inplace=True)\n",
        "test_chilled_water['air_temperature'].fillna(0,inplace=True)"
      ],
      "execution_count": null,
      "outputs": [
        {
          "output_type": "stream",
          "text": [
            "/usr/local/lib/python3.6/dist-packages/pandas/core/generic.py:6245: SettingWithCopyWarning: \n",
            "A value is trying to be set on a copy of a slice from a DataFrame\n",
            "\n",
            "See the caveats in the documentation: https://pandas.pydata.org/pandas-docs/stable/user_guide/indexing.html#returning-a-view-versus-a-copy\n",
            "  self._update_inplace(new_data)\n"
          ],
          "name": "stderr"
        }
      ]
    },
    {
      "cell_type": "code",
      "metadata": {
        "id": "2x6oR37h1Wgo",
        "colab_type": "code",
        "colab": {
          "base_uri": "https://localhost:8080/",
          "height": 34
        },
        "outputId": "98d5b4a1-dc9c-4f07-b393-d19490201dd2"
      },
      "source": [
        "test_chilled_water.shape"
      ],
      "execution_count": null,
      "outputs": [
        {
          "output_type": "execute_result",
          "data": {
            "text/plain": [
              "(8724960, 19)"
            ]
          },
          "metadata": {
            "tags": []
          },
          "execution_count": 53
        }
      ]
    },
    {
      "cell_type": "code",
      "metadata": {
        "id": "uRDVEAYT4GyL",
        "colab_type": "code",
        "colab": {}
      },
      "source": [
        "test_drop_cols=['row_id']"
      ],
      "execution_count": null,
      "outputs": []
    },
    {
      "cell_type": "code",
      "metadata": {
        "id": "4qFroq5xFMos",
        "colab_type": "code",
        "colab": {}
      },
      "source": [
        "testing=test_chilled_water.drop(test_drop_cols,axis=1)"
      ],
      "execution_count": null,
      "outputs": []
    },
    {
      "cell_type": "code",
      "metadata": {
        "id": "3HXLLI4W0BOT",
        "colab_type": "code",
        "colab": {
          "base_uri": "https://localhost:8080/",
          "height": 34
        },
        "outputId": "fc8a7478-001a-48cb-c0d5-6e093ba97d28"
      },
      "source": [
        "testing.shape"
      ],
      "execution_count": null,
      "outputs": [
        {
          "output_type": "execute_result",
          "data": {
            "text/plain": [
              "(8724960, 18)"
            ]
          },
          "metadata": {
            "tags": []
          },
          "execution_count": 56
        }
      ]
    },
    {
      "cell_type": "code",
      "metadata": {
        "id": "CJy62TO78kbx",
        "colab_type": "code",
        "colab": {}
      },
      "source": [
        "testing_prepared=full_pipeline.transform(testing)"
      ],
      "execution_count": null,
      "outputs": []
    },
    {
      "cell_type": "code",
      "metadata": {
        "id": "wIN6dJ2RpJ4G",
        "colab_type": "code",
        "colab": {
          "base_uri": "https://localhost:8080/",
          "height": 34
        },
        "outputId": "14327edd-c328-4211-bd75-1916c20f8d62"
      },
      "source": [
        "testing_prepared.shape"
      ],
      "execution_count": null,
      "outputs": [
        {
          "output_type": "execute_result",
          "data": {
            "text/plain": [
              "(8724960, 23)"
            ]
          },
          "metadata": {
            "tags": []
          },
          "execution_count": 61
        }
      ]
    },
    {
      "cell_type": "code",
      "metadata": {
        "id": "U6f6urvwVlrs",
        "colab_type": "code",
        "colab": {}
      },
      "source": [
        "from sklearn.linear_model import LinearRegression\n",
        "from sklearn.metrics import mean_squared_error\n",
        "from math import sqrt\n",
        "\n",
        "lin_reg=LinearRegression()\n",
        "lin_reg.fit(x_train,y_train)\n",
        "lin_predict=lin_reg.predict(x_val)\n",
        "lin_mse=mean_squared_error(lin_predict,y_val)\n",
        "lin_rmse=sqrt(lin_mse)\n",
        "lin_rmse"
      ],
      "execution_count": null,
      "outputs": []
    },
    {
      "cell_type": "markdown",
      "metadata": {
        "id": "uFd-B5nY6PHS",
        "colab_type": "text"
      },
      "source": [
        "Linear regression RMSE 2559.0594065652162"
      ]
    },
    {
      "cell_type": "markdown",
      "metadata": {
        "id": "iABKX-Sc_BfZ",
        "colab_type": "text"
      },
      "source": [
        "**Applying 2 degree polynomial**"
      ]
    },
    {
      "cell_type": "code",
      "metadata": {
        "id": "GtMrYcHO_AVJ",
        "colab_type": "code",
        "colab": {
          "base_uri": "https://localhost:8080/",
          "height": 34
        },
        "outputId": "dc63d872-415a-41f5-c37d-5621f501e72d"
      },
      "source": [
        "from sklearn.preprocessing import PolynomialFeatures\n",
        "\n",
        "poly_features=PolynomialFeatures(degree=2,include_bias=False)\n",
        "x_poly=poly_features.fit_transform(x_train[:1000000])\n",
        "lin_reg=LinearRegression()\n",
        "lin_reg.fit(x_poly,y_train[:1000000])"
      ],
      "execution_count": null,
      "outputs": [
        {
          "output_type": "execute_result",
          "data": {
            "text/plain": [
              "LinearRegression(copy_X=True, fit_intercept=True, n_jobs=None, normalize=False)"
            ]
          },
          "metadata": {
            "tags": []
          },
          "execution_count": 80
        }
      ]
    },
    {
      "cell_type": "code",
      "metadata": {
        "id": "w2uH6cjNAnjb",
        "colab_type": "code",
        "colab": {
          "base_uri": "https://localhost:8080/",
          "height": 34
        },
        "outputId": "21f4dfbe-bc37-4c19-f2a0-352209af340b"
      },
      "source": [
        "x_val_poly=poly_features.transform(x_val)\n",
        "predict=lin_reg.predict(x_val_poly)\n",
        "degree2_mse=mean_squared_error(predict,y_val)\n",
        "degree2_rmse=sqrt(degree2_mse)\n",
        "degree2_rmse"
      ],
      "execution_count": null,
      "outputs": [
        {
          "output_type": "execute_result",
          "data": {
            "text/plain": [
              "2486.5616840162443"
            ]
          },
          "metadata": {
            "tags": []
          },
          "execution_count": 81
        }
      ]
    },
    {
      "cell_type": "markdown",
      "metadata": {
        "id": "5qFwcn6S6WIo",
        "colab_type": "text"
      },
      "source": [
        "2nd degree polynomial RMSE 2486.5616840162443"
      ]
    },
    {
      "cell_type": "markdown",
      "metadata": {
        "id": "P5wTTtrCE8KO",
        "colab_type": "text"
      },
      "source": [
        "**Applying 3 degree polynomial. 3 or higher degree polynomial will have to be done through virtual server**"
      ]
    },
    {
      "cell_type": "code",
      "metadata": {
        "id": "hv6IrO_uEhAq",
        "colab_type": "code",
        "colab": {}
      },
      "source": [
        "# from sklearn.preprocessing import PolynomialFeatures\n",
        "\n",
        "# poly3_features=PolynomialFeatures(degree=3,include_bias=False)\n",
        "# x_poly=poly3_features.fit_transform(x_train[:1000000])\n",
        "# lin_reg=LinearRegression()\n",
        "# lin_reg.fit(x_poly,y_train[:1000000])"
      ],
      "execution_count": null,
      "outputs": []
    },
    {
      "cell_type": "code",
      "metadata": {
        "id": "--2oekTEF4Ve",
        "colab_type": "code",
        "colab": {}
      },
      "source": [
        "# x_val_poly=poly3_features.transform(x_val)\n",
        "# predict=lin_reg.predict(x_val_poly)\n",
        "# degree3_mse=mean_squared_error(predict,y_val)\n",
        "# degree3rmse=sqrt(degree2_mse)\n",
        "# degree3_rmse"
      ],
      "execution_count": null,
      "outputs": []
    },
    {
      "cell_type": "markdown",
      "metadata": {
        "id": "9EQn3cWle1pM",
        "colab_type": "text"
      },
      "source": [
        "**Using grid search with Ridge regression**"
      ]
    },
    {
      "cell_type": "code",
      "metadata": {
        "id": "nNs7sswBe1KJ",
        "colab_type": "code",
        "colab": {
          "base_uri": "https://localhost:8080/",
          "height": 153
        },
        "outputId": "36a61356-0a2a-487b-e79d-cb7d652644f8"
      },
      "source": [
        "from sklearn.model_selection import GridSearchCV\n",
        "from sklearn.linear_model import Ridge\n",
        "param_grid=[\n",
        "            {'alpha':[0.001,0.003,0.01,0.03,0.1,0.3,1,3]}\n",
        "]\n",
        "\n",
        "ridge_reg=Ridge()\n",
        "\n",
        "grid_search=GridSearchCV(ridge_reg,param_grid,cv=5,\n",
        "                         scoring='neg_mean_squared_error',\n",
        "                         return_train_score=True)\n",
        "\n",
        "grid_search.fit(x_train[:1000000],y_train[:1000000])"
      ],
      "execution_count": null,
      "outputs": [
        {
          "output_type": "execute_result",
          "data": {
            "text/plain": [
              "GridSearchCV(cv=5, error_score=nan,\n",
              "             estimator=Ridge(alpha=1.0, copy_X=True, fit_intercept=True,\n",
              "                             max_iter=None, normalize=False, random_state=None,\n",
              "                             solver='auto', tol=0.001),\n",
              "             iid='deprecated', n_jobs=None,\n",
              "             param_grid=[{'alpha': [0.001, 0.003, 0.01, 0.03, 0.1, 0.3, 1, 3]}],\n",
              "             pre_dispatch='2*n_jobs', refit=True, return_train_score=True,\n",
              "             scoring='neg_mean_squared_error', verbose=0)"
            ]
          },
          "metadata": {
            "tags": []
          },
          "execution_count": 84
        }
      ]
    },
    {
      "cell_type": "code",
      "metadata": {
        "id": "6Rij3Fqzxkb8",
        "colab_type": "code",
        "colab": {
          "base_uri": "https://localhost:8080/",
          "height": 34
        },
        "outputId": "6d4b8452-878a-4e55-fadc-e49437ebc956"
      },
      "source": [
        "grid_search.best_params_"
      ],
      "execution_count": null,
      "outputs": [
        {
          "output_type": "execute_result",
          "data": {
            "text/plain": [
              "{'alpha': 3}"
            ]
          },
          "metadata": {
            "tags": []
          },
          "execution_count": 85
        }
      ]
    },
    {
      "cell_type": "markdown",
      "metadata": {
        "id": "QlTfE0Op6dQ5",
        "colab_type": "text"
      },
      "source": [
        "Ridge regression alpha=3\n"
      ]
    },
    {
      "cell_type": "markdown",
      "metadata": {
        "id": "X2yXfhuOxprs",
        "colab_type": "text"
      },
      "source": [
        "**Ridge regression with alpha=3**"
      ]
    },
    {
      "cell_type": "code",
      "metadata": {
        "id": "YFuOJ-QvxpQW",
        "colab_type": "code",
        "colab": {
          "base_uri": "https://localhost:8080/",
          "height": 34
        },
        "outputId": "657b6dab-6574-4cbb-eb5e-2b0be82fc1aa"
      },
      "source": [
        "from sklearn.metrics import mean_squared_error\n",
        "\n",
        "ridge_reg=Ridge(alpha=3,solver='cholesky')\n",
        "ridge_reg.fit(x_train[:1000000],y_train[:1000000])\n",
        "ridge_pred=ridge_reg.predict(x_val)\n",
        "ridge_mse=mean_squared_error(ridge_pred,y_val)\n",
        "ridge_rmse=np.sqrt(ridge_mse)\n",
        "ridge_rmse"
      ],
      "execution_count": null,
      "outputs": [
        {
          "output_type": "execute_result",
          "data": {
            "text/plain": [
              "2496.5487098674917"
            ]
          },
          "metadata": {
            "tags": []
          },
          "execution_count": 86
        }
      ]
    },
    {
      "cell_type": "markdown",
      "metadata": {
        "id": "NGjQPFPR6g20",
        "colab_type": "text"
      },
      "source": [
        "Ridge regression RMSE 2496.5487098674917"
      ]
    },
    {
      "cell_type": "markdown",
      "metadata": {
        "id": "9nAq-aTm2qFU",
        "colab_type": "text"
      },
      "source": [
        "**Using grid search with Lasso regression**"
      ]
    },
    {
      "cell_type": "code",
      "metadata": {
        "id": "-v2KZaha2pLm",
        "colab_type": "code",
        "colab": {
          "base_uri": "https://localhost:8080/",
          "height": 394
        },
        "outputId": "fb77c00d-f74a-4fac-9c83-9da97323c48c"
      },
      "source": [
        "from sklearn.model_selection import GridSearchCV\n",
        "from sklearn.linear_model import Lasso\n",
        "\n",
        "param_grid=[\n",
        "            {'alpha':[0.001,0.003,0.01,0.03,0.1,0.3,1,3]}\n",
        "]\n",
        "\n",
        "lasso_reg=Lasso()\n",
        "\n",
        "grid_search=GridSearchCV(lasso_reg,param_grid,cv=5,\n",
        "                         scoring='neg_mean_squared_error',\n",
        "                         return_train_score=True)\n",
        "\n",
        "grid_search.fit(x_train[:1000000],y_train[:1000000])"
      ],
      "execution_count": null,
      "outputs": [
        {
          "output_type": "error",
          "ename": "KeyboardInterrupt",
          "evalue": "ignored",
          "traceback": [
            "\u001b[0;31m---------------------------------------------------------------------------\u001b[0m",
            "\u001b[0;31mKeyboardInterrupt\u001b[0m                         Traceback (most recent call last)",
            "\u001b[0;32m<ipython-input-87-6ff046cbdfb4>\u001b[0m in \u001b[0;36m<module>\u001b[0;34m()\u001b[0m\n\u001b[1;32m     12\u001b[0m                          return_train_score=True)\n\u001b[1;32m     13\u001b[0m \u001b[0;34m\u001b[0m\u001b[0m\n\u001b[0;32m---> 14\u001b[0;31m \u001b[0mgrid_search\u001b[0m\u001b[0;34m.\u001b[0m\u001b[0mfit\u001b[0m\u001b[0;34m(\u001b[0m\u001b[0mx_train\u001b[0m\u001b[0;34m[\u001b[0m\u001b[0;34m:\u001b[0m\u001b[0;36m1000000\u001b[0m\u001b[0;34m]\u001b[0m\u001b[0;34m,\u001b[0m\u001b[0my_train\u001b[0m\u001b[0;34m[\u001b[0m\u001b[0;34m:\u001b[0m\u001b[0;36m1000000\u001b[0m\u001b[0;34m]\u001b[0m\u001b[0;34m)\u001b[0m\u001b[0;34m\u001b[0m\u001b[0;34m\u001b[0m\u001b[0m\n\u001b[0m",
            "\u001b[0;32m/usr/local/lib/python3.6/dist-packages/sklearn/model_selection/_search.py\u001b[0m in \u001b[0;36mfit\u001b[0;34m(self, X, y, groups, **fit_params)\u001b[0m\n\u001b[1;32m    708\u001b[0m                 \u001b[0;32mreturn\u001b[0m \u001b[0mresults\u001b[0m\u001b[0;34m\u001b[0m\u001b[0;34m\u001b[0m\u001b[0m\n\u001b[1;32m    709\u001b[0m \u001b[0;34m\u001b[0m\u001b[0m\n\u001b[0;32m--> 710\u001b[0;31m             \u001b[0mself\u001b[0m\u001b[0;34m.\u001b[0m\u001b[0m_run_search\u001b[0m\u001b[0;34m(\u001b[0m\u001b[0mevaluate_candidates\u001b[0m\u001b[0;34m)\u001b[0m\u001b[0;34m\u001b[0m\u001b[0;34m\u001b[0m\u001b[0m\n\u001b[0m\u001b[1;32m    711\u001b[0m \u001b[0;34m\u001b[0m\u001b[0m\n\u001b[1;32m    712\u001b[0m         \u001b[0;31m# For multi-metric evaluation, store the best_index_, best_params_ and\u001b[0m\u001b[0;34m\u001b[0m\u001b[0;34m\u001b[0m\u001b[0;34m\u001b[0m\u001b[0m\n",
            "\u001b[0;32m/usr/local/lib/python3.6/dist-packages/sklearn/model_selection/_search.py\u001b[0m in \u001b[0;36m_run_search\u001b[0;34m(self, evaluate_candidates)\u001b[0m\n\u001b[1;32m   1149\u001b[0m     \u001b[0;32mdef\u001b[0m \u001b[0m_run_search\u001b[0m\u001b[0;34m(\u001b[0m\u001b[0mself\u001b[0m\u001b[0;34m,\u001b[0m \u001b[0mevaluate_candidates\u001b[0m\u001b[0;34m)\u001b[0m\u001b[0;34m:\u001b[0m\u001b[0;34m\u001b[0m\u001b[0;34m\u001b[0m\u001b[0m\n\u001b[1;32m   1150\u001b[0m         \u001b[0;34m\"\"\"Search all candidates in param_grid\"\"\"\u001b[0m\u001b[0;34m\u001b[0m\u001b[0;34m\u001b[0m\u001b[0m\n\u001b[0;32m-> 1151\u001b[0;31m         \u001b[0mevaluate_candidates\u001b[0m\u001b[0;34m(\u001b[0m\u001b[0mParameterGrid\u001b[0m\u001b[0;34m(\u001b[0m\u001b[0mself\u001b[0m\u001b[0;34m.\u001b[0m\u001b[0mparam_grid\u001b[0m\u001b[0;34m)\u001b[0m\u001b[0;34m)\u001b[0m\u001b[0;34m\u001b[0m\u001b[0;34m\u001b[0m\u001b[0m\n\u001b[0m\u001b[1;32m   1152\u001b[0m \u001b[0;34m\u001b[0m\u001b[0m\n\u001b[1;32m   1153\u001b[0m \u001b[0;34m\u001b[0m\u001b[0m\n",
            "\u001b[0;32m/usr/local/lib/python3.6/dist-packages/sklearn/model_selection/_search.py\u001b[0m in \u001b[0;36mevaluate_candidates\u001b[0;34m(candidate_params)\u001b[0m\n\u001b[1;32m    687\u001b[0m                                \u001b[0;32mfor\u001b[0m \u001b[0mparameters\u001b[0m\u001b[0;34m,\u001b[0m \u001b[0;34m(\u001b[0m\u001b[0mtrain\u001b[0m\u001b[0;34m,\u001b[0m \u001b[0mtest\u001b[0m\u001b[0;34m)\u001b[0m\u001b[0;34m\u001b[0m\u001b[0;34m\u001b[0m\u001b[0m\n\u001b[1;32m    688\u001b[0m                                in product(candidate_params,\n\u001b[0;32m--> 689\u001b[0;31m                                           cv.split(X, y, groups)))\n\u001b[0m\u001b[1;32m    690\u001b[0m \u001b[0;34m\u001b[0m\u001b[0m\n\u001b[1;32m    691\u001b[0m                 \u001b[0;32mif\u001b[0m \u001b[0mlen\u001b[0m\u001b[0;34m(\u001b[0m\u001b[0mout\u001b[0m\u001b[0;34m)\u001b[0m \u001b[0;34m<\u001b[0m \u001b[0;36m1\u001b[0m\u001b[0;34m:\u001b[0m\u001b[0;34m\u001b[0m\u001b[0;34m\u001b[0m\u001b[0m\n",
            "\u001b[0;32m/usr/local/lib/python3.6/dist-packages/joblib/parallel.py\u001b[0m in \u001b[0;36m__call__\u001b[0;34m(self, iterable)\u001b[0m\n\u001b[1;32m   1030\u001b[0m                 \u001b[0mself\u001b[0m\u001b[0;34m.\u001b[0m\u001b[0m_iterating\u001b[0m \u001b[0;34m=\u001b[0m \u001b[0mself\u001b[0m\u001b[0;34m.\u001b[0m\u001b[0m_original_iterator\u001b[0m \u001b[0;32mis\u001b[0m \u001b[0;32mnot\u001b[0m \u001b[0;32mNone\u001b[0m\u001b[0;34m\u001b[0m\u001b[0;34m\u001b[0m\u001b[0m\n\u001b[1;32m   1031\u001b[0m \u001b[0;34m\u001b[0m\u001b[0m\n\u001b[0;32m-> 1032\u001b[0;31m             \u001b[0;32mwhile\u001b[0m \u001b[0mself\u001b[0m\u001b[0;34m.\u001b[0m\u001b[0mdispatch_one_batch\u001b[0m\u001b[0;34m(\u001b[0m\u001b[0miterator\u001b[0m\u001b[0;34m)\u001b[0m\u001b[0;34m:\u001b[0m\u001b[0;34m\u001b[0m\u001b[0;34m\u001b[0m\u001b[0m\n\u001b[0m\u001b[1;32m   1033\u001b[0m                 \u001b[0;32mpass\u001b[0m\u001b[0;34m\u001b[0m\u001b[0;34m\u001b[0m\u001b[0m\n\u001b[1;32m   1034\u001b[0m \u001b[0;34m\u001b[0m\u001b[0m\n",
            "\u001b[0;32m/usr/local/lib/python3.6/dist-packages/joblib/parallel.py\u001b[0m in \u001b[0;36mdispatch_one_batch\u001b[0;34m(self, iterator)\u001b[0m\n\u001b[1;32m    845\u001b[0m                 \u001b[0;32mreturn\u001b[0m \u001b[0;32mFalse\u001b[0m\u001b[0;34m\u001b[0m\u001b[0;34m\u001b[0m\u001b[0m\n\u001b[1;32m    846\u001b[0m             \u001b[0;32melse\u001b[0m\u001b[0;34m:\u001b[0m\u001b[0;34m\u001b[0m\u001b[0;34m\u001b[0m\u001b[0m\n\u001b[0;32m--> 847\u001b[0;31m                 \u001b[0mself\u001b[0m\u001b[0;34m.\u001b[0m\u001b[0m_dispatch\u001b[0m\u001b[0;34m(\u001b[0m\u001b[0mtasks\u001b[0m\u001b[0;34m)\u001b[0m\u001b[0;34m\u001b[0m\u001b[0;34m\u001b[0m\u001b[0m\n\u001b[0m\u001b[1;32m    848\u001b[0m                 \u001b[0;32mreturn\u001b[0m \u001b[0;32mTrue\u001b[0m\u001b[0;34m\u001b[0m\u001b[0;34m\u001b[0m\u001b[0m\n\u001b[1;32m    849\u001b[0m \u001b[0;34m\u001b[0m\u001b[0m\n",
            "\u001b[0;32m/usr/local/lib/python3.6/dist-packages/joblib/parallel.py\u001b[0m in \u001b[0;36m_dispatch\u001b[0;34m(self, batch)\u001b[0m\n\u001b[1;32m    763\u001b[0m         \u001b[0;32mwith\u001b[0m \u001b[0mself\u001b[0m\u001b[0;34m.\u001b[0m\u001b[0m_lock\u001b[0m\u001b[0;34m:\u001b[0m\u001b[0;34m\u001b[0m\u001b[0;34m\u001b[0m\u001b[0m\n\u001b[1;32m    764\u001b[0m             \u001b[0mjob_idx\u001b[0m \u001b[0;34m=\u001b[0m \u001b[0mlen\u001b[0m\u001b[0;34m(\u001b[0m\u001b[0mself\u001b[0m\u001b[0;34m.\u001b[0m\u001b[0m_jobs\u001b[0m\u001b[0;34m)\u001b[0m\u001b[0;34m\u001b[0m\u001b[0;34m\u001b[0m\u001b[0m\n\u001b[0;32m--> 765\u001b[0;31m             \u001b[0mjob\u001b[0m \u001b[0;34m=\u001b[0m \u001b[0mself\u001b[0m\u001b[0;34m.\u001b[0m\u001b[0m_backend\u001b[0m\u001b[0;34m.\u001b[0m\u001b[0mapply_async\u001b[0m\u001b[0;34m(\u001b[0m\u001b[0mbatch\u001b[0m\u001b[0;34m,\u001b[0m \u001b[0mcallback\u001b[0m\u001b[0;34m=\u001b[0m\u001b[0mcb\u001b[0m\u001b[0;34m)\u001b[0m\u001b[0;34m\u001b[0m\u001b[0;34m\u001b[0m\u001b[0m\n\u001b[0m\u001b[1;32m    766\u001b[0m             \u001b[0;31m# A job can complete so quickly than its callback is\u001b[0m\u001b[0;34m\u001b[0m\u001b[0;34m\u001b[0m\u001b[0;34m\u001b[0m\u001b[0m\n\u001b[1;32m    767\u001b[0m             \u001b[0;31m# called before we get here, causing self._jobs to\u001b[0m\u001b[0;34m\u001b[0m\u001b[0;34m\u001b[0m\u001b[0;34m\u001b[0m\u001b[0m\n",
            "\u001b[0;32m/usr/local/lib/python3.6/dist-packages/joblib/_parallel_backends.py\u001b[0m in \u001b[0;36mapply_async\u001b[0;34m(self, func, callback)\u001b[0m\n\u001b[1;32m    204\u001b[0m     \u001b[0;32mdef\u001b[0m \u001b[0mapply_async\u001b[0m\u001b[0;34m(\u001b[0m\u001b[0mself\u001b[0m\u001b[0;34m,\u001b[0m \u001b[0mfunc\u001b[0m\u001b[0;34m,\u001b[0m \u001b[0mcallback\u001b[0m\u001b[0;34m=\u001b[0m\u001b[0;32mNone\u001b[0m\u001b[0;34m)\u001b[0m\u001b[0;34m:\u001b[0m\u001b[0;34m\u001b[0m\u001b[0;34m\u001b[0m\u001b[0m\n\u001b[1;32m    205\u001b[0m         \u001b[0;34m\"\"\"Schedule a func to be run\"\"\"\u001b[0m\u001b[0;34m\u001b[0m\u001b[0;34m\u001b[0m\u001b[0m\n\u001b[0;32m--> 206\u001b[0;31m         \u001b[0mresult\u001b[0m \u001b[0;34m=\u001b[0m \u001b[0mImmediateResult\u001b[0m\u001b[0;34m(\u001b[0m\u001b[0mfunc\u001b[0m\u001b[0;34m)\u001b[0m\u001b[0;34m\u001b[0m\u001b[0;34m\u001b[0m\u001b[0m\n\u001b[0m\u001b[1;32m    207\u001b[0m         \u001b[0;32mif\u001b[0m \u001b[0mcallback\u001b[0m\u001b[0;34m:\u001b[0m\u001b[0;34m\u001b[0m\u001b[0;34m\u001b[0m\u001b[0m\n\u001b[1;32m    208\u001b[0m             \u001b[0mcallback\u001b[0m\u001b[0;34m(\u001b[0m\u001b[0mresult\u001b[0m\u001b[0;34m)\u001b[0m\u001b[0;34m\u001b[0m\u001b[0;34m\u001b[0m\u001b[0m\n",
            "\u001b[0;32m/usr/local/lib/python3.6/dist-packages/joblib/_parallel_backends.py\u001b[0m in \u001b[0;36m__init__\u001b[0;34m(self, batch)\u001b[0m\n\u001b[1;32m    568\u001b[0m         \u001b[0;31m# Don't delay the application, to avoid keeping the input\u001b[0m\u001b[0;34m\u001b[0m\u001b[0;34m\u001b[0m\u001b[0;34m\u001b[0m\u001b[0m\n\u001b[1;32m    569\u001b[0m         \u001b[0;31m# arguments in memory\u001b[0m\u001b[0;34m\u001b[0m\u001b[0;34m\u001b[0m\u001b[0;34m\u001b[0m\u001b[0m\n\u001b[0;32m--> 570\u001b[0;31m         \u001b[0mself\u001b[0m\u001b[0;34m.\u001b[0m\u001b[0mresults\u001b[0m \u001b[0;34m=\u001b[0m \u001b[0mbatch\u001b[0m\u001b[0;34m(\u001b[0m\u001b[0;34m)\u001b[0m\u001b[0;34m\u001b[0m\u001b[0;34m\u001b[0m\u001b[0m\n\u001b[0m\u001b[1;32m    571\u001b[0m \u001b[0;34m\u001b[0m\u001b[0m\n\u001b[1;32m    572\u001b[0m     \u001b[0;32mdef\u001b[0m \u001b[0mget\u001b[0m\u001b[0;34m(\u001b[0m\u001b[0mself\u001b[0m\u001b[0;34m)\u001b[0m\u001b[0;34m:\u001b[0m\u001b[0;34m\u001b[0m\u001b[0;34m\u001b[0m\u001b[0m\n",
            "\u001b[0;32m/usr/local/lib/python3.6/dist-packages/joblib/parallel.py\u001b[0m in \u001b[0;36m__call__\u001b[0;34m(self)\u001b[0m\n\u001b[1;32m    251\u001b[0m         \u001b[0;32mwith\u001b[0m \u001b[0mparallel_backend\u001b[0m\u001b[0;34m(\u001b[0m\u001b[0mself\u001b[0m\u001b[0;34m.\u001b[0m\u001b[0m_backend\u001b[0m\u001b[0;34m,\u001b[0m \u001b[0mn_jobs\u001b[0m\u001b[0;34m=\u001b[0m\u001b[0mself\u001b[0m\u001b[0;34m.\u001b[0m\u001b[0m_n_jobs\u001b[0m\u001b[0;34m)\u001b[0m\u001b[0;34m:\u001b[0m\u001b[0;34m\u001b[0m\u001b[0;34m\u001b[0m\u001b[0m\n\u001b[1;32m    252\u001b[0m             return [func(*args, **kwargs)\n\u001b[0;32m--> 253\u001b[0;31m                     for func, args, kwargs in self.items]\n\u001b[0m\u001b[1;32m    254\u001b[0m \u001b[0;34m\u001b[0m\u001b[0m\n\u001b[1;32m    255\u001b[0m     \u001b[0;32mdef\u001b[0m \u001b[0m__reduce__\u001b[0m\u001b[0;34m(\u001b[0m\u001b[0mself\u001b[0m\u001b[0;34m)\u001b[0m\u001b[0;34m:\u001b[0m\u001b[0;34m\u001b[0m\u001b[0;34m\u001b[0m\u001b[0m\n",
            "\u001b[0;32m/usr/local/lib/python3.6/dist-packages/joblib/parallel.py\u001b[0m in \u001b[0;36m<listcomp>\u001b[0;34m(.0)\u001b[0m\n\u001b[1;32m    251\u001b[0m         \u001b[0;32mwith\u001b[0m \u001b[0mparallel_backend\u001b[0m\u001b[0;34m(\u001b[0m\u001b[0mself\u001b[0m\u001b[0;34m.\u001b[0m\u001b[0m_backend\u001b[0m\u001b[0;34m,\u001b[0m \u001b[0mn_jobs\u001b[0m\u001b[0;34m=\u001b[0m\u001b[0mself\u001b[0m\u001b[0;34m.\u001b[0m\u001b[0m_n_jobs\u001b[0m\u001b[0;34m)\u001b[0m\u001b[0;34m:\u001b[0m\u001b[0;34m\u001b[0m\u001b[0;34m\u001b[0m\u001b[0m\n\u001b[1;32m    252\u001b[0m             return [func(*args, **kwargs)\n\u001b[0;32m--> 253\u001b[0;31m                     for func, args, kwargs in self.items]\n\u001b[0m\u001b[1;32m    254\u001b[0m \u001b[0;34m\u001b[0m\u001b[0m\n\u001b[1;32m    255\u001b[0m     \u001b[0;32mdef\u001b[0m \u001b[0m__reduce__\u001b[0m\u001b[0;34m(\u001b[0m\u001b[0mself\u001b[0m\u001b[0;34m)\u001b[0m\u001b[0;34m:\u001b[0m\u001b[0;34m\u001b[0m\u001b[0;34m\u001b[0m\u001b[0m\n",
            "\u001b[0;32m/usr/local/lib/python3.6/dist-packages/sklearn/model_selection/_validation.py\u001b[0m in \u001b[0;36m_fit_and_score\u001b[0;34m(estimator, X, y, scorer, train, test, verbose, parameters, fit_params, return_train_score, return_parameters, return_n_test_samples, return_times, return_estimator, error_score)\u001b[0m\n\u001b[1;32m    513\u001b[0m             \u001b[0mestimator\u001b[0m\u001b[0;34m.\u001b[0m\u001b[0mfit\u001b[0m\u001b[0;34m(\u001b[0m\u001b[0mX_train\u001b[0m\u001b[0;34m,\u001b[0m \u001b[0;34m**\u001b[0m\u001b[0mfit_params\u001b[0m\u001b[0;34m)\u001b[0m\u001b[0;34m\u001b[0m\u001b[0;34m\u001b[0m\u001b[0m\n\u001b[1;32m    514\u001b[0m         \u001b[0;32melse\u001b[0m\u001b[0;34m:\u001b[0m\u001b[0;34m\u001b[0m\u001b[0;34m\u001b[0m\u001b[0m\n\u001b[0;32m--> 515\u001b[0;31m             \u001b[0mestimator\u001b[0m\u001b[0;34m.\u001b[0m\u001b[0mfit\u001b[0m\u001b[0;34m(\u001b[0m\u001b[0mX_train\u001b[0m\u001b[0;34m,\u001b[0m \u001b[0my_train\u001b[0m\u001b[0;34m,\u001b[0m \u001b[0;34m**\u001b[0m\u001b[0mfit_params\u001b[0m\u001b[0;34m)\u001b[0m\u001b[0;34m\u001b[0m\u001b[0;34m\u001b[0m\u001b[0m\n\u001b[0m\u001b[1;32m    516\u001b[0m \u001b[0;34m\u001b[0m\u001b[0m\n\u001b[1;32m    517\u001b[0m     \u001b[0;32mexcept\u001b[0m \u001b[0mException\u001b[0m \u001b[0;32mas\u001b[0m \u001b[0me\u001b[0m\u001b[0;34m:\u001b[0m\u001b[0;34m\u001b[0m\u001b[0;34m\u001b[0m\u001b[0m\n",
            "\u001b[0;32m/usr/local/lib/python3.6/dist-packages/sklearn/linear_model/_coordinate_descent.py\u001b[0m in \u001b[0;36mfit\u001b[0;34m(self, X, y, check_input)\u001b[0m\n\u001b[1;32m    749\u001b[0m                           \u001b[0mrandom_state\u001b[0m\u001b[0;34m=\u001b[0m\u001b[0mself\u001b[0m\u001b[0;34m.\u001b[0m\u001b[0mrandom_state\u001b[0m\u001b[0;34m,\u001b[0m\u001b[0;34m\u001b[0m\u001b[0;34m\u001b[0m\u001b[0m\n\u001b[1;32m    750\u001b[0m                           \u001b[0mselection\u001b[0m\u001b[0;34m=\u001b[0m\u001b[0mself\u001b[0m\u001b[0;34m.\u001b[0m\u001b[0mselection\u001b[0m\u001b[0;34m,\u001b[0m\u001b[0;34m\u001b[0m\u001b[0;34m\u001b[0m\u001b[0m\n\u001b[0;32m--> 751\u001b[0;31m                           check_input=False)\n\u001b[0m\u001b[1;32m    752\u001b[0m             \u001b[0mcoef_\u001b[0m\u001b[0;34m[\u001b[0m\u001b[0mk\u001b[0m\u001b[0;34m]\u001b[0m \u001b[0;34m=\u001b[0m \u001b[0mthis_coef\u001b[0m\u001b[0;34m[\u001b[0m\u001b[0;34m:\u001b[0m\u001b[0;34m,\u001b[0m \u001b[0;36m0\u001b[0m\u001b[0;34m]\u001b[0m\u001b[0;34m\u001b[0m\u001b[0;34m\u001b[0m\u001b[0m\n\u001b[1;32m    753\u001b[0m             \u001b[0mdual_gaps_\u001b[0m\u001b[0;34m[\u001b[0m\u001b[0mk\u001b[0m\u001b[0;34m]\u001b[0m \u001b[0;34m=\u001b[0m \u001b[0mthis_dual_gap\u001b[0m\u001b[0;34m[\u001b[0m\u001b[0;36m0\u001b[0m\u001b[0;34m]\u001b[0m\u001b[0;34m\u001b[0m\u001b[0;34m\u001b[0m\u001b[0m\n",
            "\u001b[0;32m/usr/local/lib/python3.6/dist-packages/sklearn/linear_model/_coordinate_descent.py\u001b[0m in \u001b[0;36menet_path\u001b[0;34m(X, y, l1_ratio, eps, n_alphas, alphas, precompute, Xy, copy_X, coef_init, verbose, return_n_iter, positive, check_input, **params)\u001b[0m\n\u001b[1;32m    474\u001b[0m             model = cd_fast.enet_coordinate_descent(\n\u001b[1;32m    475\u001b[0m                 \u001b[0mcoef_\u001b[0m\u001b[0;34m,\u001b[0m \u001b[0ml1_reg\u001b[0m\u001b[0;34m,\u001b[0m \u001b[0ml2_reg\u001b[0m\u001b[0;34m,\u001b[0m \u001b[0mX\u001b[0m\u001b[0;34m,\u001b[0m \u001b[0my\u001b[0m\u001b[0;34m,\u001b[0m \u001b[0mmax_iter\u001b[0m\u001b[0;34m,\u001b[0m \u001b[0mtol\u001b[0m\u001b[0;34m,\u001b[0m \u001b[0mrng\u001b[0m\u001b[0;34m,\u001b[0m \u001b[0mrandom\u001b[0m\u001b[0;34m,\u001b[0m\u001b[0;34m\u001b[0m\u001b[0;34m\u001b[0m\u001b[0m\n\u001b[0;32m--> 476\u001b[0;31m                 positive)\n\u001b[0m\u001b[1;32m    477\u001b[0m         \u001b[0;32melse\u001b[0m\u001b[0;34m:\u001b[0m\u001b[0;34m\u001b[0m\u001b[0;34m\u001b[0m\u001b[0m\n\u001b[1;32m    478\u001b[0m             raise ValueError(\"Precompute should be one of True, False, \"\n",
            "\u001b[0;32msklearn/linear_model/_cd_fast.pyx\u001b[0m in \u001b[0;36msklearn.linear_model._cd_fast.enet_coordinate_descent\u001b[0;34m()\u001b[0m\n",
            "\u001b[0;31mKeyboardInterrupt\u001b[0m: "
          ]
        }
      ]
    },
    {
      "cell_type": "code",
      "metadata": {
        "id": "kewkZokv35gy",
        "colab_type": "code",
        "colab": {}
      },
      "source": [
        "grid_search.best_params_"
      ],
      "execution_count": null,
      "outputs": []
    },
    {
      "cell_type": "markdown",
      "metadata": {
        "id": "YlsV-tvA8nmk",
        "colab_type": "text"
      },
      "source": [
        "Lasso regression alpha= 0.001"
      ]
    },
    {
      "cell_type": "markdown",
      "metadata": {
        "id": "l439lTVT8yl7",
        "colab_type": "text"
      },
      "source": [
        "**Lasso regression with alpha= 0.001**"
      ]
    },
    {
      "cell_type": "code",
      "metadata": {
        "id": "g-p2qYh385cH",
        "colab_type": "code",
        "colab": {}
      },
      "source": [
        "from sklearn.linear_model import Lasso\n",
        "\n",
        "lasso_reg=Lasso(alpha=0.001)\n",
        "lasso_reg.fit(x_train[:1000000],y_train[:1000000])\n",
        "lasso_pred=lasso_reg.predict(x_val)\n",
        "lasso_mse=mean_squared_error(lasso_pred,y_val)\n",
        "lasso_rmse=np.sqrt(lasso_mse)\n",
        "lasso_rmse"
      ],
      "execution_count": null,
      "outputs": []
    },
    {
      "cell_type": "markdown",
      "metadata": {
        "id": "pk9Bd86l-Fc9",
        "colab_type": "text"
      },
      "source": [
        "Lasso regression RMSE 2496.5489890912604"
      ]
    },
    {
      "cell_type": "markdown",
      "metadata": {
        "id": "Ev1KSepK-VtT",
        "colab_type": "text"
      },
      "source": [
        "**Grid search with elastic net**"
      ]
    },
    {
      "cell_type": "code",
      "metadata": {
        "id": "U2dkoFOt-VSm",
        "colab_type": "code",
        "colab": {}
      },
      "source": [
        "from sklearn.model_selection import GridSearchCV\n",
        "from sklearn.linear_model import ElasticNet\n",
        "\n",
        "param_grid=[\n",
        "            {'alpha':[0.001,0.003,0.01,0.03,0.1,0.3,1,3]}\n",
        "]\n",
        "\n",
        "elastic_reg=ElasticNet()\n",
        "\n",
        "grid_search=GridSearchCV(elastic_reg,param_grid,cv=5,\n",
        "                         scoring='neg_mean_squared_error',\n",
        "                         return_train_score=True)\n",
        "\n",
        "grid_search.fit(x_train[:1000000],y_train[:1000000])"
      ],
      "execution_count": null,
      "outputs": []
    },
    {
      "cell_type": "code",
      "metadata": {
        "id": "2qExj37k_J_p",
        "colab_type": "code",
        "colab": {}
      },
      "source": [
        "grid_search.best_params_"
      ],
      "execution_count": null,
      "outputs": []
    },
    {
      "cell_type": "markdown",
      "metadata": {
        "id": "jZAfZcjEF4fd",
        "colab_type": "text"
      },
      "source": [
        "Elastic net alpha=0.001"
      ]
    },
    {
      "cell_type": "markdown",
      "metadata": {
        "id": "vS8rz_odF9QO",
        "colab_type": "text"
      },
      "source": [
        "**Applying elastic net with alpha=0.001**"
      ]
    },
    {
      "cell_type": "code",
      "metadata": {
        "id": "fA-PnRPNF0od",
        "colab_type": "code",
        "colab": {}
      },
      "source": [
        "from sklearn.linear_model import ElasticNet\n",
        "\n",
        "elastic_reg=ElasticNet(alpha=0.001)\n",
        "elastic_reg.fit(x_train[:1000000],y_train[:1000000])\n",
        "elastic_pred=elastic_reg.predict(x_val)\n",
        "elastic_mse=mean_squared_error(elastic_pred,y_val)\n",
        "elastic_rmse=np.sqrt(elastic_mse)\n",
        "elastic_rmse"
      ],
      "execution_count": null,
      "outputs": []
    },
    {
      "cell_type": "markdown",
      "metadata": {
        "id": "tLd3qlSqHaG9",
        "colab_type": "text"
      },
      "source": [
        "Elastic net RMSE= 2496.5731476766564"
      ]
    },
    {
      "cell_type": "markdown",
      "metadata": {
        "id": "SBtbLz9aFX4t",
        "colab_type": "text"
      },
      "source": [
        "**Batch gradient descent**"
      ]
    },
    {
      "cell_type": "code",
      "metadata": {
        "id": "iangtu4hHMbF",
        "colab_type": "code",
        "colab": {}
      },
      "source": [
        "#bias_column_size = x_train.shape[0] \n",
        "bias_column_size = 1000000   # when running the full simulation the first bias_column_size will be used But in colab, to accodomate for RAM, the second bias_column_size will be used."
      ],
      "execution_count": null,
      "outputs": []
    },
    {
      "cell_type": "code",
      "metadata": {
        "id": "x_hjMYmJFb4F",
        "colab_type": "code",
        "colab": {}
      },
      "source": [
        "x_train_b = np.c_ [np.ones((bias_column_size,1)), x_train[:1000000]]# adding the bias column in x_train"
      ],
      "execution_count": null,
      "outputs": []
    },
    {
      "cell_type": "markdown",
      "metadata": {
        "id": "eoe3lwCNJIjj",
        "colab_type": "text"
      },
      "source": [
        "**Using normal equation to get theta and then compare with BGD and SGD,MGD**"
      ]
    },
    {
      "cell_type": "code",
      "metadata": {
        "id": "_fMjx-AAJINb",
        "colab_type": "code",
        "colab": {}
      },
      "source": [
        "theta_best = np.linalg.inv(x_train_b.T .dot (x_train_b)) .dot(x_train_b.T) .dot (y_train[:1000000])\n",
        "theta_best"
      ],
      "execution_count": null,
      "outputs": []
    },
    {
      "cell_type": "code",
      "metadata": {
        "id": "EB7CuvCCKqZC",
        "colab_type": "code",
        "colab": {}
      },
      "source": [
        "bias_val_column_size = x_val.shape[0]"
      ],
      "execution_count": null,
      "outputs": []
    },
    {
      "cell_type": "code",
      "metadata": {
        "id": "yQXeY59rKUZV",
        "colab_type": "code",
        "colab": {}
      },
      "source": [
        "x_val_b = np.c_[np.ones((bias_val_column_size,1)),x_val]"
      ],
      "execution_count": null,
      "outputs": []
    },
    {
      "cell_type": "markdown",
      "metadata": {
        "id": "AWGhYGTlLJEb",
        "colab_type": "text"
      },
      "source": [
        "**Batch gradient descent**"
      ]
    },
    {
      "cell_type": "code",
      "metadata": {
        "id": "IV7btz0sK757",
        "colab_type": "code",
        "colab": {}
      },
      "source": [
        "eta_BGD=0.3\n",
        "n_iterations = 20\n",
        "m= 1000000\n",
        "\n",
        "theta_BGD = np.random.randn(theta_best.shape[0],1)\n",
        "for iteration in range(n_iterations):\n",
        "    gradients_BGD = 2/m * x_train_b.T.dot(x_train_b.dot(theta_BGD) - y_train[:1000000])\n",
        "    theta_BGD = theta_BGD - eta_BGD * gradients_BGD "
      ],
      "execution_count": null,
      "outputs": []
    },
    {
      "cell_type": "code",
      "metadata": {
        "id": "WrFy4_zoMW2u",
        "colab_type": "code",
        "colab": {}
      },
      "source": [
        "theta_BGD"
      ],
      "execution_count": null,
      "outputs": []
    },
    {
      "cell_type": "code",
      "metadata": {
        "id": "LArpfzHNNC1r",
        "colab_type": "code",
        "colab": {}
      },
      "source": [
        ""
      ],
      "execution_count": null,
      "outputs": []
    },
    {
      "cell_type": "markdown",
      "metadata": {
        "id": "sS1L0mmfIcld",
        "colab_type": "text"
      },
      "source": [
        "**Grid search to get the optimal learning rate**"
      ]
    },
    {
      "cell_type": "code",
      "metadata": {
        "id": "8pBTkjDHIg7h",
        "colab_type": "code",
        "colab": {}
      },
      "source": [
        "from sklearn.model_selection import GridSearchCV\n",
        "from sklearn.linear_model import SGDRegressor\n",
        "\n",
        "param_grid=[\n",
        "            {'eta0':[0.001,0.003,0.01,0.03,0.1,0.3,1,3]}\n",
        "]\n",
        "\n",
        "sgd_reg=SGDRegressor(max_iter=1000,tol=1e-3,penalty='l2')\n",
        "\n",
        "grid_search=GridSearchCV(sgd_reg,param_grid,cv=5,\n",
        "                         scoring='neg_mean_squared_error',\n",
        "                         return_train_score=True)\n",
        "grid_search.fit(x_train[:1000000],y_train[:1000000])"
      ],
      "execution_count": null,
      "outputs": []
    },
    {
      "cell_type": "code",
      "metadata": {
        "id": "Xmt0fMxTJfVK",
        "colab_type": "code",
        "colab": {}
      },
      "source": [
        "grid_search.best_params_"
      ],
      "execution_count": null,
      "outputs": []
    },
    {
      "cell_type": "markdown",
      "metadata": {
        "id": "TYx5Q4RvOc3Y",
        "colab_type": "text"
      },
      "source": [
        "**Stochastic gradient descent with eta0=0.01**"
      ]
    },
    {
      "cell_type": "code",
      "metadata": {
        "id": "xVbpBaVVHoqX",
        "colab_type": "code",
        "colab": {
          "base_uri": "https://localhost:8080/",
          "height": 34
        },
        "outputId": "9f499595-ca91-44f6-b028-96ad2cc3acc0"
      },
      "source": [
        "from sklearn.linear_model import SGDRegressor\n",
        "from sklearn. metrics import mean_squared_error\n",
        "\n",
        "sgd_reg=SGDRegressor(max_iter=1000,tol=1e-3,penalty='l2',eta0=0.01)\n",
        "sgd_reg.fit(x_train[:1000000],y_train[:1000000])\n",
        "sgd_pred=sgd_reg.predict(x_val)\n",
        "sgd_mse=mean_squared_error(sgd_pred,y_val)\n",
        "sgd_rmse=np.sqrt(sgd_mse)\n",
        "sgd_rmse"
      ],
      "execution_count": null,
      "outputs": [
        {
          "output_type": "execute_result",
          "data": {
            "text/plain": [
              "2496.186657833603"
            ]
          },
          "metadata": {
            "tags": []
          },
          "execution_count": 79
        }
      ]
    },
    {
      "cell_type": "markdown",
      "metadata": {
        "id": "noHNta54N-lS",
        "colab_type": "text"
      },
      "source": [
        "Stochastic gradient descent RMSE with eta0=0.01 is 2496.186657833603"
      ]
    },
    {
      "cell_type": "markdown",
      "metadata": {
        "id": "GLNndoyOuF68",
        "colab_type": "text"
      },
      "source": [
        "**Support Vector Regressor**"
      ]
    },
    {
      "cell_type": "code",
      "metadata": {
        "id": "cm5Q7DqYxp5R",
        "colab_type": "code",
        "colab": {}
      },
      "source": [
        "from sklearn.model_selection import GridSearchCV\n",
        "from sklearn.svm import LinearSVR\n",
        "\n",
        "param_grid = [\n",
        "              {'epsilon':[0.003,0.001,0.03,0.01,0.3,0.1,1,3,10,20,50,100,400,800,1000]}\n",
        "]\n",
        "\n",
        "svm_reg = LinearSVR()\n",
        "grid_search = GridSearchCV(svm_reg,param_grid,\n",
        "                           scoring ='neg_mean_squared_error',\n",
        "                           return_train_score =True)\n",
        "grid_search.fit(x_train[:1000000],y_train[:1000000])"
      ],
      "execution_count": null,
      "outputs": []
    },
    {
      "cell_type": "code",
      "metadata": {
        "id": "G3upQSxIz4Ss",
        "colab_type": "code",
        "colab": {}
      },
      "source": [
        "grid_search.best_params_"
      ],
      "execution_count": null,
      "outputs": []
    },
    {
      "cell_type": "markdown",
      "metadata": {
        "id": "hYza_NP93Ygj",
        "colab_type": "text"
      },
      "source": [
        "**from grid search epsilon = 100. LinearSVR with epsilon = 1000**"
      ]
    },
    {
      "cell_type": "code",
      "metadata": {
        "id": "Nw-qLuzauK9A",
        "colab_type": "code",
        "colab": {
          "base_uri": "https://localhost:8080/",
          "height": 36
        },
        "outputId": "ef78a288-95b0-4dd5-b8f9-69be63b48368"
      },
      "source": [
        "from sklearn.svm import LinearSVR\n",
        "from sklearn.metrics import mean_squared_error\n",
        "from math import sqrt\n",
        "\n",
        "svm_reg = LinearSVR(epsilon =100)\n",
        "svm_reg.fit(x_train[:1000000],y_train[:1000000])\n",
        "svm_reg_pred = svm_reg.predict(x_val)\n",
        "svm_reg_error = mean_squared_error(svm_reg_pred,y_val)\n",
        "svm_reg_rmse = sqrt(svm_reg_error)\n",
        "svm_reg_rmse"
      ],
      "execution_count": null,
      "outputs": [
        {
          "output_type": "execute_result",
          "data": {
            "text/plain": [
              "2509.112719343564"
            ]
          },
          "metadata": {
            "tags": []
          },
          "execution_count": 41
        }
      ]
    },
    {
      "cell_type": "markdown",
      "metadata": {
        "id": "SKjMqIZ6U4Z2",
        "colab_type": "text"
      },
      "source": [
        "Linear SVM RMSE = 2509.112719343564"
      ]
    },
    {
      "cell_type": "code",
      "metadata": {
        "id": "dVHWglf53jjX",
        "colab_type": "code",
        "colab": {}
      },
      "source": [
        "from sklearn.model_selection import GridSearchCV\n",
        "from sklearn.svm import SVR\n",
        "\n",
        "param_grid = [\n",
        "              {'epsilon':[10,20,50,100,400,800,1000]},\n",
        "              {'degree':[2,3,4,5]},\n",
        "              {'C':[0.003,0.001,0.03,0.01]} #,20,50,100,400,800,1000\n",
        "]\n",
        "\n",
        "svm_poly_reg = SVR(kernel = 'poly')\n",
        "\n",
        "grid_search = GridSearchCV(svm_poly_reg,param_grid,\n",
        "                           scoring ='neg_mean_squared_error',\n",
        "                           return_train_score =True)\n",
        "\n",
        "grid_search.fit(x_train[:1000000],y_train[:1000000])"
      ],
      "execution_count": null,
      "outputs": []
    },
    {
      "cell_type": "code",
      "metadata": {
        "id": "w1gW4feS5S29",
        "colab_type": "code",
        "colab": {}
      },
      "source": [
        "grid_search.bet_params_"
      ],
      "execution_count": null,
      "outputs": []
    },
    {
      "cell_type": "code",
      "metadata": {
        "id": "5-cS0eSa7E8V",
        "colab_type": "code",
        "colab": {}
      },
      "source": [
        "from sklearn.svm import SVR\n",
        "from sklearn.metrics mean_squared_error\n",
        "from math import sqrt\n",
        "\n",
        "svm_poly_reg = SVR(kernel ='poly', degree = '', C ='', epislon ='')\n",
        "svm_poly_reg.fit(x_train[:1000000],y_train[:1000000])\n",
        "svm_poly_pred = svm_poly_reg.pred(x_val)\n",
        "svm_poly_mse=mean_squared_error(svm_poy_pred,y_val)\n",
        "svm_poly_rmse = sqrt(svm_poly_mse)\n",
        "svm_poy_rmse"
      ],
      "execution_count": null,
      "outputs": []
    },
    {
      "cell_type": "markdown",
      "metadata": {
        "id": "TUP3S-7ROhh1",
        "colab_type": "text"
      },
      "source": [
        "**Decision tree**"
      ]
    },
    {
      "cell_type": "markdown",
      "metadata": {
        "id": "sbkvTzHZECRx",
        "colab_type": "text"
      },
      "source": [
        "**The plan was to let decision tree fit however it wanted and let it overfit, make the figure using export_graphviz and then reducing overfitting**"
      ]
    },
    {
      "cell_type": "code",
      "metadata": {
        "id": "wKvBdrvAOmRF",
        "colab_type": "code",
        "colab": {
          "base_uri": "https://localhost:8080/",
          "height": 34
        },
        "outputId": "819783e9-1b65-4834-8597-8639c956e3cd"
      },
      "source": [
        "from sklearn.tree import DecisionTreeRegressor\n",
        "from sklearn.metrics import mean_squared_error\n",
        "\n",
        "tree_reg=DecisionTreeRegressor()\n",
        "tree_reg.fit(x_train[:1000000],y_train[:1000000])\n",
        "tree_pred=tree_reg.predict(x_val)\n",
        "tree_mse=mean_squared_error(tree_pred,y_val)\n",
        "tree_rmse=np.sqrt(tree_mse)\n",
        "tree_rmse"
      ],
      "execution_count": null,
      "outputs": [
        {
          "output_type": "execute_result",
          "data": {
            "text/plain": [
              "2478.668371845164"
            ]
          },
          "metadata": {
            "tags": []
          },
          "execution_count": 79
        }
      ]
    },
    {
      "cell_type": "markdown",
      "metadata": {
        "id": "vEUbUyE2-cPB",
        "colab_type": "text"
      },
      "source": [
        "Decision tree RMSE = 2478.8828020681417\n"
      ]
    },
    {
      "cell_type": "code",
      "metadata": {
        "id": "hb6v6HvF8ON_",
        "colab_type": "code",
        "colab": {
          "base_uri": "https://localhost:8080/",
          "height": 34
        },
        "outputId": "615a5d56-ca84-4a6d-ad1b-9235394d7186"
      },
      "source": [
        "from sklearn.tree import DecisionTreeRegressor\n",
        "from sklearn.metrics import mean_squared_error\n",
        "\n",
        "tree_reg=DecisionTreeRegressor(max_depth =200, max_leaf_nodes=1000)\n",
        "tree_reg.fit(x_train[:1000000],y_train[:1000000])\n",
        "tree_pred=tree_reg.predict(x_val)\n",
        "tree_mse=mean_squared_error(tree_pred,y_val)\n",
        "tree_rmse=np.sqrt(tree_mse)\n",
        "tree_rmse"
      ],
      "execution_count": null,
      "outputs": [
        {
          "output_type": "execute_result",
          "data": {
            "text/plain": [
              "2465.122331183557"
            ]
          },
          "metadata": {
            "tags": []
          },
          "execution_count": 80
        }
      ]
    },
    {
      "cell_type": "markdown",
      "metadata": {
        "id": "n3YNQCD-MwDa",
        "colab_type": "text"
      },
      "source": [
        "Decision tree RMSE = 2465.122"
      ]
    },
    {
      "cell_type": "markdown",
      "metadata": {
        "id": "Tb2YJPGnOmx3",
        "colab_type": "text"
      },
      "source": [
        "**Ensemble**"
      ]
    },
    {
      "cell_type": "code",
      "metadata": {
        "id": "wp6WOVgaOp4Y",
        "colab_type": "code",
        "colab": {
          "base_uri": "https://localhost:8080/",
          "height": 512
        },
        "outputId": "082e704f-b1ec-4210-8998-9fe407a93ad5"
      },
      "source": [
        "from sklearn.ensemble import VotingRegressor\n",
        "from sklearn.svm import LinearSVR\n",
        "from sklearn.linear_model import LinearRegression\n",
        "from sklearn.linear_model import Ridge\n",
        "from sklearn.linear_model import Lasso\n",
        "from sklearn.linear_model import ElasticNet\n",
        "from sklearn.linear_model import SGDRegressor\n",
        "from sklearn.svm import LinearSVR\n",
        "from sklearn.svm import SVR\n",
        "from sklearn.tree import DecisionTreeRegressor\n",
        "\n",
        "lin_reg=LinearRegression()\n",
        "#ridge_reg=Ridge(alpha=3,solver='cholesky')\n",
        "#lasso_reg=Lasso(alpha=0.001)\n",
        "#elastic_reg=ElasticNet(alpha=0.001)\n",
        "sgd_reg=SGDRegressor(max_iter=1000,tol=1e-3,penalty='l2',eta0=0.01)\n",
        "#svm_reg = LinearSVR(epsilon =100)\n",
        "tree_reg=DecisionTreeRegressor(max_depth =200, max_leaf_nodes=1000)\n",
        "\n",
        "voting_reg=VotingRegressor(\n",
        "    estimators=[('lr',lin_reg),('sgd_reg',sgd_reg),\n",
        "                ('tree',tree_reg)]\n",
        ")\n",
        "\n",
        "voting_reg.fit(x_train[:1000000],y_train[:1000000])"
      ],
      "execution_count": null,
      "outputs": [
        {
          "output_type": "execute_result",
          "data": {
            "text/plain": [
              "VotingRegressor(estimators=[('lr',\n",
              "                             LinearRegression(copy_X=True, fit_intercept=True,\n",
              "                                              n_jobs=None, normalize=False)),\n",
              "                            ('sgd_reg',\n",
              "                             SGDRegressor(alpha=0.0001, average=False,\n",
              "                                          early_stopping=False, epsilon=0.1,\n",
              "                                          eta0=0.01, fit_intercept=True,\n",
              "                                          l1_ratio=0.15,\n",
              "                                          learning_rate='invscaling',\n",
              "                                          loss='squared_loss', max_iter=1000,\n",
              "                                          n_iter_no_change=5, penalty='l2',\n",
              "                                          power_t=0.25, rando...\n",
              "                                          validation_fraction=0.1, verbose=0,\n",
              "                                          warm_start=False)),\n",
              "                            ('tree',\n",
              "                             DecisionTreeRegressor(ccp_alpha=0.0,\n",
              "                                                   criterion='mse',\n",
              "                                                   max_depth=200,\n",
              "                                                   max_features=None,\n",
              "                                                   max_leaf_nodes=1000,\n",
              "                                                   min_impurity_decrease=0.0,\n",
              "                                                   min_impurity_split=None,\n",
              "                                                   min_samples_leaf=1,\n",
              "                                                   min_samples_split=2,\n",
              "                                                   min_weight_fraction_leaf=0.0,\n",
              "                                                   presort='deprecated',\n",
              "                                                   random_state=None,\n",
              "                                                   splitter='best'))],\n",
              "                n_jobs=None, weights=None)"
            ]
          },
          "metadata": {
            "tags": []
          },
          "execution_count": 80
        }
      ]
    },
    {
      "cell_type": "code",
      "metadata": {
        "id": "kp8lwwDMRxAG",
        "colab_type": "code",
        "colab": {}
      },
      "source": [
        "# from sklearn.metrics import accuracy_score\n",
        "\n",
        "# for reg in (lin_reg,ridge_reg,sgd_reg,svm_reg,tree_reg):\n",
        "#   reg.fit(x_train[:1000000],y_train[:1000000])\n",
        "#   pred = reg.predict(x_val)\n",
        "#   print(reg.__class__.__name__, score(y_val, pred))"
      ],
      "execution_count": null,
      "outputs": []
    },
    {
      "cell_type": "code",
      "metadata": {
        "id": "7ao0jAFEV0Gj",
        "colab_type": "code",
        "colab": {
          "base_uri": "https://localhost:8080/",
          "height": 34
        },
        "outputId": "e5afd8d0-2a83-4501-a87b-fd94f3e0a7b7"
      },
      "source": [
        "from sklearn.metrics import mean_squared_error\n",
        "\n",
        "voting_reg_pred=voting_reg.predict(x_val)\n",
        "voting_reg_mse=mean_squared_error(voting_reg_pred,y_val)\n",
        "voting_reg_rmse=np.sqrt(voting_reg_mse)\n",
        "voting_reg_rmse"
      ],
      "execution_count": null,
      "outputs": [
        {
          "output_type": "execute_result",
          "data": {
            "text/plain": [
              "2472.3468065578345"
            ]
          },
          "metadata": {
            "tags": []
          },
          "execution_count": 84
        }
      ]
    },
    {
      "cell_type": "markdown",
      "metadata": {
        "id": "BpEvBR2VkBdZ",
        "colab_type": "text"
      },
      "source": [
        "Voting regressor RMSE 2481.9209460610778"
      ]
    },
    {
      "cell_type": "markdown",
      "metadata": {
        "id": "i3-J-GvarXiR",
        "colab_type": "text"
      },
      "source": [
        "**Random Forest**"
      ]
    },
    {
      "cell_type": "code",
      "metadata": {
        "id": "31pKf-keroHL",
        "colab_type": "code",
        "colab": {}
      },
      "source": [
        "grid_search.best_estimator_"
      ],
      "execution_count": null,
      "outputs": []
    },
    {
      "cell_type": "code",
      "metadata": {
        "id": "JVYa2rzArp31",
        "colab_type": "code",
        "colab": {}
      },
      "source": [
        "from sklearn. ensemble import RandomForestRegressor\n",
        "\n",
        "forest_reg=RandomForestRegressor(n_estimators=150,max_features=9,n_jobs=-1)\n",
        "forest_reg.fit(x_train[:1000000],y_train[:1000000])"
      ],
      "execution_count": null,
      "outputs": []
    },
    {
      "cell_type": "markdown",
      "metadata": {
        "id": "QLF3VsxvahG-",
        "colab_type": "text"
      },
      "source": [
        "**BaggingRegressor**"
      ]
    },
    {
      "cell_type": "code",
      "metadata": {
        "id": "sAy7mq3MrTxJ",
        "colab_type": "code",
        "colab": {}
      },
      "source": [
        ""
      ],
      "execution_count": null,
      "outputs": []
    },
    {
      "cell_type": "code",
      "metadata": {
        "id": "xedDxHt1Yw1M",
        "colab_type": "code",
        "colab": {}
      },
      "source": [
        "from sklearn.ensemble import BaggingRegressor\n",
        "from sklearn.tree import DecisionTreeRegressor\n",
        "\n",
        "bag_reg= BaggingRegressor(\n",
        "    DecisionTreeRegressor(max_depth =200, max_leaf_nodes=1000),n_estimators =500,\n",
        "    max_samples=2000, bootstrap =True, n_jobs=-1 \n",
        ")\n"
      ],
      "execution_count": null,
      "outputs": []
    },
    {
      "cell_type": "code",
      "metadata": {
        "id": "TIXdVnXBalnv",
        "colab_type": "code",
        "colab": {}
      },
      "source": [
        "from math import sqrt\n",
        "\n",
        "bag_reg.fit(x_train[:1000000],y_train[:1000000])\n",
        "bag_pred= bag_reg.predict(x_val)\n",
        "bag_mse=mean_squared_error(y_val,bag_pred)\n",
        "bag_rmse =sqrt(bag_mse)"
      ],
      "execution_count": null,
      "outputs": []
    },
    {
      "cell_type": "code",
      "metadata": {
        "id": "_F52ylT4ePCj",
        "colab_type": "code",
        "colab": {
          "base_uri": "https://localhost:8080/",
          "height": 34
        },
        "outputId": "0558e573-f802-4ae0-837c-91f56e585aee"
      },
      "source": [
        "bag_rmse"
      ],
      "execution_count": null,
      "outputs": [
        {
          "output_type": "execute_result",
          "data": {
            "text/plain": [
              "2468.695542210922"
            ]
          },
          "metadata": {
            "tags": []
          },
          "execution_count": 91
        }
      ]
    },
    {
      "cell_type": "markdown",
      "metadata": {
        "id": "hQ_NS-zIe0QW",
        "colab_type": "text"
      },
      "source": [
        "**Gardient boosting**"
      ]
    },
    {
      "cell_type": "code",
      "metadata": {
        "id": "dT7dpKIFeycv",
        "colab_type": "code",
        "colab": {
          "base_uri": "https://localhost:8080/",
          "height": 176
        },
        "outputId": "45e55f2a-6b26-4ef1-f693-d9b3b8c77948"
      },
      "source": [
        "from sklearn.ensemble import GradientBoostingRegressor\n",
        "from sklearn.metrics import mean_squared_error\n",
        "\n",
        "gbrt = GradientBoostingRegressor(max_depth=2, max_leaf_nodes=1000,n_estimators=500,min_samples_leaf=1000,max_features =9,  random_state=42)\n",
        "gbrt.fit(x_train[:1000000], y_train[:1000000])\n",
        "\n",
        "errors = [mean_squared_error(y_val, y_pred)\n",
        "          for y_pred in gbrt.staged_predict(x_val)]\n",
        "bst_n_estimators = np.argmin(errors) + 1\n",
        "\n",
        "gbrt_best = GradientBoostingRegressor(max_depth=2, n_estimators=bst_n_estimators, random_state=42)\n",
        "gbrt_best.fit(x_train[:1000000], y_train[:1000000])"
      ],
      "execution_count": null,
      "outputs": [
        {
          "output_type": "execute_result",
          "data": {
            "text/plain": [
              "GradientBoostingRegressor(alpha=0.9, ccp_alpha=0.0, criterion='friedman_mse',\n",
              "                          init=None, learning_rate=0.1, loss='ls', max_depth=2,\n",
              "                          max_features=None, max_leaf_nodes=None,\n",
              "                          min_impurity_decrease=0.0, min_impurity_split=None,\n",
              "                          min_samples_leaf=1, min_samples_split=2,\n",
              "                          min_weight_fraction_leaf=0.0, n_estimators=498,\n",
              "                          n_iter_no_change=None, presort='deprecated',\n",
              "                          random_state=42, subsample=1.0, tol=0.0001,\n",
              "                          validation_fraction=0.1, verbose=0, warm_start=False)"
            ]
          },
          "metadata": {
            "tags": []
          },
          "execution_count": 57
        }
      ]
    },
    {
      "cell_type": "code",
      "metadata": {
        "id": "QzkUV1aXp9c9",
        "colab_type": "code",
        "colab": {
          "base_uri": "https://localhost:8080/",
          "height": 34
        },
        "outputId": "f5f1c64f-d067-44f3-b224-725e8a19f8e4"
      },
      "source": [
        "from math import sqrt\n",
        "\n",
        "gbrt_best_pred=gbrt_best.predict(x_val)\n",
        "gbrt_best_mse=mean_squared_error(gbrt_best_pred,y_val)\n",
        "gbrt_best_rmse = sqrt(gbrt_best_mse)\n",
        "gbrt_best_rmse"
      ],
      "execution_count": null,
      "outputs": [
        {
          "output_type": "execute_result",
          "data": {
            "text/plain": [
              "2459.626391781202"
            ]
          },
          "metadata": {
            "tags": []
          },
          "execution_count": 58
        }
      ]
    },
    {
      "cell_type": "markdown",
      "metadata": {
        "id": "pPP6pdo6WTti",
        "colab_type": "text"
      },
      "source": [
        "gradient boosting RMSE with max_depth=200, max_leaf_nodes=1000,n_estimators=500,random_state=2491.8535321096856///// 2460.9124525611933`"
      ]
    },
    {
      "cell_type": "markdown",
      "metadata": {
        "id": "-eL6WrS9hGZC",
        "colab_type": "text"
      },
      "source": [
        "**Making test set predictions**"
      ]
    },
    {
      "cell_type": "code",
      "metadata": {
        "id": "ikQ_Kh_9hLq7",
        "colab_type": "code",
        "colab": {}
      },
      "source": [
        "gbrt_best_test= gbrt_best.predict(testing_prepared)"
      ],
      "execution_count": null,
      "outputs": []
    },
    {
      "cell_type": "markdown",
      "metadata": {
        "id": "VhqYwRaAhOUo",
        "colab_type": "text"
      },
      "source": [
        "**Saving test set predictions**"
      ]
    },
    {
      "cell_type": "code",
      "metadata": {
        "id": "lckq-3_NhWSU",
        "colab_type": "code",
        "colab": {
          "base_uri": "https://localhost:8080/",
          "height": 197
        },
        "outputId": "4789fc28-0631-4079-82bd-3ee560ed7a25"
      },
      "source": [
        "chilled_water_preds = pd.DataFrame({'row_id':test_chilled_water['row_id'],\n",
        "                            'meter_reading':gbrt_best_test})\n",
        "chilled_water_preds.head()"
      ],
      "execution_count": null,
      "outputs": [
        {
          "output_type": "execute_result",
          "data": {
            "text/html": [
              "<div>\n",
              "<style scoped>\n",
              "    .dataframe tbody tr th:only-of-type {\n",
              "        vertical-align: middle;\n",
              "    }\n",
              "\n",
              "    .dataframe tbody tr th {\n",
              "        vertical-align: top;\n",
              "    }\n",
              "\n",
              "    .dataframe thead th {\n",
              "        text-align: right;\n",
              "    }\n",
              "</style>\n",
              "<table border=\"1\" class=\"dataframe\">\n",
              "  <thead>\n",
              "    <tr style=\"text-align: right;\">\n",
              "      <th></th>\n",
              "      <th>row_id</th>\n",
              "      <th>meter_reading</th>\n",
              "    </tr>\n",
              "  </thead>\n",
              "  <tbody>\n",
              "    <tr>\n",
              "      <th>8</th>\n",
              "      <td>8</td>\n",
              "      <td>874.385058</td>\n",
              "    </tr>\n",
              "    <tr>\n",
              "      <th>11</th>\n",
              "      <td>11</td>\n",
              "      <td>73.918893</td>\n",
              "    </tr>\n",
              "    <tr>\n",
              "      <th>16</th>\n",
              "      <td>16</td>\n",
              "      <td>316.179403</td>\n",
              "    </tr>\n",
              "    <tr>\n",
              "      <th>18</th>\n",
              "      <td>18</td>\n",
              "      <td>386.721997</td>\n",
              "    </tr>\n",
              "    <tr>\n",
              "      <th>20</th>\n",
              "      <td>20</td>\n",
              "      <td>148.178004</td>\n",
              "    </tr>\n",
              "  </tbody>\n",
              "</table>\n",
              "</div>"
            ],
            "text/plain": [
              "    row_id  meter_reading\n",
              "8        8     874.385058\n",
              "11      11      73.918893\n",
              "16      16     316.179403\n",
              "18      18     386.721997\n",
              "20      20     148.178004"
            ]
          },
          "metadata": {
            "tags": []
          },
          "execution_count": 63
        }
      ]
    },
    {
      "cell_type": "code",
      "metadata": {
        "id": "RPi30hkPhY4n",
        "colab_type": "code",
        "colab": {
          "base_uri": "https://localhost:8080/",
          "height": 34
        },
        "outputId": "9135283a-c655-4e16-f3c9-9f24f6944d2c"
      },
      "source": [
        "file_name='chilled_water_preds.csv'\n",
        "chilled_water_preds.to_csv(file_name,index=False)\n",
        "print('Saved file:'+file_name)"
      ],
      "execution_count": null,
      "outputs": [
        {
          "output_type": "stream",
          "text": [
            "Saved file:chilled_water_preds.csv\n"
          ],
          "name": "stdout"
        }
      ]
    }
  ]
}