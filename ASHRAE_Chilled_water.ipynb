{
  "nbformat": 4,
  "nbformat_minor": 0,
  "metadata": {
    "colab": {
      "name": "Copy of ASHRAE GPU-Chilled water.ipynb",
      "provenance": [],
      "collapsed_sections": [],
      "machine_shape": "hm"
    },
    "kernelspec": {
      "name": "python3",
      "display_name": "Python 3"
    }
  },
  "cells": [
    {
      "cell_type": "code",
      "metadata": {
        "id": "pkpOoLmu3WeC"
      },
      "source": [
        "import os,shutil"
      ],
      "execution_count": null,
      "outputs": []
    },
    {
      "cell_type": "markdown",
      "metadata": {
        "id": "5SnLrTMimom5"
      },
      "source": [
        "**Importing the dataset from Kaggle**"
      ]
    },
    {
      "cell_type": "code",
      "metadata": {
        "id": "80SLOezQ66de"
      },
      "source": [
        "os.environ['KAGGLE_USERNAME']='rohanazad'\n",
        "os.environ['KAGGLE_KEY']='d0a962062a00f47118aa4ff25a01ade3'"
      ],
      "execution_count": null,
      "outputs": []
    },
    {
      "cell_type": "code",
      "metadata": {
        "id": "y7x1pAux75az",
        "colab": {
          "base_uri": "https://localhost:8080/"
        },
        "outputId": "0f895310-0a15-43f7-9666-5448010b13f0"
      },
      "source": [
        "!kaggle competitions download -c ashrae-energy-prediction"
      ],
      "execution_count": null,
      "outputs": [
        {
          "output_type": "stream",
          "text": [
            "Warning: Looks like you're using an outdated API Version, please consider updating (server 1.5.10 / client 1.5.4)\n",
            "Downloading test.csv.zip to /content\n",
            " 87% 145M/167M [00:05<00:01, 18.7MB/s]\n",
            "100% 167M/167M [00:05<00:00, 32.8MB/s]\n",
            "Downloading sample_submission.csv.zip to /content\n",
            " 92% 81.0M/88.4M [00:02<00:00, 35.5MB/s]\n",
            "100% 88.4M/88.4M [00:02<00:00, 36.8MB/s]\n",
            "Downloading building_metadata.csv to /content\n",
            "  0% 0.00/44.5k [00:00<?, ?B/s]\n",
            "100% 44.5k/44.5k [00:00<00:00, 49.9MB/s]\n",
            "Downloading train.csv.zip to /content\n",
            " 94% 113M/120M [00:03<00:00, 31.5MB/s]\n",
            "100% 120M/120M [00:03<00:00, 34.2MB/s]\n",
            "Downloading weather_test.csv.zip to /content\n",
            "  0% 0.00/2.53M [00:00<?, ?B/s]\n",
            "100% 2.53M/2.53M [00:00<00:00, 82.3MB/s]\n",
            "Downloading weather_train.csv.zip to /content\n",
            "  0% 0.00/1.27M [00:00<?, ?B/s]\n",
            "100% 1.27M/1.27M [00:00<00:00, 172MB/s]\n"
          ],
          "name": "stdout"
        }
      ]
    },
    {
      "cell_type": "code",
      "metadata": {
        "id": "Xm3NAdYx7_6-"
      },
      "source": [
        "import pandas as pd"
      ],
      "execution_count": null,
      "outputs": []
    },
    {
      "cell_type": "code",
      "metadata": {
        "id": "c6Lp7Rw09JR1"
      },
      "source": [
        "import zipfile\n",
        "\n",
        "unzipped_train=zipfile.ZipFile('train.csv.zip')\n",
        "unzipped_train.extractall()\n",
        "unzipped_train.close()\n",
        "\n",
        "unzipped_test=zipfile.ZipFile('test.csv.zip')\n",
        "unzipped_test.extractall()\n",
        "unzipped_test.close()"
      ],
      "execution_count": null,
      "outputs": []
    },
    {
      "cell_type": "code",
      "metadata": {
        "id": "0ognNf7j94zl"
      },
      "source": [
        "unzipped_weather_train=zipfile.ZipFile('weather_train.csv.zip')\n",
        "unzipped_weather_train.extractall()\n",
        "unzipped_weather_train.close()\n",
        "\n",
        "unzipped_weather_test=zipfile.ZipFile('weather_test.csv.zip')\n",
        "unzipped_weather_test.extractall()\n",
        "unzipped_weather_test.close()"
      ],
      "execution_count": null,
      "outputs": []
    },
    {
      "cell_type": "code",
      "metadata": {
        "id": "tHibkyJR-7b2"
      },
      "source": [
        "weather_train=pd.read_csv('weather_train.csv')\n",
        "weather_test=pd.read_csv('weather_test.csv')\n",
        "building_met=pd.read_csv('building_metadata.csv')"
      ],
      "execution_count": null,
      "outputs": []
    },
    {
      "cell_type": "code",
      "metadata": {
        "id": "yc48xr9r_Y2Z"
      },
      "source": [
        "total=weather_train.isnull().sum().sort_values(ascending=False)\n",
        "percent=(weather_train.isnull().sum()/weather_train.isnull().count()).sort_values(ascending=False)\n",
        "missing_values=pd.concat([total,percent],axis=1,keys=['total','percent'])\n",
        "missing_values.head(20)"
      ],
      "execution_count": null,
      "outputs": []
    },
    {
      "cell_type": "code",
      "metadata": {
        "id": "CyHXQ3XaDalp"
      },
      "source": [
        "total=building_met.isnull().sum().sort_values(ascending=False)\n",
        "percent=(building_met.isnull().sum()/building_met.isnull().count()).sort_values(ascending=False)\n",
        "missing_values=pd.concat([total,percent],axis=1,keys=['total','percent'])\n",
        "missing_values.head(20)"
      ],
      "execution_count": null,
      "outputs": []
    },
    {
      "cell_type": "markdown",
      "metadata": {
        "id": "7441x4qUmyWt"
      },
      "source": [
        "**Dataset directories**"
      ]
    },
    {
      "cell_type": "code",
      "metadata": {
        "id": "uy2EjlD29vtB"
      },
      "source": [
        "train=pd.read_csv('train.csv')\n",
        "test=pd.read_csv('test.csv')\n",
        "weather_train_dir='/content/drive/My Drive/weather_train3.csv'\n",
        "weather_train=pd.read_csv(weather_train_dir)\n",
        "weather_test_dir='/content/drive/My Drive/weather_test2.csv'\n",
        "weather_test=pd.read_csv(weather_test_dir)\n",
        "building_met_dir='/content/drive/My Drive/building_metadata_save.csv'\n",
        "building_met=pd.read_csv(building_met_dir)"
      ],
      "execution_count": null,
      "outputs": []
    },
    {
      "cell_type": "code",
      "metadata": {
        "id": "n5vd_G14DSk-"
      },
      "source": [
        "# total=train.isnull().sum().sort_values(ascending=False)\n",
        "# percent=(train.isnull().sum()/train.isnull().count()).sort_values(ascending=False)\n",
        "# missing_values=pd.concat([total,percent],axis=1,keys=['total','percent'])\n",
        "# missing_values.head(20)"
      ],
      "execution_count": null,
      "outputs": []
    },
    {
      "cell_type": "code",
      "metadata": {
        "id": "8AmAEiyJ-RT8"
      },
      "source": [
        "# train.head()"
      ],
      "execution_count": null,
      "outputs": []
    },
    {
      "cell_type": "code",
      "metadata": {
        "id": "4-c_lrEJ-kjt",
        "colab": {
          "base_uri": "https://localhost:8080/"
        },
        "outputId": "37eca54d-f72e-4554-a571-7ecec4c3752d"
      },
      "source": [
        "print('shape of train:',train.shape)\n",
        "print('shape of test:',test.shape)\n",
        "print('shape of weather_train:',weather_train.shape)\n",
        "print('shape of weather_test:',weather_test.shape)\n",
        "print('shape of building_metadata:',building_met.shape)"
      ],
      "execution_count": null,
      "outputs": [
        {
          "output_type": "stream",
          "text": [
            "shape of train: (20216100, 4)\n",
            "shape of test: (41697600, 4)\n",
            "shape of weather_train: (139788, 12)\n",
            "shape of weather_test: (277243, 12)\n",
            "shape of building_metadata: (1449, 6)\n"
          ],
          "name": "stdout"
        }
      ]
    },
    {
      "cell_type": "markdown",
      "metadata": {
        "id": "oz5bdRbU-7WB"
      },
      "source": [
        "**timestamp stores data as strings in a particular format. Year,month,day,time**"
      ]
    },
    {
      "cell_type": "markdown",
      "metadata": {
        "id": "vOEXNFcH_P-7"
      },
      "source": [
        "**Apply to_datetime to convert string to object**"
      ]
    },
    {
      "cell_type": "code",
      "metadata": {
        "id": "O6KF554A_UxL"
      },
      "source": [
        "train['timestamp']=pd.to_datetime(train['timestamp'])\n",
        "test['timestamp']=pd.to_datetime(test['timestamp'])\n",
        "weather_train['timestamp']=pd.to_datetime(weather_train['timestamp'])\n",
        "weather_test['timestamp']=pd.to_datetime(weather_test['timestamp'])\n",
        "\n",
        "building_met['primary_use']=building_met['primary_use'].astype('category')"
      ],
      "execution_count": null,
      "outputs": []
    },
    {
      "cell_type": "markdown",
      "metadata": {
        "id": "Dcm3uyua_Za2"
      },
      "source": [
        "**Merging the three dataset to create train set**"
      ]
    },
    {
      "cell_type": "code",
      "metadata": {
        "id": "XMFA57F__eUt"
      },
      "source": [
        "temp=train[['building_id']]\n",
        "temp=temp.merge(building_met,on='building_id',how='left')\n",
        "del temp['building_id']\n",
        "train=pd.concat([train,temp],axis=1)\n",
        "\n"
      ],
      "execution_count": null,
      "outputs": []
    },
    {
      "cell_type": "code",
      "metadata": {
        "id": "sjJNAAie_loh",
        "colab": {
          "base_uri": "https://localhost:8080/",
          "height": 197
        },
        "outputId": "def1e32c-dd28-4a5a-dead-5b139cb9e6ed"
      },
      "source": [
        "train.head()"
      ],
      "execution_count": null,
      "outputs": [
        {
          "output_type": "execute_result",
          "data": {
            "text/html": [
              "<div>\n",
              "<style scoped>\n",
              "    .dataframe tbody tr th:only-of-type {\n",
              "        vertical-align: middle;\n",
              "    }\n",
              "\n",
              "    .dataframe tbody tr th {\n",
              "        vertical-align: top;\n",
              "    }\n",
              "\n",
              "    .dataframe thead th {\n",
              "        text-align: right;\n",
              "    }\n",
              "</style>\n",
              "<table border=\"1\" class=\"dataframe\">\n",
              "  <thead>\n",
              "    <tr style=\"text-align: right;\">\n",
              "      <th></th>\n",
              "      <th>building_id</th>\n",
              "      <th>meter</th>\n",
              "      <th>timestamp</th>\n",
              "      <th>meter_reading</th>\n",
              "      <th>site_id</th>\n",
              "      <th>primary_use</th>\n",
              "      <th>square_feet</th>\n",
              "      <th>year_built</th>\n",
              "      <th>floor_count</th>\n",
              "    </tr>\n",
              "  </thead>\n",
              "  <tbody>\n",
              "    <tr>\n",
              "      <th>0</th>\n",
              "      <td>0</td>\n",
              "      <td>0</td>\n",
              "      <td>2016-01-01</td>\n",
              "      <td>0.0</td>\n",
              "      <td>0</td>\n",
              "      <td>Education</td>\n",
              "      <td>7432</td>\n",
              "      <td>2008.0</td>\n",
              "      <td>4</td>\n",
              "    </tr>\n",
              "    <tr>\n",
              "      <th>1</th>\n",
              "      <td>1</td>\n",
              "      <td>0</td>\n",
              "      <td>2016-01-01</td>\n",
              "      <td>0.0</td>\n",
              "      <td>0</td>\n",
              "      <td>Education</td>\n",
              "      <td>2720</td>\n",
              "      <td>2004.0</td>\n",
              "      <td>4</td>\n",
              "    </tr>\n",
              "    <tr>\n",
              "      <th>2</th>\n",
              "      <td>2</td>\n",
              "      <td>0</td>\n",
              "      <td>2016-01-01</td>\n",
              "      <td>0.0</td>\n",
              "      <td>0</td>\n",
              "      <td>Education</td>\n",
              "      <td>5376</td>\n",
              "      <td>1991.0</td>\n",
              "      <td>4</td>\n",
              "    </tr>\n",
              "    <tr>\n",
              "      <th>3</th>\n",
              "      <td>3</td>\n",
              "      <td>0</td>\n",
              "      <td>2016-01-01</td>\n",
              "      <td>0.0</td>\n",
              "      <td>0</td>\n",
              "      <td>Education</td>\n",
              "      <td>23685</td>\n",
              "      <td>2002.0</td>\n",
              "      <td>4</td>\n",
              "    </tr>\n",
              "    <tr>\n",
              "      <th>4</th>\n",
              "      <td>4</td>\n",
              "      <td>0</td>\n",
              "      <td>2016-01-01</td>\n",
              "      <td>0.0</td>\n",
              "      <td>0</td>\n",
              "      <td>Education</td>\n",
              "      <td>116607</td>\n",
              "      <td>1975.0</td>\n",
              "      <td>4</td>\n",
              "    </tr>\n",
              "  </tbody>\n",
              "</table>\n",
              "</div>"
            ],
            "text/plain": [
              "   building_id  meter  timestamp  ...  square_feet  year_built floor_count\n",
              "0            0      0 2016-01-01  ...         7432      2008.0           4\n",
              "1            1      0 2016-01-01  ...         2720      2004.0           4\n",
              "2            2      0 2016-01-01  ...         5376      1991.0           4\n",
              "3            3      0 2016-01-01  ...        23685      2002.0           4\n",
              "4            4      0 2016-01-01  ...       116607      1975.0           4\n",
              "\n",
              "[5 rows x 9 columns]"
            ]
          },
          "metadata": {
            "tags": []
          },
          "execution_count": 22
        }
      ]
    },
    {
      "cell_type": "code",
      "metadata": {
        "id": "hq8EE8xA_orR"
      },
      "source": [
        "temp=train[['site_id','timestamp']]\n",
        "temp=temp.merge(weather_train,on=['site_id','timestamp'],how='left')\n",
        "del temp['site_id'],temp['timestamp']\n",
        "train=pd.concat([train,temp],axis=1)\n",
        "\n",
        "del temp,weather_train"
      ],
      "execution_count": null,
      "outputs": []
    },
    {
      "cell_type": "code",
      "metadata": {
        "id": "gInV2R09_17r",
        "colab": {
          "base_uri": "https://localhost:8080/",
          "height": 197
        },
        "outputId": "669a9fea-d86b-435e-fe12-5d0ae7046989"
      },
      "source": [
        "train.head()"
      ],
      "execution_count": null,
      "outputs": [
        {
          "output_type": "execute_result",
          "data": {
            "text/html": [
              "<div>\n",
              "<style scoped>\n",
              "    .dataframe tbody tr th:only-of-type {\n",
              "        vertical-align: middle;\n",
              "    }\n",
              "\n",
              "    .dataframe tbody tr th {\n",
              "        vertical-align: top;\n",
              "    }\n",
              "\n",
              "    .dataframe thead th {\n",
              "        text-align: right;\n",
              "    }\n",
              "</style>\n",
              "<table border=\"1\" class=\"dataframe\">\n",
              "  <thead>\n",
              "    <tr style=\"text-align: right;\">\n",
              "      <th></th>\n",
              "      <th>building_id</th>\n",
              "      <th>meter</th>\n",
              "      <th>timestamp</th>\n",
              "      <th>meter_reading</th>\n",
              "      <th>site_id</th>\n",
              "      <th>primary_use</th>\n",
              "      <th>square_feet</th>\n",
              "      <th>year_built</th>\n",
              "      <th>floor_count</th>\n",
              "      <th>air_temperature</th>\n",
              "      <th>cloud_coverage</th>\n",
              "      <th>dew_temperature</th>\n",
              "      <th>precip_depth_1_hr</th>\n",
              "      <th>sea_level_pressure</th>\n",
              "      <th>wind_direction</th>\n",
              "      <th>wind_speed</th>\n",
              "      <th>Month</th>\n",
              "      <th>Day_date</th>\n",
              "      <th>year</th>\n",
              "    </tr>\n",
              "  </thead>\n",
              "  <tbody>\n",
              "    <tr>\n",
              "      <th>0</th>\n",
              "      <td>0</td>\n",
              "      <td>0</td>\n",
              "      <td>2016-01-01</td>\n",
              "      <td>0.0</td>\n",
              "      <td>0</td>\n",
              "      <td>Education</td>\n",
              "      <td>7432</td>\n",
              "      <td>2008.0</td>\n",
              "      <td>4</td>\n",
              "      <td>25.0</td>\n",
              "      <td>6.0</td>\n",
              "      <td>6.0</td>\n",
              "      <td>1.382557</td>\n",
              "      <td>1019.7</td>\n",
              "      <td>0.0</td>\n",
              "      <td>0.0</td>\n",
              "      <td>1.0</td>\n",
              "      <td>1.0</td>\n",
              "      <td>2016.0</td>\n",
              "    </tr>\n",
              "    <tr>\n",
              "      <th>1</th>\n",
              "      <td>1</td>\n",
              "      <td>0</td>\n",
              "      <td>2016-01-01</td>\n",
              "      <td>0.0</td>\n",
              "      <td>0</td>\n",
              "      <td>Education</td>\n",
              "      <td>2720</td>\n",
              "      <td>2004.0</td>\n",
              "      <td>4</td>\n",
              "      <td>25.0</td>\n",
              "      <td>6.0</td>\n",
              "      <td>6.0</td>\n",
              "      <td>1.382557</td>\n",
              "      <td>1019.7</td>\n",
              "      <td>0.0</td>\n",
              "      <td>0.0</td>\n",
              "      <td>1.0</td>\n",
              "      <td>1.0</td>\n",
              "      <td>2016.0</td>\n",
              "    </tr>\n",
              "    <tr>\n",
              "      <th>2</th>\n",
              "      <td>2</td>\n",
              "      <td>0</td>\n",
              "      <td>2016-01-01</td>\n",
              "      <td>0.0</td>\n",
              "      <td>0</td>\n",
              "      <td>Education</td>\n",
              "      <td>5376</td>\n",
              "      <td>1991.0</td>\n",
              "      <td>4</td>\n",
              "      <td>25.0</td>\n",
              "      <td>6.0</td>\n",
              "      <td>6.0</td>\n",
              "      <td>1.382557</td>\n",
              "      <td>1019.7</td>\n",
              "      <td>0.0</td>\n",
              "      <td>0.0</td>\n",
              "      <td>1.0</td>\n",
              "      <td>1.0</td>\n",
              "      <td>2016.0</td>\n",
              "    </tr>\n",
              "    <tr>\n",
              "      <th>3</th>\n",
              "      <td>3</td>\n",
              "      <td>0</td>\n",
              "      <td>2016-01-01</td>\n",
              "      <td>0.0</td>\n",
              "      <td>0</td>\n",
              "      <td>Education</td>\n",
              "      <td>23685</td>\n",
              "      <td>2002.0</td>\n",
              "      <td>4</td>\n",
              "      <td>25.0</td>\n",
              "      <td>6.0</td>\n",
              "      <td>6.0</td>\n",
              "      <td>1.382557</td>\n",
              "      <td>1019.7</td>\n",
              "      <td>0.0</td>\n",
              "      <td>0.0</td>\n",
              "      <td>1.0</td>\n",
              "      <td>1.0</td>\n",
              "      <td>2016.0</td>\n",
              "    </tr>\n",
              "    <tr>\n",
              "      <th>4</th>\n",
              "      <td>4</td>\n",
              "      <td>0</td>\n",
              "      <td>2016-01-01</td>\n",
              "      <td>0.0</td>\n",
              "      <td>0</td>\n",
              "      <td>Education</td>\n",
              "      <td>116607</td>\n",
              "      <td>1975.0</td>\n",
              "      <td>4</td>\n",
              "      <td>25.0</td>\n",
              "      <td>6.0</td>\n",
              "      <td>6.0</td>\n",
              "      <td>1.382557</td>\n",
              "      <td>1019.7</td>\n",
              "      <td>0.0</td>\n",
              "      <td>0.0</td>\n",
              "      <td>1.0</td>\n",
              "      <td>1.0</td>\n",
              "      <td>2016.0</td>\n",
              "    </tr>\n",
              "  </tbody>\n",
              "</table>\n",
              "</div>"
            ],
            "text/plain": [
              "   building_id  meter  timestamp  ...  Month  Day_date    year\n",
              "0            0      0 2016-01-01  ...    1.0       1.0  2016.0\n",
              "1            1      0 2016-01-01  ...    1.0       1.0  2016.0\n",
              "2            2      0 2016-01-01  ...    1.0       1.0  2016.0\n",
              "3            3      0 2016-01-01  ...    1.0       1.0  2016.0\n",
              "4            4      0 2016-01-01  ...    1.0       1.0  2016.0\n",
              "\n",
              "[5 rows x 19 columns]"
            ]
          },
          "metadata": {
            "tags": []
          },
          "execution_count": 24
        }
      ]
    },
    {
      "cell_type": "code",
      "metadata": {
        "id": "CSMfxBB_AqVI",
        "colab": {
          "base_uri": "https://localhost:8080/"
        },
        "outputId": "68f52935-47aa-47eb-dbd1-e80a5af5311a"
      },
      "source": [
        "train.shape"
      ],
      "execution_count": null,
      "outputs": [
        {
          "output_type": "execute_result",
          "data": {
            "text/plain": [
              "(20216100, 19)"
            ]
          },
          "metadata": {
            "tags": []
          },
          "execution_count": 25
        }
      ]
    },
    {
      "cell_type": "code",
      "metadata": {
        "id": "ArjwtGgVAtWm",
        "colab": {
          "base_uri": "https://localhost:8080/"
        },
        "outputId": "df3926e8-547e-498e-cb23-587fc92ec798"
      },
      "source": [
        "train.info()"
      ],
      "execution_count": null,
      "outputs": [
        {
          "output_type": "stream",
          "text": [
            "<class 'pandas.core.frame.DataFrame'>\n",
            "RangeIndex: 20216100 entries, 0 to 20216099\n",
            "Data columns (total 19 columns):\n",
            " #   Column              Dtype         \n",
            "---  ------              -----         \n",
            " 0   building_id         int64         \n",
            " 1   meter               int64         \n",
            " 2   timestamp           datetime64[ns]\n",
            " 3   meter_reading       float64       \n",
            " 4   site_id             int64         \n",
            " 5   primary_use         category      \n",
            " 6   square_feet         int64         \n",
            " 7   year_built          float64       \n",
            " 8   floor_count         int64         \n",
            " 9   air_temperature     float64       \n",
            " 10  cloud_coverage      float64       \n",
            " 11  dew_temperature     float64       \n",
            " 12  precip_depth_1_hr   float64       \n",
            " 13  sea_level_pressure  float64       \n",
            " 14  wind_direction      float64       \n",
            " 15  wind_speed          float64       \n",
            " 16  Month               float64       \n",
            " 17  Day_date            float64       \n",
            " 18  year                float64       \n",
            "dtypes: category(1), datetime64[ns](1), float64(12), int64(5)\n",
            "memory usage: 2.7 GB\n"
          ],
          "name": "stdout"
        }
      ]
    },
    {
      "cell_type": "markdown",
      "metadata": {
        "id": "eiQ2xQ80AzNM"
      },
      "source": [
        "**Creating Hour column**"
      ]
    },
    {
      "cell_type": "code",
      "metadata": {
        "id": "2Xh1wRB9A2sZ"
      },
      "source": [
        "import numpy as np\n",
        "\n",
        "train['hour_datetime']=train['timestamp'].dt.hour.astype(np.int8)\n",
        "\n",
        "del train['timestamp']"
      ],
      "execution_count": null,
      "outputs": []
    },
    {
      "cell_type": "code",
      "metadata": {
        "id": "1VzQ5paZBGbL",
        "colab": {
          "base_uri": "https://localhost:8080/",
          "height": 217
        },
        "outputId": "62bd2c59-5fad-40a0-df7b-0ea88ab4635e"
      },
      "source": [
        "train.head()"
      ],
      "execution_count": null,
      "outputs": [
        {
          "output_type": "execute_result",
          "data": {
            "text/html": [
              "<div>\n",
              "<style scoped>\n",
              "    .dataframe tbody tr th:only-of-type {\n",
              "        vertical-align: middle;\n",
              "    }\n",
              "\n",
              "    .dataframe tbody tr th {\n",
              "        vertical-align: top;\n",
              "    }\n",
              "\n",
              "    .dataframe thead th {\n",
              "        text-align: right;\n",
              "    }\n",
              "</style>\n",
              "<table border=\"1\" class=\"dataframe\">\n",
              "  <thead>\n",
              "    <tr style=\"text-align: right;\">\n",
              "      <th></th>\n",
              "      <th>building_id</th>\n",
              "      <th>meter</th>\n",
              "      <th>meter_reading</th>\n",
              "      <th>site_id</th>\n",
              "      <th>primary_use</th>\n",
              "      <th>square_feet</th>\n",
              "      <th>year_built</th>\n",
              "      <th>floor_count</th>\n",
              "      <th>air_temperature</th>\n",
              "      <th>cloud_coverage</th>\n",
              "      <th>dew_temperature</th>\n",
              "      <th>precip_depth_1_hr</th>\n",
              "      <th>sea_level_pressure</th>\n",
              "      <th>wind_direction</th>\n",
              "      <th>wind_speed</th>\n",
              "      <th>Month</th>\n",
              "      <th>Day_date</th>\n",
              "      <th>year</th>\n",
              "      <th>hour_datetime</th>\n",
              "    </tr>\n",
              "  </thead>\n",
              "  <tbody>\n",
              "    <tr>\n",
              "      <th>0</th>\n",
              "      <td>0</td>\n",
              "      <td>0</td>\n",
              "      <td>0.0</td>\n",
              "      <td>0</td>\n",
              "      <td>Education</td>\n",
              "      <td>7432</td>\n",
              "      <td>2008.0</td>\n",
              "      <td>4</td>\n",
              "      <td>25.0</td>\n",
              "      <td>6.0</td>\n",
              "      <td>6.0</td>\n",
              "      <td>1.382557</td>\n",
              "      <td>1019.7</td>\n",
              "      <td>0.0</td>\n",
              "      <td>0.0</td>\n",
              "      <td>1.0</td>\n",
              "      <td>1.0</td>\n",
              "      <td>2016.0</td>\n",
              "      <td>0</td>\n",
              "    </tr>\n",
              "    <tr>\n",
              "      <th>1</th>\n",
              "      <td>1</td>\n",
              "      <td>0</td>\n",
              "      <td>0.0</td>\n",
              "      <td>0</td>\n",
              "      <td>Education</td>\n",
              "      <td>2720</td>\n",
              "      <td>2004.0</td>\n",
              "      <td>4</td>\n",
              "      <td>25.0</td>\n",
              "      <td>6.0</td>\n",
              "      <td>6.0</td>\n",
              "      <td>1.382557</td>\n",
              "      <td>1019.7</td>\n",
              "      <td>0.0</td>\n",
              "      <td>0.0</td>\n",
              "      <td>1.0</td>\n",
              "      <td>1.0</td>\n",
              "      <td>2016.0</td>\n",
              "      <td>0</td>\n",
              "    </tr>\n",
              "    <tr>\n",
              "      <th>2</th>\n",
              "      <td>2</td>\n",
              "      <td>0</td>\n",
              "      <td>0.0</td>\n",
              "      <td>0</td>\n",
              "      <td>Education</td>\n",
              "      <td>5376</td>\n",
              "      <td>1991.0</td>\n",
              "      <td>4</td>\n",
              "      <td>25.0</td>\n",
              "      <td>6.0</td>\n",
              "      <td>6.0</td>\n",
              "      <td>1.382557</td>\n",
              "      <td>1019.7</td>\n",
              "      <td>0.0</td>\n",
              "      <td>0.0</td>\n",
              "      <td>1.0</td>\n",
              "      <td>1.0</td>\n",
              "      <td>2016.0</td>\n",
              "      <td>0</td>\n",
              "    </tr>\n",
              "    <tr>\n",
              "      <th>3</th>\n",
              "      <td>3</td>\n",
              "      <td>0</td>\n",
              "      <td>0.0</td>\n",
              "      <td>0</td>\n",
              "      <td>Education</td>\n",
              "      <td>23685</td>\n",
              "      <td>2002.0</td>\n",
              "      <td>4</td>\n",
              "      <td>25.0</td>\n",
              "      <td>6.0</td>\n",
              "      <td>6.0</td>\n",
              "      <td>1.382557</td>\n",
              "      <td>1019.7</td>\n",
              "      <td>0.0</td>\n",
              "      <td>0.0</td>\n",
              "      <td>1.0</td>\n",
              "      <td>1.0</td>\n",
              "      <td>2016.0</td>\n",
              "      <td>0</td>\n",
              "    </tr>\n",
              "    <tr>\n",
              "      <th>4</th>\n",
              "      <td>4</td>\n",
              "      <td>0</td>\n",
              "      <td>0.0</td>\n",
              "      <td>0</td>\n",
              "      <td>Education</td>\n",
              "      <td>116607</td>\n",
              "      <td>1975.0</td>\n",
              "      <td>4</td>\n",
              "      <td>25.0</td>\n",
              "      <td>6.0</td>\n",
              "      <td>6.0</td>\n",
              "      <td>1.382557</td>\n",
              "      <td>1019.7</td>\n",
              "      <td>0.0</td>\n",
              "      <td>0.0</td>\n",
              "      <td>1.0</td>\n",
              "      <td>1.0</td>\n",
              "      <td>2016.0</td>\n",
              "      <td>0</td>\n",
              "    </tr>\n",
              "  </tbody>\n",
              "</table>\n",
              "</div>"
            ],
            "text/plain": [
              "   building_id  meter  meter_reading  ...  Day_date    year  hour_datetime\n",
              "0            0      0            0.0  ...       1.0  2016.0              0\n",
              "1            1      0            0.0  ...       1.0  2016.0              0\n",
              "2            2      0            0.0  ...       1.0  2016.0              0\n",
              "3            3      0            0.0  ...       1.0  2016.0              0\n",
              "4            4      0            0.0  ...       1.0  2016.0              0\n",
              "\n",
              "[5 rows x 19 columns]"
            ]
          },
          "metadata": {
            "tags": []
          },
          "execution_count": 28
        }
      ]
    },
    {
      "cell_type": "markdown",
      "metadata": {
        "id": "YwAqe9I-BNvY"
      },
      "source": [
        "**Looking for missing values**"
      ]
    },
    {
      "cell_type": "code",
      "metadata": {
        "id": "mtVJR3FYBQqH",
        "colab": {
          "base_uri": "https://localhost:8080/",
          "height": 617
        },
        "outputId": "f87f6756-e108-4756-d52e-6c821f18dc7a"
      },
      "source": [
        "total=train.isnull().sum().sort_values(ascending=False)\n",
        "percent=(train.isnull().sum()/train.isnull().count()).sort_values(ascending=False)\n",
        "missing_values=pd.concat([total,percent],axis=0,keys=['total','percent'])\n",
        "missing_values.head(20)"
      ],
      "execution_count": null,
      "outputs": [
        {
          "output_type": "execute_result",
          "data": {
            "text/html": [
              "<div>\n",
              "<style scoped>\n",
              "    .dataframe tbody tr th:only-of-type {\n",
              "        vertical-align: middle;\n",
              "    }\n",
              "\n",
              "    .dataframe tbody tr th {\n",
              "        vertical-align: top;\n",
              "    }\n",
              "\n",
              "    .dataframe thead th {\n",
              "        text-align: right;\n",
              "    }\n",
              "</style>\n",
              "<table border=\"1\" class=\"dataframe\">\n",
              "  <thead>\n",
              "    <tr style=\"text-align: right;\">\n",
              "      <th></th>\n",
              "      <th>total</th>\n",
              "      <th>percent</th>\n",
              "    </tr>\n",
              "  </thead>\n",
              "  <tbody>\n",
              "    <tr>\n",
              "      <th>cloud_coverage</th>\n",
              "      <td>82890</td>\n",
              "      <td>0.0041</td>\n",
              "    </tr>\n",
              "    <tr>\n",
              "      <th>Day_date</th>\n",
              "      <td>82890</td>\n",
              "      <td>0.0041</td>\n",
              "    </tr>\n",
              "    <tr>\n",
              "      <th>Month</th>\n",
              "      <td>82890</td>\n",
              "      <td>0.0041</td>\n",
              "    </tr>\n",
              "    <tr>\n",
              "      <th>wind_speed</th>\n",
              "      <td>82890</td>\n",
              "      <td>0.0041</td>\n",
              "    </tr>\n",
              "    <tr>\n",
              "      <th>wind_direction</th>\n",
              "      <td>82890</td>\n",
              "      <td>0.0041</td>\n",
              "    </tr>\n",
              "    <tr>\n",
              "      <th>sea_level_pressure</th>\n",
              "      <td>82890</td>\n",
              "      <td>0.0041</td>\n",
              "    </tr>\n",
              "    <tr>\n",
              "      <th>precip_depth_1_hr</th>\n",
              "      <td>82890</td>\n",
              "      <td>0.0041</td>\n",
              "    </tr>\n",
              "    <tr>\n",
              "      <th>dew_temperature</th>\n",
              "      <td>82890</td>\n",
              "      <td>0.0041</td>\n",
              "    </tr>\n",
              "    <tr>\n",
              "      <th>year</th>\n",
              "      <td>82890</td>\n",
              "      <td>0.0041</td>\n",
              "    </tr>\n",
              "    <tr>\n",
              "      <th>air_temperature</th>\n",
              "      <td>82890</td>\n",
              "      <td>0.0041</td>\n",
              "    </tr>\n",
              "    <tr>\n",
              "      <th>primary_use</th>\n",
              "      <td>0</td>\n",
              "      <td>0.0000</td>\n",
              "    </tr>\n",
              "    <tr>\n",
              "      <th>meter</th>\n",
              "      <td>0</td>\n",
              "      <td>0.0000</td>\n",
              "    </tr>\n",
              "    <tr>\n",
              "      <th>meter_reading</th>\n",
              "      <td>0</td>\n",
              "      <td>0.0000</td>\n",
              "    </tr>\n",
              "    <tr>\n",
              "      <th>site_id</th>\n",
              "      <td>0</td>\n",
              "      <td>0.0000</td>\n",
              "    </tr>\n",
              "    <tr>\n",
              "      <th>hour_datetime</th>\n",
              "      <td>0</td>\n",
              "      <td>0.0000</td>\n",
              "    </tr>\n",
              "    <tr>\n",
              "      <th>square_feet</th>\n",
              "      <td>0</td>\n",
              "      <td>0.0000</td>\n",
              "    </tr>\n",
              "    <tr>\n",
              "      <th>year_built</th>\n",
              "      <td>0</td>\n",
              "      <td>0.0000</td>\n",
              "    </tr>\n",
              "    <tr>\n",
              "      <th>floor_count</th>\n",
              "      <td>0</td>\n",
              "      <td>0.0000</td>\n",
              "    </tr>\n",
              "    <tr>\n",
              "      <th>building_id</th>\n",
              "      <td>0</td>\n",
              "      <td>0.0000</td>\n",
              "    </tr>\n",
              "  </tbody>\n",
              "</table>\n",
              "</div>"
            ],
            "text/plain": [
              "                    total  percent\n",
              "cloud_coverage      82890   0.0041\n",
              "Day_date            82890   0.0041\n",
              "Month               82890   0.0041\n",
              "wind_speed          82890   0.0041\n",
              "wind_direction      82890   0.0041\n",
              "sea_level_pressure  82890   0.0041\n",
              "precip_depth_1_hr   82890   0.0041\n",
              "dew_temperature     82890   0.0041\n",
              "year                82890   0.0041\n",
              "air_temperature     82890   0.0041\n",
              "primary_use             0   0.0000\n",
              "meter                   0   0.0000\n",
              "meter_reading           0   0.0000\n",
              "site_id                 0   0.0000\n",
              "hour_datetime           0   0.0000\n",
              "square_feet             0   0.0000\n",
              "year_built              0   0.0000\n",
              "floor_count             0   0.0000\n",
              "building_id             0   0.0000"
            ]
          },
          "metadata": {
            "tags": []
          },
          "execution_count": 25
        }
      ]
    },
    {
      "cell_type": "code",
      "metadata": {
        "id": "6ef05tUUB4o5"
      },
      "source": [
        "train=train.dropna()"
      ],
      "execution_count": null,
      "outputs": []
    },
    {
      "cell_type": "code",
      "metadata": {
        "id": "Wjo2YPcZB_O4",
        "colab": {
          "base_uri": "https://localhost:8080/",
          "height": 307
        },
        "outputId": "6991703c-3f90-4544-aa24-f6abe9d28898"
      },
      "source": [
        "train.describe()"
      ],
      "execution_count": null,
      "outputs": [
        {
          "output_type": "execute_result",
          "data": {
            "text/html": [
              "<div>\n",
              "<style scoped>\n",
              "    .dataframe tbody tr th:only-of-type {\n",
              "        vertical-align: middle;\n",
              "    }\n",
              "\n",
              "    .dataframe tbody tr th {\n",
              "        vertical-align: top;\n",
              "    }\n",
              "\n",
              "    .dataframe thead th {\n",
              "        text-align: right;\n",
              "    }\n",
              "</style>\n",
              "<table border=\"1\" class=\"dataframe\">\n",
              "  <thead>\n",
              "    <tr style=\"text-align: right;\">\n",
              "      <th></th>\n",
              "      <th>building_id</th>\n",
              "      <th>meter</th>\n",
              "      <th>meter_reading</th>\n",
              "      <th>site_id</th>\n",
              "      <th>square_feet</th>\n",
              "      <th>year_built</th>\n",
              "      <th>floor_count</th>\n",
              "      <th>air_temperature</th>\n",
              "      <th>cloud_coverage</th>\n",
              "      <th>dew_temperature</th>\n",
              "      <th>precip_depth_1_hr</th>\n",
              "      <th>sea_level_pressure</th>\n",
              "      <th>wind_direction</th>\n",
              "      <th>wind_speed</th>\n",
              "      <th>Month</th>\n",
              "      <th>Day_date</th>\n",
              "      <th>year</th>\n",
              "      <th>hour_datetime</th>\n",
              "    </tr>\n",
              "  </thead>\n",
              "  <tbody>\n",
              "    <tr>\n",
              "      <th>count</th>\n",
              "      <td>2.013321e+07</td>\n",
              "      <td>2.013321e+07</td>\n",
              "      <td>2.013321e+07</td>\n",
              "      <td>2.013321e+07</td>\n",
              "      <td>2.013321e+07</td>\n",
              "      <td>2.013321e+07</td>\n",
              "      <td>2.013321e+07</td>\n",
              "      <td>2.013321e+07</td>\n",
              "      <td>2.013321e+07</td>\n",
              "      <td>2.013321e+07</td>\n",
              "      <td>2.013321e+07</td>\n",
              "      <td>2.013321e+07</td>\n",
              "      <td>2.013321e+07</td>\n",
              "      <td>2.013321e+07</td>\n",
              "      <td>2.013321e+07</td>\n",
              "      <td>2.013321e+07</td>\n",
              "      <td>20133210.0</td>\n",
              "      <td>2.013321e+07</td>\n",
              "    </tr>\n",
              "    <tr>\n",
              "      <th>mean</th>\n",
              "      <td>7.974179e+02</td>\n",
              "      <td>6.617699e-01</td>\n",
              "      <td>2.124405e+03</td>\n",
              "      <td>7.970224e+00</td>\n",
              "      <td>1.077780e+05</td>\n",
              "      <td>1.969521e+03</td>\n",
              "      <td>4.030442e+00</td>\n",
              "      <td>1.593926e+01</td>\n",
              "      <td>1.787219e+00</td>\n",
              "      <td>1.787219e+00</td>\n",
              "      <td>1.144656e+00</td>\n",
              "      <td>9.767713e+02</td>\n",
              "      <td>1.708236e+02</td>\n",
              "      <td>3.377249e+00</td>\n",
              "      <td>6.566733e+00</td>\n",
              "      <td>1.578433e+01</td>\n",
              "      <td>2016.0</td>\n",
              "      <td>1.150934e+01</td>\n",
              "    </tr>\n",
              "    <tr>\n",
              "      <th>std</th>\n",
              "      <td>4.264339e+02</td>\n",
              "      <td>9.310602e-01</td>\n",
              "      <td>1.535506e+05</td>\n",
              "      <td>5.092977e+00</td>\n",
              "      <td>1.171483e+05</td>\n",
              "      <td>2.014374e+01</td>\n",
              "      <td>1.665084e+00</td>\n",
              "      <td>1.098146e+01</td>\n",
              "      <td>2.003313e+00</td>\n",
              "      <td>2.003313e+00</td>\n",
              "      <td>6.979683e+00</td>\n",
              "      <td>1.961202e+02</td>\n",
              "      <td>1.107229e+02</td>\n",
              "      <td>2.261500e+00</td>\n",
              "      <td>3.441398e+00</td>\n",
              "      <td>8.802123e+00</td>\n",
              "      <td>0.0</td>\n",
              "      <td>6.923804e+00</td>\n",
              "    </tr>\n",
              "    <tr>\n",
              "      <th>min</th>\n",
              "      <td>0.000000e+00</td>\n",
              "      <td>0.000000e+00</td>\n",
              "      <td>0.000000e+00</td>\n",
              "      <td>0.000000e+00</td>\n",
              "      <td>2.830000e+02</td>\n",
              "      <td>1.900000e+03</td>\n",
              "      <td>1.000000e+00</td>\n",
              "      <td>-2.890000e+01</td>\n",
              "      <td>0.000000e+00</td>\n",
              "      <td>0.000000e+00</td>\n",
              "      <td>-1.000000e+00</td>\n",
              "      <td>0.000000e+00</td>\n",
              "      <td>0.000000e+00</td>\n",
              "      <td>0.000000e+00</td>\n",
              "      <td>1.000000e+00</td>\n",
              "      <td>1.000000e+00</td>\n",
              "      <td>2016.0</td>\n",
              "      <td>0.000000e+00</td>\n",
              "    </tr>\n",
              "    <tr>\n",
              "      <th>25%</th>\n",
              "      <td>3.910000e+02</td>\n",
              "      <td>0.000000e+00</td>\n",
              "      <td>1.830000e+01</td>\n",
              "      <td>3.000000e+00</td>\n",
              "      <td>3.252700e+04</td>\n",
              "      <td>1.964000e+03</td>\n",
              "      <td>4.000000e+00</td>\n",
              "      <td>8.300000e+00</td>\n",
              "      <td>0.000000e+00</td>\n",
              "      <td>0.000000e+00</td>\n",
              "      <td>0.000000e+00</td>\n",
              "      <td>1.011100e+03</td>\n",
              "      <td>8.000000e+01</td>\n",
              "      <td>2.100000e+00</td>\n",
              "      <td>4.000000e+00</td>\n",
              "      <td>8.000000e+00</td>\n",
              "      <td>2016.0</td>\n",
              "      <td>6.000000e+00</td>\n",
              "    </tr>\n",
              "    <tr>\n",
              "      <th>50%</th>\n",
              "      <td>8.940000e+02</td>\n",
              "      <td>0.000000e+00</td>\n",
              "      <td>7.875000e+01</td>\n",
              "      <td>9.000000e+00</td>\n",
              "      <td>7.270900e+04</td>\n",
              "      <td>1.975000e+03</td>\n",
              "      <td>4.000000e+00</td>\n",
              "      <td>1.670000e+01</td>\n",
              "      <td>1.109988e+00</td>\n",
              "      <td>1.109988e+00</td>\n",
              "      <td>0.000000e+00</td>\n",
              "      <td>1.015895e+03</td>\n",
              "      <td>1.700000e+02</td>\n",
              "      <td>3.100000e+00</td>\n",
              "      <td>7.000000e+00</td>\n",
              "      <td>1.600000e+01</td>\n",
              "      <td>2016.0</td>\n",
              "      <td>1.200000e+01</td>\n",
              "    </tr>\n",
              "    <tr>\n",
              "      <th>75%</th>\n",
              "      <td>1.176000e+03</td>\n",
              "      <td>1.000000e+00</td>\n",
              "      <td>2.679400e+02</td>\n",
              "      <td>1.300000e+01</td>\n",
              "      <td>1.391130e+05</td>\n",
              "      <td>1.975054e+03</td>\n",
              "      <td>4.000000e+00</td>\n",
              "      <td>2.390000e+01</td>\n",
              "      <td>2.873133e+00</td>\n",
              "      <td>2.873133e+00</td>\n",
              "      <td>0.000000e+00</td>\n",
              "      <td>1.020200e+03</td>\n",
              "      <td>2.700000e+02</td>\n",
              "      <td>4.600000e+00</td>\n",
              "      <td>1.000000e+01</td>\n",
              "      <td>2.300000e+01</td>\n",
              "      <td>2016.0</td>\n",
              "      <td>1.800000e+01</td>\n",
              "    </tr>\n",
              "    <tr>\n",
              "      <th>max</th>\n",
              "      <td>1.448000e+03</td>\n",
              "      <td>3.000000e+00</td>\n",
              "      <td>2.190470e+07</td>\n",
              "      <td>1.500000e+01</td>\n",
              "      <td>8.750000e+05</td>\n",
              "      <td>2.017000e+03</td>\n",
              "      <td>2.600000e+01</td>\n",
              "      <td>4.720000e+01</td>\n",
              "      <td>9.000000e+00</td>\n",
              "      <td>9.000000e+00</td>\n",
              "      <td>3.430000e+02</td>\n",
              "      <td>1.045500e+03</td>\n",
              "      <td>3.600000e+02</td>\n",
              "      <td>1.900000e+01</td>\n",
              "      <td>1.200000e+01</td>\n",
              "      <td>3.100000e+01</td>\n",
              "      <td>2016.0</td>\n",
              "      <td>2.300000e+01</td>\n",
              "    </tr>\n",
              "  </tbody>\n",
              "</table>\n",
              "</div>"
            ],
            "text/plain": [
              "        building_id         meter  ...        year  hour_datetime\n",
              "count  2.013321e+07  2.013321e+07  ...  20133210.0   2.013321e+07\n",
              "mean   7.974179e+02  6.617699e-01  ...      2016.0   1.150934e+01\n",
              "std    4.264339e+02  9.310602e-01  ...         0.0   6.923804e+00\n",
              "min    0.000000e+00  0.000000e+00  ...      2016.0   0.000000e+00\n",
              "25%    3.910000e+02  0.000000e+00  ...      2016.0   6.000000e+00\n",
              "50%    8.940000e+02  0.000000e+00  ...      2016.0   1.200000e+01\n",
              "75%    1.176000e+03  1.000000e+00  ...      2016.0   1.800000e+01\n",
              "max    1.448000e+03  3.000000e+00  ...      2016.0   2.300000e+01\n",
              "\n",
              "[8 rows x 18 columns]"
            ]
          },
          "metadata": {
            "tags": []
          },
          "execution_count": 27
        }
      ]
    },
    {
      "cell_type": "code",
      "metadata": {
        "id": "v254ma5oCDow",
        "colab": {
          "base_uri": "https://localhost:8080/",
          "height": 617
        },
        "outputId": "c1a56e3a-83c6-4540-add5-4c7620179cd6"
      },
      "source": [
        "total=train.isnull().sum().sort_values(ascending=False)\n",
        "percent=(train.isnull().sum()/train.isnull().count()).sort_values(ascending=False)\n",
        "missing_values=pd.concat([total,percent],axis=1,keys=['total','percent'])\n",
        "missing_values.head(20)"
      ],
      "execution_count": null,
      "outputs": [
        {
          "output_type": "execute_result",
          "data": {
            "text/html": [
              "<div>\n",
              "<style scoped>\n",
              "    .dataframe tbody tr th:only-of-type {\n",
              "        vertical-align: middle;\n",
              "    }\n",
              "\n",
              "    .dataframe tbody tr th {\n",
              "        vertical-align: top;\n",
              "    }\n",
              "\n",
              "    .dataframe thead th {\n",
              "        text-align: right;\n",
              "    }\n",
              "</style>\n",
              "<table border=\"1\" class=\"dataframe\">\n",
              "  <thead>\n",
              "    <tr style=\"text-align: right;\">\n",
              "      <th></th>\n",
              "      <th>total</th>\n",
              "      <th>percent</th>\n",
              "    </tr>\n",
              "  </thead>\n",
              "  <tbody>\n",
              "    <tr>\n",
              "      <th>hour_datetime</th>\n",
              "      <td>0</td>\n",
              "      <td>0.0</td>\n",
              "    </tr>\n",
              "    <tr>\n",
              "      <th>air_temperature</th>\n",
              "      <td>0</td>\n",
              "      <td>0.0</td>\n",
              "    </tr>\n",
              "    <tr>\n",
              "      <th>meter</th>\n",
              "      <td>0</td>\n",
              "      <td>0.0</td>\n",
              "    </tr>\n",
              "    <tr>\n",
              "      <th>meter_reading</th>\n",
              "      <td>0</td>\n",
              "      <td>0.0</td>\n",
              "    </tr>\n",
              "    <tr>\n",
              "      <th>site_id</th>\n",
              "      <td>0</td>\n",
              "      <td>0.0</td>\n",
              "    </tr>\n",
              "    <tr>\n",
              "      <th>primary_use</th>\n",
              "      <td>0</td>\n",
              "      <td>0.0</td>\n",
              "    </tr>\n",
              "    <tr>\n",
              "      <th>square_feet</th>\n",
              "      <td>0</td>\n",
              "      <td>0.0</td>\n",
              "    </tr>\n",
              "    <tr>\n",
              "      <th>year_built</th>\n",
              "      <td>0</td>\n",
              "      <td>0.0</td>\n",
              "    </tr>\n",
              "    <tr>\n",
              "      <th>floor_count</th>\n",
              "      <td>0</td>\n",
              "      <td>0.0</td>\n",
              "    </tr>\n",
              "    <tr>\n",
              "      <th>cloud_coverage</th>\n",
              "      <td>0</td>\n",
              "      <td>0.0</td>\n",
              "    </tr>\n",
              "    <tr>\n",
              "      <th>year</th>\n",
              "      <td>0</td>\n",
              "      <td>0.0</td>\n",
              "    </tr>\n",
              "    <tr>\n",
              "      <th>dew_temperature</th>\n",
              "      <td>0</td>\n",
              "      <td>0.0</td>\n",
              "    </tr>\n",
              "    <tr>\n",
              "      <th>precip_depth_1_hr</th>\n",
              "      <td>0</td>\n",
              "      <td>0.0</td>\n",
              "    </tr>\n",
              "    <tr>\n",
              "      <th>sea_level_pressure</th>\n",
              "      <td>0</td>\n",
              "      <td>0.0</td>\n",
              "    </tr>\n",
              "    <tr>\n",
              "      <th>wind_direction</th>\n",
              "      <td>0</td>\n",
              "      <td>0.0</td>\n",
              "    </tr>\n",
              "    <tr>\n",
              "      <th>wind_speed</th>\n",
              "      <td>0</td>\n",
              "      <td>0.0</td>\n",
              "    </tr>\n",
              "    <tr>\n",
              "      <th>Month</th>\n",
              "      <td>0</td>\n",
              "      <td>0.0</td>\n",
              "    </tr>\n",
              "    <tr>\n",
              "      <th>Day_date</th>\n",
              "      <td>0</td>\n",
              "      <td>0.0</td>\n",
              "    </tr>\n",
              "    <tr>\n",
              "      <th>building_id</th>\n",
              "      <td>0</td>\n",
              "      <td>0.0</td>\n",
              "    </tr>\n",
              "  </tbody>\n",
              "</table>\n",
              "</div>"
            ],
            "text/plain": [
              "                    total  percent\n",
              "hour_datetime           0      0.0\n",
              "air_temperature         0      0.0\n",
              "meter                   0      0.0\n",
              "meter_reading           0      0.0\n",
              "site_id                 0      0.0\n",
              "primary_use             0      0.0\n",
              "square_feet             0      0.0\n",
              "year_built              0      0.0\n",
              "floor_count             0      0.0\n",
              "cloud_coverage          0      0.0\n",
              "year                    0      0.0\n",
              "dew_temperature         0      0.0\n",
              "precip_depth_1_hr       0      0.0\n",
              "sea_level_pressure      0      0.0\n",
              "wind_direction          0      0.0\n",
              "wind_speed              0      0.0\n",
              "Month                   0      0.0\n",
              "Day_date                0      0.0\n",
              "building_id             0      0.0"
            ]
          },
          "metadata": {
            "tags": []
          },
          "execution_count": 28
        }
      ]
    },
    {
      "cell_type": "markdown",
      "metadata": {
        "id": "g0EDnKT1CJoa"
      },
      "source": [
        "**Before applying pipeline transformation, chilled water dataset has been separated**"
      ]
    },
    {
      "cell_type": "code",
      "metadata": {
        "id": "jPshKlF3CNMC"
      },
      "source": [
        "dataset_chilled_water=train.loc[(train['meter']==1)]"
      ],
      "execution_count": null,
      "outputs": []
    },
    {
      "cell_type": "code",
      "metadata": {
        "id": "z8E32CUpcT5R",
        "colab": {
          "base_uri": "https://localhost:8080/",
          "height": 217
        },
        "outputId": "82db7a51-2d4d-419b-8f83-f47cdbcf0030"
      },
      "source": [
        "dataset_chilled_water.head()"
      ],
      "execution_count": null,
      "outputs": [
        {
          "output_type": "execute_result",
          "data": {
            "text/html": [
              "<div>\n",
              "<style scoped>\n",
              "    .dataframe tbody tr th:only-of-type {\n",
              "        vertical-align: middle;\n",
              "    }\n",
              "\n",
              "    .dataframe tbody tr th {\n",
              "        vertical-align: top;\n",
              "    }\n",
              "\n",
              "    .dataframe thead th {\n",
              "        text-align: right;\n",
              "    }\n",
              "</style>\n",
              "<table border=\"1\" class=\"dataframe\">\n",
              "  <thead>\n",
              "    <tr style=\"text-align: right;\">\n",
              "      <th></th>\n",
              "      <th>building_id</th>\n",
              "      <th>meter</th>\n",
              "      <th>meter_reading</th>\n",
              "      <th>site_id</th>\n",
              "      <th>primary_use</th>\n",
              "      <th>square_feet</th>\n",
              "      <th>year_built</th>\n",
              "      <th>floor_count</th>\n",
              "      <th>air_temperature</th>\n",
              "      <th>cloud_coverage</th>\n",
              "      <th>dew_temperature</th>\n",
              "      <th>precip_depth_1_hr</th>\n",
              "      <th>sea_level_pressure</th>\n",
              "      <th>wind_direction</th>\n",
              "      <th>wind_speed</th>\n",
              "      <th>Month</th>\n",
              "      <th>Day_date</th>\n",
              "      <th>year</th>\n",
              "      <th>hour_datetime</th>\n",
              "    </tr>\n",
              "  </thead>\n",
              "  <tbody>\n",
              "    <tr>\n",
              "      <th>172</th>\n",
              "      <td>161</td>\n",
              "      <td>1</td>\n",
              "      <td>0.0000</td>\n",
              "      <td>2</td>\n",
              "      <td>Education</td>\n",
              "      <td>11329</td>\n",
              "      <td>1954.388235</td>\n",
              "      <td>4</td>\n",
              "      <td>15.6</td>\n",
              "      <td>6.0</td>\n",
              "      <td>6.0</td>\n",
              "      <td>0.157738</td>\n",
              "      <td>1015.3</td>\n",
              "      <td>270.0</td>\n",
              "      <td>3.6</td>\n",
              "      <td>1.0</td>\n",
              "      <td>1.0</td>\n",
              "      <td>2016.0</td>\n",
              "      <td>0</td>\n",
              "    </tr>\n",
              "    <tr>\n",
              "      <th>174</th>\n",
              "      <td>162</td>\n",
              "      <td>1</td>\n",
              "      <td>0.0000</td>\n",
              "      <td>2</td>\n",
              "      <td>Education</td>\n",
              "      <td>98829</td>\n",
              "      <td>1968.000000</td>\n",
              "      <td>4</td>\n",
              "      <td>15.6</td>\n",
              "      <td>6.0</td>\n",
              "      <td>6.0</td>\n",
              "      <td>0.157738</td>\n",
              "      <td>1015.3</td>\n",
              "      <td>270.0</td>\n",
              "      <td>3.6</td>\n",
              "      <td>1.0</td>\n",
              "      <td>1.0</td>\n",
              "      <td>2016.0</td>\n",
              "      <td>0</td>\n",
              "    </tr>\n",
              "    <tr>\n",
              "      <th>176</th>\n",
              "      <td>163</td>\n",
              "      <td>1</td>\n",
              "      <td>4.5719</td>\n",
              "      <td>2</td>\n",
              "      <td>Education</td>\n",
              "      <td>72102</td>\n",
              "      <td>1970.000000</td>\n",
              "      <td>4</td>\n",
              "      <td>15.6</td>\n",
              "      <td>6.0</td>\n",
              "      <td>6.0</td>\n",
              "      <td>0.157738</td>\n",
              "      <td>1015.3</td>\n",
              "      <td>270.0</td>\n",
              "      <td>3.6</td>\n",
              "      <td>1.0</td>\n",
              "      <td>1.0</td>\n",
              "      <td>2016.0</td>\n",
              "      <td>0</td>\n",
              "    </tr>\n",
              "    <tr>\n",
              "      <th>181</th>\n",
              "      <td>166</td>\n",
              "      <td>1</td>\n",
              "      <td>209.8860</td>\n",
              "      <td>2</td>\n",
              "      <td>Lodging/residential</td>\n",
              "      <td>553210</td>\n",
              "      <td>2009.000000</td>\n",
              "      <td>4</td>\n",
              "      <td>15.6</td>\n",
              "      <td>6.0</td>\n",
              "      <td>6.0</td>\n",
              "      <td>0.157738</td>\n",
              "      <td>1015.3</td>\n",
              "      <td>270.0</td>\n",
              "      <td>3.6</td>\n",
              "      <td>1.0</td>\n",
              "      <td>1.0</td>\n",
              "      <td>2016.0</td>\n",
              "      <td>0</td>\n",
              "    </tr>\n",
              "    <tr>\n",
              "      <th>184</th>\n",
              "      <td>167</td>\n",
              "      <td>1</td>\n",
              "      <td>0.0000</td>\n",
              "      <td>2</td>\n",
              "      <td>Lodging/residential</td>\n",
              "      <td>86323</td>\n",
              "      <td>1956.000000</td>\n",
              "      <td>4</td>\n",
              "      <td>15.6</td>\n",
              "      <td>6.0</td>\n",
              "      <td>6.0</td>\n",
              "      <td>0.157738</td>\n",
              "      <td>1015.3</td>\n",
              "      <td>270.0</td>\n",
              "      <td>3.6</td>\n",
              "      <td>1.0</td>\n",
              "      <td>1.0</td>\n",
              "      <td>2016.0</td>\n",
              "      <td>0</td>\n",
              "    </tr>\n",
              "  </tbody>\n",
              "</table>\n",
              "</div>"
            ],
            "text/plain": [
              "     building_id  meter  meter_reading  ...  Day_date    year  hour_datetime\n",
              "172          161      1         0.0000  ...       1.0  2016.0              0\n",
              "174          162      1         0.0000  ...       1.0  2016.0              0\n",
              "176          163      1         4.5719  ...       1.0  2016.0              0\n",
              "181          166      1       209.8860  ...       1.0  2016.0              0\n",
              "184          167      1         0.0000  ...       1.0  2016.0              0\n",
              "\n",
              "[5 rows x 19 columns]"
            ]
          },
          "metadata": {
            "tags": []
          },
          "execution_count": 31
        }
      ]
    },
    {
      "cell_type": "code",
      "metadata": {
        "id": "Lad2LScwCUSa",
        "colab": {
          "base_uri": "https://localhost:8080/",
          "height": 34
        },
        "outputId": "c6f9d205-151f-4684-c6ee-862106dc59ae"
      },
      "source": [
        "dataset_chilled_water.shape"
      ],
      "execution_count": null,
      "outputs": [
        {
          "output_type": "execute_result",
          "data": {
            "text/plain": [
              "(4161542, 19)"
            ]
          },
          "metadata": {
            "tags": []
          },
          "execution_count": 30
        }
      ]
    },
    {
      "cell_type": "code",
      "metadata": {
        "id": "lTxaEIVcCeam"
      },
      "source": [
        "drop_cols=['meter_reading']"
      ],
      "execution_count": null,
      "outputs": []
    },
    {
      "cell_type": "code",
      "metadata": {
        "id": "yPIq20zhCixE"
      },
      "source": [
        "training_chilled_water=dataset_chilled_water.drop(drop_cols,axis=1)"
      ],
      "execution_count": null,
      "outputs": []
    },
    {
      "cell_type": "code",
      "metadata": {
        "id": "yp0KYfXvX4bW",
        "colab": {
          "base_uri": "https://localhost:8080/",
          "height": 34
        },
        "outputId": "51e3c20e-197a-4dba-a4ed-9b7eefd03901"
      },
      "source": [
        "training_chilled_water.shape"
      ],
      "execution_count": null,
      "outputs": [
        {
          "output_type": "execute_result",
          "data": {
            "text/plain": [
              "(4161542, 18)"
            ]
          },
          "metadata": {
            "tags": []
          },
          "execution_count": 33
        }
      ]
    },
    {
      "cell_type": "code",
      "metadata": {
        "id": "5kiOYm8Ec9-h",
        "colab": {
          "base_uri": "https://localhost:8080/",
          "height": 283
        },
        "outputId": "f4817f08-6cb0-4538-b6c5-06564759d4de"
      },
      "source": [
        "training_chilled_water['primary_use'].count"
      ],
      "execution_count": null,
      "outputs": [
        {
          "output_type": "execute_result",
          "data": {
            "text/plain": [
              "<bound method Series.count of 172                   Education\n",
              "174                   Education\n",
              "176                   Education\n",
              "181         Lodging/residential\n",
              "184         Lodging/residential\n",
              "                   ...         \n",
              "20216039    Lodging/residential\n",
              "20216042                 Office\n",
              "20216044              Education\n",
              "20216046    Lodging/residential\n",
              "20216049    Lodging/residential\n",
              "Name: primary_use, Length: 4161542, dtype: category\n",
              "Categories (16, object): [Education, Entertainment/public assembly, Food sales and service,\n",
              "                          Healthcare, ..., Services, Technology/science, Utility,\n",
              "                          Warehouse/storage]>"
            ]
          },
          "metadata": {
            "tags": []
          },
          "execution_count": 34
        }
      ]
    },
    {
      "cell_type": "code",
      "metadata": {
        "id": "4btRSeXfCud9"
      },
      "source": [
        "target_chilled_water=dataset_chilled_water['meter_reading']"
      ],
      "execution_count": null,
      "outputs": []
    },
    {
      "cell_type": "code",
      "metadata": {
        "id": "MgVwK7SkC7R2",
        "colab": {
          "base_uri": "https://localhost:8080/",
          "height": 34
        },
        "outputId": "8a9f3932-7aa5-47ba-d5cc-5af28e4303d1"
      },
      "source": [
        "target_chilled_water.shape"
      ],
      "execution_count": null,
      "outputs": [
        {
          "output_type": "execute_result",
          "data": {
            "text/plain": [
              "(4161542,)"
            ]
          },
          "metadata": {
            "tags": []
          },
          "execution_count": 36
        }
      ]
    },
    {
      "cell_type": "markdown",
      "metadata": {
        "id": "7NPMtJBNDKTc"
      },
      "source": [
        "**Apply pipeline transformation to training_chilled_water**"
      ]
    },
    {
      "cell_type": "code",
      "metadata": {
        "id": "acWwWD6eDJo6"
      },
      "source": [
        "num_cols=['square_feet','floor_count','air_temperature',\n",
        "                 'cloud_coverage','dew_temperature','precip_depth_1_hr',\n",
        "                 'sea_level_pressure','wind_direction','wind_speed']\n",
        "cat_cols=['primary_use']"
      ],
      "execution_count": null,
      "outputs": []
    },
    {
      "cell_type": "code",
      "metadata": {
        "id": "Y1FoKy-0DPEC"
      },
      "source": [
        "from sklearn.pipeline import Pipeline\n",
        "from sklearn.preprocessing import StandardScaler\n",
        "from sklearn.compose import ColumnTransformer\n",
        "from sklearn.preprocessing import OneHotEncoder\n",
        "\n",
        "num_attribs=list(num_cols)\n",
        "cat_attribs=['primary_use']\n",
        "\n",
        "num_pipeline=Pipeline([\n",
        "    ('std_scaler',StandardScaler())\n",
        "])\n",
        "\n",
        "full_pipeline=ColumnTransformer([\n",
        "    ('num',num_pipeline,num_attribs),\n",
        "    ('cat',OneHotEncoder(),cat_attribs)\n",
        "])\n",
        "\n",
        "training_prepared=full_pipeline.fit_transform(training_chilled_water)\n",
        "#('num',num_pipeline,num_attribs),"
      ],
      "execution_count": null,
      "outputs": []
    },
    {
      "cell_type": "code",
      "metadata": {
        "id": "ipL-jyIvDRFH"
      },
      "source": [
        "x_train=training_prepared[:3329233]\n",
        "x_val=training_prepared[3329233:]\n",
        "y_train=target_chilled_water[:3329233]\n",
        "y_val=target_chilled_water[3329233:]"
      ],
      "execution_count": null,
      "outputs": []
    },
    {
      "cell_type": "code",
      "metadata": {
        "id": "DewL79zVDVcP",
        "colab": {
          "base_uri": "https://localhost:8080/",
          "height": 92
        },
        "outputId": "7a1c3503-20bc-4514-d490-f0c112b1dab2"
      },
      "source": [
        "print('shape of x_train:',x_train.shape)\n",
        "print('shape of x_val:',x_val.shape)\n",
        "print('shape of y_train:',y_train.shape)\n",
        "print('shape of y_val:',y_val.shape)"
      ],
      "execution_count": null,
      "outputs": [
        {
          "output_type": "stream",
          "text": [
            "shape of x_train: (3329233, 23)\n",
            "shape of x_val: (832309, 23)\n",
            "shape of y_train: (3329233,)\n",
            "shape of y_val: (832309,)\n"
          ],
          "name": "stdout"
        }
      ]
    },
    {
      "cell_type": "markdown",
      "metadata": {
        "id": "eZmQBKh3DfSU"
      },
      "source": [
        "**Working with test set**"
      ]
    },
    {
      "cell_type": "code",
      "metadata": {
        "id": "sat097GSDXGJ",
        "colab": {
          "base_uri": "https://localhost:8080/",
          "height": 197
        },
        "outputId": "d13bd902-bb5f-448c-fea3-a7745fab0f7c"
      },
      "source": [
        "test.head()"
      ],
      "execution_count": null,
      "outputs": [
        {
          "output_type": "execute_result",
          "data": {
            "text/html": [
              "<div>\n",
              "<style scoped>\n",
              "    .dataframe tbody tr th:only-of-type {\n",
              "        vertical-align: middle;\n",
              "    }\n",
              "\n",
              "    .dataframe tbody tr th {\n",
              "        vertical-align: top;\n",
              "    }\n",
              "\n",
              "    .dataframe thead th {\n",
              "        text-align: right;\n",
              "    }\n",
              "</style>\n",
              "<table border=\"1\" class=\"dataframe\">\n",
              "  <thead>\n",
              "    <tr style=\"text-align: right;\">\n",
              "      <th></th>\n",
              "      <th>row_id</th>\n",
              "      <th>building_id</th>\n",
              "      <th>meter</th>\n",
              "      <th>timestamp</th>\n",
              "    </tr>\n",
              "  </thead>\n",
              "  <tbody>\n",
              "    <tr>\n",
              "      <th>0</th>\n",
              "      <td>0</td>\n",
              "      <td>0</td>\n",
              "      <td>0</td>\n",
              "      <td>2017-01-01</td>\n",
              "    </tr>\n",
              "    <tr>\n",
              "      <th>1</th>\n",
              "      <td>1</td>\n",
              "      <td>1</td>\n",
              "      <td>0</td>\n",
              "      <td>2017-01-01</td>\n",
              "    </tr>\n",
              "    <tr>\n",
              "      <th>2</th>\n",
              "      <td>2</td>\n",
              "      <td>2</td>\n",
              "      <td>0</td>\n",
              "      <td>2017-01-01</td>\n",
              "    </tr>\n",
              "    <tr>\n",
              "      <th>3</th>\n",
              "      <td>3</td>\n",
              "      <td>3</td>\n",
              "      <td>0</td>\n",
              "      <td>2017-01-01</td>\n",
              "    </tr>\n",
              "    <tr>\n",
              "      <th>4</th>\n",
              "      <td>4</td>\n",
              "      <td>4</td>\n",
              "      <td>0</td>\n",
              "      <td>2017-01-01</td>\n",
              "    </tr>\n",
              "  </tbody>\n",
              "</table>\n",
              "</div>"
            ],
            "text/plain": [
              "   row_id  building_id  meter  timestamp\n",
              "0       0            0      0 2017-01-01\n",
              "1       1            1      0 2017-01-01\n",
              "2       2            2      0 2017-01-01\n",
              "3       3            3      0 2017-01-01\n",
              "4       4            4      0 2017-01-01"
            ]
          },
          "metadata": {
            "tags": []
          },
          "execution_count": 41
        }
      ]
    },
    {
      "cell_type": "code",
      "metadata": {
        "id": "a8s3p5yCDnXs",
        "colab": {
          "base_uri": "https://localhost:8080/",
          "height": 34
        },
        "outputId": "e3f8428e-a068-4395-ca55-094419e56360"
      },
      "source": [
        "test.shape"
      ],
      "execution_count": null,
      "outputs": [
        {
          "output_type": "execute_result",
          "data": {
            "text/plain": [
              "(41697600, 4)"
            ]
          },
          "metadata": {
            "tags": []
          },
          "execution_count": 42
        }
      ]
    },
    {
      "cell_type": "code",
      "metadata": {
        "id": "s75CqHj5Dq0F"
      },
      "source": [
        "import pandas as pd\n",
        "\n",
        "temp=test[['building_id']]\n",
        "temp=temp.merge(building_met,on='building_id',how='left')\n",
        "del temp['building_id']\n",
        "test=pd.concat([test,temp],axis=1)"
      ],
      "execution_count": null,
      "outputs": []
    },
    {
      "cell_type": "code",
      "metadata": {
        "id": "Z4sMveIxD8vJ",
        "colab": {
          "base_uri": "https://localhost:8080/",
          "height": 197
        },
        "outputId": "3cc7dbbb-8a1b-495e-c4c7-de90c7c7c243"
      },
      "source": [
        "test.head()"
      ],
      "execution_count": null,
      "outputs": [
        {
          "output_type": "execute_result",
          "data": {
            "text/html": [
              "<div>\n",
              "<style scoped>\n",
              "    .dataframe tbody tr th:only-of-type {\n",
              "        vertical-align: middle;\n",
              "    }\n",
              "\n",
              "    .dataframe tbody tr th {\n",
              "        vertical-align: top;\n",
              "    }\n",
              "\n",
              "    .dataframe thead th {\n",
              "        text-align: right;\n",
              "    }\n",
              "</style>\n",
              "<table border=\"1\" class=\"dataframe\">\n",
              "  <thead>\n",
              "    <tr style=\"text-align: right;\">\n",
              "      <th></th>\n",
              "      <th>row_id</th>\n",
              "      <th>building_id</th>\n",
              "      <th>meter</th>\n",
              "      <th>timestamp</th>\n",
              "      <th>site_id</th>\n",
              "      <th>primary_use</th>\n",
              "      <th>square_feet</th>\n",
              "      <th>year_built</th>\n",
              "      <th>floor_count</th>\n",
              "    </tr>\n",
              "  </thead>\n",
              "  <tbody>\n",
              "    <tr>\n",
              "      <th>0</th>\n",
              "      <td>0</td>\n",
              "      <td>0</td>\n",
              "      <td>0</td>\n",
              "      <td>2017-01-01</td>\n",
              "      <td>0</td>\n",
              "      <td>Education</td>\n",
              "      <td>7432</td>\n",
              "      <td>2008.0</td>\n",
              "      <td>4</td>\n",
              "    </tr>\n",
              "    <tr>\n",
              "      <th>1</th>\n",
              "      <td>1</td>\n",
              "      <td>1</td>\n",
              "      <td>0</td>\n",
              "      <td>2017-01-01</td>\n",
              "      <td>0</td>\n",
              "      <td>Education</td>\n",
              "      <td>2720</td>\n",
              "      <td>2004.0</td>\n",
              "      <td>4</td>\n",
              "    </tr>\n",
              "    <tr>\n",
              "      <th>2</th>\n",
              "      <td>2</td>\n",
              "      <td>2</td>\n",
              "      <td>0</td>\n",
              "      <td>2017-01-01</td>\n",
              "      <td>0</td>\n",
              "      <td>Education</td>\n",
              "      <td>5376</td>\n",
              "      <td>1991.0</td>\n",
              "      <td>4</td>\n",
              "    </tr>\n",
              "    <tr>\n",
              "      <th>3</th>\n",
              "      <td>3</td>\n",
              "      <td>3</td>\n",
              "      <td>0</td>\n",
              "      <td>2017-01-01</td>\n",
              "      <td>0</td>\n",
              "      <td>Education</td>\n",
              "      <td>23685</td>\n",
              "      <td>2002.0</td>\n",
              "      <td>4</td>\n",
              "    </tr>\n",
              "    <tr>\n",
              "      <th>4</th>\n",
              "      <td>4</td>\n",
              "      <td>4</td>\n",
              "      <td>0</td>\n",
              "      <td>2017-01-01</td>\n",
              "      <td>0</td>\n",
              "      <td>Education</td>\n",
              "      <td>116607</td>\n",
              "      <td>1975.0</td>\n",
              "      <td>4</td>\n",
              "    </tr>\n",
              "  </tbody>\n",
              "</table>\n",
              "</div>"
            ],
            "text/plain": [
              "   row_id  building_id  meter  ... square_feet  year_built floor_count\n",
              "0       0            0      0  ...        7432      2008.0           4\n",
              "1       1            1      0  ...        2720      2004.0           4\n",
              "2       2            2      0  ...        5376      1991.0           4\n",
              "3       3            3      0  ...       23685      2002.0           4\n",
              "4       4            4      0  ...      116607      1975.0           4\n",
              "\n",
              "[5 rows x 9 columns]"
            ]
          },
          "metadata": {
            "tags": []
          },
          "execution_count": 44
        }
      ]
    },
    {
      "cell_type": "code",
      "metadata": {
        "id": "KnsUVUfoD_7w"
      },
      "source": [
        "temp=test[['site_id','timestamp']]\n",
        "temp=temp.merge(weather_test,on=['site_id','timestamp'],how='left')\n",
        "del temp['timestamp'],temp['site_id']\n",
        "test=pd.concat([test,temp],axis=1)\n",
        "\n",
        "del temp,weather_test"
      ],
      "execution_count": null,
      "outputs": []
    },
    {
      "cell_type": "code",
      "metadata": {
        "id": "tRKrGA4iEGbH",
        "colab": {
          "base_uri": "https://localhost:8080/",
          "height": 301
        },
        "outputId": "44bff981-80a8-41d1-dbee-413f7e0d6e86"
      },
      "source": [
        "test.head()"
      ],
      "execution_count": null,
      "outputs": [
        {
          "output_type": "execute_result",
          "data": {
            "text/html": [
              "<div>\n",
              "<style scoped>\n",
              "    .dataframe tbody tr th:only-of-type {\n",
              "        vertical-align: middle;\n",
              "    }\n",
              "\n",
              "    .dataframe tbody tr th {\n",
              "        vertical-align: top;\n",
              "    }\n",
              "\n",
              "    .dataframe thead th {\n",
              "        text-align: right;\n",
              "    }\n",
              "</style>\n",
              "<table border=\"1\" class=\"dataframe\">\n",
              "  <thead>\n",
              "    <tr style=\"text-align: right;\">\n",
              "      <th></th>\n",
              "      <th>row_id</th>\n",
              "      <th>building_id</th>\n",
              "      <th>meter</th>\n",
              "      <th>timestamp</th>\n",
              "      <th>site_id</th>\n",
              "      <th>primary_use</th>\n",
              "      <th>square_feet</th>\n",
              "      <th>year_built</th>\n",
              "      <th>floor_count</th>\n",
              "      <th>air_temperature</th>\n",
              "      <th>cloud_coverage</th>\n",
              "      <th>dew_temperature</th>\n",
              "      <th>precip_depth_1_hr</th>\n",
              "      <th>sea_level_pressure</th>\n",
              "      <th>wind_direction</th>\n",
              "      <th>wind_speed</th>\n",
              "      <th>Month</th>\n",
              "      <th>Day_date</th>\n",
              "      <th>year</th>\n",
              "    </tr>\n",
              "  </thead>\n",
              "  <tbody>\n",
              "    <tr>\n",
              "      <th>0</th>\n",
              "      <td>0</td>\n",
              "      <td>0</td>\n",
              "      <td>0</td>\n",
              "      <td>2017-01-01</td>\n",
              "      <td>0</td>\n",
              "      <td>Education</td>\n",
              "      <td>7432</td>\n",
              "      <td>2008.0</td>\n",
              "      <td>4</td>\n",
              "      <td>17.8</td>\n",
              "      <td>4.0</td>\n",
              "      <td>4.0</td>\n",
              "      <td>1.169297</td>\n",
              "      <td>1021.4</td>\n",
              "      <td>100.0</td>\n",
              "      <td>3.6</td>\n",
              "      <td>1.0</td>\n",
              "      <td>1.0</td>\n",
              "      <td>2017.0</td>\n",
              "    </tr>\n",
              "    <tr>\n",
              "      <th>1</th>\n",
              "      <td>1</td>\n",
              "      <td>1</td>\n",
              "      <td>0</td>\n",
              "      <td>2017-01-01</td>\n",
              "      <td>0</td>\n",
              "      <td>Education</td>\n",
              "      <td>2720</td>\n",
              "      <td>2004.0</td>\n",
              "      <td>4</td>\n",
              "      <td>17.8</td>\n",
              "      <td>4.0</td>\n",
              "      <td>4.0</td>\n",
              "      <td>1.169297</td>\n",
              "      <td>1021.4</td>\n",
              "      <td>100.0</td>\n",
              "      <td>3.6</td>\n",
              "      <td>1.0</td>\n",
              "      <td>1.0</td>\n",
              "      <td>2017.0</td>\n",
              "    </tr>\n",
              "    <tr>\n",
              "      <th>2</th>\n",
              "      <td>2</td>\n",
              "      <td>2</td>\n",
              "      <td>0</td>\n",
              "      <td>2017-01-01</td>\n",
              "      <td>0</td>\n",
              "      <td>Education</td>\n",
              "      <td>5376</td>\n",
              "      <td>1991.0</td>\n",
              "      <td>4</td>\n",
              "      <td>17.8</td>\n",
              "      <td>4.0</td>\n",
              "      <td>4.0</td>\n",
              "      <td>1.169297</td>\n",
              "      <td>1021.4</td>\n",
              "      <td>100.0</td>\n",
              "      <td>3.6</td>\n",
              "      <td>1.0</td>\n",
              "      <td>1.0</td>\n",
              "      <td>2017.0</td>\n",
              "    </tr>\n",
              "    <tr>\n",
              "      <th>3</th>\n",
              "      <td>3</td>\n",
              "      <td>3</td>\n",
              "      <td>0</td>\n",
              "      <td>2017-01-01</td>\n",
              "      <td>0</td>\n",
              "      <td>Education</td>\n",
              "      <td>23685</td>\n",
              "      <td>2002.0</td>\n",
              "      <td>4</td>\n",
              "      <td>17.8</td>\n",
              "      <td>4.0</td>\n",
              "      <td>4.0</td>\n",
              "      <td>1.169297</td>\n",
              "      <td>1021.4</td>\n",
              "      <td>100.0</td>\n",
              "      <td>3.6</td>\n",
              "      <td>1.0</td>\n",
              "      <td>1.0</td>\n",
              "      <td>2017.0</td>\n",
              "    </tr>\n",
              "    <tr>\n",
              "      <th>4</th>\n",
              "      <td>4</td>\n",
              "      <td>4</td>\n",
              "      <td>0</td>\n",
              "      <td>2017-01-01</td>\n",
              "      <td>0</td>\n",
              "      <td>Education</td>\n",
              "      <td>116607</td>\n",
              "      <td>1975.0</td>\n",
              "      <td>4</td>\n",
              "      <td>17.8</td>\n",
              "      <td>4.0</td>\n",
              "      <td>4.0</td>\n",
              "      <td>1.169297</td>\n",
              "      <td>1021.4</td>\n",
              "      <td>100.0</td>\n",
              "      <td>3.6</td>\n",
              "      <td>1.0</td>\n",
              "      <td>1.0</td>\n",
              "      <td>2017.0</td>\n",
              "    </tr>\n",
              "  </tbody>\n",
              "</table>\n",
              "</div>"
            ],
            "text/plain": [
              "   row_id  building_id  meter  timestamp  ...  wind_speed Month  Day_date    year\n",
              "0       0            0      0 2017-01-01  ...         3.6   1.0       1.0  2017.0\n",
              "1       1            1      0 2017-01-01  ...         3.6   1.0       1.0  2017.0\n",
              "2       2            2      0 2017-01-01  ...         3.6   1.0       1.0  2017.0\n",
              "3       3            3      0 2017-01-01  ...         3.6   1.0       1.0  2017.0\n",
              "4       4            4      0 2017-01-01  ...         3.6   1.0       1.0  2017.0\n",
              "\n",
              "[5 rows x 19 columns]"
            ]
          },
          "metadata": {
            "tags": []
          },
          "execution_count": 46
        }
      ]
    },
    {
      "cell_type": "code",
      "metadata": {
        "id": "6TS7DOkl8PyE"
      },
      "source": [
        "import numpy as np\n",
        "\n",
        "test['hour_datetime']=test['timestamp'].dt.hour.astype(np.int8)\n",
        "\n",
        "del test['timestamp']"
      ],
      "execution_count": null,
      "outputs": []
    },
    {
      "cell_type": "code",
      "metadata": {
        "id": "NM5bLXSb1YnQ",
        "colab": {
          "base_uri": "https://localhost:8080/",
          "height": 617
        },
        "outputId": "9a69960e-ccc2-46bd-bdee-b734adef730e"
      },
      "source": [
        "total=test.isnull().sum().sort_values(ascending=False)\n",
        "percent=(test.isnull().sum()/test.isnull().count()).sort_values(ascending=False)\n",
        "missing_values=pd.concat([total,percent],axis=1,keys=['total','percent'])\n",
        "missing_values.head(20)"
      ],
      "execution_count": null,
      "outputs": [
        {
          "output_type": "execute_result",
          "data": {
            "text/html": [
              "<div>\n",
              "<style scoped>\n",
              "    .dataframe tbody tr th:only-of-type {\n",
              "        vertical-align: middle;\n",
              "    }\n",
              "\n",
              "    .dataframe tbody tr th {\n",
              "        vertical-align: top;\n",
              "    }\n",
              "\n",
              "    .dataframe thead th {\n",
              "        text-align: right;\n",
              "    }\n",
              "</style>\n",
              "<table border=\"1\" class=\"dataframe\">\n",
              "  <thead>\n",
              "    <tr style=\"text-align: right;\">\n",
              "      <th></th>\n",
              "      <th>total</th>\n",
              "      <th>percent</th>\n",
              "    </tr>\n",
              "  </thead>\n",
              "  <tbody>\n",
              "    <tr>\n",
              "      <th>cloud_coverage</th>\n",
              "      <td>199029</td>\n",
              "      <td>0.004773</td>\n",
              "    </tr>\n",
              "    <tr>\n",
              "      <th>Day_date</th>\n",
              "      <td>199029</td>\n",
              "      <td>0.004773</td>\n",
              "    </tr>\n",
              "    <tr>\n",
              "      <th>Month</th>\n",
              "      <td>199029</td>\n",
              "      <td>0.004773</td>\n",
              "    </tr>\n",
              "    <tr>\n",
              "      <th>wind_speed</th>\n",
              "      <td>199029</td>\n",
              "      <td>0.004773</td>\n",
              "    </tr>\n",
              "    <tr>\n",
              "      <th>wind_direction</th>\n",
              "      <td>199029</td>\n",
              "      <td>0.004773</td>\n",
              "    </tr>\n",
              "    <tr>\n",
              "      <th>sea_level_pressure</th>\n",
              "      <td>199029</td>\n",
              "      <td>0.004773</td>\n",
              "    </tr>\n",
              "    <tr>\n",
              "      <th>precip_depth_1_hr</th>\n",
              "      <td>199029</td>\n",
              "      <td>0.004773</td>\n",
              "    </tr>\n",
              "    <tr>\n",
              "      <th>dew_temperature</th>\n",
              "      <td>199029</td>\n",
              "      <td>0.004773</td>\n",
              "    </tr>\n",
              "    <tr>\n",
              "      <th>year</th>\n",
              "      <td>199029</td>\n",
              "      <td>0.004773</td>\n",
              "    </tr>\n",
              "    <tr>\n",
              "      <th>air_temperature</th>\n",
              "      <td>199029</td>\n",
              "      <td>0.004773</td>\n",
              "    </tr>\n",
              "    <tr>\n",
              "      <th>primary_use</th>\n",
              "      <td>0</td>\n",
              "      <td>0.000000</td>\n",
              "    </tr>\n",
              "    <tr>\n",
              "      <th>building_id</th>\n",
              "      <td>0</td>\n",
              "      <td>0.000000</td>\n",
              "    </tr>\n",
              "    <tr>\n",
              "      <th>meter</th>\n",
              "      <td>0</td>\n",
              "      <td>0.000000</td>\n",
              "    </tr>\n",
              "    <tr>\n",
              "      <th>site_id</th>\n",
              "      <td>0</td>\n",
              "      <td>0.000000</td>\n",
              "    </tr>\n",
              "    <tr>\n",
              "      <th>hour_datetime</th>\n",
              "      <td>0</td>\n",
              "      <td>0.000000</td>\n",
              "    </tr>\n",
              "    <tr>\n",
              "      <th>square_feet</th>\n",
              "      <td>0</td>\n",
              "      <td>0.000000</td>\n",
              "    </tr>\n",
              "    <tr>\n",
              "      <th>year_built</th>\n",
              "      <td>0</td>\n",
              "      <td>0.000000</td>\n",
              "    </tr>\n",
              "    <tr>\n",
              "      <th>floor_count</th>\n",
              "      <td>0</td>\n",
              "      <td>0.000000</td>\n",
              "    </tr>\n",
              "    <tr>\n",
              "      <th>row_id</th>\n",
              "      <td>0</td>\n",
              "      <td>0.000000</td>\n",
              "    </tr>\n",
              "  </tbody>\n",
              "</table>\n",
              "</div>"
            ],
            "text/plain": [
              "                     total   percent\n",
              "cloud_coverage      199029  0.004773\n",
              "Day_date            199029  0.004773\n",
              "Month               199029  0.004773\n",
              "wind_speed          199029  0.004773\n",
              "wind_direction      199029  0.004773\n",
              "sea_level_pressure  199029  0.004773\n",
              "precip_depth_1_hr   199029  0.004773\n",
              "dew_temperature     199029  0.004773\n",
              "year                199029  0.004773\n",
              "air_temperature     199029  0.004773\n",
              "primary_use              0  0.000000\n",
              "building_id              0  0.000000\n",
              "meter                    0  0.000000\n",
              "site_id                  0  0.000000\n",
              "hour_datetime            0  0.000000\n",
              "square_feet              0  0.000000\n",
              "year_built               0  0.000000\n",
              "floor_count              0  0.000000\n",
              "row_id                   0  0.000000"
            ]
          },
          "metadata": {
            "tags": []
          },
          "execution_count": 48
        }
      ]
    },
    {
      "cell_type": "code",
      "metadata": {
        "id": "QUUZMStU4OgN",
        "colab": {
          "base_uri": "https://localhost:8080/",
          "height": 307
        },
        "outputId": "80f91a25-ccd6-4797-b362-13ea4b8378fb"
      },
      "source": [
        "test.describe()"
      ],
      "execution_count": null,
      "outputs": [
        {
          "output_type": "execute_result",
          "data": {
            "text/html": [
              "<div>\n",
              "<style scoped>\n",
              "    .dataframe tbody tr th:only-of-type {\n",
              "        vertical-align: middle;\n",
              "    }\n",
              "\n",
              "    .dataframe tbody tr th {\n",
              "        vertical-align: top;\n",
              "    }\n",
              "\n",
              "    .dataframe thead th {\n",
              "        text-align: right;\n",
              "    }\n",
              "</style>\n",
              "<table border=\"1\" class=\"dataframe\">\n",
              "  <thead>\n",
              "    <tr style=\"text-align: right;\">\n",
              "      <th></th>\n",
              "      <th>row_id</th>\n",
              "      <th>building_id</th>\n",
              "      <th>meter</th>\n",
              "      <th>site_id</th>\n",
              "      <th>square_feet</th>\n",
              "      <th>year_built</th>\n",
              "      <th>floor_count</th>\n",
              "      <th>air_temperature</th>\n",
              "      <th>cloud_coverage</th>\n",
              "      <th>dew_temperature</th>\n",
              "      <th>precip_depth_1_hr</th>\n",
              "      <th>sea_level_pressure</th>\n",
              "      <th>wind_direction</th>\n",
              "      <th>wind_speed</th>\n",
              "      <th>Month</th>\n",
              "      <th>Day_date</th>\n",
              "      <th>year</th>\n",
              "      <th>hour_datetime</th>\n",
              "    </tr>\n",
              "  </thead>\n",
              "  <tbody>\n",
              "    <tr>\n",
              "      <th>count</th>\n",
              "      <td>4.169760e+07</td>\n",
              "      <td>4.169760e+07</td>\n",
              "      <td>4.169760e+07</td>\n",
              "      <td>4.169760e+07</td>\n",
              "      <td>4.169760e+07</td>\n",
              "      <td>4.169760e+07</td>\n",
              "      <td>4.169760e+07</td>\n",
              "      <td>4.149857e+07</td>\n",
              "      <td>4.149857e+07</td>\n",
              "      <td>4.149857e+07</td>\n",
              "      <td>4.149857e+07</td>\n",
              "      <td>4.149857e+07</td>\n",
              "      <td>4.149857e+07</td>\n",
              "      <td>4.149857e+07</td>\n",
              "      <td>4.149857e+07</td>\n",
              "      <td>4.149857e+07</td>\n",
              "      <td>4.149857e+07</td>\n",
              "      <td>4.169760e+07</td>\n",
              "    </tr>\n",
              "    <tr>\n",
              "      <th>mean</th>\n",
              "      <td>2.084880e+07</td>\n",
              "      <td>8.075824e+02</td>\n",
              "      <td>6.642857e-01</td>\n",
              "      <td>8.086134e+00</td>\n",
              "      <td>1.069469e+05</td>\n",
              "      <td>1.969393e+03</td>\n",
              "      <td>4.021008e+00</td>\n",
              "      <td>1.550734e+01</td>\n",
              "      <td>1.830514e+00</td>\n",
              "      <td>1.830514e+00</td>\n",
              "      <td>1.252654e+00</td>\n",
              "      <td>9.786402e+02</td>\n",
              "      <td>1.718198e+02</td>\n",
              "      <td>3.383756e+00</td>\n",
              "      <td>6.517360e+00</td>\n",
              "      <td>1.571009e+01</td>\n",
              "      <td>2.017500e+03</td>\n",
              "      <td>1.150000e+01</td>\n",
              "    </tr>\n",
              "    <tr>\n",
              "      <th>std</th>\n",
              "      <td>1.203706e+07</td>\n",
              "      <td>4.297680e+02</td>\n",
              "      <td>9.278067e-01</td>\n",
              "      <td>5.134712e+00</td>\n",
              "      <td>1.160888e+05</td>\n",
              "      <td>2.045075e+01</td>\n",
              "      <td>1.655263e+00</td>\n",
              "      <td>1.128247e+01</td>\n",
              "      <td>2.010436e+00</td>\n",
              "      <td>2.010436e+00</td>\n",
              "      <td>7.862236e+00</td>\n",
              "      <td>1.919029e+02</td>\n",
              "      <td>1.100916e+02</td>\n",
              "      <td>2.235641e+00</td>\n",
              "      <td>3.445343e+00</td>\n",
              "      <td>8.803499e+00</td>\n",
              "      <td>5.000000e-01</td>\n",
              "      <td>6.922187e+00</td>\n",
              "    </tr>\n",
              "    <tr>\n",
              "      <th>min</th>\n",
              "      <td>0.000000e+00</td>\n",
              "      <td>0.000000e+00</td>\n",
              "      <td>0.000000e+00</td>\n",
              "      <td>0.000000e+00</td>\n",
              "      <td>2.830000e+02</td>\n",
              "      <td>1.900000e+03</td>\n",
              "      <td>1.000000e+00</td>\n",
              "      <td>-2.810000e+01</td>\n",
              "      <td>0.000000e+00</td>\n",
              "      <td>0.000000e+00</td>\n",
              "      <td>-1.000000e+00</td>\n",
              "      <td>0.000000e+00</td>\n",
              "      <td>0.000000e+00</td>\n",
              "      <td>0.000000e+00</td>\n",
              "      <td>1.000000e+00</td>\n",
              "      <td>1.000000e+00</td>\n",
              "      <td>2.017000e+03</td>\n",
              "      <td>0.000000e+00</td>\n",
              "    </tr>\n",
              "    <tr>\n",
              "      <th>25%</th>\n",
              "      <td>1.042440e+07</td>\n",
              "      <td>4.047500e+02</td>\n",
              "      <td>0.000000e+00</td>\n",
              "      <td>3.000000e+00</td>\n",
              "      <td>3.224350e+04</td>\n",
              "      <td>1.963000e+03</td>\n",
              "      <td>4.000000e+00</td>\n",
              "      <td>7.800000e+00</td>\n",
              "      <td>0.000000e+00</td>\n",
              "      <td>0.000000e+00</td>\n",
              "      <td>0.000000e+00</td>\n",
              "      <td>1.010900e+03</td>\n",
              "      <td>8.000000e+01</td>\n",
              "      <td>2.100000e+00</td>\n",
              "      <td>4.000000e+00</td>\n",
              "      <td>8.000000e+00</td>\n",
              "      <td>2.017000e+03</td>\n",
              "      <td>5.750000e+00</td>\n",
              "    </tr>\n",
              "    <tr>\n",
              "      <th>50%</th>\n",
              "      <td>2.084880e+07</td>\n",
              "      <td>9.000000e+02</td>\n",
              "      <td>0.000000e+00</td>\n",
              "      <td>9.000000e+00</td>\n",
              "      <td>7.226250e+04</td>\n",
              "      <td>1.975000e+03</td>\n",
              "      <td>4.000000e+00</td>\n",
              "      <td>1.670000e+01</td>\n",
              "      <td>1.082078e+00</td>\n",
              "      <td>1.082078e+00</td>\n",
              "      <td>0.000000e+00</td>\n",
              "      <td>1.015900e+03</td>\n",
              "      <td>1.700000e+02</td>\n",
              "      <td>3.100000e+00</td>\n",
              "      <td>7.000000e+00</td>\n",
              "      <td>1.600000e+01</td>\n",
              "      <td>2.017000e+03</td>\n",
              "      <td>1.150000e+01</td>\n",
              "    </tr>\n",
              "    <tr>\n",
              "      <th>75%</th>\n",
              "      <td>3.127320e+07</td>\n",
              "      <td>1.194250e+03</td>\n",
              "      <td>1.000000e+00</td>\n",
              "      <td>1.300000e+01</td>\n",
              "      <td>1.383875e+05</td>\n",
              "      <td>1.975054e+03</td>\n",
              "      <td>4.000000e+00</td>\n",
              "      <td>2.390000e+01</td>\n",
              "      <td>2.730284e+00</td>\n",
              "      <td>2.730284e+00</td>\n",
              "      <td>0.000000e+00</td>\n",
              "      <td>1.020200e+03</td>\n",
              "      <td>2.700000e+02</td>\n",
              "      <td>4.600000e+00</td>\n",
              "      <td>1.000000e+01</td>\n",
              "      <td>2.300000e+01</td>\n",
              "      <td>2.018000e+03</td>\n",
              "      <td>1.725000e+01</td>\n",
              "    </tr>\n",
              "    <tr>\n",
              "      <th>max</th>\n",
              "      <td>4.169760e+07</td>\n",
              "      <td>1.448000e+03</td>\n",
              "      <td>3.000000e+00</td>\n",
              "      <td>1.500000e+01</td>\n",
              "      <td>8.750000e+05</td>\n",
              "      <td>2.017000e+03</td>\n",
              "      <td>2.600000e+01</td>\n",
              "      <td>4.830000e+01</td>\n",
              "      <td>9.000000e+00</td>\n",
              "      <td>9.000000e+00</td>\n",
              "      <td>5.970000e+02</td>\n",
              "      <td>1.050100e+03</td>\n",
              "      <td>3.600000e+02</td>\n",
              "      <td>2.420000e+01</td>\n",
              "      <td>1.200000e+01</td>\n",
              "      <td>3.100000e+01</td>\n",
              "      <td>2.018000e+03</td>\n",
              "      <td>2.300000e+01</td>\n",
              "    </tr>\n",
              "  </tbody>\n",
              "</table>\n",
              "</div>"
            ],
            "text/plain": [
              "             row_id   building_id  ...          year  hour_datetime\n",
              "count  4.169760e+07  4.169760e+07  ...  4.149857e+07   4.169760e+07\n",
              "mean   2.084880e+07  8.075824e+02  ...  2.017500e+03   1.150000e+01\n",
              "std    1.203706e+07  4.297680e+02  ...  5.000000e-01   6.922187e+00\n",
              "min    0.000000e+00  0.000000e+00  ...  2.017000e+03   0.000000e+00\n",
              "25%    1.042440e+07  4.047500e+02  ...  2.017000e+03   5.750000e+00\n",
              "50%    2.084880e+07  9.000000e+02  ...  2.017000e+03   1.150000e+01\n",
              "75%    3.127320e+07  1.194250e+03  ...  2.018000e+03   1.725000e+01\n",
              "max    4.169760e+07  1.448000e+03  ...  2.018000e+03   2.300000e+01\n",
              "\n",
              "[8 rows x 18 columns]"
            ]
          },
          "metadata": {
            "tags": []
          },
          "execution_count": 50
        }
      ]
    },
    {
      "cell_type": "code",
      "metadata": {
        "id": "3JKYHWPbEHAX"
      },
      "source": [
        "test_chilled_water= test.loc[(test['meter']==1)]"
      ],
      "execution_count": null,
      "outputs": []
    },
    {
      "cell_type": "code",
      "metadata": {
        "id": "2x6oR37h1Wgo",
        "colab": {
          "base_uri": "https://localhost:8080/",
          "height": 34
        },
        "outputId": "98d5b4a1-dc9c-4f07-b393-d19490201dd2"
      },
      "source": [
        "test_chilled_water.shape"
      ],
      "execution_count": null,
      "outputs": [
        {
          "output_type": "execute_result",
          "data": {
            "text/plain": [
              "(8724960, 19)"
            ]
          },
          "metadata": {
            "tags": []
          },
          "execution_count": 53
        }
      ]
    },
    {
      "cell_type": "code",
      "metadata": {
        "id": "uRDVEAYT4GyL"
      },
      "source": [
        "test_drop_cols=['row_id']"
      ],
      "execution_count": null,
      "outputs": []
    },
    {
      "cell_type": "code",
      "metadata": {
        "id": "4qFroq5xFMos"
      },
      "source": [
        "testing=test_chilled_water.drop(test_drop_cols,axis=1)"
      ],
      "execution_count": null,
      "outputs": []
    },
    {
      "cell_type": "code",
      "metadata": {
        "id": "3HXLLI4W0BOT",
        "colab": {
          "base_uri": "https://localhost:8080/",
          "height": 34
        },
        "outputId": "fc8a7478-001a-48cb-c0d5-6e093ba97d28"
      },
      "source": [
        "testing.shape"
      ],
      "execution_count": null,
      "outputs": [
        {
          "output_type": "execute_result",
          "data": {
            "text/plain": [
              "(8724960, 18)"
            ]
          },
          "metadata": {
            "tags": []
          },
          "execution_count": 56
        }
      ]
    },
    {
      "cell_type": "code",
      "metadata": {
        "id": "CJy62TO78kbx"
      },
      "source": [
        "testing_prepared=full_pipeline.transform(testing)"
      ],
      "execution_count": null,
      "outputs": []
    },
    {
      "cell_type": "code",
      "metadata": {
        "id": "wIN6dJ2RpJ4G",
        "colab": {
          "base_uri": "https://localhost:8080/",
          "height": 34
        },
        "outputId": "14327edd-c328-4211-bd75-1916c20f8d62"
      },
      "source": [
        "testing_prepared.shape"
      ],
      "execution_count": null,
      "outputs": [
        {
          "output_type": "execute_result",
          "data": {
            "text/plain": [
              "(8724960, 23)"
            ]
          },
          "metadata": {
            "tags": []
          },
          "execution_count": 61
        }
      ]
    },
    {
      "cell_type": "markdown",
      "metadata": {
        "id": "s7dY3NHaUmaE"
      },
      "source": [
        "**Learning rate**"
      ]
    },
    {
      "cell_type": "code",
      "metadata": {
        "id": "SpdfOoCyUk_U"
      },
      "source": [
        "# m = x_train[:10000].shape[0]\n",
        "# n = x_train[:10000].shape[1]"
      ],
      "execution_count": null,
      "outputs": []
    },
    {
      "cell_type": "code",
      "metadata": {
        "id": "szxB8M9u4dk4"
      },
      "source": [
        "# y_train = np.expand_dims(y_train, 1)"
      ],
      "execution_count": null,
      "outputs": []
    },
    {
      "cell_type": "code",
      "metadata": {
        "id": "6fBsj4H_9PQ5",
        "colab": {
          "base_uri": "https://localhost:8080/",
          "height": 34
        },
        "outputId": "9da1faf4-4d04-4cee-be47-90d62e3d47a8"
      },
      "source": [
        "# y_train.shape"
      ],
      "execution_count": null,
      "outputs": [
        {
          "output_type": "execute_result",
          "data": {
            "text/plain": [
              "(3329233, 1)"
            ]
          },
          "metadata": {
            "tags": []
          },
          "execution_count": 81
        }
      ]
    },
    {
      "cell_type": "code",
      "metadata": {
        "id": "ppvcsVCWUNKS"
      },
      "source": [
        "# def ComputeCostMulti(x_train,y_train,theta):\n",
        "#   h=x_train .dot (theta)\n",
        "#   error= h-y_train\n",
        "#   J = (1./(2*m)) * ((error.T) .dot (error))"
      ],
      "execution_count": null,
      "outputs": []
    },
    {
      "cell_type": "code",
      "metadata": {
        "id": "Qv7npwsiiWGX"
      },
      "source": [
        "# def GradientDescentMulti(x_train,y_train, theta, eta, num_iters):\n",
        "#   J_history=[]\n",
        "#   for iter in range (1,201):\n",
        "#     h= x_train.dot(theta)\n",
        "#     error=h-y_train\n",
        "#     theta_change = (2./m) * eta * (x_train.T .dot(error))\n",
        "#     theta=theta-theta_change\n",
        "#     cost_history=(1./(2*m)) * ((error.T) .dot (error))\n",
        "#     J_history.append(cost_history)\n",
        "#   return J_history\n"
      ],
      "execution_count": null,
      "outputs": []
    },
    {
      "cell_type": "markdown",
      "metadata": {
        "id": "KVoneVKm2APZ"
      },
      "source": [
        "**learning rate =0.01**"
      ]
    },
    {
      "cell_type": "code",
      "metadata": {
        "id": "ZlMa3A42jNwZ",
        "colab": {
          "base_uri": "https://localhost:8080/",
          "height": 54
        },
        "outputId": "c2919ef8-bacd-4157-ed60-590a09dc6c32"
      },
      "source": [
        "# theta = np.zeros((n,1))\n",
        "# num_iters=200\n",
        "# eta = 0.01\n",
        "# history = GradientDescentMulti(x_train[:10000],y_train[:10000], theta, eta, num_iters)\n",
        "# print(history)"
      ],
      "execution_count": null,
      "outputs": [
        {
          "output_type": "stream",
          "text": [
            "[array([[81356.12586108]]), array([[80471.50112982]]), array([[79666.32939595]]), array([[78932.68166858]]), array([[78263.44937697]]), array([[77652.25813153]]), array([[77093.39062281]]), array([[76581.71768597]]), array([[76112.63666171]]), array([[75682.01627768]]), array([[75286.1473568]]), array([[74921.69873333]]), array([[74585.67782323]]), array([[74275.39535453]]), array([[73988.433816]]), array([[73722.61922962]]), array([[73475.99589418]]), array([[73246.80378522]]), array([[73033.45832952]]), array([[72834.53230297]]), array([[72648.73962681]]), array([[72474.92086158]]), array([[72312.03021913]]), array([[72159.12393242]]), array([[72015.34983968]]), array([[71879.93805475]]), array([[71752.19260912]]), array([[71631.48396327]]), array([[71517.24229579]]), array([[71408.95148838]]), array([[71306.14373378]]), array([[71208.39470091]]), array([[71115.31919906]]), array([[71026.56728867]]), array([[70941.82079188]]), array([[70860.79016118]]), array([[70783.21166867]]), array([[70708.84488246]]), array([[70637.47040026]]), array([[70568.88781353]]), array([[70502.91387796]]), array([[70439.38086921]]), array([[70378.13510429]]), array([[70319.03561185]]), array([[70261.95293571]]), array([[70206.76805796]]), array([[70153.37142938]]), array([[70101.66209608]]), array([[70051.54691251]]), array([[70002.939832]]), array([[69955.76126694]]), array([[69909.9375114]]), array([[69865.40021996]]), array([[69822.08593702]]), array([[69779.93567141]]), array([[69738.89451179]]), array([[69698.91127874]]), array([[69659.93820984]]), array([[69621.93067443]]), array([[69584.84691512]]), array([[69548.64781335]]), array([[69513.29667665]]), array([[69478.75904548]]), array([[69445.00251764]]), array([[69411.99658866]]), array([[69379.71250645]]), array([[69348.12313901]]), array([[69317.20285373]]), array([[69286.9274074]]), array([[69257.27384567]]), array([[69228.22041126]]), array([[69199.74645994]]), array([[69171.83238362]]), array([[69144.45953993]]), array([[69117.61018756]]), array([[69091.2674269]]), array([[69065.4151456]]), array([[69040.03796831]]), array([[69015.12121057]]), array([[68990.6508362]]), array([[68966.61341805]]), array([[68942.99610167]]), array([[68919.78657184]]), array([[68896.97302147]]), array([[68874.54412286]]), array([[68852.489001]]), array([[68830.79720884]]), array([[68809.4587042]]), array([[68788.46382841]]), array([[68767.80328635]]), array([[68747.46812778]]), array([[68727.44973008]]), array([[68707.73978192]]), array([[68688.33026817]]), array([[68669.21345565]]), array([[68650.38187981]]), array([[68631.82833226]]), array([[68613.54584905]]), array([[68595.5276996]]), array([[68577.76737639]]), array([[68560.25858514]]), array([[68542.99523563]]), array([[68525.971433]]), array([[68509.18146958]]), array([[68492.61981709]]), array([[68476.28111935]]), array([[68460.16018532]]), array([[68444.25198253]]), array([[68428.55163085]]), array([[68413.05439655]]), array([[68397.75568672]]), array([[68382.65104391]]), array([[68367.73614105]]), array([[68353.00677662]]), array([[68338.45887006]]), array([[68324.08845738]]), array([[68309.89168695]]), array([[68295.86481556]]), array([[68282.00420459]]), array([[68268.30631636]]), array([[68254.76771066]]), array([[68241.38504142]]), array([[68228.15505355]]), array([[68215.07457987]]), array([[68202.14053817]]), array([[68189.34992848]]), array([[68176.69983032]]), array([[68164.18740015]]), array([[68151.80986892]]), array([[68139.56453967]]), array([[68127.44878528]]), array([[68115.46004624]]), array([[68103.59582859]]), array([[68091.85370188]]), array([[68080.2312972]]), array([[68068.72630536]]), array([[68057.33647501]]), array([[68046.05961098]]), array([[68034.89357255]]), array([[68023.83627184]]), array([[68012.88567231]]), array([[68002.03978717]]), array([[67991.296678]]), array([[67980.65445334]]), array([[67970.1112673]]), array([[67959.66531833]]), array([[67949.31484787]]), array([[67939.05813922]]), array([[67928.89351632]]), array([[67918.81934261]]), array([[67908.83401996]]), array([[67898.93598756]]), array([[67889.12372096]]), array([[67879.39573102]]), array([[67869.75056295]]), array([[67860.18679543]]), array([[67850.70303965]]), array([[67841.29793844]]), array([[67831.97016547]]), array([[67822.71842438]]), array([[67813.54144802]]), array([[67804.43799766]]), array([[67795.40686224]]), array([[67786.44685766]]), array([[67777.55682607]]), array([[67768.73563519]]), array([[67759.98217764]]), array([[67751.29537033]]), array([[67742.6741538]]), array([[67734.11749163]]), array([[67725.62436985]]), array([[67717.19379638]]), array([[67708.82480049]]), array([[67700.51643221]]), array([[67692.26776187]]), array([[67684.07787956]]), array([[67675.94589464]]), array([[67667.87093527]]), array([[67659.85214795]]), array([[67651.88869703]]), array([[67643.97976433]]), array([[67636.12454867]]), array([[67628.32226546]]), array([[67620.57214632]]), array([[67612.87343866]]), array([[67605.2254053]]), array([[67597.62732413]]), array([[67590.0784877]]), array([[67582.57820291]]), array([[67575.12579064]]), array([[67567.72058543]]), array([[67560.36193516]]), array([[67553.04920071]]), array([[67545.7817557]]), array([[67538.55898614]]), array([[67531.38029015]]), array([[67524.24507771]]), array([[67517.15277035]]), array([[67510.10280088]]), array([[67503.09461316]])]\n"
          ],
          "name": "stdout"
        }
      ]
    },
    {
      "cell_type": "code",
      "metadata": {
        "id": "EWuNd_N6olne"
      },
      "source": [
        "# history = np. array(history)\n",
        "# history_reshape=np.reshape(history, (200,))"
      ],
      "execution_count": null,
      "outputs": []
    },
    {
      "cell_type": "markdown",
      "metadata": {
        "id": "tbPawXB52FG5"
      },
      "source": [
        "**Learning rate =0.003**"
      ]
    },
    {
      "cell_type": "code",
      "metadata": {
        "id": "nZ0u0anZ16Hs"
      },
      "source": [
        "# theta = np.zeros((n,1))\n",
        "# num_iters=200\n",
        "# eta = 0.003\n",
        "# history_003 = GradientDescentMulti(x_train[:10000],y_train[:10000], theta, eta, num_iters)\n",
        "# #print(history)"
      ],
      "execution_count": null,
      "outputs": []
    },
    {
      "cell_type": "code",
      "metadata": {
        "id": "rFchx5TG2LZ2"
      },
      "source": [
        "# history_003 = np. array(history_003)\n",
        "# history_003reshape=np.reshape(history_003, (200,))"
      ],
      "execution_count": null,
      "outputs": []
    },
    {
      "cell_type": "markdown",
      "metadata": {
        "id": "wCBkLx91249Z"
      },
      "source": [
        "**Learning rate =0.001**"
      ]
    },
    {
      "cell_type": "code",
      "metadata": {
        "id": "YTzCB8U422zI"
      },
      "source": [
        "# theta = np.zeros((n,1))\n",
        "# num_iters=200\n",
        "# eta = 0.001\n",
        "# history_001 = GradientDescentMulti(x_train[:10000],y_train[:10000], theta, eta, num_iters)\n",
        "# #print(history)"
      ],
      "execution_count": null,
      "outputs": []
    },
    {
      "cell_type": "code",
      "metadata": {
        "id": "T9aCIapf2-80"
      },
      "source": [
        "# history_001 = np. array(history_001)\n",
        "# history_001reshape=np.reshape(history_001, (200,))"
      ],
      "execution_count": null,
      "outputs": []
    },
    {
      "cell_type": "markdown",
      "metadata": {
        "id": "BfcQ271U3XYP"
      },
      "source": [
        "**Learning rate =0.03**"
      ]
    },
    {
      "cell_type": "code",
      "metadata": {
        "id": "xaQJYdJf3aRW"
      },
      "source": [
        "# theta = np.zeros((n,1))\n",
        "# num_iters=200\n",
        "# eta = 0.03 \n",
        "# history_03 = GradientDescentMulti(x_train[:10000],y_train[:10000], theta, eta, num_iters)\n",
        "# #print(history)"
      ],
      "execution_count": null,
      "outputs": []
    },
    {
      "cell_type": "code",
      "metadata": {
        "id": "cJ0doczA3fUk"
      },
      "source": [
        "# history_03 = np. array(history_03)\n",
        "# history_03reshape=np.reshape(history_03, (200,))"
      ],
      "execution_count": null,
      "outputs": []
    },
    {
      "cell_type": "markdown",
      "metadata": {
        "id": "sPdg2XtE4GW-"
      },
      "source": [
        "**Learning rate = 0.3**"
      ]
    },
    {
      "cell_type": "code",
      "metadata": {
        "id": "BeDfE0ME4KFp"
      },
      "source": [
        "# theta = np.zeros((n,1))\n",
        "# num_iters=200\n",
        "# eta = 0.3\n",
        "# history_3 = GradientDescentMulti(x_train[:10000],y_train[:10000], theta, eta, num_iters)\n",
        "# #print(history)"
      ],
      "execution_count": null,
      "outputs": []
    },
    {
      "cell_type": "code",
      "metadata": {
        "id": "94Vrx3KF4L-B"
      },
      "source": [
        "# history_3 = np. array(history_3)\n",
        "# history_3reshape=np.reshape(history_3, (200,))"
      ],
      "execution_count": null,
      "outputs": []
    },
    {
      "cell_type": "markdown",
      "metadata": {
        "id": "kuHEOoj44ymm"
      },
      "source": [
        "**Learning rate =0.1**"
      ]
    },
    {
      "cell_type": "code",
      "metadata": {
        "id": "o3bsS3vq42DO"
      },
      "source": [
        "# theta = np.zeros((n,1))\n",
        "# num_iters=200\n",
        "# eta = 0.1\n",
        "# history_1 = GradientDescentMulti(x_train[:10000],y_train[:10000], theta, eta, num_iters)\n",
        "# #print(history)"
      ],
      "execution_count": null,
      "outputs": []
    },
    {
      "cell_type": "code",
      "metadata": {
        "id": "Q1QBUhkO44vd"
      },
      "source": [
        "# history_1 = np. array(history_1)\n",
        "# history_1reshape=np.reshape(history_1, (200,))"
      ],
      "execution_count": null,
      "outputs": []
    },
    {
      "cell_type": "code",
      "metadata": {
        "id": "Wxsk8rKAGm_R"
      },
      "source": [
        "# import matplotlib.pyplot as plt"
      ],
      "execution_count": null,
      "outputs": []
    },
    {
      "cell_type": "code",
      "metadata": {
        "id": "T565VJewFySm",
        "colab": {
          "base_uri": "https://localhost:8080/",
          "height": 398
        },
        "outputId": "51fb5eb6-765b-4a0b-c073-a9bd0d770df7"
      },
      "source": [
        "# fig,axes=plt.subplots(1,1,figsize=(6,4),dpi=100)\n",
        "# plt.plot(range(1,201),history_003reshape,linewidth=2,label='learning rate =0.003')\n",
        "# plt.plot(range(1,201),history_001reshape,linewidth=2,label='learning rate =0.001')\n",
        "# plt.plot(range(1,201),history_03reshape,linewidth=2, label = 'learning rate = 0.03')\n",
        "# plt.plot(range(1,201),history_reshape,linewidth=2, label = 'learning rate = 0.01')\n",
        "# plt.plot(range(1,201),history_3reshape,linewidth=2, label = 'learning rate = 0.3')\n",
        "# plt.plot(range(1,201),history_1reshape,linewidth=2, label = 'learning rate = 0.1')\n",
        "# plt.xlabel('Iterations')\n",
        "# plt.ylabel('J')\n",
        "# plt.legend()\n"
      ],
      "execution_count": null,
      "outputs": [
        {
          "output_type": "execute_result",
          "data": {
            "text/plain": [
              "<matplotlib.legend.Legend at 0x7f7c439c28d0>"
            ]
          },
          "metadata": {
            "tags": []
          },
          "execution_count": 97
        },
        {
          "output_type": "display_data",
          "data": {
            "image/png": "[encoded data removed]",
            "text/plain": [
              "<Figure size 600x400 with 1 Axes>"
            ]
          },
          "metadata": {
            "tags": [],
            "needs_background": "light"
          }
        }
      ]
    },
    {
      "cell_type": "code",
      "metadata": {
        "id": "DKmibt794t42",
        "colab": {
          "base_uri": "https://localhost:8080/",
          "height": 34
        },
        "outputId": "3d1d838d-9aa9-4e7e-e982-f305c1ada7c9"
      },
      "source": [
        "from sklearn.linear_model import LinearRegression\n",
        "from sklearn.metrics import mean_squared_error\n",
        "from math import sqrt\n",
        "\n",
        "lin_reg=LinearRegression()\n",
        "lin_reg.fit(x_train,y_train)\n",
        "lin_predict=lin_reg.predict(x_val)\n",
        "lin_mse=mean_squared_error(lin_predict,y_val)\n",
        "lin_rmse=sqrt(lin_mse)\n",
        "lin_rmse"
      ],
      "execution_count": null,
      "outputs": [
        {
          "output_type": "execute_result",
          "data": {
            "text/plain": [
              "2559.0594065652162"
            ]
          },
          "metadata": {
            "tags": []
          },
          "execution_count": 79
        }
      ]
    },
    {
      "cell_type": "markdown",
      "metadata": {
        "id": "uFd-B5nY6PHS"
      },
      "source": [
        "Linear regression RMSE 2559.0594065652162"
      ]
    },
    {
      "cell_type": "markdown",
      "metadata": {
        "id": "iABKX-Sc_BfZ"
      },
      "source": [
        "**Applying 2 degree polynomial**"
      ]
    },
    {
      "cell_type": "code",
      "metadata": {
        "id": "GtMrYcHO_AVJ",
        "colab": {
          "base_uri": "https://localhost:8080/",
          "height": 34
        },
        "outputId": "dc63d872-415a-41f5-c37d-5621f501e72d"
      },
      "source": [
        "from sklearn.preprocessing import PolynomialFeatures\n",
        "\n",
        "poly_features=PolynomialFeatures(degree=2,include_bias=False)\n",
        "x_poly=poly_features.fit_transform(x_train[:1000000])\n",
        "lin_reg=LinearRegression()\n",
        "lin_reg.fit(x_poly,y_train[:1000000])"
      ],
      "execution_count": null,
      "outputs": [
        {
          "output_type": "execute_result",
          "data": {
            "text/plain": [
              "LinearRegression(copy_X=True, fit_intercept=True, n_jobs=None, normalize=False)"
            ]
          },
          "metadata": {
            "tags": []
          },
          "execution_count": 80
        }
      ]
    },
    {
      "cell_type": "code",
      "metadata": {
        "id": "w2uH6cjNAnjb",
        "colab": {
          "base_uri": "https://localhost:8080/",
          "height": 34
        },
        "outputId": "21f4dfbe-bc37-4c19-f2a0-352209af340b"
      },
      "source": [
        "x_val_poly=poly_features.transform(x_val)\n",
        "predict=lin_reg.predict(x_val_poly)\n",
        "degree2_mse=mean_squared_error(predict,y_val)\n",
        "degree2_rmse=sqrt(degree2_mse)\n",
        "degree2_rmse"
      ],
      "execution_count": null,
      "outputs": [
        {
          "output_type": "execute_result",
          "data": {
            "text/plain": [
              "2486.5616840162443"
            ]
          },
          "metadata": {
            "tags": []
          },
          "execution_count": 81
        }
      ]
    },
    {
      "cell_type": "markdown",
      "metadata": {
        "id": "5qFwcn6S6WIo"
      },
      "source": [
        "2nd degree polynomial RMSE 2486.5616840162443"
      ]
    },
    {
      "cell_type": "markdown",
      "metadata": {
        "id": "9EQn3cWle1pM"
      },
      "source": [
        "**Using grid search with Ridge regression**"
      ]
    },
    {
      "cell_type": "code",
      "metadata": {
        "id": "nNs7sswBe1KJ",
        "colab": {
          "base_uri": "https://localhost:8080/",
          "height": 153
        },
        "outputId": "36a61356-0a2a-487b-e79d-cb7d652644f8"
      },
      "source": [
        "from sklearn.model_selection import GridSearchCV\n",
        "from sklearn.linear_model import Ridge\n",
        "param_grid=[\n",
        "            {'alpha':[0.001,0.003,0.01,0.03,0.1,0.3,1,3]}\n",
        "]\n",
        "\n",
        "ridge_reg=Ridge()\n",
        "\n",
        "grid_search=GridSearchCV(ridge_reg,param_grid,cv=5,\n",
        "                         scoring='neg_mean_squared_error',\n",
        "                         return_train_score=True)\n",
        "\n",
        "grid_search.fit(x_train[:1000000],y_train[:1000000])"
      ],
      "execution_count": null,
      "outputs": [
        {
          "output_type": "execute_result",
          "data": {
            "text/plain": [
              "GridSearchCV(cv=5, error_score=nan,\n",
              "             estimator=Ridge(alpha=1.0, copy_X=True, fit_intercept=True,\n",
              "                             max_iter=None, normalize=False, random_state=None,\n",
              "                             solver='auto', tol=0.001),\n",
              "             iid='deprecated', n_jobs=None,\n",
              "             param_grid=[{'alpha': [0.001, 0.003, 0.01, 0.03, 0.1, 0.3, 1, 3]}],\n",
              "             pre_dispatch='2*n_jobs', refit=True, return_train_score=True,\n",
              "             scoring='neg_mean_squared_error', verbose=0)"
            ]
          },
          "metadata": {
            "tags": []
          },
          "execution_count": 84
        }
      ]
    },
    {
      "cell_type": "code",
      "metadata": {
        "id": "6Rij3Fqzxkb8",
        "colab": {
          "base_uri": "https://localhost:8080/",
          "height": 34
        },
        "outputId": "6d4b8452-878a-4e55-fadc-e49437ebc956"
      },
      "source": [
        "grid_search.best_params_"
      ],
      "execution_count": null,
      "outputs": [
        {
          "output_type": "execute_result",
          "data": {
            "text/plain": [
              "{'alpha': 3}"
            ]
          },
          "metadata": {
            "tags": []
          },
          "execution_count": 85
        }
      ]
    },
    {
      "cell_type": "markdown",
      "metadata": {
        "id": "QlTfE0Op6dQ5"
      },
      "source": [
        "Ridge regression alpha=3\n"
      ]
    },
    {
      "cell_type": "markdown",
      "metadata": {
        "id": "X2yXfhuOxprs"
      },
      "source": [
        "**Ridge regression with alpha=3**"
      ]
    },
    {
      "cell_type": "code",
      "metadata": {
        "id": "YFuOJ-QvxpQW",
        "colab": {
          "base_uri": "https://localhost:8080/",
          "height": 34
        },
        "outputId": "657b6dab-6574-4cbb-eb5e-2b0be82fc1aa"
      },
      "source": [
        "from sklearn.metrics import mean_squared_error\n",
        "\n",
        "ridge_reg=Ridge(alpha=3,solver='cholesky')\n",
        "ridge_reg.fit(x_train[:1000000],y_train[:1000000])\n",
        "ridge_pred=ridge_reg.predict(x_val)\n",
        "ridge_mse=mean_squared_error(ridge_pred,y_val)\n",
        "ridge_rmse=np.sqrt(ridge_mse)\n",
        "ridge_rmse"
      ],
      "execution_count": null,
      "outputs": [
        {
          "output_type": "execute_result",
          "data": {
            "text/plain": [
              "2496.5487098674917"
            ]
          },
          "metadata": {
            "tags": []
          },
          "execution_count": 86
        }
      ]
    },
    {
      "cell_type": "markdown",
      "metadata": {
        "id": "NGjQPFPR6g20"
      },
      "source": [
        "Ridge regression RMSE 2496.5487098674917"
      ]
    },
    {
      "cell_type": "markdown",
      "metadata": {
        "id": "l439lTVT8yl7"
      },
      "source": [
        "**Lasso regression with alpha= 0.001**"
      ]
    },
    {
      "cell_type": "code",
      "metadata": {
        "id": "g-p2qYh385cH"
      },
      "source": [
        "from sklearn.linear_model import Lasso\n",
        "\n",
        "lasso_reg=Lasso(alpha=0.001)\n",
        "lasso_reg.fit(x_train[:1000000],y_train[:1000000])\n",
        "lasso_pred=lasso_reg.predict(x_val)\n",
        "lasso_mse=mean_squared_error(lasso_pred,y_val)\n",
        "lasso_rmse=np.sqrt(lasso_mse)\n",
        "lasso_rmse"
      ],
      "execution_count": null,
      "outputs": []
    },
    {
      "cell_type": "markdown",
      "metadata": {
        "id": "pk9Bd86l-Fc9"
      },
      "source": [
        "Lasso regression RMSE 2496.5489890912604"
      ]
    },
    {
      "cell_type": "markdown",
      "metadata": {
        "id": "Ev1KSepK-VtT"
      },
      "source": [
        "**Grid search with elastic net**"
      ]
    },
    {
      "cell_type": "code",
      "metadata": {
        "id": "U2dkoFOt-VSm"
      },
      "source": [
        "from sklearn.model_selection import GridSearchCV\n",
        "from sklearn.linear_model import ElasticNet\n",
        "\n",
        "param_grid=[\n",
        "            {'alpha':[0.001,0.003,0.01,0.03,0.1,0.3,1,3]}\n",
        "]\n",
        "\n",
        "elastic_reg=ElasticNet()\n",
        "\n",
        "grid_search=GridSearchCV(elastic_reg,param_grid,cv=5,\n",
        "                         scoring='neg_mean_squared_error',\n",
        "                         return_train_score=True)\n",
        "\n",
        "grid_search.fit(x_train[:1000000],y_train[:1000000])"
      ],
      "execution_count": null,
      "outputs": []
    },
    {
      "cell_type": "code",
      "metadata": {
        "id": "2qExj37k_J_p"
      },
      "source": [
        "grid_search.best_params_"
      ],
      "execution_count": null,
      "outputs": []
    },
    {
      "cell_type": "markdown",
      "metadata": {
        "id": "jZAfZcjEF4fd"
      },
      "source": [
        "Elastic net alpha=0.001"
      ]
    },
    {
      "cell_type": "markdown",
      "metadata": {
        "id": "vS8rz_odF9QO"
      },
      "source": [
        "**Applying elastic net with alpha=0.001**"
      ]
    },
    {
      "cell_type": "code",
      "metadata": {
        "id": "fA-PnRPNF0od"
      },
      "source": [
        "from sklearn.linear_model import ElasticNet\n",
        "\n",
        "elastic_reg=ElasticNet(alpha=0.001)\n",
        "elastic_reg.fit(x_train[:1000000],y_train[:1000000])\n",
        "elastic_pred=elastic_reg.predict(x_val)\n",
        "elastic_mse=mean_squared_error(elastic_pred,y_val)\n",
        "elastic_rmse=np.sqrt(elastic_mse)\n",
        "elastic_rmse"
      ],
      "execution_count": null,
      "outputs": []
    },
    {
      "cell_type": "markdown",
      "metadata": {
        "id": "tLd3qlSqHaG9"
      },
      "source": [
        "Elastic net RMSE= 2496.5731476766564"
      ]
    },
    {
      "cell_type": "markdown",
      "metadata": {
        "id": "SBtbLz9aFX4t"
      },
      "source": [
        "**Batch gradient descent**"
      ]
    },
    {
      "cell_type": "code",
      "metadata": {
        "id": "iangtu4hHMbF"
      },
      "source": [
        "#bias_column_size = x_train.shape[0] \n",
        "bias_column_size = 1000000   "
      ],
      "execution_count": null,
      "outputs": []
    },
    {
      "cell_type": "code",
      "metadata": {
        "id": "x_hjMYmJFb4F"
      },
      "source": [
        "x_train_b = np.c_ [np.ones((bias_column_size,1)), x_train[:1000000]]# adding the bias column in x_train"
      ],
      "execution_count": null,
      "outputs": []
    },
    {
      "cell_type": "markdown",
      "metadata": {
        "id": "eoe3lwCNJIjj"
      },
      "source": [
        "**Using normal equation to get theta and then compare with BGD and SGD,MGD**"
      ]
    },
    {
      "cell_type": "code",
      "metadata": {
        "id": "_fMjx-AAJINb"
      },
      "source": [
        "theta_best = np.linalg.inv(x_train_b.T .dot (x_train_b)) .dot(x_train_b.T) .dot (y_train[:1000000])\n",
        "theta_best"
      ],
      "execution_count": null,
      "outputs": []
    },
    {
      "cell_type": "code",
      "metadata": {
        "id": "EB7CuvCCKqZC"
      },
      "source": [
        "bias_val_column_size = x_val.shape[0]"
      ],
      "execution_count": null,
      "outputs": []
    },
    {
      "cell_type": "code",
      "metadata": {
        "id": "yQXeY59rKUZV"
      },
      "source": [
        "x_val_b = np.c_[np.ones((bias_val_column_size,1)),x_val]"
      ],
      "execution_count": null,
      "outputs": []
    },
    {
      "cell_type": "markdown",
      "metadata": {
        "id": "AWGhYGTlLJEb"
      },
      "source": [
        "**Batch gradient descent**"
      ]
    },
    {
      "cell_type": "code",
      "metadata": {
        "id": "IV7btz0sK757"
      },
      "source": [
        "eta_BGD=0.3\n",
        "n_iterations = 20\n",
        "m= 1000000\n",
        "\n",
        "theta_BGD = np.random.randn(theta_best.shape[0],1)\n",
        "for iteration in range(n_iterations):\n",
        "    gradients_BGD = 2/m * x_train_b.T.dot(x_train_b.dot(theta_BGD) - y_train[:1000000])\n",
        "    theta_BGD = theta_BGD - eta_BGD * gradients_BGD "
      ],
      "execution_count": null,
      "outputs": []
    },
    {
      "cell_type": "code",
      "metadata": {
        "id": "WrFy4_zoMW2u"
      },
      "source": [
        "theta_BGD"
      ],
      "execution_count": null,
      "outputs": []
    },
    {
      "cell_type": "markdown",
      "metadata": {
        "id": "sS1L0mmfIcld"
      },
      "source": [
        "**Grid search to get the optimal learning rate**"
      ]
    },
    {
      "cell_type": "code",
      "metadata": {
        "id": "8pBTkjDHIg7h"
      },
      "source": [
        "from sklearn.model_selection import GridSearchCV\n",
        "from sklearn.linear_model import SGDRegressor\n",
        "\n",
        "param_grid=[\n",
        "            {'eta0':[0.001,0.003,0.01,0.03,0.1,0.3,1,3]}\n",
        "]\n",
        "\n",
        "sgd_reg=SGDRegressor(max_iter=1000,tol=1e-3,penalty='l2')\n",
        "\n",
        "grid_search=GridSearchCV(sgd_reg,param_grid,cv=5,\n",
        "                         scoring='neg_mean_squared_error',\n",
        "                         return_train_score=True)\n",
        "grid_search.fit(x_train[:1000000],y_train[:1000000])"
      ],
      "execution_count": null,
      "outputs": []
    },
    {
      "cell_type": "code",
      "metadata": {
        "id": "Xmt0fMxTJfVK"
      },
      "source": [
        "grid_search.best_params_"
      ],
      "execution_count": null,
      "outputs": []
    },
    {
      "cell_type": "markdown",
      "metadata": {
        "id": "TYx5Q4RvOc3Y"
      },
      "source": [
        "**Stochastic gradient descent with eta0=0.01**"
      ]
    },
    {
      "cell_type": "code",
      "metadata": {
        "id": "xVbpBaVVHoqX",
        "colab": {
          "base_uri": "https://localhost:8080/",
          "height": 34
        },
        "outputId": "9f499595-ca91-44f6-b028-96ad2cc3acc0"
      },
      "source": [
        "from sklearn.linear_model import SGDRegressor\n",
        "from sklearn. metrics import mean_squared_error\n",
        "\n",
        "sgd_reg=SGDRegressor(max_iter=1000,tol=1e-3,penalty='l2',eta0=0.01)\n",
        "sgd_reg.fit(x_train[:1000000],y_train[:1000000])\n",
        "sgd_pred=sgd_reg.predict(x_val)\n",
        "sgd_mse=mean_squared_error(sgd_pred,y_val)\n",
        "sgd_rmse=np.sqrt(sgd_mse)\n",
        "sgd_rmse"
      ],
      "execution_count": null,
      "outputs": [
        {
          "output_type": "execute_result",
          "data": {
            "text/plain": [
              "2496.186657833603"
            ]
          },
          "metadata": {
            "tags": []
          },
          "execution_count": 79
        }
      ]
    },
    {
      "cell_type": "markdown",
      "metadata": {
        "id": "noHNta54N-lS"
      },
      "source": [
        "Stochastic gradient descent RMSE with eta0=0.01 is 2496.186657833603"
      ]
    },
    {
      "cell_type": "markdown",
      "metadata": {
        "id": "GLNndoyOuF68"
      },
      "source": [
        "**Support Vector Regressor**"
      ]
    },
    {
      "cell_type": "code",
      "metadata": {
        "id": "cm5Q7DqYxp5R"
      },
      "source": [
        "from sklearn.model_selection import GridSearchCV\n",
        "from sklearn.svm import LinearSVR\n",
        "\n",
        "param_grid = [\n",
        "              {'epsilon':[0.003,0.001,0.03,0.01,0.3,0.1,1,3,10,20,50,100,400,800,1000]}\n",
        "]\n",
        "\n",
        "svm_reg = LinearSVR()\n",
        "grid_search = GridSearchCV(svm_reg,param_grid,\n",
        "                           scoring ='neg_mean_squared_error',\n",
        "                           return_train_score =True)\n",
        "grid_search.fit(x_train[:1000000],y_train[:1000000])"
      ],
      "execution_count": null,
      "outputs": []
    },
    {
      "cell_type": "code",
      "metadata": {
        "id": "G3upQSxIz4Ss"
      },
      "source": [
        "grid_search.best_params_"
      ],
      "execution_count": null,
      "outputs": []
    },
    {
      "cell_type": "markdown",
      "metadata": {
        "id": "hYza_NP93Ygj"
      },
      "source": [
        "**from grid search epsilon = 100. LinearSVR with epsilon = 1000**"
      ]
    },
    {
      "cell_type": "code",
      "metadata": {
        "id": "Nw-qLuzauK9A",
        "colab": {
          "base_uri": "https://localhost:8080/",
          "height": 36
        },
        "outputId": "ef78a288-95b0-4dd5-b8f9-69be63b48368"
      },
      "source": [
        "from sklearn.svm import LinearSVR\n",
        "from sklearn.metrics import mean_squared_error\n",
        "from math import sqrt\n",
        "\n",
        "svm_reg = LinearSVR(epsilon =100)\n",
        "svm_reg.fit(x_train[:1000000],y_train[:1000000])\n",
        "svm_reg_pred = svm_reg.predict(x_val)\n",
        "svm_reg_error = mean_squared_error(svm_reg_pred,y_val)\n",
        "svm_reg_rmse = sqrt(svm_reg_error)\n",
        "svm_reg_rmse"
      ],
      "execution_count": null,
      "outputs": [
        {
          "output_type": "execute_result",
          "data": {
            "text/plain": [
              "2509.112719343564"
            ]
          },
          "metadata": {
            "tags": []
          },
          "execution_count": 41
        }
      ]
    },
    {
      "cell_type": "markdown",
      "metadata": {
        "id": "SKjMqIZ6U4Z2"
      },
      "source": [
        "Linear SVM RMSE = 2509.112719343564"
      ]
    },
    {
      "cell_type": "code",
      "metadata": {
        "id": "dVHWglf53jjX"
      },
      "source": [
        "from sklearn.model_selection import GridSearchCV\n",
        "from sklearn.svm import SVR\n",
        "\n",
        "param_grid = [\n",
        "              {'epsilon':[10,20,50,100,400,800,1000]},\n",
        "              {'degree':[2,3,4,5]},\n",
        "              {'C':[0.003,0.001,0.03,0.01]} #,20,50,100,400,800,1000\n",
        "]\n",
        "\n",
        "svm_poly_reg = SVR(kernel = 'poly')\n",
        "\n",
        "grid_search = GridSearchCV(svm_poly_reg,param_grid,\n",
        "                           scoring ='neg_mean_squared_error',\n",
        "                           return_train_score =True)\n",
        "\n",
        "grid_search.fit(x_train[:1000000],y_train[:1000000])"
      ],
      "execution_count": null,
      "outputs": []
    },
    {
      "cell_type": "code",
      "metadata": {
        "id": "w1gW4feS5S29"
      },
      "source": [
        "grid_search.bet_params_"
      ],
      "execution_count": null,
      "outputs": []
    },
    {
      "cell_type": "code",
      "metadata": {
        "id": "5-cS0eSa7E8V"
      },
      "source": [
        "from sklearn.svm import SVR\n",
        "from sklearn.metrics mean_squared_error\n",
        "from math import sqrt\n",
        "\n",
        "svm_poly_reg = SVR(kernel ='poly', degree = '', C ='', epislon ='')\n",
        "svm_poly_reg.fit(x_train[:1000000],y_train[:1000000])\n",
        "svm_poly_pred = svm_poly_reg.pred(x_val)\n",
        "svm_poly_mse=mean_squared_error(svm_poy_pred,y_val)\n",
        "svm_poly_rmse = sqrt(svm_poly_mse)\n",
        "svm_poy_rmse"
      ],
      "execution_count": null,
      "outputs": []
    },
    {
      "cell_type": "markdown",
      "metadata": {
        "id": "TUP3S-7ROhh1"
      },
      "source": [
        "**Decision tree**"
      ]
    },
    {
      "cell_type": "markdown",
      "metadata": {
        "id": "sbkvTzHZECRx"
      },
      "source": [
        "**The plan was to let decision tree fit however it wanted and let it overfit, make the figure using export_graphviz and then reducing overfitting**"
      ]
    },
    {
      "cell_type": "code",
      "metadata": {
        "id": "wKvBdrvAOmRF",
        "colab": {
          "base_uri": "https://localhost:8080/",
          "height": 34
        },
        "outputId": "819783e9-1b65-4834-8597-8639c956e3cd"
      },
      "source": [
        "from sklearn.tree import DecisionTreeRegressor\n",
        "from sklearn.metrics import mean_squared_error\n",
        "\n",
        "tree_reg=DecisionTreeRegressor()\n",
        "tree_reg.fit(x_train[:1000000],y_train[:1000000])\n",
        "tree_pred=tree_reg.predict(x_val)\n",
        "tree_mse=mean_squared_error(tree_pred,y_val)\n",
        "tree_rmse=np.sqrt(tree_mse)\n",
        "tree_rmse"
      ],
      "execution_count": null,
      "outputs": [
        {
          "output_type": "execute_result",
          "data": {
            "text/plain": [
              "2478.668371845164"
            ]
          },
          "metadata": {
            "tags": []
          },
          "execution_count": 79
        }
      ]
    },
    {
      "cell_type": "markdown",
      "metadata": {
        "id": "vEUbUyE2-cPB"
      },
      "source": [
        "Decision tree RMSE = 2478.8828020681417\n"
      ]
    },
    {
      "cell_type": "code",
      "metadata": {
        "id": "hb6v6HvF8ON_",
        "colab": {
          "base_uri": "https://localhost:8080/",
          "height": 34
        },
        "outputId": "615a5d56-ca84-4a6d-ad1b-9235394d7186"
      },
      "source": [
        "from sklearn.tree import DecisionTreeRegressor\n",
        "from sklearn.metrics import mean_squared_error\n",
        "\n",
        "tree_reg=DecisionTreeRegressor(max_depth =200, max_leaf_nodes=1000)\n",
        "tree_reg.fit(x_train[:1000000],y_train[:1000000])\n",
        "tree_pred=tree_reg.predict(x_val)\n",
        "tree_mse=mean_squared_error(tree_pred,y_val)\n",
        "tree_rmse=np.sqrt(tree_mse)\n",
        "tree_rmse"
      ],
      "execution_count": null,
      "outputs": [
        {
          "output_type": "execute_result",
          "data": {
            "text/plain": [
              "2465.122331183557"
            ]
          },
          "metadata": {
            "tags": []
          },
          "execution_count": 80
        }
      ]
    },
    {
      "cell_type": "markdown",
      "metadata": {
        "id": "n3YNQCD-MwDa"
      },
      "source": [
        "Decision tree RMSE = 2465.122"
      ]
    },
    {
      "cell_type": "markdown",
      "metadata": {
        "id": "Tb2YJPGnOmx3"
      },
      "source": [
        "**Ensemble**"
      ]
    },
    {
      "cell_type": "code",
      "metadata": {
        "id": "wp6WOVgaOp4Y",
        "colab": {
          "base_uri": "https://localhost:8080/",
          "height": 512
        },
        "outputId": "082e704f-b1ec-4210-8998-9fe407a93ad5"
      },
      "source": [
        "from sklearn.ensemble import VotingRegressor\n",
        "from sklearn.svm import LinearSVR\n",
        "from sklearn.linear_model import LinearRegression\n",
        "from sklearn.linear_model import Ridge\n",
        "from sklearn.linear_model import Lasso\n",
        "from sklearn.linear_model import ElasticNet\n",
        "from sklearn.linear_model import SGDRegressor\n",
        "from sklearn.svm import LinearSVR\n",
        "from sklearn.svm import SVR\n",
        "from sklearn.tree import DecisionTreeRegressor\n",
        "\n",
        "lin_reg=LinearRegression()\n",
        "#ridge_reg=Ridge(alpha=3,solver='cholesky')\n",
        "#lasso_reg=Lasso(alpha=0.001)\n",
        "#elastic_reg=ElasticNet(alpha=0.001)\n",
        "sgd_reg=SGDRegressor(max_iter=1000,tol=1e-3,penalty='l2',eta0=0.01)\n",
        "#svm_reg = LinearSVR(epsilon =100)\n",
        "tree_reg=DecisionTreeRegressor(max_depth =200, max_leaf_nodes=1000)\n",
        "\n",
        "voting_reg=VotingRegressor(\n",
        "    estimators=[('lr',lin_reg),('sgd_reg',sgd_reg),\n",
        "                ('tree',tree_reg)]\n",
        ")\n",
        "\n",
        "voting_reg.fit(x_train[:1000000],y_train[:1000000])"
      ],
      "execution_count": null,
      "outputs": [
        {
          "output_type": "execute_result",
          "data": {
            "text/plain": [
              "VotingRegressor(estimators=[('lr',\n",
              "                             LinearRegression(copy_X=True, fit_intercept=True,\n",
              "                                              n_jobs=None, normalize=False)),\n",
              "                            ('sgd_reg',\n",
              "                             SGDRegressor(alpha=0.0001, average=False,\n",
              "                                          early_stopping=False, epsilon=0.1,\n",
              "                                          eta0=0.01, fit_intercept=True,\n",
              "                                          l1_ratio=0.15,\n",
              "                                          learning_rate='invscaling',\n",
              "                                          loss='squared_loss', max_iter=1000,\n",
              "                                          n_iter_no_change=5, penalty='l2',\n",
              "                                          power_t=0.25, rando...\n",
              "                                          validation_fraction=0.1, verbose=0,\n",
              "                                          warm_start=False)),\n",
              "                            ('tree',\n",
              "                             DecisionTreeRegressor(ccp_alpha=0.0,\n",
              "                                                   criterion='mse',\n",
              "                                                   max_depth=200,\n",
              "                                                   max_features=None,\n",
              "                                                   max_leaf_nodes=1000,\n",
              "                                                   min_impurity_decrease=0.0,\n",
              "                                                   min_impurity_split=None,\n",
              "                                                   min_samples_leaf=1,\n",
              "                                                   min_samples_split=2,\n",
              "                                                   min_weight_fraction_leaf=0.0,\n",
              "                                                   presort='deprecated',\n",
              "                                                   random_state=None,\n",
              "                                                   splitter='best'))],\n",
              "                n_jobs=None, weights=None)"
            ]
          },
          "metadata": {
            "tags": []
          },
          "execution_count": 80
        }
      ]
    },
    {
      "cell_type": "code",
      "metadata": {
        "id": "7ao0jAFEV0Gj",
        "colab": {
          "base_uri": "https://localhost:8080/",
          "height": 34
        },
        "outputId": "e5afd8d0-2a83-4501-a87b-fd94f3e0a7b7"
      },
      "source": [
        "from sklearn.metrics import mean_squared_error\n",
        "\n",
        "voting_reg_pred=voting_reg.predict(x_val)\n",
        "voting_reg_mse=mean_squared_error(voting_reg_pred,y_val)\n",
        "voting_reg_rmse=np.sqrt(voting_reg_mse)\n",
        "voting_reg_rmse"
      ],
      "execution_count": null,
      "outputs": [
        {
          "output_type": "execute_result",
          "data": {
            "text/plain": [
              "2472.3468065578345"
            ]
          },
          "metadata": {
            "tags": []
          },
          "execution_count": 84
        }
      ]
    },
    {
      "cell_type": "markdown",
      "metadata": {
        "id": "BpEvBR2VkBdZ"
      },
      "source": [
        "Voting regressor RMSE 2481.9209460610778"
      ]
    },
    {
      "cell_type": "markdown",
      "metadata": {
        "id": "QLF3VsxvahG-"
      },
      "source": [
        "**BaggingRegressor**"
      ]
    },
    {
      "cell_type": "code",
      "metadata": {
        "id": "xedDxHt1Yw1M"
      },
      "source": [
        "from sklearn.ensemble import BaggingRegressor\n",
        "from sklearn.tree import DecisionTreeRegressor\n",
        "\n",
        "bag_reg= BaggingRegressor(\n",
        "    DecisionTreeRegressor(max_depth =200, max_leaf_nodes=1000),n_estimators =500,\n",
        "    max_samples=2000, bootstrap =True, n_jobs=-1 \n",
        ")\n"
      ],
      "execution_count": null,
      "outputs": []
    },
    {
      "cell_type": "code",
      "metadata": {
        "id": "TIXdVnXBalnv"
      },
      "source": [
        "from math import sqrt\n",
        "\n",
        "bag_reg.fit(x_train[:1000000],y_train[:1000000])\n",
        "bag_pred= bag_reg.predict(x_val)\n",
        "bag_mse=mean_squared_error(y_val,bag_pred)\n",
        "bag_rmse =sqrt(bag_mse)"
      ],
      "execution_count": null,
      "outputs": []
    },
    {
      "cell_type": "code",
      "metadata": {
        "id": "_F52ylT4ePCj",
        "colab": {
          "base_uri": "https://localhost:8080/",
          "height": 34
        },
        "outputId": "0558e573-f802-4ae0-837c-91f56e585aee"
      },
      "source": [
        "bag_rmse"
      ],
      "execution_count": null,
      "outputs": [
        {
          "output_type": "execute_result",
          "data": {
            "text/plain": [
              "2468.695542210922"
            ]
          },
          "metadata": {
            "tags": []
          },
          "execution_count": 91
        }
      ]
    },
    {
      "cell_type": "markdown",
      "metadata": {
        "id": "E13hKwSeebCe"
      },
      "source": [
        "**The error is still quite high (2468.695542210922), have to apply grid search to get the optimum numbers of n_estimators,...Moving on to gradient boosting**"
      ]
    },
    {
      "cell_type": "markdown",
      "metadata": {
        "id": "hQ_NS-zIe0QW"
      },
      "source": [
        "**Gardient boosting**"
      ]
    },
    {
      "cell_type": "code",
      "metadata": {
        "id": "dT7dpKIFeycv",
        "colab": {
          "base_uri": "https://localhost:8080/",
          "height": 176
        },
        "outputId": "45e55f2a-6b26-4ef1-f693-d9b3b8c77948"
      },
      "source": [
        "from sklearn.ensemble import GradientBoostingRegressor\n",
        "from sklearn.metrics import mean_squared_error\n",
        "\n",
        "gbrt = GradientBoostingRegressor(max_depth=2, max_leaf_nodes=1000,n_estimators=500,min_samples_leaf=1000,max_features =9,  random_state=42)\n",
        "gbrt.fit(x_train[:1000000], y_train[:1000000])\n",
        "\n",
        "errors = [mean_squared_error(y_val, y_pred)\n",
        "          for y_pred in gbrt.staged_predict(x_val)]\n",
        "bst_n_estimators = np.argmin(errors) + 1\n",
        "\n",
        "gbrt_best = GradientBoostingRegressor(max_depth=2, n_estimators=bst_n_estimators, random_state=42)\n",
        "gbrt_best.fit(x_train[:1000000], y_train[:1000000])"
      ],
      "execution_count": null,
      "outputs": [
        {
          "output_type": "execute_result",
          "data": {
            "text/plain": [
              "GradientBoostingRegressor(alpha=0.9, ccp_alpha=0.0, criterion='friedman_mse',\n",
              "                          init=None, learning_rate=0.1, loss='ls', max_depth=2,\n",
              "                          max_features=None, max_leaf_nodes=None,\n",
              "                          min_impurity_decrease=0.0, min_impurity_split=None,\n",
              "                          min_samples_leaf=1, min_samples_split=2,\n",
              "                          min_weight_fraction_leaf=0.0, n_estimators=498,\n",
              "                          n_iter_no_change=None, presort='deprecated',\n",
              "                          random_state=42, subsample=1.0, tol=0.0001,\n",
              "                          validation_fraction=0.1, verbose=0, warm_start=False)"
            ]
          },
          "metadata": {
            "tags": []
          },
          "execution_count": 57
        }
      ]
    },
    {
      "cell_type": "code",
      "metadata": {
        "id": "QzkUV1aXp9c9",
        "colab": {
          "base_uri": "https://localhost:8080/",
          "height": 34
        },
        "outputId": "f5f1c64f-d067-44f3-b224-725e8a19f8e4"
      },
      "source": [
        "from math import sqrt\n",
        "\n",
        "gbrt_best_pred=gbrt_best.predict(x_val)\n",
        "gbrt_best_mse=mean_squared_error(gbrt_best_pred,y_val)\n",
        "gbrt_best_rmse = sqrt(gbrt_best_mse)\n",
        "gbrt_best_rmse"
      ],
      "execution_count": null,
      "outputs": [
        {
          "output_type": "execute_result",
          "data": {
            "text/plain": [
              "2459.626391781202"
            ]
          },
          "metadata": {
            "tags": []
          },
          "execution_count": 58
        }
      ]
    },
    {
      "cell_type": "markdown",
      "metadata": {
        "id": "pPP6pdo6WTti"
      },
      "source": [
        "gradient boosting RMSE with max_depth=200, max_leaf_nodes=1000,n_estimators=500,random_state=2491.8535321096856///// 2460.9124525611933`"
      ]
    },
    {
      "cell_type": "markdown",
      "metadata": {
        "id": "-eL6WrS9hGZC"
      },
      "source": [
        "**Making test set predictions**"
      ]
    },
    {
      "cell_type": "code",
      "metadata": {
        "id": "ikQ_Kh_9hLq7"
      },
      "source": [
        "gbrt_best_test= gbrt_best.predict(testing_prepared)"
      ],
      "execution_count": null,
      "outputs": []
    },
    {
      "cell_type": "markdown",
      "metadata": {
        "id": "VhqYwRaAhOUo"
      },
      "source": [
        "**Saving test set predictions**"
      ]
    },
    {
      "cell_type": "code",
      "metadata": {
        "id": "lckq-3_NhWSU",
        "colab": {
          "base_uri": "https://localhost:8080/",
          "height": 197
        },
        "outputId": "4789fc28-0631-4079-82bd-3ee560ed7a25"
      },
      "source": [
        "chilled_water_preds = pd.DataFrame({'row_id':test_chilled_water['row_id'],\n",
        "                            'meter_reading':gbrt_best_test})\n",
        "chilled_water_preds.head()"
      ],
      "execution_count": null,
      "outputs": [
        {
          "output_type": "execute_result",
          "data": {
            "text/html": [
              "<div>\n",
              "<style scoped>\n",
              "    .dataframe tbody tr th:only-of-type {\n",
              "        vertical-align: middle;\n",
              "    }\n",
              "\n",
              "    .dataframe tbody tr th {\n",
              "        vertical-align: top;\n",
              "    }\n",
              "\n",
              "    .dataframe thead th {\n",
              "        text-align: right;\n",
              "    }\n",
              "</style>\n",
              "<table border=\"1\" class=\"dataframe\">\n",
              "  <thead>\n",
              "    <tr style=\"text-align: right;\">\n",
              "      <th></th>\n",
              "      <th>row_id</th>\n",
              "      <th>meter_reading</th>\n",
              "    </tr>\n",
              "  </thead>\n",
              "  <tbody>\n",
              "    <tr>\n",
              "      <th>8</th>\n",
              "      <td>8</td>\n",
              "      <td>874.385058</td>\n",
              "    </tr>\n",
              "    <tr>\n",
              "      <th>11</th>\n",
              "      <td>11</td>\n",
              "      <td>73.918893</td>\n",
              "    </tr>\n",
              "    <tr>\n",
              "      <th>16</th>\n",
              "      <td>16</td>\n",
              "      <td>316.179403</td>\n",
              "    </tr>\n",
              "    <tr>\n",
              "      <th>18</th>\n",
              "      <td>18</td>\n",
              "      <td>386.721997</td>\n",
              "    </tr>\n",
              "    <tr>\n",
              "      <th>20</th>\n",
              "      <td>20</td>\n",
              "      <td>148.178004</td>\n",
              "    </tr>\n",
              "  </tbody>\n",
              "</table>\n",
              "</div>"
            ],
            "text/plain": [
              "    row_id  meter_reading\n",
              "8        8     874.385058\n",
              "11      11      73.918893\n",
              "16      16     316.179403\n",
              "18      18     386.721997\n",
              "20      20     148.178004"
            ]
          },
          "metadata": {
            "tags": []
          },
          "execution_count": 63
        }
      ]
    },
    {
      "cell_type": "code",
      "metadata": {
        "id": "RPi30hkPhY4n",
        "colab": {
          "base_uri": "https://localhost:8080/",
          "height": 34
        },
        "outputId": "9135283a-c655-4e16-f3c9-9f24f6944d2c"
      },
      "source": [
        "file_name='chilled_water_preds.csv'\n",
        "chilled_water_preds.to_csv(file_name,index=False)\n",
        "print('Saved file:'+file_name)"
      ],
      "execution_count": null,
      "outputs": [
        {
          "output_type": "stream",
          "text": [
            "Saved file:chilled_water_preds.csv\n"
          ],
          "name": "stdout"
        }
      ]
    }
  ]
}