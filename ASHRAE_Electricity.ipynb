{
  "nbformat": 4,
  "nbformat_minor": 0,
  "metadata": {
    "colab": {
      "name": "Copy of ASHRAE GPU-Electricity.ipynb",
      "provenance": [],
      "collapsed_sections": [],
      "machine_shape": "hm"
    },
    "kernelspec": {
      "name": "python3",
      "display_name": "Python 3"
    }
  },
  "cells": [
    {
      "cell_type": "code",
      "metadata": {
        "id": "pkpOoLmu3WeC",
        "colab_type": "code",
        "colab": {}
      },
      "source": [
        "import os,shutil"
      ],
      "execution_count": null,
      "outputs": []
    },
    {
      "cell_type": "code",
      "metadata": {
        "id": "80SLOezQ66de",
        "colab_type": "code",
        "colab": {}
      },
      "source": [
        "os.environ['KAGGLE_USERNAME']='rohanazad'\n",
        "os.environ['KAGGLE_KEY']='f3cf3c594532e397b78564e4bbe88ec6'"
      ],
      "execution_count": null,
      "outputs": []
    },
    {
      "cell_type": "code",
      "metadata": {
        "id": "y7x1pAux75az",
        "colab_type": "code",
        "colab": {
          "base_uri": "https://localhost:8080/",
          "height": 141
        },
        "outputId": "1515bc49-b731-4164-cdb0-cf02dc68fa24"
      },
      "source": [
        "!kaggle competitions download -c ashrae-energy-prediction"
      ],
      "execution_count": null,
      "outputs": [
        {
          "output_type": "stream",
          "text": [
            "Warning: Looks like you're using an outdated API Version, please consider updating (server 1.5.6 / client 1.5.4)\n",
            "test.csv.zip: Skipping, found more recently modified local copy (use --force to force download)\n",
            "sample_submission.csv.zip: Skipping, found more recently modified local copy (use --force to force download)\n",
            "building_metadata.csv: Skipping, found more recently modified local copy (use --force to force download)\n",
            "weather_test.csv.zip: Skipping, found more recently modified local copy (use --force to force download)\n",
            "train.csv.zip: Skipping, found more recently modified local copy (use --force to force download)\n",
            "weather_train.csv.zip: Skipping, found more recently modified local copy (use --force to force download)\n"
          ],
          "name": "stdout"
        }
      ]
    },
    {
      "cell_type": "code",
      "metadata": {
        "id": "Xm3NAdYx7_6-",
        "colab_type": "code",
        "colab": {}
      },
      "source": [
        "import pandas as pd"
      ],
      "execution_count": null,
      "outputs": []
    },
    {
      "cell_type": "code",
      "metadata": {
        "id": "c6Lp7Rw09JR1",
        "colab_type": "code",
        "colab": {}
      },
      "source": [
        "import zipfile\n",
        "\n",
        "unzipped_train=zipfile.ZipFile('train.csv.zip')\n",
        "unzipped_train.extractall()\n",
        "unzipped_train.close()\n",
        "\n",
        "unzipped_test=zipfile.ZipFile('test.csv.zip')\n",
        "unzipped_test.extractall()\n",
        "unzipped_test.close()"
      ],
      "execution_count": null,
      "outputs": []
    },
    {
      "cell_type": "code",
      "metadata": {
        "id": "uy2EjlD29vtB",
        "colab_type": "code",
        "colab": {}
      },
      "source": [
        "train=pd.read_csv('train.csv')\n",
        "test=pd.read_csv('test.csv')\n",
        "weather_train_dir='/content/drive/My Drive/weather_train3.csv'\n",
        "weather_train=pd.read_csv(weather_train_dir)\n",
        "weather_test_dir='/content/drive/My Drive/weather_test2.csv'\n",
        "weather_test=pd.read_csv(weather_test_dir)\n",
        "building_met_dir='/content/drive/My Drive/building_metadata_save.csv'\n",
        "building_met=pd.read_csv(building_met_dir)"
      ],
      "execution_count": null,
      "outputs": []
    },
    {
      "cell_type": "code",
      "metadata": {
        "id": "8AmAEiyJ-RT8",
        "colab_type": "code",
        "colab": {}
      },
      "source": [
        "# train.head()"
      ],
      "execution_count": null,
      "outputs": []
    },
    {
      "cell_type": "code",
      "metadata": {
        "id": "4-c_lrEJ-kjt",
        "colab_type": "code",
        "colab": {
          "base_uri": "https://localhost:8080/",
          "height": 105
        },
        "outputId": "01a5d3b6-76c1-45d5-84d9-1f249353fe46"
      },
      "source": [
        "print('shape of train:',train.shape)\n",
        "print('shape of test:',test.shape)\n",
        "print('shape of weather_train:',weather_train.shape)\n",
        "print('shape of weather_test:',weather_test.shape)\n",
        "print('shape of building_metadata:',building_met.shape)"
      ],
      "execution_count": null,
      "outputs": [
        {
          "output_type": "stream",
          "text": [
            "shape of train: (20216100, 4)\n",
            "shape of test: (41697600, 4)\n",
            "shape of weather_train: (139788, 12)\n",
            "shape of weather_test: (277243, 12)\n",
            "shape of building_metadata: (1449, 6)\n"
          ],
          "name": "stdout"
        }
      ]
    },
    {
      "cell_type": "markdown",
      "metadata": {
        "id": "oz5bdRbU-7WB",
        "colab_type": "text"
      },
      "source": [
        "**timestamp stores data as strings in a particular format. Year,month,day,time**"
      ]
    },
    {
      "cell_type": "markdown",
      "metadata": {
        "id": "vOEXNFcH_P-7",
        "colab_type": "text"
      },
      "source": [
        "**Apply to_datetime to convert string to object**"
      ]
    },
    {
      "cell_type": "code",
      "metadata": {
        "id": "O6KF554A_UxL",
        "colab_type": "code",
        "colab": {}
      },
      "source": [
        "train['timestamp']=pd.to_datetime(train['timestamp'])\n",
        "test['timestamp']=pd.to_datetime(test['timestamp'])\n",
        "weather_train['timestamp']=pd.to_datetime(weather_train['timestamp'])\n",
        "weather_test['timestamp']=pd.to_datetime(weather_test['timestamp'])\n",
        "\n",
        "building_met['primary_use']=building_met['primary_use'].astype('category')"
      ],
      "execution_count": null,
      "outputs": []
    },
    {
      "cell_type": "markdown",
      "metadata": {
        "id": "Dcm3uyua_Za2",
        "colab_type": "text"
      },
      "source": [
        "**Merging the three dataset to create train set**"
      ]
    },
    {
      "cell_type": "code",
      "metadata": {
        "id": "XMFA57F__eUt",
        "colab_type": "code",
        "colab": {}
      },
      "source": [
        "temp=train[['building_id']]\n",
        "temp=temp.merge(building_met,on='building_id',how='left')\n",
        "del temp['building_id']\n",
        "train=pd.concat([train,temp],axis=1)\n",
        "\n"
      ],
      "execution_count": null,
      "outputs": []
    },
    {
      "cell_type": "code",
      "metadata": {
        "id": "sjJNAAie_loh",
        "colab_type": "code",
        "colab": {
          "base_uri": "https://localhost:8080/",
          "height": 197
        },
        "outputId": "70b0df0b-4f8f-4f11-bef3-cb1bad522f16"
      },
      "source": [
        "train.head()"
      ],
      "execution_count": null,
      "outputs": [
        {
          "output_type": "execute_result",
          "data": {
            "text/html": [
              "<div>\n",
              "<style scoped>\n",
              "    .dataframe tbody tr th:only-of-type {\n",
              "        vertical-align: middle;\n",
              "    }\n",
              "\n",
              "    .dataframe tbody tr th {\n",
              "        vertical-align: top;\n",
              "    }\n",
              "\n",
              "    .dataframe thead th {\n",
              "        text-align: right;\n",
              "    }\n",
              "</style>\n",
              "<table border=\"1\" class=\"dataframe\">\n",
              "  <thead>\n",
              "    <tr style=\"text-align: right;\">\n",
              "      <th></th>\n",
              "      <th>building_id</th>\n",
              "      <th>meter</th>\n",
              "      <th>timestamp</th>\n",
              "      <th>meter_reading</th>\n",
              "      <th>site_id</th>\n",
              "      <th>primary_use</th>\n",
              "      <th>square_feet</th>\n",
              "      <th>year_built</th>\n",
              "      <th>floor_count</th>\n",
              "    </tr>\n",
              "  </thead>\n",
              "  <tbody>\n",
              "    <tr>\n",
              "      <th>0</th>\n",
              "      <td>0</td>\n",
              "      <td>0</td>\n",
              "      <td>2016-01-01</td>\n",
              "      <td>0.0</td>\n",
              "      <td>0</td>\n",
              "      <td>Education</td>\n",
              "      <td>7432</td>\n",
              "      <td>2008.0</td>\n",
              "      <td>4</td>\n",
              "    </tr>\n",
              "    <tr>\n",
              "      <th>1</th>\n",
              "      <td>1</td>\n",
              "      <td>0</td>\n",
              "      <td>2016-01-01</td>\n",
              "      <td>0.0</td>\n",
              "      <td>0</td>\n",
              "      <td>Education</td>\n",
              "      <td>2720</td>\n",
              "      <td>2004.0</td>\n",
              "      <td>4</td>\n",
              "    </tr>\n",
              "    <tr>\n",
              "      <th>2</th>\n",
              "      <td>2</td>\n",
              "      <td>0</td>\n",
              "      <td>2016-01-01</td>\n",
              "      <td>0.0</td>\n",
              "      <td>0</td>\n",
              "      <td>Education</td>\n",
              "      <td>5376</td>\n",
              "      <td>1991.0</td>\n",
              "      <td>4</td>\n",
              "    </tr>\n",
              "    <tr>\n",
              "      <th>3</th>\n",
              "      <td>3</td>\n",
              "      <td>0</td>\n",
              "      <td>2016-01-01</td>\n",
              "      <td>0.0</td>\n",
              "      <td>0</td>\n",
              "      <td>Education</td>\n",
              "      <td>23685</td>\n",
              "      <td>2002.0</td>\n",
              "      <td>4</td>\n",
              "    </tr>\n",
              "    <tr>\n",
              "      <th>4</th>\n",
              "      <td>4</td>\n",
              "      <td>0</td>\n",
              "      <td>2016-01-01</td>\n",
              "      <td>0.0</td>\n",
              "      <td>0</td>\n",
              "      <td>Education</td>\n",
              "      <td>116607</td>\n",
              "      <td>1975.0</td>\n",
              "      <td>4</td>\n",
              "    </tr>\n",
              "  </tbody>\n",
              "</table>\n",
              "</div>"
            ],
            "text/plain": [
              "   building_id  meter  timestamp  ...  square_feet  year_built floor_count\n",
              "0            0      0 2016-01-01  ...         7432      2008.0           4\n",
              "1            1      0 2016-01-01  ...         2720      2004.0           4\n",
              "2            2      0 2016-01-01  ...         5376      1991.0           4\n",
              "3            3      0 2016-01-01  ...        23685      2002.0           4\n",
              "4            4      0 2016-01-01  ...       116607      1975.0           4\n",
              "\n",
              "[5 rows x 9 columns]"
            ]
          },
          "metadata": {
            "tags": []
          },
          "execution_count": 17
        }
      ]
    },
    {
      "cell_type": "code",
      "metadata": {
        "id": "hq8EE8xA_orR",
        "colab_type": "code",
        "colab": {}
      },
      "source": [
        "temp=train[['site_id','timestamp']]\n",
        "temp=temp.merge(weather_train,on=['site_id','timestamp'],how='left')\n",
        "del temp['site_id'],temp['timestamp']\n",
        "train=pd.concat([train,temp],axis=1)\n",
        "\n",
        "del temp,weather_train"
      ],
      "execution_count": null,
      "outputs": []
    },
    {
      "cell_type": "code",
      "metadata": {
        "id": "gInV2R09_17r",
        "colab_type": "code",
        "colab": {
          "base_uri": "https://localhost:8080/",
          "height": 301
        },
        "outputId": "e55e54d2-133f-4926-c32a-e878a92675e2"
      },
      "source": [
        "train.head()"
      ],
      "execution_count": null,
      "outputs": [
        {
          "output_type": "execute_result",
          "data": {
            "text/html": [
              "<div>\n",
              "<style scoped>\n",
              "    .dataframe tbody tr th:only-of-type {\n",
              "        vertical-align: middle;\n",
              "    }\n",
              "\n",
              "    .dataframe tbody tr th {\n",
              "        vertical-align: top;\n",
              "    }\n",
              "\n",
              "    .dataframe thead th {\n",
              "        text-align: right;\n",
              "    }\n",
              "</style>\n",
              "<table border=\"1\" class=\"dataframe\">\n",
              "  <thead>\n",
              "    <tr style=\"text-align: right;\">\n",
              "      <th></th>\n",
              "      <th>building_id</th>\n",
              "      <th>meter</th>\n",
              "      <th>timestamp</th>\n",
              "      <th>meter_reading</th>\n",
              "      <th>site_id</th>\n",
              "      <th>primary_use</th>\n",
              "      <th>square_feet</th>\n",
              "      <th>year_built</th>\n",
              "      <th>floor_count</th>\n",
              "      <th>air_temperature</th>\n",
              "      <th>cloud_coverage</th>\n",
              "      <th>dew_temperature</th>\n",
              "      <th>precip_depth_1_hr</th>\n",
              "      <th>sea_level_pressure</th>\n",
              "      <th>wind_direction</th>\n",
              "      <th>wind_speed</th>\n",
              "      <th>Month</th>\n",
              "      <th>Day_date</th>\n",
              "      <th>year</th>\n",
              "    </tr>\n",
              "  </thead>\n",
              "  <tbody>\n",
              "    <tr>\n",
              "      <th>0</th>\n",
              "      <td>0</td>\n",
              "      <td>0</td>\n",
              "      <td>2016-01-01</td>\n",
              "      <td>0.0</td>\n",
              "      <td>0</td>\n",
              "      <td>Education</td>\n",
              "      <td>7432</td>\n",
              "      <td>2008.0</td>\n",
              "      <td>4</td>\n",
              "      <td>25.0</td>\n",
              "      <td>6.0</td>\n",
              "      <td>6.0</td>\n",
              "      <td>1.382557</td>\n",
              "      <td>1019.7</td>\n",
              "      <td>0.0</td>\n",
              "      <td>0.0</td>\n",
              "      <td>1.0</td>\n",
              "      <td>1.0</td>\n",
              "      <td>2016.0</td>\n",
              "    </tr>\n",
              "    <tr>\n",
              "      <th>1</th>\n",
              "      <td>1</td>\n",
              "      <td>0</td>\n",
              "      <td>2016-01-01</td>\n",
              "      <td>0.0</td>\n",
              "      <td>0</td>\n",
              "      <td>Education</td>\n",
              "      <td>2720</td>\n",
              "      <td>2004.0</td>\n",
              "      <td>4</td>\n",
              "      <td>25.0</td>\n",
              "      <td>6.0</td>\n",
              "      <td>6.0</td>\n",
              "      <td>1.382557</td>\n",
              "      <td>1019.7</td>\n",
              "      <td>0.0</td>\n",
              "      <td>0.0</td>\n",
              "      <td>1.0</td>\n",
              "      <td>1.0</td>\n",
              "      <td>2016.0</td>\n",
              "    </tr>\n",
              "    <tr>\n",
              "      <th>2</th>\n",
              "      <td>2</td>\n",
              "      <td>0</td>\n",
              "      <td>2016-01-01</td>\n",
              "      <td>0.0</td>\n",
              "      <td>0</td>\n",
              "      <td>Education</td>\n",
              "      <td>5376</td>\n",
              "      <td>1991.0</td>\n",
              "      <td>4</td>\n",
              "      <td>25.0</td>\n",
              "      <td>6.0</td>\n",
              "      <td>6.0</td>\n",
              "      <td>1.382557</td>\n",
              "      <td>1019.7</td>\n",
              "      <td>0.0</td>\n",
              "      <td>0.0</td>\n",
              "      <td>1.0</td>\n",
              "      <td>1.0</td>\n",
              "      <td>2016.0</td>\n",
              "    </tr>\n",
              "    <tr>\n",
              "      <th>3</th>\n",
              "      <td>3</td>\n",
              "      <td>0</td>\n",
              "      <td>2016-01-01</td>\n",
              "      <td>0.0</td>\n",
              "      <td>0</td>\n",
              "      <td>Education</td>\n",
              "      <td>23685</td>\n",
              "      <td>2002.0</td>\n",
              "      <td>4</td>\n",
              "      <td>25.0</td>\n",
              "      <td>6.0</td>\n",
              "      <td>6.0</td>\n",
              "      <td>1.382557</td>\n",
              "      <td>1019.7</td>\n",
              "      <td>0.0</td>\n",
              "      <td>0.0</td>\n",
              "      <td>1.0</td>\n",
              "      <td>1.0</td>\n",
              "      <td>2016.0</td>\n",
              "    </tr>\n",
              "    <tr>\n",
              "      <th>4</th>\n",
              "      <td>4</td>\n",
              "      <td>0</td>\n",
              "      <td>2016-01-01</td>\n",
              "      <td>0.0</td>\n",
              "      <td>0</td>\n",
              "      <td>Education</td>\n",
              "      <td>116607</td>\n",
              "      <td>1975.0</td>\n",
              "      <td>4</td>\n",
              "      <td>25.0</td>\n",
              "      <td>6.0</td>\n",
              "      <td>6.0</td>\n",
              "      <td>1.382557</td>\n",
              "      <td>1019.7</td>\n",
              "      <td>0.0</td>\n",
              "      <td>0.0</td>\n",
              "      <td>1.0</td>\n",
              "      <td>1.0</td>\n",
              "      <td>2016.0</td>\n",
              "    </tr>\n",
              "  </tbody>\n",
              "</table>\n",
              "</div>"
            ],
            "text/plain": [
              "   building_id  meter  timestamp  ...  Month  Day_date    year\n",
              "0            0      0 2016-01-01  ...    1.0       1.0  2016.0\n",
              "1            1      0 2016-01-01  ...    1.0       1.0  2016.0\n",
              "2            2      0 2016-01-01  ...    1.0       1.0  2016.0\n",
              "3            3      0 2016-01-01  ...    1.0       1.0  2016.0\n",
              "4            4      0 2016-01-01  ...    1.0       1.0  2016.0\n",
              "\n",
              "[5 rows x 19 columns]"
            ]
          },
          "metadata": {
            "tags": []
          },
          "execution_count": 19
        }
      ]
    },
    {
      "cell_type": "code",
      "metadata": {
        "id": "CSMfxBB_AqVI",
        "colab_type": "code",
        "colab": {
          "base_uri": "https://localhost:8080/",
          "height": 34
        },
        "outputId": "cbd6570c-d43e-46ff-9701-1148fc341d2a"
      },
      "source": [
        "train.shape"
      ],
      "execution_count": null,
      "outputs": [
        {
          "output_type": "execute_result",
          "data": {
            "text/plain": [
              "(20216100, 19)"
            ]
          },
          "metadata": {
            "tags": []
          },
          "execution_count": 20
        }
      ]
    },
    {
      "cell_type": "code",
      "metadata": {
        "id": "ArjwtGgVAtWm",
        "colab_type": "code",
        "colab": {
          "base_uri": "https://localhost:8080/",
          "height": 478
        },
        "outputId": "7781337d-89d2-4dc7-f95a-6890035de30b"
      },
      "source": [
        "train.info()"
      ],
      "execution_count": null,
      "outputs": [
        {
          "output_type": "stream",
          "text": [
            "<class 'pandas.core.frame.DataFrame'>\n",
            "RangeIndex: 20216100 entries, 0 to 20216099\n",
            "Data columns (total 19 columns):\n",
            " #   Column              Dtype         \n",
            "---  ------              -----         \n",
            " 0   building_id         int64         \n",
            " 1   meter               int64         \n",
            " 2   timestamp           datetime64[ns]\n",
            " 3   meter_reading       float64       \n",
            " 4   site_id             int64         \n",
            " 5   primary_use         category      \n",
            " 6   square_feet         int64         \n",
            " 7   year_built          float64       \n",
            " 8   floor_count         int64         \n",
            " 9   air_temperature     float64       \n",
            " 10  cloud_coverage      float64       \n",
            " 11  dew_temperature     float64       \n",
            " 12  precip_depth_1_hr   float64       \n",
            " 13  sea_level_pressure  float64       \n",
            " 14  wind_direction      float64       \n",
            " 15  wind_speed          float64       \n",
            " 16  Month               float64       \n",
            " 17  Day_date            float64       \n",
            " 18  year                float64       \n",
            "dtypes: category(1), datetime64[ns](1), float64(12), int64(5)\n",
            "memory usage: 2.7 GB\n"
          ],
          "name": "stdout"
        }
      ]
    },
    {
      "cell_type": "markdown",
      "metadata": {
        "id": "eiQ2xQ80AzNM",
        "colab_type": "text"
      },
      "source": [
        "**Creating Hour column**"
      ]
    },
    {
      "cell_type": "code",
      "metadata": {
        "id": "2Xh1wRB9A2sZ",
        "colab_type": "code",
        "colab": {}
      },
      "source": [
        "import numpy as np\n",
        "\n",
        "train['hour_datetime']=train['timestamp'].dt.hour.astype(np.int8)\n",
        "\n",
        "del train['timestamp']"
      ],
      "execution_count": null,
      "outputs": []
    },
    {
      "cell_type": "code",
      "metadata": {
        "id": "1VzQ5paZBGbL",
        "colab_type": "code",
        "colab": {
          "base_uri": "https://localhost:8080/",
          "height": 217
        },
        "outputId": "bf536a4b-a809-42ec-c376-1a458dd01fb2"
      },
      "source": [
        "train.head()"
      ],
      "execution_count": null,
      "outputs": [
        {
          "output_type": "execute_result",
          "data": {
            "text/html": [
              "<div>\n",
              "<style scoped>\n",
              "    .dataframe tbody tr th:only-of-type {\n",
              "        vertical-align: middle;\n",
              "    }\n",
              "\n",
              "    .dataframe tbody tr th {\n",
              "        vertical-align: top;\n",
              "    }\n",
              "\n",
              "    .dataframe thead th {\n",
              "        text-align: right;\n",
              "    }\n",
              "</style>\n",
              "<table border=\"1\" class=\"dataframe\">\n",
              "  <thead>\n",
              "    <tr style=\"text-align: right;\">\n",
              "      <th></th>\n",
              "      <th>building_id</th>\n",
              "      <th>meter</th>\n",
              "      <th>meter_reading</th>\n",
              "      <th>site_id</th>\n",
              "      <th>primary_use</th>\n",
              "      <th>square_feet</th>\n",
              "      <th>year_built</th>\n",
              "      <th>floor_count</th>\n",
              "      <th>air_temperature</th>\n",
              "      <th>cloud_coverage</th>\n",
              "      <th>dew_temperature</th>\n",
              "      <th>precip_depth_1_hr</th>\n",
              "      <th>sea_level_pressure</th>\n",
              "      <th>wind_direction</th>\n",
              "      <th>wind_speed</th>\n",
              "      <th>Month</th>\n",
              "      <th>Day_date</th>\n",
              "      <th>year</th>\n",
              "      <th>hour_datetime</th>\n",
              "    </tr>\n",
              "  </thead>\n",
              "  <tbody>\n",
              "    <tr>\n",
              "      <th>0</th>\n",
              "      <td>0</td>\n",
              "      <td>0</td>\n",
              "      <td>0.0</td>\n",
              "      <td>0</td>\n",
              "      <td>Education</td>\n",
              "      <td>7432</td>\n",
              "      <td>2008.0</td>\n",
              "      <td>4</td>\n",
              "      <td>25.0</td>\n",
              "      <td>6.0</td>\n",
              "      <td>6.0</td>\n",
              "      <td>1.382557</td>\n",
              "      <td>1019.7</td>\n",
              "      <td>0.0</td>\n",
              "      <td>0.0</td>\n",
              "      <td>1.0</td>\n",
              "      <td>1.0</td>\n",
              "      <td>2016.0</td>\n",
              "      <td>0</td>\n",
              "    </tr>\n",
              "    <tr>\n",
              "      <th>1</th>\n",
              "      <td>1</td>\n",
              "      <td>0</td>\n",
              "      <td>0.0</td>\n",
              "      <td>0</td>\n",
              "      <td>Education</td>\n",
              "      <td>2720</td>\n",
              "      <td>2004.0</td>\n",
              "      <td>4</td>\n",
              "      <td>25.0</td>\n",
              "      <td>6.0</td>\n",
              "      <td>6.0</td>\n",
              "      <td>1.382557</td>\n",
              "      <td>1019.7</td>\n",
              "      <td>0.0</td>\n",
              "      <td>0.0</td>\n",
              "      <td>1.0</td>\n",
              "      <td>1.0</td>\n",
              "      <td>2016.0</td>\n",
              "      <td>0</td>\n",
              "    </tr>\n",
              "    <tr>\n",
              "      <th>2</th>\n",
              "      <td>2</td>\n",
              "      <td>0</td>\n",
              "      <td>0.0</td>\n",
              "      <td>0</td>\n",
              "      <td>Education</td>\n",
              "      <td>5376</td>\n",
              "      <td>1991.0</td>\n",
              "      <td>4</td>\n",
              "      <td>25.0</td>\n",
              "      <td>6.0</td>\n",
              "      <td>6.0</td>\n",
              "      <td>1.382557</td>\n",
              "      <td>1019.7</td>\n",
              "      <td>0.0</td>\n",
              "      <td>0.0</td>\n",
              "      <td>1.0</td>\n",
              "      <td>1.0</td>\n",
              "      <td>2016.0</td>\n",
              "      <td>0</td>\n",
              "    </tr>\n",
              "    <tr>\n",
              "      <th>3</th>\n",
              "      <td>3</td>\n",
              "      <td>0</td>\n",
              "      <td>0.0</td>\n",
              "      <td>0</td>\n",
              "      <td>Education</td>\n",
              "      <td>23685</td>\n",
              "      <td>2002.0</td>\n",
              "      <td>4</td>\n",
              "      <td>25.0</td>\n",
              "      <td>6.0</td>\n",
              "      <td>6.0</td>\n",
              "      <td>1.382557</td>\n",
              "      <td>1019.7</td>\n",
              "      <td>0.0</td>\n",
              "      <td>0.0</td>\n",
              "      <td>1.0</td>\n",
              "      <td>1.0</td>\n",
              "      <td>2016.0</td>\n",
              "      <td>0</td>\n",
              "    </tr>\n",
              "    <tr>\n",
              "      <th>4</th>\n",
              "      <td>4</td>\n",
              "      <td>0</td>\n",
              "      <td>0.0</td>\n",
              "      <td>0</td>\n",
              "      <td>Education</td>\n",
              "      <td>116607</td>\n",
              "      <td>1975.0</td>\n",
              "      <td>4</td>\n",
              "      <td>25.0</td>\n",
              "      <td>6.0</td>\n",
              "      <td>6.0</td>\n",
              "      <td>1.382557</td>\n",
              "      <td>1019.7</td>\n",
              "      <td>0.0</td>\n",
              "      <td>0.0</td>\n",
              "      <td>1.0</td>\n",
              "      <td>1.0</td>\n",
              "      <td>2016.0</td>\n",
              "      <td>0</td>\n",
              "    </tr>\n",
              "  </tbody>\n",
              "</table>\n",
              "</div>"
            ],
            "text/plain": [
              "   building_id  meter  meter_reading  ...  Day_date    year  hour_datetime\n",
              "0            0      0            0.0  ...       1.0  2016.0              0\n",
              "1            1      0            0.0  ...       1.0  2016.0              0\n",
              "2            2      0            0.0  ...       1.0  2016.0              0\n",
              "3            3      0            0.0  ...       1.0  2016.0              0\n",
              "4            4      0            0.0  ...       1.0  2016.0              0\n",
              "\n",
              "[5 rows x 19 columns]"
            ]
          },
          "metadata": {
            "tags": []
          },
          "execution_count": 23
        }
      ]
    },
    {
      "cell_type": "markdown",
      "metadata": {
        "id": "YwAqe9I-BNvY",
        "colab_type": "text"
      },
      "source": [
        "**Looking for missing values**"
      ]
    },
    {
      "cell_type": "code",
      "metadata": {
        "id": "mtVJR3FYBQqH",
        "colab_type": "code",
        "colab": {
          "base_uri": "https://localhost:8080/",
          "height": 617
        },
        "outputId": "da74c2f0-46d7-491e-a0c4-c443ba22ec01"
      },
      "source": [
        "total=train.isnull().sum().sort_values(ascending=False)\n",
        "percent=(train.isnull().sum()/train.isnull().count()).sort_values(ascending=False)\n",
        "missing_values=pd.concat([total,percent],axis=1,keys=['total','percent'])\n",
        "missing_values.head(20)"
      ],
      "execution_count": null,
      "outputs": [
        {
          "output_type": "execute_result",
          "data": {
            "text/html": [
              "<div>\n",
              "<style scoped>\n",
              "    .dataframe tbody tr th:only-of-type {\n",
              "        vertical-align: middle;\n",
              "    }\n",
              "\n",
              "    .dataframe tbody tr th {\n",
              "        vertical-align: top;\n",
              "    }\n",
              "\n",
              "    .dataframe thead th {\n",
              "        text-align: right;\n",
              "    }\n",
              "</style>\n",
              "<table border=\"1\" class=\"dataframe\">\n",
              "  <thead>\n",
              "    <tr style=\"text-align: right;\">\n",
              "      <th></th>\n",
              "      <th>total</th>\n",
              "      <th>percent</th>\n",
              "    </tr>\n",
              "  </thead>\n",
              "  <tbody>\n",
              "    <tr>\n",
              "      <th>cloud_coverage</th>\n",
              "      <td>82890</td>\n",
              "      <td>0.0041</td>\n",
              "    </tr>\n",
              "    <tr>\n",
              "      <th>Day_date</th>\n",
              "      <td>82890</td>\n",
              "      <td>0.0041</td>\n",
              "    </tr>\n",
              "    <tr>\n",
              "      <th>Month</th>\n",
              "      <td>82890</td>\n",
              "      <td>0.0041</td>\n",
              "    </tr>\n",
              "    <tr>\n",
              "      <th>wind_speed</th>\n",
              "      <td>82890</td>\n",
              "      <td>0.0041</td>\n",
              "    </tr>\n",
              "    <tr>\n",
              "      <th>wind_direction</th>\n",
              "      <td>82890</td>\n",
              "      <td>0.0041</td>\n",
              "    </tr>\n",
              "    <tr>\n",
              "      <th>sea_level_pressure</th>\n",
              "      <td>82890</td>\n",
              "      <td>0.0041</td>\n",
              "    </tr>\n",
              "    <tr>\n",
              "      <th>precip_depth_1_hr</th>\n",
              "      <td>82890</td>\n",
              "      <td>0.0041</td>\n",
              "    </tr>\n",
              "    <tr>\n",
              "      <th>dew_temperature</th>\n",
              "      <td>82890</td>\n",
              "      <td>0.0041</td>\n",
              "    </tr>\n",
              "    <tr>\n",
              "      <th>year</th>\n",
              "      <td>82890</td>\n",
              "      <td>0.0041</td>\n",
              "    </tr>\n",
              "    <tr>\n",
              "      <th>air_temperature</th>\n",
              "      <td>82890</td>\n",
              "      <td>0.0041</td>\n",
              "    </tr>\n",
              "    <tr>\n",
              "      <th>primary_use</th>\n",
              "      <td>0</td>\n",
              "      <td>0.0000</td>\n",
              "    </tr>\n",
              "    <tr>\n",
              "      <th>meter</th>\n",
              "      <td>0</td>\n",
              "      <td>0.0000</td>\n",
              "    </tr>\n",
              "    <tr>\n",
              "      <th>meter_reading</th>\n",
              "      <td>0</td>\n",
              "      <td>0.0000</td>\n",
              "    </tr>\n",
              "    <tr>\n",
              "      <th>site_id</th>\n",
              "      <td>0</td>\n",
              "      <td>0.0000</td>\n",
              "    </tr>\n",
              "    <tr>\n",
              "      <th>hour_datetime</th>\n",
              "      <td>0</td>\n",
              "      <td>0.0000</td>\n",
              "    </tr>\n",
              "    <tr>\n",
              "      <th>square_feet</th>\n",
              "      <td>0</td>\n",
              "      <td>0.0000</td>\n",
              "    </tr>\n",
              "    <tr>\n",
              "      <th>year_built</th>\n",
              "      <td>0</td>\n",
              "      <td>0.0000</td>\n",
              "    </tr>\n",
              "    <tr>\n",
              "      <th>floor_count</th>\n",
              "      <td>0</td>\n",
              "      <td>0.0000</td>\n",
              "    </tr>\n",
              "    <tr>\n",
              "      <th>building_id</th>\n",
              "      <td>0</td>\n",
              "      <td>0.0000</td>\n",
              "    </tr>\n",
              "  </tbody>\n",
              "</table>\n",
              "</div>"
            ],
            "text/plain": [
              "                    total  percent\n",
              "cloud_coverage      82890   0.0041\n",
              "Day_date            82890   0.0041\n",
              "Month               82890   0.0041\n",
              "wind_speed          82890   0.0041\n",
              "wind_direction      82890   0.0041\n",
              "sea_level_pressure  82890   0.0041\n",
              "precip_depth_1_hr   82890   0.0041\n",
              "dew_temperature     82890   0.0041\n",
              "year                82890   0.0041\n",
              "air_temperature     82890   0.0041\n",
              "primary_use             0   0.0000\n",
              "meter                   0   0.0000\n",
              "meter_reading           0   0.0000\n",
              "site_id                 0   0.0000\n",
              "hour_datetime           0   0.0000\n",
              "square_feet             0   0.0000\n",
              "year_built              0   0.0000\n",
              "floor_count             0   0.0000\n",
              "building_id             0   0.0000"
            ]
          },
          "metadata": {
            "tags": []
          },
          "execution_count": 24
        }
      ]
    },
    {
      "cell_type": "code",
      "metadata": {
        "id": "6ef05tUUB4o5",
        "colab_type": "code",
        "colab": {}
      },
      "source": [
        "train=train.dropna()"
      ],
      "execution_count": null,
      "outputs": []
    },
    {
      "cell_type": "code",
      "metadata": {
        "id": "Wjo2YPcZB_O4",
        "colab_type": "code",
        "colab": {
          "base_uri": "https://localhost:8080/",
          "height": 307
        },
        "outputId": "f94c0b22-6393-4047-f748-7877e2b9d30b"
      },
      "source": [
        "train.describe()"
      ],
      "execution_count": null,
      "outputs": [
        {
          "output_type": "execute_result",
          "data": {
            "text/html": [
              "<div>\n",
              "<style scoped>\n",
              "    .dataframe tbody tr th:only-of-type {\n",
              "        vertical-align: middle;\n",
              "    }\n",
              "\n",
              "    .dataframe tbody tr th {\n",
              "        vertical-align: top;\n",
              "    }\n",
              "\n",
              "    .dataframe thead th {\n",
              "        text-align: right;\n",
              "    }\n",
              "</style>\n",
              "<table border=\"1\" class=\"dataframe\">\n",
              "  <thead>\n",
              "    <tr style=\"text-align: right;\">\n",
              "      <th></th>\n",
              "      <th>building_id</th>\n",
              "      <th>meter</th>\n",
              "      <th>meter_reading</th>\n",
              "      <th>site_id</th>\n",
              "      <th>square_feet</th>\n",
              "      <th>year_built</th>\n",
              "      <th>floor_count</th>\n",
              "      <th>air_temperature</th>\n",
              "      <th>cloud_coverage</th>\n",
              "      <th>dew_temperature</th>\n",
              "      <th>precip_depth_1_hr</th>\n",
              "      <th>sea_level_pressure</th>\n",
              "      <th>wind_direction</th>\n",
              "      <th>wind_speed</th>\n",
              "      <th>Month</th>\n",
              "      <th>Day_date</th>\n",
              "      <th>year</th>\n",
              "      <th>hour_datetime</th>\n",
              "    </tr>\n",
              "  </thead>\n",
              "  <tbody>\n",
              "    <tr>\n",
              "      <th>count</th>\n",
              "      <td>2.013321e+07</td>\n",
              "      <td>2.013321e+07</td>\n",
              "      <td>2.013321e+07</td>\n",
              "      <td>2.013321e+07</td>\n",
              "      <td>2.013321e+07</td>\n",
              "      <td>2.013321e+07</td>\n",
              "      <td>2.013321e+07</td>\n",
              "      <td>2.013321e+07</td>\n",
              "      <td>2.013321e+07</td>\n",
              "      <td>2.013321e+07</td>\n",
              "      <td>2.013321e+07</td>\n",
              "      <td>2.013321e+07</td>\n",
              "      <td>2.013321e+07</td>\n",
              "      <td>2.013321e+07</td>\n",
              "      <td>2.013321e+07</td>\n",
              "      <td>2.013321e+07</td>\n",
              "      <td>20133210.0</td>\n",
              "      <td>2.013321e+07</td>\n",
              "    </tr>\n",
              "    <tr>\n",
              "      <th>mean</th>\n",
              "      <td>7.974179e+02</td>\n",
              "      <td>6.617699e-01</td>\n",
              "      <td>2.124405e+03</td>\n",
              "      <td>7.970224e+00</td>\n",
              "      <td>1.077780e+05</td>\n",
              "      <td>1.969521e+03</td>\n",
              "      <td>4.030442e+00</td>\n",
              "      <td>1.593926e+01</td>\n",
              "      <td>1.787219e+00</td>\n",
              "      <td>1.787219e+00</td>\n",
              "      <td>1.144656e+00</td>\n",
              "      <td>9.767713e+02</td>\n",
              "      <td>1.708236e+02</td>\n",
              "      <td>3.377249e+00</td>\n",
              "      <td>6.566733e+00</td>\n",
              "      <td>1.578433e+01</td>\n",
              "      <td>2016.0</td>\n",
              "      <td>1.150934e+01</td>\n",
              "    </tr>\n",
              "    <tr>\n",
              "      <th>std</th>\n",
              "      <td>4.264339e+02</td>\n",
              "      <td>9.310602e-01</td>\n",
              "      <td>1.535506e+05</td>\n",
              "      <td>5.092977e+00</td>\n",
              "      <td>1.171483e+05</td>\n",
              "      <td>2.014374e+01</td>\n",
              "      <td>1.665084e+00</td>\n",
              "      <td>1.098146e+01</td>\n",
              "      <td>2.003313e+00</td>\n",
              "      <td>2.003313e+00</td>\n",
              "      <td>6.979683e+00</td>\n",
              "      <td>1.961202e+02</td>\n",
              "      <td>1.107229e+02</td>\n",
              "      <td>2.261500e+00</td>\n",
              "      <td>3.441398e+00</td>\n",
              "      <td>8.802123e+00</td>\n",
              "      <td>0.0</td>\n",
              "      <td>6.923804e+00</td>\n",
              "    </tr>\n",
              "    <tr>\n",
              "      <th>min</th>\n",
              "      <td>0.000000e+00</td>\n",
              "      <td>0.000000e+00</td>\n",
              "      <td>0.000000e+00</td>\n",
              "      <td>0.000000e+00</td>\n",
              "      <td>2.830000e+02</td>\n",
              "      <td>1.900000e+03</td>\n",
              "      <td>1.000000e+00</td>\n",
              "      <td>-2.890000e+01</td>\n",
              "      <td>0.000000e+00</td>\n",
              "      <td>0.000000e+00</td>\n",
              "      <td>-1.000000e+00</td>\n",
              "      <td>0.000000e+00</td>\n",
              "      <td>0.000000e+00</td>\n",
              "      <td>0.000000e+00</td>\n",
              "      <td>1.000000e+00</td>\n",
              "      <td>1.000000e+00</td>\n",
              "      <td>2016.0</td>\n",
              "      <td>0.000000e+00</td>\n",
              "    </tr>\n",
              "    <tr>\n",
              "      <th>25%</th>\n",
              "      <td>3.910000e+02</td>\n",
              "      <td>0.000000e+00</td>\n",
              "      <td>1.830000e+01</td>\n",
              "      <td>3.000000e+00</td>\n",
              "      <td>3.252700e+04</td>\n",
              "      <td>1.964000e+03</td>\n",
              "      <td>4.000000e+00</td>\n",
              "      <td>8.300000e+00</td>\n",
              "      <td>0.000000e+00</td>\n",
              "      <td>0.000000e+00</td>\n",
              "      <td>0.000000e+00</td>\n",
              "      <td>1.011100e+03</td>\n",
              "      <td>8.000000e+01</td>\n",
              "      <td>2.100000e+00</td>\n",
              "      <td>4.000000e+00</td>\n",
              "      <td>8.000000e+00</td>\n",
              "      <td>2016.0</td>\n",
              "      <td>6.000000e+00</td>\n",
              "    </tr>\n",
              "    <tr>\n",
              "      <th>50%</th>\n",
              "      <td>8.940000e+02</td>\n",
              "      <td>0.000000e+00</td>\n",
              "      <td>7.875000e+01</td>\n",
              "      <td>9.000000e+00</td>\n",
              "      <td>7.270900e+04</td>\n",
              "      <td>1.975000e+03</td>\n",
              "      <td>4.000000e+00</td>\n",
              "      <td>1.670000e+01</td>\n",
              "      <td>1.109988e+00</td>\n",
              "      <td>1.109988e+00</td>\n",
              "      <td>0.000000e+00</td>\n",
              "      <td>1.015895e+03</td>\n",
              "      <td>1.700000e+02</td>\n",
              "      <td>3.100000e+00</td>\n",
              "      <td>7.000000e+00</td>\n",
              "      <td>1.600000e+01</td>\n",
              "      <td>2016.0</td>\n",
              "      <td>1.200000e+01</td>\n",
              "    </tr>\n",
              "    <tr>\n",
              "      <th>75%</th>\n",
              "      <td>1.176000e+03</td>\n",
              "      <td>1.000000e+00</td>\n",
              "      <td>2.679400e+02</td>\n",
              "      <td>1.300000e+01</td>\n",
              "      <td>1.391130e+05</td>\n",
              "      <td>1.975054e+03</td>\n",
              "      <td>4.000000e+00</td>\n",
              "      <td>2.390000e+01</td>\n",
              "      <td>2.873133e+00</td>\n",
              "      <td>2.873133e+00</td>\n",
              "      <td>0.000000e+00</td>\n",
              "      <td>1.020200e+03</td>\n",
              "      <td>2.700000e+02</td>\n",
              "      <td>4.600000e+00</td>\n",
              "      <td>1.000000e+01</td>\n",
              "      <td>2.300000e+01</td>\n",
              "      <td>2016.0</td>\n",
              "      <td>1.800000e+01</td>\n",
              "    </tr>\n",
              "    <tr>\n",
              "      <th>max</th>\n",
              "      <td>1.448000e+03</td>\n",
              "      <td>3.000000e+00</td>\n",
              "      <td>2.190470e+07</td>\n",
              "      <td>1.500000e+01</td>\n",
              "      <td>8.750000e+05</td>\n",
              "      <td>2.017000e+03</td>\n",
              "      <td>2.600000e+01</td>\n",
              "      <td>4.720000e+01</td>\n",
              "      <td>9.000000e+00</td>\n",
              "      <td>9.000000e+00</td>\n",
              "      <td>3.430000e+02</td>\n",
              "      <td>1.045500e+03</td>\n",
              "      <td>3.600000e+02</td>\n",
              "      <td>1.900000e+01</td>\n",
              "      <td>1.200000e+01</td>\n",
              "      <td>3.100000e+01</td>\n",
              "      <td>2016.0</td>\n",
              "      <td>2.300000e+01</td>\n",
              "    </tr>\n",
              "  </tbody>\n",
              "</table>\n",
              "</div>"
            ],
            "text/plain": [
              "        building_id         meter  ...        year  hour_datetime\n",
              "count  2.013321e+07  2.013321e+07  ...  20133210.0   2.013321e+07\n",
              "mean   7.974179e+02  6.617699e-01  ...      2016.0   1.150934e+01\n",
              "std    4.264339e+02  9.310602e-01  ...         0.0   6.923804e+00\n",
              "min    0.000000e+00  0.000000e+00  ...      2016.0   0.000000e+00\n",
              "25%    3.910000e+02  0.000000e+00  ...      2016.0   6.000000e+00\n",
              "50%    8.940000e+02  0.000000e+00  ...      2016.0   1.200000e+01\n",
              "75%    1.176000e+03  1.000000e+00  ...      2016.0   1.800000e+01\n",
              "max    1.448000e+03  3.000000e+00  ...      2016.0   2.300000e+01\n",
              "\n",
              "[8 rows x 18 columns]"
            ]
          },
          "metadata": {
            "tags": []
          },
          "execution_count": 26
        }
      ]
    },
    {
      "cell_type": "code",
      "metadata": {
        "id": "v254ma5oCDow",
        "colab_type": "code",
        "colab": {
          "base_uri": "https://localhost:8080/",
          "height": 617
        },
        "outputId": "822bc42f-aa19-44fc-adc2-da9b2ea2b3ff"
      },
      "source": [
        "total=train.isnull().sum().sort_values(ascending=False)\n",
        "percent=(train.isnull().sum()/train.isnull().count()).sort_values(ascending=False)\n",
        "missing_values=pd.concat([total,percent],axis=1,keys=['total','percent'])\n",
        "missing_values.head(20)"
      ],
      "execution_count": null,
      "outputs": [
        {
          "output_type": "execute_result",
          "data": {
            "text/html": [
              "<div>\n",
              "<style scoped>\n",
              "    .dataframe tbody tr th:only-of-type {\n",
              "        vertical-align: middle;\n",
              "    }\n",
              "\n",
              "    .dataframe tbody tr th {\n",
              "        vertical-align: top;\n",
              "    }\n",
              "\n",
              "    .dataframe thead th {\n",
              "        text-align: right;\n",
              "    }\n",
              "</style>\n",
              "<table border=\"1\" class=\"dataframe\">\n",
              "  <thead>\n",
              "    <tr style=\"text-align: right;\">\n",
              "      <th></th>\n",
              "      <th>total</th>\n",
              "      <th>percent</th>\n",
              "    </tr>\n",
              "  </thead>\n",
              "  <tbody>\n",
              "    <tr>\n",
              "      <th>hour_datetime</th>\n",
              "      <td>0</td>\n",
              "      <td>0.0</td>\n",
              "    </tr>\n",
              "    <tr>\n",
              "      <th>air_temperature</th>\n",
              "      <td>0</td>\n",
              "      <td>0.0</td>\n",
              "    </tr>\n",
              "    <tr>\n",
              "      <th>meter</th>\n",
              "      <td>0</td>\n",
              "      <td>0.0</td>\n",
              "    </tr>\n",
              "    <tr>\n",
              "      <th>meter_reading</th>\n",
              "      <td>0</td>\n",
              "      <td>0.0</td>\n",
              "    </tr>\n",
              "    <tr>\n",
              "      <th>site_id</th>\n",
              "      <td>0</td>\n",
              "      <td>0.0</td>\n",
              "    </tr>\n",
              "    <tr>\n",
              "      <th>primary_use</th>\n",
              "      <td>0</td>\n",
              "      <td>0.0</td>\n",
              "    </tr>\n",
              "    <tr>\n",
              "      <th>square_feet</th>\n",
              "      <td>0</td>\n",
              "      <td>0.0</td>\n",
              "    </tr>\n",
              "    <tr>\n",
              "      <th>year_built</th>\n",
              "      <td>0</td>\n",
              "      <td>0.0</td>\n",
              "    </tr>\n",
              "    <tr>\n",
              "      <th>floor_count</th>\n",
              "      <td>0</td>\n",
              "      <td>0.0</td>\n",
              "    </tr>\n",
              "    <tr>\n",
              "      <th>cloud_coverage</th>\n",
              "      <td>0</td>\n",
              "      <td>0.0</td>\n",
              "    </tr>\n",
              "    <tr>\n",
              "      <th>year</th>\n",
              "      <td>0</td>\n",
              "      <td>0.0</td>\n",
              "    </tr>\n",
              "    <tr>\n",
              "      <th>dew_temperature</th>\n",
              "      <td>0</td>\n",
              "      <td>0.0</td>\n",
              "    </tr>\n",
              "    <tr>\n",
              "      <th>precip_depth_1_hr</th>\n",
              "      <td>0</td>\n",
              "      <td>0.0</td>\n",
              "    </tr>\n",
              "    <tr>\n",
              "      <th>sea_level_pressure</th>\n",
              "      <td>0</td>\n",
              "      <td>0.0</td>\n",
              "    </tr>\n",
              "    <tr>\n",
              "      <th>wind_direction</th>\n",
              "      <td>0</td>\n",
              "      <td>0.0</td>\n",
              "    </tr>\n",
              "    <tr>\n",
              "      <th>wind_speed</th>\n",
              "      <td>0</td>\n",
              "      <td>0.0</td>\n",
              "    </tr>\n",
              "    <tr>\n",
              "      <th>Month</th>\n",
              "      <td>0</td>\n",
              "      <td>0.0</td>\n",
              "    </tr>\n",
              "    <tr>\n",
              "      <th>Day_date</th>\n",
              "      <td>0</td>\n",
              "      <td>0.0</td>\n",
              "    </tr>\n",
              "    <tr>\n",
              "      <th>building_id</th>\n",
              "      <td>0</td>\n",
              "      <td>0.0</td>\n",
              "    </tr>\n",
              "  </tbody>\n",
              "</table>\n",
              "</div>"
            ],
            "text/plain": [
              "                    total  percent\n",
              "hour_datetime           0      0.0\n",
              "air_temperature         0      0.0\n",
              "meter                   0      0.0\n",
              "meter_reading           0      0.0\n",
              "site_id                 0      0.0\n",
              "primary_use             0      0.0\n",
              "square_feet             0      0.0\n",
              "year_built              0      0.0\n",
              "floor_count             0      0.0\n",
              "cloud_coverage          0      0.0\n",
              "year                    0      0.0\n",
              "dew_temperature         0      0.0\n",
              "precip_depth_1_hr       0      0.0\n",
              "sea_level_pressure      0      0.0\n",
              "wind_direction          0      0.0\n",
              "wind_speed              0      0.0\n",
              "Month                   0      0.0\n",
              "Day_date                0      0.0\n",
              "building_id             0      0.0"
            ]
          },
          "metadata": {
            "tags": []
          },
          "execution_count": 27
        }
      ]
    },
    {
      "cell_type": "markdown",
      "metadata": {
        "id": "g0EDnKT1CJoa",
        "colab_type": "text"
      },
      "source": [
        "**Before applying pipeline transformation, electricity dataset has been separated**"
      ]
    },
    {
      "cell_type": "code",
      "metadata": {
        "id": "jPshKlF3CNMC",
        "colab_type": "code",
        "colab": {}
      },
      "source": [
        "dataset_electricity=train.loc[(train['meter']==0)]"
      ],
      "execution_count": null,
      "outputs": []
    },
    {
      "cell_type": "code",
      "metadata": {
        "id": "Lad2LScwCUSa",
        "colab_type": "code",
        "colab": {
          "base_uri": "https://localhost:8080/",
          "height": 34
        },
        "outputId": "225889cf-4977-4796-c88f-587e150148cd"
      },
      "source": [
        "dataset_electricity.shape"
      ],
      "execution_count": null,
      "outputs": [
        {
          "output_type": "execute_result",
          "data": {
            "text/plain": [
              "(12021413, 19)"
            ]
          },
          "metadata": {
            "tags": []
          },
          "execution_count": 29
        }
      ]
    },
    {
      "cell_type": "code",
      "metadata": {
        "id": "lTxaEIVcCeam",
        "colab_type": "code",
        "colab": {}
      },
      "source": [
        "drop_cols=['meter_reading']"
      ],
      "execution_count": null,
      "outputs": []
    },
    {
      "cell_type": "code",
      "metadata": {
        "id": "yPIq20zhCixE",
        "colab_type": "code",
        "colab": {}
      },
      "source": [
        "training_electricity=dataset_electricity.drop(drop_cols,axis=1)"
      ],
      "execution_count": null,
      "outputs": []
    },
    {
      "cell_type": "code",
      "metadata": {
        "id": "4btRSeXfCud9",
        "colab_type": "code",
        "colab": {}
      },
      "source": [
        "target_electricity=dataset_electricity['meter_reading']"
      ],
      "execution_count": null,
      "outputs": []
    },
    {
      "cell_type": "code",
      "metadata": {
        "id": "hhv0vq7Sv9W1",
        "colab_type": "code",
        "colab": {
          "base_uri": "https://localhost:8080/",
          "height": 34
        },
        "outputId": "0324d12e-1402-4891-87c2-87decbc4beda"
      },
      "source": [
        "training_electricity.shape"
      ],
      "execution_count": null,
      "outputs": [
        {
          "output_type": "execute_result",
          "data": {
            "text/plain": [
              "(12021413, 18)"
            ]
          },
          "metadata": {
            "tags": []
          },
          "execution_count": 33
        }
      ]
    },
    {
      "cell_type": "code",
      "metadata": {
        "id": "MgVwK7SkC7R2",
        "colab_type": "code",
        "colab": {
          "base_uri": "https://localhost:8080/",
          "height": 34
        },
        "outputId": "40864989-ecc4-4490-a840-15ad719b12ad"
      },
      "source": [
        "target_electricity.shape"
      ],
      "execution_count": null,
      "outputs": [
        {
          "output_type": "execute_result",
          "data": {
            "text/plain": [
              "(12021413,)"
            ]
          },
          "metadata": {
            "tags": []
          },
          "execution_count": 34
        }
      ]
    },
    {
      "cell_type": "markdown",
      "metadata": {
        "id": "7NPMtJBNDKTc",
        "colab_type": "text"
      },
      "source": [
        "**Apply pipeline transformation to training_chilled_water**"
      ]
    },
    {
      "cell_type": "code",
      "metadata": {
        "id": "acWwWD6eDJo6",
        "colab_type": "code",
        "colab": {}
      },
      "source": [
        "num_cols=['square_feet','floor_count','air_temperature',\n",
        "                 'cloud_coverage','dew_temperature','precip_depth_1_hr',\n",
        "                 'sea_level_pressure','wind_direction','wind_speed']\n",
        "cat_cols=['primary_use']"
      ],
      "execution_count": null,
      "outputs": []
    },
    {
      "cell_type": "code",
      "metadata": {
        "id": "Y1FoKy-0DPEC",
        "colab_type": "code",
        "colab": {}
      },
      "source": [
        "from sklearn.pipeline import Pipeline\n",
        "from sklearn.preprocessing import StandardScaler\n",
        "from sklearn.compose import ColumnTransformer\n",
        "from sklearn.preprocessing import OneHotEncoder\n",
        "\n",
        "num_attribs=list(num_cols)\n",
        "cat_attribs=['primary_use']\n",
        "\n",
        "num_pipeline=Pipeline([\n",
        "    ('std_scaler',StandardScaler())\n",
        "])\n",
        "\n",
        "full_pipeline=ColumnTransformer([\n",
        "    ('num',num_pipeline,num_attribs),\n",
        "    ('cat',OneHotEncoder(),cat_attribs)\n",
        "])\n",
        "\n",
        "training_prepared=full_pipeline.fit_transform(training_electricity)\n",
        "#('num',num_pipeline,num_attribs),"
      ],
      "execution_count": null,
      "outputs": []
    },
    {
      "cell_type": "markdown",
      "metadata": {
        "id": "efw-CaQR_6Zi",
        "colab_type": "text"
      },
      "source": [
        "12021413 *0.2 = 2,404,283///// 12021413 - 2,404,283 = 9617130"
      ]
    },
    {
      "cell_type": "code",
      "metadata": {
        "id": "ipL-jyIvDRFH",
        "colab_type": "code",
        "colab": {}
      },
      "source": [
        "x_train=training_prepared[:9617130]\n",
        "x_val=training_prepared[9617130:]\n",
        "y_train=target_electricity[:9617130]\n",
        "y_val=target_electricity[9617130:]"
      ],
      "execution_count": null,
      "outputs": []
    },
    {
      "cell_type": "code",
      "metadata": {
        "id": "DewL79zVDVcP",
        "colab_type": "code",
        "colab": {
          "base_uri": "https://localhost:8080/",
          "height": 87
        },
        "outputId": "3864bcde-19cd-4af7-9438-c882a76fc80f"
      },
      "source": [
        "print('shape of x_train:',x_train.shape)\n",
        "print('shape of x_val:',x_val.shape)\n",
        "print('shape of y_train:',y_train.shape)\n",
        "print('shape of y_val:',y_val.shape)"
      ],
      "execution_count": null,
      "outputs": [
        {
          "output_type": "stream",
          "text": [
            "shape of x_train: (9617130, 25)\n",
            "shape of x_val: (2404283, 25)\n",
            "shape of y_train: (9617130,)\n",
            "shape of y_val: (2404283,)\n"
          ],
          "name": "stdout"
        }
      ]
    },
    {
      "cell_type": "markdown",
      "metadata": {
        "id": "eZmQBKh3DfSU",
        "colab_type": "text"
      },
      "source": [
        "**Working with test set**"
      ]
    },
    {
      "cell_type": "code",
      "metadata": {
        "id": "sat097GSDXGJ",
        "colab_type": "code",
        "colab": {
          "base_uri": "https://localhost:8080/",
          "height": 197
        },
        "outputId": "c3e0028b-0c93-4e62-fad3-59cc60c5c0da"
      },
      "source": [
        "test.head()"
      ],
      "execution_count": null,
      "outputs": [
        {
          "output_type": "execute_result",
          "data": {
            "text/html": [
              "<div>\n",
              "<style scoped>\n",
              "    .dataframe tbody tr th:only-of-type {\n",
              "        vertical-align: middle;\n",
              "    }\n",
              "\n",
              "    .dataframe tbody tr th {\n",
              "        vertical-align: top;\n",
              "    }\n",
              "\n",
              "    .dataframe thead th {\n",
              "        text-align: right;\n",
              "    }\n",
              "</style>\n",
              "<table border=\"1\" class=\"dataframe\">\n",
              "  <thead>\n",
              "    <tr style=\"text-align: right;\">\n",
              "      <th></th>\n",
              "      <th>row_id</th>\n",
              "      <th>building_id</th>\n",
              "      <th>meter</th>\n",
              "      <th>timestamp</th>\n",
              "    </tr>\n",
              "  </thead>\n",
              "  <tbody>\n",
              "    <tr>\n",
              "      <th>0</th>\n",
              "      <td>0</td>\n",
              "      <td>0</td>\n",
              "      <td>0</td>\n",
              "      <td>2017-01-01</td>\n",
              "    </tr>\n",
              "    <tr>\n",
              "      <th>1</th>\n",
              "      <td>1</td>\n",
              "      <td>1</td>\n",
              "      <td>0</td>\n",
              "      <td>2017-01-01</td>\n",
              "    </tr>\n",
              "    <tr>\n",
              "      <th>2</th>\n",
              "      <td>2</td>\n",
              "      <td>2</td>\n",
              "      <td>0</td>\n",
              "      <td>2017-01-01</td>\n",
              "    </tr>\n",
              "    <tr>\n",
              "      <th>3</th>\n",
              "      <td>3</td>\n",
              "      <td>3</td>\n",
              "      <td>0</td>\n",
              "      <td>2017-01-01</td>\n",
              "    </tr>\n",
              "    <tr>\n",
              "      <th>4</th>\n",
              "      <td>4</td>\n",
              "      <td>4</td>\n",
              "      <td>0</td>\n",
              "      <td>2017-01-01</td>\n",
              "    </tr>\n",
              "  </tbody>\n",
              "</table>\n",
              "</div>"
            ],
            "text/plain": [
              "   row_id  building_id  meter  timestamp\n",
              "0       0            0      0 2017-01-01\n",
              "1       1            1      0 2017-01-01\n",
              "2       2            2      0 2017-01-01\n",
              "3       3            3      0 2017-01-01\n",
              "4       4            4      0 2017-01-01"
            ]
          },
          "metadata": {
            "tags": []
          },
          "execution_count": 39
        }
      ]
    },
    {
      "cell_type": "code",
      "metadata": {
        "id": "a8s3p5yCDnXs",
        "colab_type": "code",
        "colab": {
          "base_uri": "https://localhost:8080/",
          "height": 34
        },
        "outputId": "3c8266e6-6f40-4644-e0c9-e0a37401881a"
      },
      "source": [
        "test.shape"
      ],
      "execution_count": null,
      "outputs": [
        {
          "output_type": "execute_result",
          "data": {
            "text/plain": [
              "(41697600, 4)"
            ]
          },
          "metadata": {
            "tags": []
          },
          "execution_count": 40
        }
      ]
    },
    {
      "cell_type": "code",
      "metadata": {
        "id": "s75CqHj5Dq0F",
        "colab_type": "code",
        "colab": {}
      },
      "source": [
        "import pandas as pd\n",
        "\n",
        "temp=test[['building_id']]\n",
        "temp=temp.merge(building_met,on='building_id',how='left')\n",
        "del temp['building_id']\n",
        "test=pd.concat([test,temp],axis=1)"
      ],
      "execution_count": null,
      "outputs": []
    },
    {
      "cell_type": "code",
      "metadata": {
        "id": "Z4sMveIxD8vJ",
        "colab_type": "code",
        "colab": {
          "base_uri": "https://localhost:8080/",
          "height": 197
        },
        "outputId": "35d83313-ca36-4e99-b888-10894a635445"
      },
      "source": [
        "test.head()"
      ],
      "execution_count": null,
      "outputs": [
        {
          "output_type": "execute_result",
          "data": {
            "text/html": [
              "<div>\n",
              "<style scoped>\n",
              "    .dataframe tbody tr th:only-of-type {\n",
              "        vertical-align: middle;\n",
              "    }\n",
              "\n",
              "    .dataframe tbody tr th {\n",
              "        vertical-align: top;\n",
              "    }\n",
              "\n",
              "    .dataframe thead th {\n",
              "        text-align: right;\n",
              "    }\n",
              "</style>\n",
              "<table border=\"1\" class=\"dataframe\">\n",
              "  <thead>\n",
              "    <tr style=\"text-align: right;\">\n",
              "      <th></th>\n",
              "      <th>row_id</th>\n",
              "      <th>building_id</th>\n",
              "      <th>meter</th>\n",
              "      <th>timestamp</th>\n",
              "      <th>site_id</th>\n",
              "      <th>primary_use</th>\n",
              "      <th>square_feet</th>\n",
              "      <th>year_built</th>\n",
              "      <th>floor_count</th>\n",
              "    </tr>\n",
              "  </thead>\n",
              "  <tbody>\n",
              "    <tr>\n",
              "      <th>0</th>\n",
              "      <td>0</td>\n",
              "      <td>0</td>\n",
              "      <td>0</td>\n",
              "      <td>2017-01-01</td>\n",
              "      <td>0</td>\n",
              "      <td>Education</td>\n",
              "      <td>7432</td>\n",
              "      <td>2008.0</td>\n",
              "      <td>4</td>\n",
              "    </tr>\n",
              "    <tr>\n",
              "      <th>1</th>\n",
              "      <td>1</td>\n",
              "      <td>1</td>\n",
              "      <td>0</td>\n",
              "      <td>2017-01-01</td>\n",
              "      <td>0</td>\n",
              "      <td>Education</td>\n",
              "      <td>2720</td>\n",
              "      <td>2004.0</td>\n",
              "      <td>4</td>\n",
              "    </tr>\n",
              "    <tr>\n",
              "      <th>2</th>\n",
              "      <td>2</td>\n",
              "      <td>2</td>\n",
              "      <td>0</td>\n",
              "      <td>2017-01-01</td>\n",
              "      <td>0</td>\n",
              "      <td>Education</td>\n",
              "      <td>5376</td>\n",
              "      <td>1991.0</td>\n",
              "      <td>4</td>\n",
              "    </tr>\n",
              "    <tr>\n",
              "      <th>3</th>\n",
              "      <td>3</td>\n",
              "      <td>3</td>\n",
              "      <td>0</td>\n",
              "      <td>2017-01-01</td>\n",
              "      <td>0</td>\n",
              "      <td>Education</td>\n",
              "      <td>23685</td>\n",
              "      <td>2002.0</td>\n",
              "      <td>4</td>\n",
              "    </tr>\n",
              "    <tr>\n",
              "      <th>4</th>\n",
              "      <td>4</td>\n",
              "      <td>4</td>\n",
              "      <td>0</td>\n",
              "      <td>2017-01-01</td>\n",
              "      <td>0</td>\n",
              "      <td>Education</td>\n",
              "      <td>116607</td>\n",
              "      <td>1975.0</td>\n",
              "      <td>4</td>\n",
              "    </tr>\n",
              "  </tbody>\n",
              "</table>\n",
              "</div>"
            ],
            "text/plain": [
              "   row_id  building_id  meter  ... square_feet  year_built floor_count\n",
              "0       0            0      0  ...        7432      2008.0           4\n",
              "1       1            1      0  ...        2720      2004.0           4\n",
              "2       2            2      0  ...        5376      1991.0           4\n",
              "3       3            3      0  ...       23685      2002.0           4\n",
              "4       4            4      0  ...      116607      1975.0           4\n",
              "\n",
              "[5 rows x 9 columns]"
            ]
          },
          "metadata": {
            "tags": []
          },
          "execution_count": 42
        }
      ]
    },
    {
      "cell_type": "code",
      "metadata": {
        "id": "KnsUVUfoD_7w",
        "colab_type": "code",
        "colab": {}
      },
      "source": [
        "temp=test[['site_id','timestamp']]\n",
        "temp=temp.merge(weather_test,on=['site_id','timestamp'],how='left')\n",
        "del temp['timestamp'],temp['site_id']\n",
        "test=pd.concat([test,temp],axis=1)\n",
        "\n",
        "del temp,weather_test"
      ],
      "execution_count": null,
      "outputs": []
    },
    {
      "cell_type": "code",
      "metadata": {
        "id": "tRKrGA4iEGbH",
        "colab_type": "code",
        "colab": {}
      },
      "source": [
        "test.head()"
      ],
      "execution_count": null,
      "outputs": []
    },
    {
      "cell_type": "code",
      "metadata": {
        "id": "Cm7OQJLZ8Uk0",
        "colab_type": "code",
        "colab": {}
      },
      "source": [
        "import numpy as np\n",
        "\n",
        "test['hour_datetime']=test['timestamp'].dt.hour.astype(np.int8)\n",
        "\n",
        "del test['timestamp']"
      ],
      "execution_count": null,
      "outputs": []
    },
    {
      "cell_type": "code",
      "metadata": {
        "id": "NM5bLXSb1YnQ",
        "colab_type": "code",
        "colab": {}
      },
      "source": [
        "total=test.isnull().sum().sort_values(ascending=False)\n",
        "percent=(test.isnull().sum()/test.isnull().count()).sort_values(ascending=False)\n",
        "missing_values=pd.concat([total,percent],axis=1,keys=['total','percent'])\n",
        "missing_values.head(20)"
      ],
      "execution_count": null,
      "outputs": []
    },
    {
      "cell_type": "code",
      "metadata": {
        "id": "TQQ7j5bw2ByT",
        "colab_type": "code",
        "colab": {}
      },
      "source": [
        "#test=test.dropna()"
      ],
      "execution_count": null,
      "outputs": []
    },
    {
      "cell_type": "code",
      "metadata": {
        "id": "QUUZMStU4OgN",
        "colab_type": "code",
        "colab": {}
      },
      "source": [
        "test.describe()"
      ],
      "execution_count": null,
      "outputs": []
    },
    {
      "cell_type": "code",
      "metadata": {
        "id": "3JKYHWPbEHAX",
        "colab_type": "code",
        "colab": {}
      },
      "source": [
        "test_electricity= test.loc[(test['meter']==0)]"
      ],
      "execution_count": null,
      "outputs": []
    },
    {
      "cell_type": "markdown",
      "metadata": {
        "id": "_SWteZX60k8E",
        "colab_type": "text"
      },
      "source": [
        "Instead of getting rid of ,issing values in test set, they are replaced with 0"
      ]
    },
    {
      "cell_type": "code",
      "metadata": {
        "id": "gjgmn7Z90nhs",
        "colab_type": "code",
        "colab": {}
      },
      "source": [
        "test_electricity['cloud_coverage'].fillna(0,inplace=True)\n",
        "test_electricity['Day_date'].fillna(0,inplace=True)\n",
        "test_electricity['Month'].fillna(0,inplace=True)\n",
        "test_electricity['wind_speed'].fillna(0,inplace=True)\n",
        "test_electricity['wind_direction'].fillna(0,inplace=True)\n",
        "test_electricity['sea_level_pressure'].fillna(0,inplace=True)\n",
        "test_electricity['precip_depth_1_hr'].fillna(0,inplace=True)\n",
        "test_electricity['dew_temperature'].fillna(0,inplace=True)\n",
        "test_electricity['year'].fillna(2017,inplace=True)\n",
        "test_electricity['air_temperature'].fillna(0,inplace=True)"
      ],
      "execution_count": null,
      "outputs": []
    },
    {
      "cell_type": "code",
      "metadata": {
        "id": "2x6oR37h1Wgo",
        "colab_type": "code",
        "colab": {}
      },
      "source": [
        "test_electricity.shape"
      ],
      "execution_count": null,
      "outputs": []
    },
    {
      "cell_type": "code",
      "metadata": {
        "id": "uRDVEAYT4GyL",
        "colab_type": "code",
        "colab": {}
      },
      "source": [
        "test_drop_cols=['row_id']"
      ],
      "execution_count": null,
      "outputs": []
    },
    {
      "cell_type": "code",
      "metadata": {
        "id": "4qFroq5xFMos",
        "colab_type": "code",
        "colab": {}
      },
      "source": [
        "testing=test_electricity.drop(test_drop_cols,axis=1)"
      ],
      "execution_count": null,
      "outputs": []
    },
    {
      "cell_type": "code",
      "metadata": {
        "id": "3HXLLI4W0BOT",
        "colab_type": "code",
        "colab": {}
      },
      "source": [
        "testing.shape"
      ],
      "execution_count": null,
      "outputs": []
    },
    {
      "cell_type": "code",
      "metadata": {
        "id": "s1pYfV7BOb_K",
        "colab_type": "code",
        "colab": {}
      },
      "source": [
        "testing_prepared=full_pipeline.fit_transform(testing)"
      ],
      "execution_count": null,
      "outputs": []
    },
    {
      "cell_type": "code",
      "metadata": {
        "id": "DKmibt794t42",
        "colab_type": "code",
        "colab": {
          "base_uri": "https://localhost:8080/",
          "height": 34
        },
        "outputId": "44d96f8d-ffb6-45a6-8979-10d3cac34c70"
      },
      "source": [
        "from sklearn.linear_model import LinearRegression\n",
        "from sklearn.metrics import mean_squared_error\n",
        "from math import sqrt\n",
        "\n",
        "lin_reg=LinearRegression()\n",
        "lin_reg.fit(x_train[:1000000],y_train[:1000000])\n",
        "lin_predict=lin_reg.predict(x_val)\n",
        "lin_mse=mean_squared_error(lin_predict,y_val)\n",
        "lin_rmse=sqrt(lin_mse)\n",
        "lin_rmse"
      ],
      "execution_count": null,
      "outputs": [
        {
          "output_type": "execute_result",
          "data": {
            "text/plain": [
              "330.71624963031195"
            ]
          },
          "metadata": {
            "tags": []
          },
          "execution_count": 39
        }
      ]
    },
    {
      "cell_type": "markdown",
      "metadata": {
        "id": "uFd-B5nY6PHS",
        "colab_type": "text"
      },
      "source": [
        "Linear regression RMSE 330.71624963031195"
      ]
    },
    {
      "cell_type": "markdown",
      "metadata": {
        "id": "iABKX-Sc_BfZ",
        "colab_type": "text"
      },
      "source": [
        "**Applying 2 degree polynomial**"
      ]
    },
    {
      "cell_type": "code",
      "metadata": {
        "id": "GtMrYcHO_AVJ",
        "colab_type": "code",
        "colab": {
          "base_uri": "https://localhost:8080/",
          "height": 34
        },
        "outputId": "dc63d872-415a-41f5-c37d-5621f501e72d"
      },
      "source": [
        "from sklearn.preprocessing import PolynomialFeatures\n",
        "\n",
        "poly_features=PolynomialFeatures(degree=2,include_bias=False)\n",
        "x_poly=poly_features.fit_transform(x_train[:1000000])\n",
        "lin_reg=LinearRegression()\n",
        "lin_reg.fit(x_poly,y_train[:1000000])"
      ],
      "execution_count": null,
      "outputs": [
        {
          "output_type": "execute_result",
          "data": {
            "text/plain": [
              "LinearRegression(copy_X=True, fit_intercept=True, n_jobs=None, normalize=False)"
            ]
          },
          "metadata": {
            "tags": []
          },
          "execution_count": 80
        }
      ]
    },
    {
      "cell_type": "code",
      "metadata": {
        "id": "w2uH6cjNAnjb",
        "colab_type": "code",
        "colab": {
          "base_uri": "https://localhost:8080/",
          "height": 34
        },
        "outputId": "21f4dfbe-bc37-4c19-f2a0-352209af340b"
      },
      "source": [
        "x_val_poly=poly_features.transform(x_val)\n",
        "predict=lin_reg.predict(x_val_poly)\n",
        "degree2_mse=mean_squared_error(predict,y_val)\n",
        "degree2_rmse=sqrt(degree2_mse)\n",
        "degree2_rmse"
      ],
      "execution_count": null,
      "outputs": [
        {
          "output_type": "execute_result",
          "data": {
            "text/plain": [
              "2486.5616840162443"
            ]
          },
          "metadata": {
            "tags": []
          },
          "execution_count": 81
        }
      ]
    },
    {
      "cell_type": "markdown",
      "metadata": {
        "id": "5qFwcn6S6WIo",
        "colab_type": "text"
      },
      "source": [
        "2nd degree polynomial RMSE 2486.5616840162443"
      ]
    },
    {
      "cell_type": "markdown",
      "metadata": {
        "id": "P5wTTtrCE8KO",
        "colab_type": "text"
      },
      "source": [
        "**Applying 3 degree polynomial. 3 or higher degree polynomial will have to be done through virtual server**"
      ]
    },
    {
      "cell_type": "code",
      "metadata": {
        "id": "hv6IrO_uEhAq",
        "colab_type": "code",
        "colab": {}
      },
      "source": [
        "# from sklearn.preprocessing import PolynomialFeatures\n",
        "\n",
        "# poly3_features=PolynomialFeatures(degree=3,include_bias=False)\n",
        "# x_poly=poly3_features.fit_transform(x_train[:1000000])\n",
        "# lin_reg=LinearRegression()\n",
        "# lin_reg.fit(x_poly,y_train[:1000000])"
      ],
      "execution_count": null,
      "outputs": []
    },
    {
      "cell_type": "code",
      "metadata": {
        "id": "--2oekTEF4Ve",
        "colab_type": "code",
        "colab": {}
      },
      "source": [
        "# x_val_poly=poly3_features.transform(x_val)\n",
        "# predict=lin_reg.predict(x_val_poly)\n",
        "# degree3_mse=mean_squared_error(predict,y_val)\n",
        "# degree3rmse=sqrt(degree2_mse)\n",
        "# degree3_rmse"
      ],
      "execution_count": null,
      "outputs": []
    },
    {
      "cell_type": "markdown",
      "metadata": {
        "id": "9EQn3cWle1pM",
        "colab_type": "text"
      },
      "source": [
        "**Using grid search with Ridge regression**"
      ]
    },
    {
      "cell_type": "code",
      "metadata": {
        "id": "nNs7sswBe1KJ",
        "colab_type": "code",
        "colab": {
          "base_uri": "https://localhost:8080/",
          "height": 153
        },
        "outputId": "ab1d6a3e-3fd4-479b-aa83-870a0830fac7"
      },
      "source": [
        "from sklearn.model_selection import GridSearchCV\n",
        "from sklearn.linear_model import Ridge\n",
        "param_grid=[\n",
        "            {'alpha':[0.001,0.003,0.01,0.03,0.1,0.3,1,3]}\n",
        "]\n",
        "\n",
        "ridge_reg=Ridge()\n",
        "\n",
        "grid_search=GridSearchCV(ridge_reg,param_grid,cv=5,\n",
        "                         scoring='neg_mean_squared_error',\n",
        "                         return_train_score=True)\n",
        "\n",
        "grid_search.fit(x_train[:1000000],y_train[:1000000])"
      ],
      "execution_count": null,
      "outputs": [
        {
          "output_type": "execute_result",
          "data": {
            "text/plain": [
              "GridSearchCV(cv=5, error_score=nan,\n",
              "             estimator=Ridge(alpha=1.0, copy_X=True, fit_intercept=True,\n",
              "                             max_iter=None, normalize=False, random_state=None,\n",
              "                             solver='auto', tol=0.001),\n",
              "             iid='deprecated', n_jobs=None,\n",
              "             param_grid=[{'alpha': [0.001, 0.003, 0.01, 0.03, 0.1, 0.3, 1, 3]}],\n",
              "             pre_dispatch='2*n_jobs', refit=True, return_train_score=True,\n",
              "             scoring='neg_mean_squared_error', verbose=0)"
            ]
          },
          "metadata": {
            "tags": []
          },
          "execution_count": 40
        }
      ]
    },
    {
      "cell_type": "code",
      "metadata": {
        "id": "6Rij3Fqzxkb8",
        "colab_type": "code",
        "colab": {
          "base_uri": "https://localhost:8080/",
          "height": 34
        },
        "outputId": "24645ff1-6964-4614-9d56-91e380a8fa68"
      },
      "source": [
        "grid_search.best_params_"
      ],
      "execution_count": null,
      "outputs": [
        {
          "output_type": "execute_result",
          "data": {
            "text/plain": [
              "{'alpha': 0.001}"
            ]
          },
          "metadata": {
            "tags": []
          },
          "execution_count": 41
        }
      ]
    },
    {
      "cell_type": "markdown",
      "metadata": {
        "id": "QlTfE0Op6dQ5",
        "colab_type": "text"
      },
      "source": [
        "Ridge regression alpha=0.001\n"
      ]
    },
    {
      "cell_type": "markdown",
      "metadata": {
        "id": "X2yXfhuOxprs",
        "colab_type": "text"
      },
      "source": [
        "**Ridge regression with alpha=0.001**"
      ]
    },
    {
      "cell_type": "code",
      "metadata": {
        "id": "YFuOJ-QvxpQW",
        "colab_type": "code",
        "colab": {
          "base_uri": "https://localhost:8080/",
          "height": 34
        },
        "outputId": "67245b79-97fd-4be1-bb6e-8723733c6cc4"
      },
      "source": [
        "from sklearn.metrics import mean_squared_error\n",
        "\n",
        "ridge_reg=Ridge(alpha=0.001,solver='cholesky')\n",
        "ridge_reg.fit(x_train[:1000000],y_train[:1000000])\n",
        "ridge_pred=ridge_reg.predict(x_val)\n",
        "ridge_mse=mean_squared_error(ridge_pred,y_val)\n",
        "ridge_rmse=np.sqrt(ridge_mse)\n",
        "ridge_rmse"
      ],
      "execution_count": null,
      "outputs": [
        {
          "output_type": "execute_result",
          "data": {
            "text/plain": [
              "330.7155506044864"
            ]
          },
          "metadata": {
            "tags": []
          },
          "execution_count": 42
        }
      ]
    },
    {
      "cell_type": "markdown",
      "metadata": {
        "id": "NGjQPFPR6g20",
        "colab_type": "text"
      },
      "source": [
        "Ridge regression RMSE 330.7155506044864"
      ]
    },
    {
      "cell_type": "markdown",
      "metadata": {
        "id": "9nAq-aTm2qFU",
        "colab_type": "text"
      },
      "source": [
        "**Using grid search with Lasso regression**"
      ]
    },
    {
      "cell_type": "code",
      "metadata": {
        "id": "-v2KZaha2pLm",
        "colab_type": "code",
        "colab": {
          "base_uri": "https://localhost:8080/",
          "height": 361
        },
        "outputId": "6fd5f2a9-eb96-4492-fb58-dbd3c375c9c1"
      },
      "source": [
        "from sklearn.model_selection import GridSearchCV\n",
        "from sklearn.linear_model import Lasso\n",
        "\n",
        "param_grid=[\n",
        "            {'alpha':[0.001,0.003,0.01,0.03,0.1,0.3,1,3]}\n",
        "]\n",
        "\n",
        "lasso_reg=Lasso()\n",
        "\n",
        "grid_search=GridSearchCV(lasso_reg,param_grid,cv=5,\n",
        "                         scoring='neg_mean_squared_error',\n",
        "                         return_train_score=True)\n",
        "\n",
        "grid_search.fit(x_train[:1000000],y_train[:1000000])"
      ],
      "execution_count": null,
      "outputs": [
        {
          "output_type": "stream",
          "text": [
            "/usr/local/lib/python3.6/dist-packages/sklearn/linear_model/_coordinate_descent.py:476: ConvergenceWarning: Objective did not converge. You might want to increase the number of iterations. Duality gap: 4528941406.125755, tolerance: 9787060.935060643\n",
            "  positive)\n",
            "/usr/local/lib/python3.6/dist-packages/sklearn/linear_model/_coordinate_descent.py:476: ConvergenceWarning: Objective did not converge. You might want to increase the number of iterations. Duality gap: 11310130249.811222, tolerance: 9553136.87984566\n",
            "  positive)\n",
            "/usr/local/lib/python3.6/dist-packages/sklearn/linear_model/_coordinate_descent.py:476: ConvergenceWarning: Objective did not converge. You might want to increase the number of iterations. Duality gap: 4461370443.598045, tolerance: 9559210.098052628\n",
            "  positive)\n",
            "/usr/local/lib/python3.6/dist-packages/sklearn/linear_model/_coordinate_descent.py:476: ConvergenceWarning: Objective did not converge. You might want to increase the number of iterations. Duality gap: 4368647885.014664, tolerance: 9362003.901670454\n",
            "  positive)\n",
            "/usr/local/lib/python3.6/dist-packages/sklearn/linear_model/_coordinate_descent.py:476: ConvergenceWarning: Objective did not converge. You might want to increase the number of iterations. Duality gap: 4345375263.030907, tolerance: 9334350.291387942\n",
            "  positive)\n"
          ],
          "name": "stderr"
        },
        {
          "output_type": "execute_result",
          "data": {
            "text/plain": [
              "GridSearchCV(cv=5, error_score=nan,\n",
              "             estimator=Lasso(alpha=1.0, copy_X=True, fit_intercept=True,\n",
              "                             max_iter=1000, normalize=False, positive=False,\n",
              "                             precompute=False, random_state=None,\n",
              "                             selection='cyclic', tol=0.0001, warm_start=False),\n",
              "             iid='deprecated', n_jobs=None,\n",
              "             param_grid=[{'alpha': [0.001, 0.003, 0.01, 0.03, 0.1, 0.3, 1, 3]}],\n",
              "             pre_dispatch='2*n_jobs', refit=True, return_train_score=True,\n",
              "             scoring='neg_mean_squared_error', verbose=0)"
            ]
          },
          "metadata": {
            "tags": []
          },
          "execution_count": 43
        }
      ]
    },
    {
      "cell_type": "code",
      "metadata": {
        "id": "kewkZokv35gy",
        "colab_type": "code",
        "colab": {
          "base_uri": "https://localhost:8080/",
          "height": 34
        },
        "outputId": "1a579280-f777-4f13-f7e2-62a149616089"
      },
      "source": [
        "grid_search.best_params_"
      ],
      "execution_count": null,
      "outputs": [
        {
          "output_type": "execute_result",
          "data": {
            "text/plain": [
              "{'alpha': 0.003}"
            ]
          },
          "metadata": {
            "tags": []
          },
          "execution_count": 44
        }
      ]
    },
    {
      "cell_type": "markdown",
      "metadata": {
        "id": "YlsV-tvA8nmk",
        "colab_type": "text"
      },
      "source": [
        "Lasso regression alpha= 0.003"
      ]
    },
    {
      "cell_type": "markdown",
      "metadata": {
        "id": "l439lTVT8yl7",
        "colab_type": "text"
      },
      "source": [
        "**Lasso regression with alpha= 0.003**"
      ]
    },
    {
      "cell_type": "code",
      "metadata": {
        "id": "g-p2qYh385cH",
        "colab_type": "code",
        "colab": {
          "base_uri": "https://localhost:8080/",
          "height": 34
        },
        "outputId": "2bb9ff58-76c4-49db-a5d3-53fda4f946ac"
      },
      "source": [
        "from sklearn.linear_model import Lasso\n",
        "\n",
        "lasso_reg=Lasso(alpha=0.003)\n",
        "lasso_reg.fit(x_train[:1000000],y_train[:1000000])\n",
        "lasso_pred=lasso_reg.predict(x_val)\n",
        "lasso_mse=mean_squared_error(lasso_pred,y_val)\n",
        "lasso_rmse=np.sqrt(lasso_mse)\n",
        "lasso_rmse"
      ],
      "execution_count": null,
      "outputs": [
        {
          "output_type": "execute_result",
          "data": {
            "text/plain": [
              "330.71471612045525"
            ]
          },
          "metadata": {
            "tags": []
          },
          "execution_count": 45
        }
      ]
    },
    {
      "cell_type": "markdown",
      "metadata": {
        "id": "pk9Bd86l-Fc9",
        "colab_type": "text"
      },
      "source": [
        "Lasso regression RMSE 330.71471612045525"
      ]
    },
    {
      "cell_type": "markdown",
      "metadata": {
        "id": "Ev1KSepK-VtT",
        "colab_type": "text"
      },
      "source": [
        "**Grid search with elastic net**"
      ]
    },
    {
      "cell_type": "code",
      "metadata": {
        "id": "U2dkoFOt-VSm",
        "colab_type": "code",
        "colab": {
          "base_uri": "https://localhost:8080/",
          "height": 412
        },
        "outputId": "c196b563-640e-40cb-f331-592bc40f45ff"
      },
      "source": [
        "from sklearn.model_selection import GridSearchCV\n",
        "from sklearn.linear_model import ElasticNet\n",
        "\n",
        "param_grid=[\n",
        "            {'alpha':[0.001,0.003,0.01,0.03,0.1,0.3,1,3]}\n",
        "]\n",
        "\n",
        "elastic_reg=ElasticNet()\n",
        "\n",
        "grid_search=GridSearchCV(elastic_reg,param_grid,cv=5,\n",
        "                         scoring='neg_mean_squared_error',\n",
        "                         return_train_score=True)\n",
        "\n",
        "grid_search.fit(x_train[:1000000],y_train[:1000000])"
      ],
      "execution_count": null,
      "outputs": [
        {
          "output_type": "stream",
          "text": [
            "/usr/local/lib/python3.6/dist-packages/sklearn/linear_model/_coordinate_descent.py:476: ConvergenceWarning: Objective did not converge. You might want to increase the number of iterations. Duality gap: 16451011430.277193, tolerance: 9787060.935060643\n",
            "  positive)\n",
            "/usr/local/lib/python3.6/dist-packages/sklearn/linear_model/_coordinate_descent.py:476: ConvergenceWarning: Objective did not converge. You might want to increase the number of iterations. Duality gap: 15083615218.466158, tolerance: 9553136.87984566\n",
            "  positive)\n",
            "/usr/local/lib/python3.6/dist-packages/sklearn/linear_model/_coordinate_descent.py:476: ConvergenceWarning: Objective did not converge. You might want to increase the number of iterations. Duality gap: 15575542633.115849, tolerance: 9559210.098052628\n",
            "  positive)\n",
            "/usr/local/lib/python3.6/dist-packages/sklearn/linear_model/_coordinate_descent.py:476: ConvergenceWarning: Objective did not converge. You might want to increase the number of iterations. Duality gap: 14486784624.709265, tolerance: 9362003.901670454\n",
            "  positive)\n",
            "/usr/local/lib/python3.6/dist-packages/sklearn/linear_model/_coordinate_descent.py:476: ConvergenceWarning: Objective did not converge. You might want to increase the number of iterations. Duality gap: 15179176794.312593, tolerance: 9334350.291387942\n",
            "  positive)\n",
            "/usr/local/lib/python3.6/dist-packages/sklearn/linear_model/_coordinate_descent.py:476: ConvergenceWarning: Objective did not converge. You might want to increase the number of iterations. Duality gap: 19177981844.00997, tolerance: 11899148.79088665\n",
            "  positive)\n"
          ],
          "name": "stderr"
        },
        {
          "output_type": "execute_result",
          "data": {
            "text/plain": [
              "GridSearchCV(cv=5, error_score=nan,\n",
              "             estimator=ElasticNet(alpha=1.0, copy_X=True, fit_intercept=True,\n",
              "                                  l1_ratio=0.5, max_iter=1000, normalize=False,\n",
              "                                  positive=False, precompute=False,\n",
              "                                  random_state=None, selection='cyclic',\n",
              "                                  tol=0.0001, warm_start=False),\n",
              "             iid='deprecated', n_jobs=None,\n",
              "             param_grid=[{'alpha': [0.001, 0.003, 0.01, 0.03, 0.1, 0.3, 1, 3]}],\n",
              "             pre_dispatch='2*n_jobs', refit=True, return_train_score=True,\n",
              "             scoring='neg_mean_squared_error', verbose=0)"
            ]
          },
          "metadata": {
            "tags": []
          },
          "execution_count": 46
        }
      ]
    },
    {
      "cell_type": "code",
      "metadata": {
        "id": "2qExj37k_J_p",
        "colab_type": "code",
        "colab": {
          "base_uri": "https://localhost:8080/",
          "height": 34
        },
        "outputId": "af043a56-c089-433d-cd9b-ed81a832894e"
      },
      "source": [
        "grid_search.best_params_"
      ],
      "execution_count": null,
      "outputs": [
        {
          "output_type": "execute_result",
          "data": {
            "text/plain": [
              "{'alpha': 0.001}"
            ]
          },
          "metadata": {
            "tags": []
          },
          "execution_count": 47
        }
      ]
    },
    {
      "cell_type": "markdown",
      "metadata": {
        "id": "jZAfZcjEF4fd",
        "colab_type": "text"
      },
      "source": [
        "Elastic net alpha=0.001"
      ]
    },
    {
      "cell_type": "markdown",
      "metadata": {
        "id": "vS8rz_odF9QO",
        "colab_type": "text"
      },
      "source": [
        "**Applying elastic net with alpha=0.001**"
      ]
    },
    {
      "cell_type": "code",
      "metadata": {
        "id": "fA-PnRPNF0od",
        "colab_type": "code",
        "colab": {
          "base_uri": "https://localhost:8080/",
          "height": 88
        },
        "outputId": "610b3ee5-0da0-4d32-bfe1-7a03ed174fd8"
      },
      "source": [
        "from sklearn.linear_model import ElasticNet\n",
        "\n",
        "elastic_reg=ElasticNet(alpha=0.001)\n",
        "elastic_reg.fit(x_train[:1000000],y_train[:1000000])\n",
        "elastic_pred=elastic_reg.predict(x_val)\n",
        "elastic_mse=mean_squared_error(elastic_pred,y_val)\n",
        "elastic_rmse=np.sqrt(elastic_mse)\n",
        "elastic_rmse"
      ],
      "execution_count": null,
      "outputs": [
        {
          "output_type": "stream",
          "text": [
            "/usr/local/lib/python3.6/dist-packages/sklearn/linear_model/_coordinate_descent.py:476: ConvergenceWarning: Objective did not converge. You might want to increase the number of iterations. Duality gap: 19177981844.00997, tolerance: 11899148.79088665\n",
            "  positive)\n"
          ],
          "name": "stderr"
        },
        {
          "output_type": "execute_result",
          "data": {
            "text/plain": [
              "330.7190547383702"
            ]
          },
          "metadata": {
            "tags": []
          },
          "execution_count": 48
        }
      ]
    },
    {
      "cell_type": "markdown",
      "metadata": {
        "id": "tLd3qlSqHaG9",
        "colab_type": "text"
      },
      "source": [
        "Elastic net RMSE= 330.7190547383702"
      ]
    },
    {
      "cell_type": "markdown",
      "metadata": {
        "id": "SBtbLz9aFX4t",
        "colab_type": "text"
      },
      "source": [
        "**Batch gradient descent**"
      ]
    },
    {
      "cell_type": "code",
      "metadata": {
        "id": "iangtu4hHMbF",
        "colab_type": "code",
        "colab": {}
      },
      "source": [
        "#bias_column_size = x_train.shape[0] \n",
        "bias_column_size = 1000000   # when running the full simulation the first bias_column_size will be used But in colab, to accodomate for RAM, the second bias_column_size will be used."
      ],
      "execution_count": null,
      "outputs": []
    },
    {
      "cell_type": "code",
      "metadata": {
        "id": "x_hjMYmJFb4F",
        "colab_type": "code",
        "colab": {}
      },
      "source": [
        "x_train_b = np.c_ [np.ones((bias_column_size,1)), x_train[:1000000]]# adding the bias column in x_train"
      ],
      "execution_count": null,
      "outputs": []
    },
    {
      "cell_type": "markdown",
      "metadata": {
        "id": "eoe3lwCNJIjj",
        "colab_type": "text"
      },
      "source": [
        "**Using normal equation to get theta and then compare with BGD and SGD,MGD**"
      ]
    },
    {
      "cell_type": "code",
      "metadata": {
        "id": "_fMjx-AAJINb",
        "colab_type": "code",
        "colab": {}
      },
      "source": [
        "theta_best = np.linalg.inv(x_train_b.T .dot (x_train_b)) .dot(x_train_b.T) .dot (y_train[:1000000])\n",
        "theta_best"
      ],
      "execution_count": null,
      "outputs": []
    },
    {
      "cell_type": "code",
      "metadata": {
        "id": "EB7CuvCCKqZC",
        "colab_type": "code",
        "colab": {}
      },
      "source": [
        "bias_val_column_size = x_val.shape[0]"
      ],
      "execution_count": null,
      "outputs": []
    },
    {
      "cell_type": "code",
      "metadata": {
        "id": "yQXeY59rKUZV",
        "colab_type": "code",
        "colab": {}
      },
      "source": [
        "x_val_b = np.c_[np.ones((bias_val_column_size,1)),x_val]"
      ],
      "execution_count": null,
      "outputs": []
    },
    {
      "cell_type": "markdown",
      "metadata": {
        "id": "AWGhYGTlLJEb",
        "colab_type": "text"
      },
      "source": [
        "**Batch gradient descent**"
      ]
    },
    {
      "cell_type": "code",
      "metadata": {
        "id": "IV7btz0sK757",
        "colab_type": "code",
        "colab": {}
      },
      "source": [
        "eta_BGD=0.3\n",
        "n_iterations = 20\n",
        "m= 1000000\n",
        "\n",
        "theta_BGD = np.random.randn(theta_best.shape[0],1)\n",
        "for iteration in range(n_iterations):\n",
        "    gradients_BGD = 2/m * x_train_b.T.dot(x_train_b.dot(theta_BGD) - y_train[:1000000])\n",
        "    theta_BGD = theta_BGD - eta_BGD * gradients_BGD "
      ],
      "execution_count": null,
      "outputs": []
    },
    {
      "cell_type": "code",
      "metadata": {
        "id": "WrFy4_zoMW2u",
        "colab_type": "code",
        "colab": {}
      },
      "source": [
        "theta_BGD"
      ],
      "execution_count": null,
      "outputs": []
    },
    {
      "cell_type": "code",
      "metadata": {
        "id": "LArpfzHNNC1r",
        "colab_type": "code",
        "colab": {}
      },
      "source": [
        ""
      ],
      "execution_count": null,
      "outputs": []
    },
    {
      "cell_type": "markdown",
      "metadata": {
        "id": "sS1L0mmfIcld",
        "colab_type": "text"
      },
      "source": [
        "**Grid search to get the optimal learning rate**"
      ]
    },
    {
      "cell_type": "code",
      "metadata": {
        "id": "8pBTkjDHIg7h",
        "colab_type": "code",
        "colab": {
          "base_uri": "https://localhost:8080/",
          "height": 273
        },
        "outputId": "320f48b0-418b-447f-db1f-71bbf1825bad"
      },
      "source": [
        "from sklearn.model_selection import GridSearchCV\n",
        "from sklearn.linear_model import SGDRegressor\n",
        "\n",
        "param_grid=[\n",
        "            {'eta0':[0.001,0.003,0.01,0.03,0.1,0.3,1,3]}\n",
        "]\n",
        "\n",
        "sgd_reg=SGDRegressor(max_iter=1000,tol=1e-3,penalty='l2')\n",
        "\n",
        "grid_search=GridSearchCV(sgd_reg,param_grid,cv=5,\n",
        "                         scoring='neg_mean_squared_error',\n",
        "                         return_train_score=True)\n",
        "grid_search.fit(x_train[:1000000],y_train[:1000000])"
      ],
      "execution_count": null,
      "outputs": [
        {
          "output_type": "execute_result",
          "data": {
            "text/plain": [
              "GridSearchCV(cv=5, error_score=nan,\n",
              "             estimator=SGDRegressor(alpha=0.0001, average=False,\n",
              "                                    early_stopping=False, epsilon=0.1,\n",
              "                                    eta0=0.01, fit_intercept=True,\n",
              "                                    l1_ratio=0.15, learning_rate='invscaling',\n",
              "                                    loss='squared_loss', max_iter=1000,\n",
              "                                    n_iter_no_change=5, penalty='l2',\n",
              "                                    power_t=0.25, random_state=None,\n",
              "                                    shuffle=True, tol=0.001,\n",
              "                                    validation_fraction=0.1, verbose=0,\n",
              "                                    warm_start=False),\n",
              "             iid='deprecated', n_jobs=None,\n",
              "             param_grid=[{'eta0': [0.001, 0.003, 0.01, 0.03, 0.1, 0.3, 1, 3]}],\n",
              "             pre_dispatch='2*n_jobs', refit=True, return_train_score=True,\n",
              "             scoring='neg_mean_squared_error', verbose=0)"
            ]
          },
          "metadata": {
            "tags": []
          },
          "execution_count": 49
        }
      ]
    },
    {
      "cell_type": "code",
      "metadata": {
        "id": "Xmt0fMxTJfVK",
        "colab_type": "code",
        "colab": {
          "base_uri": "https://localhost:8080/",
          "height": 34
        },
        "outputId": "506c2c44-de2f-4124-c5e8-d4920417748c"
      },
      "source": [
        "grid_search.best_params_"
      ],
      "execution_count": null,
      "outputs": [
        {
          "output_type": "execute_result",
          "data": {
            "text/plain": [
              "{'eta0': 0.003}"
            ]
          },
          "metadata": {
            "tags": []
          },
          "execution_count": 50
        }
      ]
    },
    {
      "cell_type": "markdown",
      "metadata": {
        "id": "TYx5Q4RvOc3Y",
        "colab_type": "text"
      },
      "source": [
        "**Stochastic gradient descent with eta0=0.003**"
      ]
    },
    {
      "cell_type": "code",
      "metadata": {
        "id": "xVbpBaVVHoqX",
        "colab_type": "code",
        "colab": {
          "base_uri": "https://localhost:8080/",
          "height": 34
        },
        "outputId": "4d935679-92b3-4270-9119-8370b7f3dd10"
      },
      "source": [
        "from sklearn.linear_model import SGDRegressor\n",
        "from sklearn. metrics import mean_squared_error\n",
        "\n",
        "sgd_reg=SGDRegressor(max_iter=1000,tol=1e-3,penalty='l2',eta0=0.003)\n",
        "sgd_reg.fit(x_train[:1000000],y_train[:1000000])\n",
        "sgd_pred=sgd_reg.predict(x_val)\n",
        "sgd_mse=mean_squared_error(sgd_pred,y_val)\n",
        "sgd_rmse=np.sqrt(sgd_mse)\n",
        "sgd_rmse"
      ],
      "execution_count": null,
      "outputs": [
        {
          "output_type": "execute_result",
          "data": {
            "text/plain": [
              "330.1397333576241"
            ]
          },
          "metadata": {
            "tags": []
          },
          "execution_count": 40
        }
      ]
    },
    {
      "cell_type": "markdown",
      "metadata": {
        "id": "noHNta54N-lS",
        "colab_type": "text"
      },
      "source": [
        "Stochastic gradient descent RMSE with eta0=0.003 is 330.1397333576241"
      ]
    },
    {
      "cell_type": "markdown",
      "metadata": {
        "id": "GLNndoyOuF68",
        "colab_type": "text"
      },
      "source": [
        "**Support Vector Regressor**"
      ]
    },
    {
      "cell_type": "code",
      "metadata": {
        "id": "cm5Q7DqYxp5R",
        "colab_type": "code",
        "colab": {
          "base_uri": "https://localhost:8080/",
          "height": 187
        },
        "outputId": "c6fe1512-226f-432b-bbdb-3ecc44c88740"
      },
      "source": [
        "from sklearn.model_selection import GridSearchCV\n",
        "from sklearn.svm import LinearSVR\n",
        "\n",
        "param_grid = [\n",
        "              {'epsilon':[0.003,0.001,0.03,0.01,0.3,0.1,1,3,10,20,50,100,400,800,1000]}\n",
        "]\n",
        "\n",
        "svm_reg = LinearSVR()\n",
        "grid_search = GridSearchCV(svm_reg,param_grid,\n",
        "                           scoring ='neg_mean_squared_error',\n",
        "                           return_train_score =True)\n",
        "grid_search.fit(x_train[:1000000],y_train[:1000000])"
      ],
      "execution_count": null,
      "outputs": [
        {
          "output_type": "execute_result",
          "data": {
            "text/plain": [
              "GridSearchCV(cv=None, error_score=nan,\n",
              "             estimator=LinearSVR(C=1.0, dual=True, epsilon=0.0,\n",
              "                                 fit_intercept=True, intercept_scaling=1.0,\n",
              "                                 loss='epsilon_insensitive', max_iter=1000,\n",
              "                                 random_state=None, tol=0.0001, verbose=0),\n",
              "             iid='deprecated', n_jobs=None,\n",
              "             param_grid=[{'epsilon': [0.003, 0.001, 0.03, 0.01, 0.3, 0.1, 1, 3,\n",
              "                                      10, 20, 50, 100, 400, 800, 1000]}],\n",
              "             pre_dispatch='2*n_jobs', refit=True, return_train_score=True,\n",
              "             scoring='neg_mean_squared_error', verbose=0)"
            ]
          },
          "metadata": {
            "tags": []
          },
          "execution_count": 41
        }
      ]
    },
    {
      "cell_type": "code",
      "metadata": {
        "id": "G3upQSxIz4Ss",
        "colab_type": "code",
        "colab": {
          "base_uri": "https://localhost:8080/",
          "height": 34
        },
        "outputId": "3c14adb6-33e8-4926-d377-fa321b259907"
      },
      "source": [
        "grid_search.best_params_"
      ],
      "execution_count": null,
      "outputs": [
        {
          "output_type": "execute_result",
          "data": {
            "text/plain": [
              "{'epsilon': 100}"
            ]
          },
          "metadata": {
            "tags": []
          },
          "execution_count": 42
        }
      ]
    },
    {
      "cell_type": "markdown",
      "metadata": {
        "id": "hYza_NP93Ygj",
        "colab_type": "text"
      },
      "source": [
        "**from grid search epsilon = 100. LinearSVR with epsilon = 100**"
      ]
    },
    {
      "cell_type": "code",
      "metadata": {
        "id": "Nw-qLuzauK9A",
        "colab_type": "code",
        "colab": {
          "base_uri": "https://localhost:8080/",
          "height": 34
        },
        "outputId": "fa409bf8-fa4e-4423-80c2-95020a400654"
      },
      "source": [
        "from sklearn.svm import LinearSVR\n",
        "from sklearn.metrics import mean_squared_error\n",
        "from math import sqrt\n",
        "\n",
        "svm_reg = LinearSVR(epsilon =200)\n",
        "svm_reg.fit(x_train[:1000000],y_train[:1000000])\n",
        "svm_reg_pred = svm_reg.predict(x_val)\n",
        "svm_reg_error = mean_squared_error(svm_reg_pred,y_val)\n",
        "svm_reg_rmse = sqrt(svm_reg_error)\n",
        "svm_reg_rmse"
      ],
      "execution_count": null,
      "outputs": [
        {
          "output_type": "execute_result",
          "data": {
            "text/plain": [
              "338.9393933085223"
            ]
          },
          "metadata": {
            "tags": []
          },
          "execution_count": 46
        }
      ]
    },
    {
      "cell_type": "markdown",
      "metadata": {
        "id": "scmQUysAJgds",
        "colab_type": "text"
      },
      "source": [
        "LinearSVR RMSE = 338.9393933085223"
      ]
    },
    {
      "cell_type": "code",
      "metadata": {
        "id": "aSLAfxm6JeRR",
        "colab_type": "code",
        "colab": {}
      },
      "source": [
        ""
      ],
      "execution_count": null,
      "outputs": []
    },
    {
      "cell_type": "code",
      "metadata": {
        "id": "dVHWglf53jjX",
        "colab_type": "code",
        "colab": {}
      },
      "source": [
        "from sklearn.model_selection import GridSearchCV\n",
        "from sklearn.svm import SVR\n",
        "\n",
        "param_grid = [\n",
        "              {'epsilon':[10,20,50,100,400,800,1000]},\n",
        "              {'degree':[2,3,4,5]},\n",
        "              {'C':[0.003,0.001,0.03,0.01]} #,20,50,100,400,800,1000\n",
        "]\n",
        "\n",
        "svm_poly_reg = SVR(kernel = 'poly')\n",
        "\n",
        "grid_search = GridSearchCV(svm_poly_reg,param_grid,\n",
        "                           scoring ='neg_mean_squared_error',\n",
        "                           return_train_score =True)\n",
        "\n",
        "grid_search.fit(x_train[:1000000],y_train[:1000000])"
      ],
      "execution_count": null,
      "outputs": []
    },
    {
      "cell_type": "code",
      "metadata": {
        "id": "w1gW4feS5S29",
        "colab_type": "code",
        "colab": {}
      },
      "source": [
        "grid_search.bet_params_"
      ],
      "execution_count": null,
      "outputs": []
    },
    {
      "cell_type": "code",
      "metadata": {
        "id": "5-cS0eSa7E8V",
        "colab_type": "code",
        "colab": {}
      },
      "source": [
        "from sklearn.svm import SVR\n",
        "from sklearn.metrics mean_squared_error\n",
        "from math import sqrt\n",
        "\n",
        "svm_poly_reg = SVR(kernel ='poly', degree = '', C ='', epislon ='')\n",
        "svm_poly_reg.fit(x_train[:1000000],y_train[:1000000])\n",
        "svm_poly_pred = svm_poly_reg.pred(x_val)\n",
        "svm_poly_mse=mean_squared_error(svm_poy_pred,y_val)\n",
        "svm_poly_rmse = sqrt(svm_poly_mse)\n",
        "svm_poy_rmse"
      ],
      "execution_count": null,
      "outputs": []
    },
    {
      "cell_type": "markdown",
      "metadata": {
        "id": "TUP3S-7ROhh1",
        "colab_type": "text"
      },
      "source": [
        "**Decision tree**"
      ]
    },
    {
      "cell_type": "markdown",
      "metadata": {
        "id": "sbkvTzHZECRx",
        "colab_type": "text"
      },
      "source": [
        "**The plan was to let decision tree fit however it wanted and let it overfit, make the figure using export_graphviz and then reducing overfitting**"
      ]
    },
    {
      "cell_type": "code",
      "metadata": {
        "id": "wKvBdrvAOmRF",
        "colab_type": "code",
        "colab": {
          "base_uri": "https://localhost:8080/",
          "height": 34
        },
        "outputId": "561cb6a7-a584-485e-df13-17ed921d159e"
      },
      "source": [
        "from sklearn.tree import DecisionTreeRegressor\n",
        "from sklearn.metrics import mean_squared_error\n",
        "\n",
        "tree_reg=DecisionTreeRegressor()\n",
        "tree_reg.fit(x_train[:1000000],y_train[:1000000])\n",
        "tree_pred=tree_reg.predict(x_val)\n",
        "tree_mse=mean_squared_error(tree_pred,y_val)\n",
        "tree_rmse=np.sqrt(tree_mse)\n",
        "tree_rmse"
      ],
      "execution_count": null,
      "outputs": [
        {
          "output_type": "execute_result",
          "data": {
            "text/plain": [
              "345.14833921723493"
            ]
          },
          "metadata": {
            "tags": []
          },
          "execution_count": 47
        }
      ]
    },
    {
      "cell_type": "markdown",
      "metadata": {
        "id": "vEUbUyE2-cPB",
        "colab_type": "text"
      },
      "source": [
        "Decision tree RMSE = 2478.8828020681417\n"
      ]
    },
    {
      "cell_type": "code",
      "metadata": {
        "id": "hb6v6HvF8ON_",
        "colab_type": "code",
        "colab": {
          "base_uri": "https://localhost:8080/",
          "height": 34
        },
        "outputId": "99109b3d-2eaa-4a69-f8d2-71d243d60da5"
      },
      "source": [
        "from sklearn.tree import DecisionTreeRegressor\n",
        "from sklearn.metrics import mean_squared_error\n",
        "\n",
        "tree_reg=DecisionTreeRegressor(max_depth =20, max_leaf_nodes=200)\n",
        "tree_reg.fit(x_train[:1000000],y_train[:1000000])\n",
        "tree_pred=tree_reg.predict(x_val)\n",
        "tree_mse=mean_squared_error(tree_pred,y_val)\n",
        "tree_rmse=np.sqrt(tree_mse)\n",
        "tree_rmse"
      ],
      "execution_count": null,
      "outputs": [
        {
          "output_type": "execute_result",
          "data": {
            "text/plain": [
              "325.3661622505669"
            ]
          },
          "metadata": {
            "tags": []
          },
          "execution_count": 54
        }
      ]
    },
    {
      "cell_type": "markdown",
      "metadata": {
        "id": "n3YNQCD-MwDa",
        "colab_type": "text"
      },
      "source": [
        "Decision tree RMSE = 325.3661622505669"
      ]
    },
    {
      "cell_type": "markdown",
      "metadata": {
        "id": "Tb2YJPGnOmx3",
        "colab_type": "text"
      },
      "source": [
        "**Ensemble**"
      ]
    },
    {
      "cell_type": "code",
      "metadata": {
        "id": "wp6WOVgaOp4Y",
        "colab_type": "code",
        "colab": {
          "base_uri": "https://localhost:8080/",
          "height": 512
        },
        "outputId": "fe3ecac7-1e5f-4974-b4b4-0353928ec3f2"
      },
      "source": [
        "from sklearn.ensemble import VotingRegressor\n",
        "from sklearn.svm import LinearSVR\n",
        "from sklearn.linear_model import LinearRegression\n",
        "from sklearn.linear_model import Ridge\n",
        "from sklearn.linear_model import Lasso\n",
        "from sklearn.linear_model import ElasticNet\n",
        "from sklearn.linear_model import SGDRegressor\n",
        "from sklearn.svm import LinearSVR\n",
        "from sklearn.svm import SVR\n",
        "from sklearn.tree import DecisionTreeRegressor\n",
        "\n",
        "lin_reg=LinearRegression()\n",
        "#ridge_reg=Ridge(alpha=0.001,solver='cholesky')\n",
        "#lasso_reg=Lasso(alpha=0.003)\n",
        "#elastic_reg=ElasticNet(alpha=0.001)\n",
        "sgd_reg=SGDRegressor(max_iter=1000,tol=1e-3,penalty='l2',eta0=0.003)\n",
        "#svm_reg = LinearSVR(epsilon =200)\n",
        "tree_reg=DecisionTreeRegressor(max_depth =20, max_leaf_nodes=200)\n",
        "\n",
        "voting_reg=VotingRegressor(\n",
        "    estimators=[('lr',lin_reg),('sgd_reg',sgd_reg),\n",
        "                ('tree',tree_reg)]\n",
        ")\n",
        "\n",
        "voting_reg.fit(x_train[:1000000],y_train[:1000000])"
      ],
      "execution_count": null,
      "outputs": [
        {
          "output_type": "execute_result",
          "data": {
            "text/plain": [
              "VotingRegressor(estimators=[('lr',\n",
              "                             LinearRegression(copy_X=True, fit_intercept=True,\n",
              "                                              n_jobs=None, normalize=False)),\n",
              "                            ('sgd_reg',\n",
              "                             SGDRegressor(alpha=0.0001, average=False,\n",
              "                                          early_stopping=False, epsilon=0.1,\n",
              "                                          eta0=0.003, fit_intercept=True,\n",
              "                                          l1_ratio=0.15,\n",
              "                                          learning_rate='invscaling',\n",
              "                                          loss='squared_loss', max_iter=1000,\n",
              "                                          n_iter_no_change=5, penalty='l2',\n",
              "                                          power_t=0.25, rand...\n",
              "                                          validation_fraction=0.1, verbose=0,\n",
              "                                          warm_start=False)),\n",
              "                            ('tree',\n",
              "                             DecisionTreeRegressor(ccp_alpha=0.0,\n",
              "                                                   criterion='mse',\n",
              "                                                   max_depth=20,\n",
              "                                                   max_features=None,\n",
              "                                                   max_leaf_nodes=200,\n",
              "                                                   min_impurity_decrease=0.0,\n",
              "                                                   min_impurity_split=None,\n",
              "                                                   min_samples_leaf=1,\n",
              "                                                   min_samples_split=2,\n",
              "                                                   min_weight_fraction_leaf=0.0,\n",
              "                                                   presort='deprecated',\n",
              "                                                   random_state=None,\n",
              "                                                   splitter='best'))],\n",
              "                n_jobs=None, weights=None)"
            ]
          },
          "metadata": {
            "tags": []
          },
          "execution_count": 72
        }
      ]
    },
    {
      "cell_type": "code",
      "metadata": {
        "id": "7ao0jAFEV0Gj",
        "colab_type": "code",
        "colab": {
          "base_uri": "https://localhost:8080/",
          "height": 34
        },
        "outputId": "f1323182-2035-4419-8f94-52b18555eba0"
      },
      "source": [
        "from sklearn.metrics import mean_squared_error\n",
        "\n",
        "voting_reg_pred=voting_reg.predict(x_val)\n",
        "voting_reg_mse=mean_squared_error(voting_reg_pred,y_val)\n",
        "voting_reg_rmse=np.sqrt(voting_reg_mse)\n",
        "voting_reg_rmse"
      ],
      "execution_count": null,
      "outputs": [
        {
          "output_type": "execute_result",
          "data": {
            "text/plain": [
              "306.85595391604943"
            ]
          },
          "metadata": {
            "tags": []
          },
          "execution_count": 73
        }
      ]
    },
    {
      "cell_type": "markdown",
      "metadata": {
        "id": "BpEvBR2VkBdZ",
        "colab_type": "text"
      },
      "source": [
        "Voting regressor RMSE 306.85595391604943"
      ]
    },
    {
      "cell_type": "markdown",
      "metadata": {
        "id": "QLF3VsxvahG-",
        "colab_type": "text"
      },
      "source": [
        "**BaggingRegressor**"
      ]
    },
    {
      "cell_type": "code",
      "metadata": {
        "id": "xedDxHt1Yw1M",
        "colab_type": "code",
        "colab": {}
      },
      "source": [
        "from sklearn.ensemble import BaggingRegressor\n",
        "from sklearn.tree import DecisionTreeRegressor\n",
        "\n",
        "bag_reg= BaggingRegressor(\n",
        "    DecisionTreeRegressor(max_depth =20, max_leaf_nodes=200),n_estimators =500,\n",
        "    max_samples=2000, bootstrap =True, n_jobs=-1 \n",
        ")\n"
      ],
      "execution_count": null,
      "outputs": []
    },
    {
      "cell_type": "code",
      "metadata": {
        "id": "TIXdVnXBalnv",
        "colab_type": "code",
        "colab": {}
      },
      "source": [
        "from math import sqrt\n",
        "from sklearn.metrics import mean_squared_error\n",
        "\n",
        "bag_reg.fit(x_train[:1000000],y_train[:1000000])\n",
        "bag_pred= bag_reg.predict(x_val)\n",
        "bag_mse=mean_squared_error(y_val,bag_pred)\n",
        "bag_rmse =sqrt(bag_mse)"
      ],
      "execution_count": null,
      "outputs": []
    },
    {
      "cell_type": "code",
      "metadata": {
        "id": "_F52ylT4ePCj",
        "colab_type": "code",
        "colab": {
          "base_uri": "https://localhost:8080/",
          "height": 34
        },
        "outputId": "20164ca3-8d40-4333-e7f3-0a5ad74ed075"
      },
      "source": [
        "bag_rmse"
      ],
      "execution_count": null,
      "outputs": [
        {
          "output_type": "execute_result",
          "data": {
            "text/plain": [
              "297.1887185629441"
            ]
          },
          "metadata": {
            "tags": []
          },
          "execution_count": 42
        }
      ]
    },
    {
      "cell_type": "markdown",
      "metadata": {
        "id": "E13hKwSeebCe",
        "colab_type": "text"
      },
      "source": [
        "**Bag_reg RMSE = 297.4902876611269**"
      ]
    },
    {
      "cell_type": "markdown",
      "metadata": {
        "id": "hQ_NS-zIe0QW",
        "colab_type": "text"
      },
      "source": [
        "**Gardient boosting**"
      ]
    },
    {
      "cell_type": "code",
      "metadata": {
        "id": "dT7dpKIFeycv",
        "colab_type": "code",
        "colab": {
          "base_uri": "https://localhost:8080/",
          "height": 176
        },
        "outputId": "0f6c5519-63ca-44da-f424-f68048d08e94"
      },
      "source": [
        "from sklearn.ensemble import GradientBoostingRegressor\n",
        "from sklearn.metrics import mean_squared_error\n",
        "\n",
        "gbrt = GradientBoostingRegressor(max_depth=20, max_leaf_nodes=200,n_estimators=500,min_samples_leaf=1000,max_features =9,  random_state=42)\n",
        "gbrt.fit(x_train[:1000000], y_train[:1000000])\n",
        "\n",
        "errors = [mean_squared_error(y _val, y_pred)\n",
        "          for y_pred in gbrt.staged_predict(x_val)]\n",
        "bst_n_estimators = np.argmin(errors) + 1\n",
        "\n",
        "gbrt_best = GradientBoostingRegressor(max_depth=20, n_estimators=bst_n_estimators, random_state=42)\n",
        "gbrt_best.fit(x_train[:1000000], y_train[:1000000])"
      ],
      "execution_count": null,
      "outputs": [
        {
          "output_type": "execute_result",
          "data": {
            "text/plain": [
              "GradientBoostingRegressor(alpha=0.9, ccp_alpha=0.0, criterion='friedman_mse',\n",
              "                          init=None, learning_rate=0.1, loss='ls', max_depth=20,\n",
              "                          max_features=None, max_leaf_nodes=None,\n",
              "                          min_impurity_decrease=0.0, min_impurity_split=None,\n",
              "                          min_samples_leaf=1, min_samples_split=2,\n",
              "                          min_weight_fraction_leaf=0.0, n_estimators=21,\n",
              "                          n_iter_no_change=None, presort='deprecated',\n",
              "                          random_state=42, subsample=1.0, tol=0.0001,\n",
              "                          validation_fraction=0.1, verbose=0, warm_start=False)"
            ]
          },
          "metadata": {
            "tags": []
          },
          "execution_count": 39
        }
      ]
    },
    {
      "cell_type": "code",
      "metadata": {
        "id": "QzkUV1aXp9c9",
        "colab_type": "code",
        "colab": {
          "base_uri": "https://localhost:8080/",
          "height": 34
        },
        "outputId": "3a891521-a122-496f-e761-b65bd2e4baac"
      },
      "source": [
        "from math import sqrt\n",
        "\n",
        "gbrt_best_pred=gbrt_best.predict(x_val)\n",
        "gbrt_best_mse=mean_squared_error(gbrt_best_pred,y_val)\n",
        "gbrt_best_rmse = sqrt(gbrt_best_mse)\n",
        "gbrt_best_rmse"
      ],
      "execution_count": null,
      "outputs": [
        {
          "output_type": "execute_result",
          "data": {
            "text/plain": [
              "330.66471312131597"
            ]
          },
          "metadata": {
            "tags": []
          },
          "execution_count": 41
        }
      ]
    },
    {
      "cell_type": "markdown",
      "metadata": {
        "id": "pPP6pdo6WTti",
        "colab_type": "text"
      },
      "source": [
        "gradient boosting RMSE with max_depth=20, max_leaf_nodes=200,n_estimators=500,random_state=330.66471312131597"
      ]
    },
    {
      "cell_type": "markdown",
      "metadata": {
        "id": "M_pB2SDKOsxi",
        "colab_type": "text"
      },
      "source": [
        "**Making test set predictions**"
      ]
    },
    {
      "cell_type": "code",
      "metadata": {
        "id": "P70RYMjGOtvm",
        "colab_type": "code",
        "colab": {}
      },
      "source": [
        "bag_reg_test= bag_reg.predict(testing_prepared)"
      ],
      "execution_count": null,
      "outputs": []
    },
    {
      "cell_type": "markdown",
      "metadata": {
        "id": "ZfCttW5LOwSt",
        "colab_type": "text"
      },
      "source": [
        "**Saving test set predictions**"
      ]
    },
    {
      "cell_type": "code",
      "metadata": {
        "id": "4bbRqRhQOysc",
        "colab_type": "code",
        "colab": {}
      },
      "source": [
        "steam_preds = pd.DataFrame({'row_id':test_electricity['row_id'],\n",
        "                            'meter_reading':bag_reg_test})\n",
        "steam_preds.head()"
      ],
      "execution_count": null,
      "outputs": []
    },
    {
      "cell_type": "code",
      "metadata": {
        "id": "Yeojr_luO183",
        "colab_type": "code",
        "colab": {}
      },
      "source": [
        "file_name='electricity_preds.csv'\n",
        "electricity_preds.to_csv(file_name,index=False)\n",
        "print('Saved file:'+file_name)"
      ],
      "execution_count": null,
      "outputs": []
    }
  ]
}