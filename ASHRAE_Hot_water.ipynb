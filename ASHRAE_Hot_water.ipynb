{
  "nbformat": 4,
  "nbformat_minor": 0,
  "metadata": {
    "colab": {
      "name": "Copy of ASHRAE GPU-Hot water.ipynb",
      "provenance": [],
      "collapsed_sections": [],
      "machine_shape": "hm"
    },
    "kernelspec": {
      "name": "python3",
      "display_name": "Python 3"
    }
  },
  "cells": [
    {
      "cell_type": "code",
      "metadata": {
        "id": "pkpOoLmu3WeC"
      },
      "source": [
        "import os,shutil"
      ],
      "execution_count": null,
      "outputs": []
    },
    {
      "cell_type": "markdown",
      "metadata": {
        "id": "1LT6NT4WqsjD"
      },
      "source": [
        "**Importing dataset from Kaggle**"
      ]
    },
    {
      "cell_type": "code",
      "metadata": {
        "id": "80SLOezQ66de"
      },
      "source": [
        "os.environ['KAGGLE_USERNAME']='rohanazad'\n",
        "os.environ['KAGGLE_KEY']='f3cf3c594532e397b78564e4bbe88ec6'"
      ],
      "execution_count": null,
      "outputs": []
    },
    {
      "cell_type": "code",
      "metadata": {
        "id": "y7x1pAux75az",
        "colab": {
          "base_uri": "https://localhost:8080/",
          "height": 354
        },
        "outputId": "802a17db-684b-41ce-ab81-b1d1f23e448c"
      },
      "source": [
        "!kaggle competitions download -c ashrae-energy-prediction"
      ],
      "execution_count": null,
      "outputs": [
        {
          "output_type": "stream",
          "text": [
            "Warning: Looks like you're using an outdated API Version, please consider updating (server 1.5.6 / client 1.5.4)\n",
            "Downloading sample_submission.csv.zip to /content\n",
            " 87% 77.0M/88.4M [00:01<00:00, 44.5MB/s]\n",
            "100% 88.4M/88.4M [00:01<00:00, 76.1MB/s]\n",
            "Downloading weather_train.csv.zip to /content\n",
            "  0% 0.00/1.27M [00:00<?, ?B/s]\n",
            "100% 1.27M/1.27M [00:00<00:00, 183MB/s]\n",
            "Downloading test.csv.zip to /content\n",
            " 93% 155M/167M [00:02<00:00, 45.5MB/s]\n",
            "100% 167M/167M [00:02<00:00, 64.2MB/s]\n",
            "Downloading train.csv.zip to /content\n",
            " 88% 105M/120M [00:02<00:00, 29.3MB/s] \n",
            "100% 120M/120M [00:02<00:00, 46.1MB/s]\n",
            "Downloading building_metadata.csv to /content\n",
            "  0% 0.00/44.5k [00:00<?, ?B/s]\n",
            "100% 44.5k/44.5k [00:00<00:00, 38.9MB/s]\n",
            "Downloading weather_test.csv.zip to /content\n",
            "  0% 0.00/2.53M [00:00<?, ?B/s]\n",
            "100% 2.53M/2.53M [00:00<00:00, 83.3MB/s]\n"
          ],
          "name": "stdout"
        }
      ]
    },
    {
      "cell_type": "code",
      "metadata": {
        "id": "Xm3NAdYx7_6-"
      },
      "source": [
        "import pandas as pd"
      ],
      "execution_count": null,
      "outputs": []
    },
    {
      "cell_type": "code",
      "metadata": {
        "id": "c6Lp7Rw09JR1"
      },
      "source": [
        "import zipfile\n",
        "\n",
        "unzipped_train=zipfile.ZipFile('train.csv.zip')\n",
        "unzipped_train.extractall()\n",
        "unzipped_train.close()\n",
        "\n",
        "unzipped_test=zipfile.ZipFile('test.csv.zip')\n",
        "unzipped_test.extractall()\n",
        "unzipped_test.close()"
      ],
      "execution_count": null,
      "outputs": []
    },
    {
      "cell_type": "code",
      "metadata": {
        "id": "0ognNf7j94zl"
      },
      "source": [
        "unzipped_weather_train=zipfile.ZipFile('weather_train.csv.zip')\n",
        "unzipped_weather_train.extractall()\n",
        "unzipped_weather_train.close()\n",
        "\n",
        "unzipped_weather_test=zipfile.ZipFile('weather_test.csv.zip')\n",
        "unzipped_weather_test.extractall()\n",
        "unzipped_weather_test.close()"
      ],
      "execution_count": null,
      "outputs": []
    },
    {
      "cell_type": "code",
      "metadata": {
        "id": "tHibkyJR-7b2"
      },
      "source": [
        "# weather_train=pd.read_csv('weather_train.csv')\n",
        "# weather_test=pd.read_csv('weather_test.csv')\n",
        "# building_met=pd.read_csv('building_metadata.csv')"
      ],
      "execution_count": null,
      "outputs": []
    },
    {
      "cell_type": "code",
      "metadata": {
        "id": "yc48xr9r_Y2Z"
      },
      "source": [
        "# total=weather_train.isnull().sum().sort_values(ascending=False)\n",
        "# percent=(weather_train.isnull().sum()/weather_train.isnull().count()).sort_values(ascending=False)\n",
        "# missing_values=pd.concat([total,percent],axis=1,keys=['total','percent'])\n",
        "# missing_values.head(20)"
      ],
      "execution_count": null,
      "outputs": []
    },
    {
      "cell_type": "code",
      "metadata": {
        "id": "CyHXQ3XaDalp"
      },
      "source": [
        "# total=building_met.isnull().sum().sort_values(ascending=False)\n",
        "# percent=(building_met.isnull().sum()/building_met.isnull().count()).sort_values(ascending=False)\n",
        "# missing_values=pd.concat([total,percent],axis=1,keys=['total','percent'])\n",
        "# missing_values.head(20)"
      ],
      "execution_count": null,
      "outputs": []
    },
    {
      "cell_type": "code",
      "metadata": {
        "id": "uy2EjlD29vtB"
      },
      "source": [
        "train=pd.read_csv('train.csv')\n",
        "test=pd.read_csv('test.csv')\n",
        "weather_train_dir='/content/drive/My Drive/weather_train3.csv'\n",
        "weather_train=pd.read_csv(weather_train_dir)\n",
        "weather_test_dir='/content/drive/My Drive/weather_test2.csv'\n",
        "weather_test=pd.read_csv(weather_test_dir)\n",
        "building_met_dir='/content/drive/My Drive/building_metadata_save.csv'\n",
        "building_met=pd.read_csv(building_met_dir)"
      ],
      "execution_count": null,
      "outputs": []
    },
    {
      "cell_type": "code",
      "metadata": {
        "id": "n5vd_G14DSk-"
      },
      "source": [
        "# total=train.isnull().sum().sort_values(ascending=False)\n",
        "# percent=(train.isnull().sum()/train.isnull().count()).sort_values(ascending=False)\n",
        "# missing_values=pd.concat([total,percent],axis=1,keys=['total','percent'])\n",
        "# missing_values.head(20)"
      ],
      "execution_count": null,
      "outputs": []
    },
    {
      "cell_type": "code",
      "metadata": {
        "id": "8AmAEiyJ-RT8"
      },
      "source": [
        "# train.head()"
      ],
      "execution_count": null,
      "outputs": []
    },
    {
      "cell_type": "code",
      "metadata": {
        "id": "4-c_lrEJ-kjt",
        "colab": {
          "base_uri": "https://localhost:8080/",
          "height": 105
        },
        "outputId": "c4605d2d-9839-49fe-89f7-f767dddba44d"
      },
      "source": [
        "print('shape of train:',train.shape)\n",
        "print('shape of test:',test.shape)\n",
        "print('shape of weather_train:',weather_train.shape)\n",
        "print('shape of weather_test:',weather_test.shape)\n",
        "print('shape of building_metadata:',building_met.shape)"
      ],
      "execution_count": null,
      "outputs": [
        {
          "output_type": "stream",
          "text": [
            "shape of train: (20216100, 4)\n",
            "shape of test: (41697600, 4)\n",
            "shape of weather_train: (139788, 12)\n",
            "shape of weather_test: (277243, 12)\n",
            "shape of building_metadata: (1449, 6)\n"
          ],
          "name": "stdout"
        }
      ]
    },
    {
      "cell_type": "markdown",
      "metadata": {
        "id": "oz5bdRbU-7WB"
      },
      "source": [
        "**timestamp stores data as strings in a particular format. Year,month,day,time**"
      ]
    },
    {
      "cell_type": "markdown",
      "metadata": {
        "id": "vOEXNFcH_P-7"
      },
      "source": [
        "**Apply to_datetime to convert string to object**"
      ]
    },
    {
      "cell_type": "code",
      "metadata": {
        "id": "O6KF554A_UxL"
      },
      "source": [
        "train['timestamp']=pd.to_datetime(train['timestamp'])\n",
        "test['timestamp']=pd.to_datetime(test['timestamp'])\n",
        "weather_train['timestamp']=pd.to_datetime(weather_train['timestamp'])\n",
        "weather_test['timestamp']=pd.to_datetime(weather_test['timestamp'])\n",
        "\n",
        "building_met['primary_use']=building_met['primary_use'].astype('category')"
      ],
      "execution_count": null,
      "outputs": []
    },
    {
      "cell_type": "markdown",
      "metadata": {
        "id": "Dcm3uyua_Za2"
      },
      "source": [
        "**Merging the three dataset to create train set**"
      ]
    },
    {
      "cell_type": "code",
      "metadata": {
        "id": "XMFA57F__eUt"
      },
      "source": [
        "temp=train[['building_id']]\n",
        "temp=temp.merge(building_met,on='building_id',how='left')\n",
        "del temp['building_id']\n",
        "train=pd.concat([train,temp],axis=1)\n",
        "\n"
      ],
      "execution_count": null,
      "outputs": []
    },
    {
      "cell_type": "code",
      "metadata": {
        "id": "sjJNAAie_loh",
        "colab": {
          "base_uri": "https://localhost:8080/",
          "height": 197
        },
        "outputId": "87ce4227-4cc2-4ae8-9abe-517aa532286b"
      },
      "source": [
        "train.head()"
      ],
      "execution_count": null,
      "outputs": [
        {
          "output_type": "execute_result",
          "data": {
            "text/html": [
              "<div>\n",
              "<style scoped>\n",
              "    .dataframe tbody tr th:only-of-type {\n",
              "        vertical-align: middle;\n",
              "    }\n",
              "\n",
              "    .dataframe tbody tr th {\n",
              "        vertical-align: top;\n",
              "    }\n",
              "\n",
              "    .dataframe thead th {\n",
              "        text-align: right;\n",
              "    }\n",
              "</style>\n",
              "<table border=\"1\" class=\"dataframe\">\n",
              "  <thead>\n",
              "    <tr style=\"text-align: right;\">\n",
              "      <th></th>\n",
              "      <th>building_id</th>\n",
              "      <th>meter</th>\n",
              "      <th>timestamp</th>\n",
              "      <th>meter_reading</th>\n",
              "      <th>site_id</th>\n",
              "      <th>primary_use</th>\n",
              "      <th>square_feet</th>\n",
              "      <th>year_built</th>\n",
              "      <th>floor_count</th>\n",
              "    </tr>\n",
              "  </thead>\n",
              "  <tbody>\n",
              "    <tr>\n",
              "      <th>0</th>\n",
              "      <td>0</td>\n",
              "      <td>0</td>\n",
              "      <td>2016-01-01</td>\n",
              "      <td>0.0</td>\n",
              "      <td>0</td>\n",
              "      <td>Education</td>\n",
              "      <td>7432</td>\n",
              "      <td>2008.0</td>\n",
              "      <td>4</td>\n",
              "    </tr>\n",
              "    <tr>\n",
              "      <th>1</th>\n",
              "      <td>1</td>\n",
              "      <td>0</td>\n",
              "      <td>2016-01-01</td>\n",
              "      <td>0.0</td>\n",
              "      <td>0</td>\n",
              "      <td>Education</td>\n",
              "      <td>2720</td>\n",
              "      <td>2004.0</td>\n",
              "      <td>4</td>\n",
              "    </tr>\n",
              "    <tr>\n",
              "      <th>2</th>\n",
              "      <td>2</td>\n",
              "      <td>0</td>\n",
              "      <td>2016-01-01</td>\n",
              "      <td>0.0</td>\n",
              "      <td>0</td>\n",
              "      <td>Education</td>\n",
              "      <td>5376</td>\n",
              "      <td>1991.0</td>\n",
              "      <td>4</td>\n",
              "    </tr>\n",
              "    <tr>\n",
              "      <th>3</th>\n",
              "      <td>3</td>\n",
              "      <td>0</td>\n",
              "      <td>2016-01-01</td>\n",
              "      <td>0.0</td>\n",
              "      <td>0</td>\n",
              "      <td>Education</td>\n",
              "      <td>23685</td>\n",
              "      <td>2002.0</td>\n",
              "      <td>4</td>\n",
              "    </tr>\n",
              "    <tr>\n",
              "      <th>4</th>\n",
              "      <td>4</td>\n",
              "      <td>0</td>\n",
              "      <td>2016-01-01</td>\n",
              "      <td>0.0</td>\n",
              "      <td>0</td>\n",
              "      <td>Education</td>\n",
              "      <td>116607</td>\n",
              "      <td>1975.0</td>\n",
              "      <td>4</td>\n",
              "    </tr>\n",
              "  </tbody>\n",
              "</table>\n",
              "</div>"
            ],
            "text/plain": [
              "   building_id  meter  timestamp  ...  square_feet  year_built floor_count\n",
              "0            0      0 2016-01-01  ...         7432      2008.0           4\n",
              "1            1      0 2016-01-01  ...         2720      2004.0           4\n",
              "2            2      0 2016-01-01  ...         5376      1991.0           4\n",
              "3            3      0 2016-01-01  ...        23685      2002.0           4\n",
              "4            4      0 2016-01-01  ...       116607      1975.0           4\n",
              "\n",
              "[5 rows x 9 columns]"
            ]
          },
          "metadata": {
            "tags": []
          },
          "execution_count": 17
        }
      ]
    },
    {
      "cell_type": "code",
      "metadata": {
        "id": "hq8EE8xA_orR"
      },
      "source": [
        "temp=train[['site_id','timestamp']]\n",
        "temp=temp.merge(weather_train,on=['site_id','timestamp'],how='left')\n",
        "del temp['site_id'],temp['timestamp']\n",
        "train=pd.concat([train,temp],axis=1)\n",
        "\n",
        "del temp,weather_train"
      ],
      "execution_count": null,
      "outputs": []
    },
    {
      "cell_type": "code",
      "metadata": {
        "id": "gInV2R09_17r",
        "colab": {
          "base_uri": "https://localhost:8080/",
          "height": 301
        },
        "outputId": "749a8cd0-6ad1-425d-b3a6-68a10d96817d"
      },
      "source": [
        "train.head()"
      ],
      "execution_count": null,
      "outputs": [
        {
          "output_type": "execute_result",
          "data": {
            "text/html": [
              "<div>\n",
              "<style scoped>\n",
              "    .dataframe tbody tr th:only-of-type {\n",
              "        vertical-align: middle;\n",
              "    }\n",
              "\n",
              "    .dataframe tbody tr th {\n",
              "        vertical-align: top;\n",
              "    }\n",
              "\n",
              "    .dataframe thead th {\n",
              "        text-align: right;\n",
              "    }\n",
              "</style>\n",
              "<table border=\"1\" class=\"dataframe\">\n",
              "  <thead>\n",
              "    <tr style=\"text-align: right;\">\n",
              "      <th></th>\n",
              "      <th>building_id</th>\n",
              "      <th>meter</th>\n",
              "      <th>timestamp</th>\n",
              "      <th>meter_reading</th>\n",
              "      <th>site_id</th>\n",
              "      <th>primary_use</th>\n",
              "      <th>square_feet</th>\n",
              "      <th>year_built</th>\n",
              "      <th>floor_count</th>\n",
              "      <th>air_temperature</th>\n",
              "      <th>cloud_coverage</th>\n",
              "      <th>dew_temperature</th>\n",
              "      <th>precip_depth_1_hr</th>\n",
              "      <th>sea_level_pressure</th>\n",
              "      <th>wind_direction</th>\n",
              "      <th>wind_speed</th>\n",
              "      <th>Month</th>\n",
              "      <th>Day_date</th>\n",
              "      <th>year</th>\n",
              "    </tr>\n",
              "  </thead>\n",
              "  <tbody>\n",
              "    <tr>\n",
              "      <th>0</th>\n",
              "      <td>0</td>\n",
              "      <td>0</td>\n",
              "      <td>2016-01-01</td>\n",
              "      <td>0.0</td>\n",
              "      <td>0</td>\n",
              "      <td>Education</td>\n",
              "      <td>7432</td>\n",
              "      <td>2008.0</td>\n",
              "      <td>4</td>\n",
              "      <td>25.0</td>\n",
              "      <td>6.0</td>\n",
              "      <td>6.0</td>\n",
              "      <td>1.382557</td>\n",
              "      <td>1019.7</td>\n",
              "      <td>0.0</td>\n",
              "      <td>0.0</td>\n",
              "      <td>1.0</td>\n",
              "      <td>1.0</td>\n",
              "      <td>2016.0</td>\n",
              "    </tr>\n",
              "    <tr>\n",
              "      <th>1</th>\n",
              "      <td>1</td>\n",
              "      <td>0</td>\n",
              "      <td>2016-01-01</td>\n",
              "      <td>0.0</td>\n",
              "      <td>0</td>\n",
              "      <td>Education</td>\n",
              "      <td>2720</td>\n",
              "      <td>2004.0</td>\n",
              "      <td>4</td>\n",
              "      <td>25.0</td>\n",
              "      <td>6.0</td>\n",
              "      <td>6.0</td>\n",
              "      <td>1.382557</td>\n",
              "      <td>1019.7</td>\n",
              "      <td>0.0</td>\n",
              "      <td>0.0</td>\n",
              "      <td>1.0</td>\n",
              "      <td>1.0</td>\n",
              "      <td>2016.0</td>\n",
              "    </tr>\n",
              "    <tr>\n",
              "      <th>2</th>\n",
              "      <td>2</td>\n",
              "      <td>0</td>\n",
              "      <td>2016-01-01</td>\n",
              "      <td>0.0</td>\n",
              "      <td>0</td>\n",
              "      <td>Education</td>\n",
              "      <td>5376</td>\n",
              "      <td>1991.0</td>\n",
              "      <td>4</td>\n",
              "      <td>25.0</td>\n",
              "      <td>6.0</td>\n",
              "      <td>6.0</td>\n",
              "      <td>1.382557</td>\n",
              "      <td>1019.7</td>\n",
              "      <td>0.0</td>\n",
              "      <td>0.0</td>\n",
              "      <td>1.0</td>\n",
              "      <td>1.0</td>\n",
              "      <td>2016.0</td>\n",
              "    </tr>\n",
              "    <tr>\n",
              "      <th>3</th>\n",
              "      <td>3</td>\n",
              "      <td>0</td>\n",
              "      <td>2016-01-01</td>\n",
              "      <td>0.0</td>\n",
              "      <td>0</td>\n",
              "      <td>Education</td>\n",
              "      <td>23685</td>\n",
              "      <td>2002.0</td>\n",
              "      <td>4</td>\n",
              "      <td>25.0</td>\n",
              "      <td>6.0</td>\n",
              "      <td>6.0</td>\n",
              "      <td>1.382557</td>\n",
              "      <td>1019.7</td>\n",
              "      <td>0.0</td>\n",
              "      <td>0.0</td>\n",
              "      <td>1.0</td>\n",
              "      <td>1.0</td>\n",
              "      <td>2016.0</td>\n",
              "    </tr>\n",
              "    <tr>\n",
              "      <th>4</th>\n",
              "      <td>4</td>\n",
              "      <td>0</td>\n",
              "      <td>2016-01-01</td>\n",
              "      <td>0.0</td>\n",
              "      <td>0</td>\n",
              "      <td>Education</td>\n",
              "      <td>116607</td>\n",
              "      <td>1975.0</td>\n",
              "      <td>4</td>\n",
              "      <td>25.0</td>\n",
              "      <td>6.0</td>\n",
              "      <td>6.0</td>\n",
              "      <td>1.382557</td>\n",
              "      <td>1019.7</td>\n",
              "      <td>0.0</td>\n",
              "      <td>0.0</td>\n",
              "      <td>1.0</td>\n",
              "      <td>1.0</td>\n",
              "      <td>2016.0</td>\n",
              "    </tr>\n",
              "  </tbody>\n",
              "</table>\n",
              "</div>"
            ],
            "text/plain": [
              "   building_id  meter  timestamp  ...  Month  Day_date    year\n",
              "0            0      0 2016-01-01  ...    1.0       1.0  2016.0\n",
              "1            1      0 2016-01-01  ...    1.0       1.0  2016.0\n",
              "2            2      0 2016-01-01  ...    1.0       1.0  2016.0\n",
              "3            3      0 2016-01-01  ...    1.0       1.0  2016.0\n",
              "4            4      0 2016-01-01  ...    1.0       1.0  2016.0\n",
              "\n",
              "[5 rows x 19 columns]"
            ]
          },
          "metadata": {
            "tags": []
          },
          "execution_count": 19
        }
      ]
    },
    {
      "cell_type": "code",
      "metadata": {
        "id": "CSMfxBB_AqVI",
        "colab": {
          "base_uri": "https://localhost:8080/",
          "height": 34
        },
        "outputId": "9adcf23e-ad4d-4c7a-dcbc-c7ef7ef2ba1b"
      },
      "source": [
        "train.shape"
      ],
      "execution_count": null,
      "outputs": [
        {
          "output_type": "execute_result",
          "data": {
            "text/plain": [
              "(20216100, 19)"
            ]
          },
          "metadata": {
            "tags": []
          },
          "execution_count": 20
        }
      ]
    },
    {
      "cell_type": "code",
      "metadata": {
        "id": "ArjwtGgVAtWm",
        "colab": {
          "base_uri": "https://localhost:8080/",
          "height": 478
        },
        "outputId": "a6215c73-4443-4749-e606-93be4dbb50c8"
      },
      "source": [
        "train.info()"
      ],
      "execution_count": null,
      "outputs": [
        {
          "output_type": "stream",
          "text": [
            "<class 'pandas.core.frame.DataFrame'>\n",
            "RangeIndex: 20216100 entries, 0 to 20216099\n",
            "Data columns (total 19 columns):\n",
            " #   Column              Dtype         \n",
            "---  ------              -----         \n",
            " 0   building_id         int64         \n",
            " 1   meter               int64         \n",
            " 2   timestamp           datetime64[ns]\n",
            " 3   meter_reading       float64       \n",
            " 4   site_id             int64         \n",
            " 5   primary_use         category      \n",
            " 6   square_feet         int64         \n",
            " 7   year_built          float64       \n",
            " 8   floor_count         int64         \n",
            " 9   air_temperature     float64       \n",
            " 10  cloud_coverage      float64       \n",
            " 11  dew_temperature     float64       \n",
            " 12  precip_depth_1_hr   float64       \n",
            " 13  sea_level_pressure  float64       \n",
            " 14  wind_direction      float64       \n",
            " 15  wind_speed          float64       \n",
            " 16  Month               float64       \n",
            " 17  Day_date            float64       \n",
            " 18  year                float64       \n",
            "dtypes: category(1), datetime64[ns](1), float64(12), int64(5)\n",
            "memory usage: 2.7 GB\n"
          ],
          "name": "stdout"
        }
      ]
    },
    {
      "cell_type": "markdown",
      "metadata": {
        "id": "eiQ2xQ80AzNM"
      },
      "source": [
        "**Creating Hour column**"
      ]
    },
    {
      "cell_type": "code",
      "metadata": {
        "id": "2Xh1wRB9A2sZ"
      },
      "source": [
        "import numpy as np\n",
        "\n",
        "train['hour_datetime']=train['timestamp'].dt.hour.astype(np.int8)\n",
        "\n",
        "del train['timestamp']"
      ],
      "execution_count": null,
      "outputs": []
    },
    {
      "cell_type": "code",
      "metadata": {
        "id": "1VzQ5paZBGbL",
        "colab": {
          "base_uri": "https://localhost:8080/",
          "height": 217
        },
        "outputId": "d5c24824-5bdf-47c3-a8e9-ecb50cf05b5f"
      },
      "source": [
        "train.head()"
      ],
      "execution_count": null,
      "outputs": [
        {
          "output_type": "execute_result",
          "data": {
            "text/html": [
              "<div>\n",
              "<style scoped>\n",
              "    .dataframe tbody tr th:only-of-type {\n",
              "        vertical-align: middle;\n",
              "    }\n",
              "\n",
              "    .dataframe tbody tr th {\n",
              "        vertical-align: top;\n",
              "    }\n",
              "\n",
              "    .dataframe thead th {\n",
              "        text-align: right;\n",
              "    }\n",
              "</style>\n",
              "<table border=\"1\" class=\"dataframe\">\n",
              "  <thead>\n",
              "    <tr style=\"text-align: right;\">\n",
              "      <th></th>\n",
              "      <th>building_id</th>\n",
              "      <th>meter</th>\n",
              "      <th>meter_reading</th>\n",
              "      <th>site_id</th>\n",
              "      <th>primary_use</th>\n",
              "      <th>square_feet</th>\n",
              "      <th>year_built</th>\n",
              "      <th>floor_count</th>\n",
              "      <th>air_temperature</th>\n",
              "      <th>cloud_coverage</th>\n",
              "      <th>dew_temperature</th>\n",
              "      <th>precip_depth_1_hr</th>\n",
              "      <th>sea_level_pressure</th>\n",
              "      <th>wind_direction</th>\n",
              "      <th>wind_speed</th>\n",
              "      <th>Month</th>\n",
              "      <th>Day_date</th>\n",
              "      <th>year</th>\n",
              "      <th>hour_datetime</th>\n",
              "    </tr>\n",
              "  </thead>\n",
              "  <tbody>\n",
              "    <tr>\n",
              "      <th>0</th>\n",
              "      <td>0</td>\n",
              "      <td>0</td>\n",
              "      <td>0.0</td>\n",
              "      <td>0</td>\n",
              "      <td>Education</td>\n",
              "      <td>7432</td>\n",
              "      <td>2008.0</td>\n",
              "      <td>4</td>\n",
              "      <td>25.0</td>\n",
              "      <td>6.0</td>\n",
              "      <td>6.0</td>\n",
              "      <td>1.382557</td>\n",
              "      <td>1019.7</td>\n",
              "      <td>0.0</td>\n",
              "      <td>0.0</td>\n",
              "      <td>1.0</td>\n",
              "      <td>1.0</td>\n",
              "      <td>2016.0</td>\n",
              "      <td>0</td>\n",
              "    </tr>\n",
              "    <tr>\n",
              "      <th>1</th>\n",
              "      <td>1</td>\n",
              "      <td>0</td>\n",
              "      <td>0.0</td>\n",
              "      <td>0</td>\n",
              "      <td>Education</td>\n",
              "      <td>2720</td>\n",
              "      <td>2004.0</td>\n",
              "      <td>4</td>\n",
              "      <td>25.0</td>\n",
              "      <td>6.0</td>\n",
              "      <td>6.0</td>\n",
              "      <td>1.382557</td>\n",
              "      <td>1019.7</td>\n",
              "      <td>0.0</td>\n",
              "      <td>0.0</td>\n",
              "      <td>1.0</td>\n",
              "      <td>1.0</td>\n",
              "      <td>2016.0</td>\n",
              "      <td>0</td>\n",
              "    </tr>\n",
              "    <tr>\n",
              "      <th>2</th>\n",
              "      <td>2</td>\n",
              "      <td>0</td>\n",
              "      <td>0.0</td>\n",
              "      <td>0</td>\n",
              "      <td>Education</td>\n",
              "      <td>5376</td>\n",
              "      <td>1991.0</td>\n",
              "      <td>4</td>\n",
              "      <td>25.0</td>\n",
              "      <td>6.0</td>\n",
              "      <td>6.0</td>\n",
              "      <td>1.382557</td>\n",
              "      <td>1019.7</td>\n",
              "      <td>0.0</td>\n",
              "      <td>0.0</td>\n",
              "      <td>1.0</td>\n",
              "      <td>1.0</td>\n",
              "      <td>2016.0</td>\n",
              "      <td>0</td>\n",
              "    </tr>\n",
              "    <tr>\n",
              "      <th>3</th>\n",
              "      <td>3</td>\n",
              "      <td>0</td>\n",
              "      <td>0.0</td>\n",
              "      <td>0</td>\n",
              "      <td>Education</td>\n",
              "      <td>23685</td>\n",
              "      <td>2002.0</td>\n",
              "      <td>4</td>\n",
              "      <td>25.0</td>\n",
              "      <td>6.0</td>\n",
              "      <td>6.0</td>\n",
              "      <td>1.382557</td>\n",
              "      <td>1019.7</td>\n",
              "      <td>0.0</td>\n",
              "      <td>0.0</td>\n",
              "      <td>1.0</td>\n",
              "      <td>1.0</td>\n",
              "      <td>2016.0</td>\n",
              "      <td>0</td>\n",
              "    </tr>\n",
              "    <tr>\n",
              "      <th>4</th>\n",
              "      <td>4</td>\n",
              "      <td>0</td>\n",
              "      <td>0.0</td>\n",
              "      <td>0</td>\n",
              "      <td>Education</td>\n",
              "      <td>116607</td>\n",
              "      <td>1975.0</td>\n",
              "      <td>4</td>\n",
              "      <td>25.0</td>\n",
              "      <td>6.0</td>\n",
              "      <td>6.0</td>\n",
              "      <td>1.382557</td>\n",
              "      <td>1019.7</td>\n",
              "      <td>0.0</td>\n",
              "      <td>0.0</td>\n",
              "      <td>1.0</td>\n",
              "      <td>1.0</td>\n",
              "      <td>2016.0</td>\n",
              "      <td>0</td>\n",
              "    </tr>\n",
              "  </tbody>\n",
              "</table>\n",
              "</div>"
            ],
            "text/plain": [
              "   building_id  meter  meter_reading  ...  Day_date    year  hour_datetime\n",
              "0            0      0            0.0  ...       1.0  2016.0              0\n",
              "1            1      0            0.0  ...       1.0  2016.0              0\n",
              "2            2      0            0.0  ...       1.0  2016.0              0\n",
              "3            3      0            0.0  ...       1.0  2016.0              0\n",
              "4            4      0            0.0  ...       1.0  2016.0              0\n",
              "\n",
              "[5 rows x 19 columns]"
            ]
          },
          "metadata": {
            "tags": []
          },
          "execution_count": 23
        }
      ]
    },
    {
      "cell_type": "markdown",
      "metadata": {
        "id": "YwAqe9I-BNvY"
      },
      "source": [
        "**Looking for missing values**"
      ]
    },
    {
      "cell_type": "code",
      "metadata": {
        "id": "mtVJR3FYBQqH",
        "colab": {
          "base_uri": "https://localhost:8080/",
          "height": 617
        },
        "outputId": "4eec3e1e-e785-422b-bb6d-36620df318b5"
      },
      "source": [
        "total=train.isnull().sum().sort_values(ascending=False)\n",
        "percent=(train.isnull().sum()/train.isnull().count()).sort_values(ascending=False)\n",
        "missing_values=pd.concat([total,percent],axis=1,keys=['total','percent'])\n",
        "missing_values.head(20)"
      ],
      "execution_count": null,
      "outputs": [
        {
          "output_type": "execute_result",
          "data": {
            "text/html": [
              "<div>\n",
              "<style scoped>\n",
              "    .dataframe tbody tr th:only-of-type {\n",
              "        vertical-align: middle;\n",
              "    }\n",
              "\n",
              "    .dataframe tbody tr th {\n",
              "        vertical-align: top;\n",
              "    }\n",
              "\n",
              "    .dataframe thead th {\n",
              "        text-align: right;\n",
              "    }\n",
              "</style>\n",
              "<table border=\"1\" class=\"dataframe\">\n",
              "  <thead>\n",
              "    <tr style=\"text-align: right;\">\n",
              "      <th></th>\n",
              "      <th>total</th>\n",
              "      <th>percent</th>\n",
              "    </tr>\n",
              "  </thead>\n",
              "  <tbody>\n",
              "    <tr>\n",
              "      <th>cloud_coverage</th>\n",
              "      <td>82890</td>\n",
              "      <td>0.0041</td>\n",
              "    </tr>\n",
              "    <tr>\n",
              "      <th>Day_date</th>\n",
              "      <td>82890</td>\n",
              "      <td>0.0041</td>\n",
              "    </tr>\n",
              "    <tr>\n",
              "      <th>Month</th>\n",
              "      <td>82890</td>\n",
              "      <td>0.0041</td>\n",
              "    </tr>\n",
              "    <tr>\n",
              "      <th>wind_speed</th>\n",
              "      <td>82890</td>\n",
              "      <td>0.0041</td>\n",
              "    </tr>\n",
              "    <tr>\n",
              "      <th>wind_direction</th>\n",
              "      <td>82890</td>\n",
              "      <td>0.0041</td>\n",
              "    </tr>\n",
              "    <tr>\n",
              "      <th>sea_level_pressure</th>\n",
              "      <td>82890</td>\n",
              "      <td>0.0041</td>\n",
              "    </tr>\n",
              "    <tr>\n",
              "      <th>precip_depth_1_hr</th>\n",
              "      <td>82890</td>\n",
              "      <td>0.0041</td>\n",
              "    </tr>\n",
              "    <tr>\n",
              "      <th>dew_temperature</th>\n",
              "      <td>82890</td>\n",
              "      <td>0.0041</td>\n",
              "    </tr>\n",
              "    <tr>\n",
              "      <th>year</th>\n",
              "      <td>82890</td>\n",
              "      <td>0.0041</td>\n",
              "    </tr>\n",
              "    <tr>\n",
              "      <th>air_temperature</th>\n",
              "      <td>82890</td>\n",
              "      <td>0.0041</td>\n",
              "    </tr>\n",
              "    <tr>\n",
              "      <th>primary_use</th>\n",
              "      <td>0</td>\n",
              "      <td>0.0000</td>\n",
              "    </tr>\n",
              "    <tr>\n",
              "      <th>meter</th>\n",
              "      <td>0</td>\n",
              "      <td>0.0000</td>\n",
              "    </tr>\n",
              "    <tr>\n",
              "      <th>meter_reading</th>\n",
              "      <td>0</td>\n",
              "      <td>0.0000</td>\n",
              "    </tr>\n",
              "    <tr>\n",
              "      <th>site_id</th>\n",
              "      <td>0</td>\n",
              "      <td>0.0000</td>\n",
              "    </tr>\n",
              "    <tr>\n",
              "      <th>hour_datetime</th>\n",
              "      <td>0</td>\n",
              "      <td>0.0000</td>\n",
              "    </tr>\n",
              "    <tr>\n",
              "      <th>square_feet</th>\n",
              "      <td>0</td>\n",
              "      <td>0.0000</td>\n",
              "    </tr>\n",
              "    <tr>\n",
              "      <th>year_built</th>\n",
              "      <td>0</td>\n",
              "      <td>0.0000</td>\n",
              "    </tr>\n",
              "    <tr>\n",
              "      <th>floor_count</th>\n",
              "      <td>0</td>\n",
              "      <td>0.0000</td>\n",
              "    </tr>\n",
              "    <tr>\n",
              "      <th>building_id</th>\n",
              "      <td>0</td>\n",
              "      <td>0.0000</td>\n",
              "    </tr>\n",
              "  </tbody>\n",
              "</table>\n",
              "</div>"
            ],
            "text/plain": [
              "                    total  percent\n",
              "cloud_coverage      82890   0.0041\n",
              "Day_date            82890   0.0041\n",
              "Month               82890   0.0041\n",
              "wind_speed          82890   0.0041\n",
              "wind_direction      82890   0.0041\n",
              "sea_level_pressure  82890   0.0041\n",
              "precip_depth_1_hr   82890   0.0041\n",
              "dew_temperature     82890   0.0041\n",
              "year                82890   0.0041\n",
              "air_temperature     82890   0.0041\n",
              "primary_use             0   0.0000\n",
              "meter                   0   0.0000\n",
              "meter_reading           0   0.0000\n",
              "site_id                 0   0.0000\n",
              "hour_datetime           0   0.0000\n",
              "square_feet             0   0.0000\n",
              "year_built              0   0.0000\n",
              "floor_count             0   0.0000\n",
              "building_id             0   0.0000"
            ]
          },
          "metadata": {
            "tags": []
          },
          "execution_count": 24
        }
      ]
    },
    {
      "cell_type": "code",
      "metadata": {
        "id": "6ef05tUUB4o5"
      },
      "source": [
        "train=train.dropna()"
      ],
      "execution_count": null,
      "outputs": []
    },
    {
      "cell_type": "code",
      "metadata": {
        "id": "Wjo2YPcZB_O4",
        "colab": {
          "base_uri": "https://localhost:8080/",
          "height": 307
        },
        "outputId": "efbd5e76-d8e7-43d6-8e27-2afdb1e85c83"
      },
      "source": [
        "train.describe()"
      ],
      "execution_count": null,
      "outputs": [
        {
          "output_type": "execute_result",
          "data": {
            "text/html": [
              "<div>\n",
              "<style scoped>\n",
              "    .dataframe tbody tr th:only-of-type {\n",
              "        vertical-align: middle;\n",
              "    }\n",
              "\n",
              "    .dataframe tbody tr th {\n",
              "        vertical-align: top;\n",
              "    }\n",
              "\n",
              "    .dataframe thead th {\n",
              "        text-align: right;\n",
              "    }\n",
              "</style>\n",
              "<table border=\"1\" class=\"dataframe\">\n",
              "  <thead>\n",
              "    <tr style=\"text-align: right;\">\n",
              "      <th></th>\n",
              "      <th>building_id</th>\n",
              "      <th>meter</th>\n",
              "      <th>meter_reading</th>\n",
              "      <th>site_id</th>\n",
              "      <th>square_feet</th>\n",
              "      <th>year_built</th>\n",
              "      <th>floor_count</th>\n",
              "      <th>air_temperature</th>\n",
              "      <th>cloud_coverage</th>\n",
              "      <th>dew_temperature</th>\n",
              "      <th>precip_depth_1_hr</th>\n",
              "      <th>sea_level_pressure</th>\n",
              "      <th>wind_direction</th>\n",
              "      <th>wind_speed</th>\n",
              "      <th>Month</th>\n",
              "      <th>Day_date</th>\n",
              "      <th>year</th>\n",
              "      <th>hour_datetime</th>\n",
              "    </tr>\n",
              "  </thead>\n",
              "  <tbody>\n",
              "    <tr>\n",
              "      <th>count</th>\n",
              "      <td>2.013321e+07</td>\n",
              "      <td>2.013321e+07</td>\n",
              "      <td>2.013321e+07</td>\n",
              "      <td>2.013321e+07</td>\n",
              "      <td>2.013321e+07</td>\n",
              "      <td>2.013321e+07</td>\n",
              "      <td>2.013321e+07</td>\n",
              "      <td>2.013321e+07</td>\n",
              "      <td>2.013321e+07</td>\n",
              "      <td>2.013321e+07</td>\n",
              "      <td>2.013321e+07</td>\n",
              "      <td>2.013321e+07</td>\n",
              "      <td>2.013321e+07</td>\n",
              "      <td>2.013321e+07</td>\n",
              "      <td>2.013321e+07</td>\n",
              "      <td>2.013321e+07</td>\n",
              "      <td>20133210.0</td>\n",
              "      <td>2.013321e+07</td>\n",
              "    </tr>\n",
              "    <tr>\n",
              "      <th>mean</th>\n",
              "      <td>7.974179e+02</td>\n",
              "      <td>6.617699e-01</td>\n",
              "      <td>2.124405e+03</td>\n",
              "      <td>7.970224e+00</td>\n",
              "      <td>1.077780e+05</td>\n",
              "      <td>1.969521e+03</td>\n",
              "      <td>4.030442e+00</td>\n",
              "      <td>1.593926e+01</td>\n",
              "      <td>1.787219e+00</td>\n",
              "      <td>1.787219e+00</td>\n",
              "      <td>1.144656e+00</td>\n",
              "      <td>9.767713e+02</td>\n",
              "      <td>1.708236e+02</td>\n",
              "      <td>3.377249e+00</td>\n",
              "      <td>6.566733e+00</td>\n",
              "      <td>1.578433e+01</td>\n",
              "      <td>2016.0</td>\n",
              "      <td>1.150934e+01</td>\n",
              "    </tr>\n",
              "    <tr>\n",
              "      <th>std</th>\n",
              "      <td>4.264339e+02</td>\n",
              "      <td>9.310602e-01</td>\n",
              "      <td>1.535506e+05</td>\n",
              "      <td>5.092977e+00</td>\n",
              "      <td>1.171483e+05</td>\n",
              "      <td>2.014374e+01</td>\n",
              "      <td>1.665084e+00</td>\n",
              "      <td>1.098146e+01</td>\n",
              "      <td>2.003313e+00</td>\n",
              "      <td>2.003313e+00</td>\n",
              "      <td>6.979683e+00</td>\n",
              "      <td>1.961202e+02</td>\n",
              "      <td>1.107229e+02</td>\n",
              "      <td>2.261500e+00</td>\n",
              "      <td>3.441398e+00</td>\n",
              "      <td>8.802123e+00</td>\n",
              "      <td>0.0</td>\n",
              "      <td>6.923804e+00</td>\n",
              "    </tr>\n",
              "    <tr>\n",
              "      <th>min</th>\n",
              "      <td>0.000000e+00</td>\n",
              "      <td>0.000000e+00</td>\n",
              "      <td>0.000000e+00</td>\n",
              "      <td>0.000000e+00</td>\n",
              "      <td>2.830000e+02</td>\n",
              "      <td>1.900000e+03</td>\n",
              "      <td>1.000000e+00</td>\n",
              "      <td>-2.890000e+01</td>\n",
              "      <td>0.000000e+00</td>\n",
              "      <td>0.000000e+00</td>\n",
              "      <td>-1.000000e+00</td>\n",
              "      <td>0.000000e+00</td>\n",
              "      <td>0.000000e+00</td>\n",
              "      <td>0.000000e+00</td>\n",
              "      <td>1.000000e+00</td>\n",
              "      <td>1.000000e+00</td>\n",
              "      <td>2016.0</td>\n",
              "      <td>0.000000e+00</td>\n",
              "    </tr>\n",
              "    <tr>\n",
              "      <th>25%</th>\n",
              "      <td>3.910000e+02</td>\n",
              "      <td>0.000000e+00</td>\n",
              "      <td>1.830000e+01</td>\n",
              "      <td>3.000000e+00</td>\n",
              "      <td>3.252700e+04</td>\n",
              "      <td>1.964000e+03</td>\n",
              "      <td>4.000000e+00</td>\n",
              "      <td>8.300000e+00</td>\n",
              "      <td>0.000000e+00</td>\n",
              "      <td>0.000000e+00</td>\n",
              "      <td>0.000000e+00</td>\n",
              "      <td>1.011100e+03</td>\n",
              "      <td>8.000000e+01</td>\n",
              "      <td>2.100000e+00</td>\n",
              "      <td>4.000000e+00</td>\n",
              "      <td>8.000000e+00</td>\n",
              "      <td>2016.0</td>\n",
              "      <td>6.000000e+00</td>\n",
              "    </tr>\n",
              "    <tr>\n",
              "      <th>50%</th>\n",
              "      <td>8.940000e+02</td>\n",
              "      <td>0.000000e+00</td>\n",
              "      <td>7.875000e+01</td>\n",
              "      <td>9.000000e+00</td>\n",
              "      <td>7.270900e+04</td>\n",
              "      <td>1.975000e+03</td>\n",
              "      <td>4.000000e+00</td>\n",
              "      <td>1.670000e+01</td>\n",
              "      <td>1.109988e+00</td>\n",
              "      <td>1.109988e+00</td>\n",
              "      <td>0.000000e+00</td>\n",
              "      <td>1.015895e+03</td>\n",
              "      <td>1.700000e+02</td>\n",
              "      <td>3.100000e+00</td>\n",
              "      <td>7.000000e+00</td>\n",
              "      <td>1.600000e+01</td>\n",
              "      <td>2016.0</td>\n",
              "      <td>1.200000e+01</td>\n",
              "    </tr>\n",
              "    <tr>\n",
              "      <th>75%</th>\n",
              "      <td>1.176000e+03</td>\n",
              "      <td>1.000000e+00</td>\n",
              "      <td>2.679400e+02</td>\n",
              "      <td>1.300000e+01</td>\n",
              "      <td>1.391130e+05</td>\n",
              "      <td>1.975054e+03</td>\n",
              "      <td>4.000000e+00</td>\n",
              "      <td>2.390000e+01</td>\n",
              "      <td>2.873133e+00</td>\n",
              "      <td>2.873133e+00</td>\n",
              "      <td>0.000000e+00</td>\n",
              "      <td>1.020200e+03</td>\n",
              "      <td>2.700000e+02</td>\n",
              "      <td>4.600000e+00</td>\n",
              "      <td>1.000000e+01</td>\n",
              "      <td>2.300000e+01</td>\n",
              "      <td>2016.0</td>\n",
              "      <td>1.800000e+01</td>\n",
              "    </tr>\n",
              "    <tr>\n",
              "      <th>max</th>\n",
              "      <td>1.448000e+03</td>\n",
              "      <td>3.000000e+00</td>\n",
              "      <td>2.190470e+07</td>\n",
              "      <td>1.500000e+01</td>\n",
              "      <td>8.750000e+05</td>\n",
              "      <td>2.017000e+03</td>\n",
              "      <td>2.600000e+01</td>\n",
              "      <td>4.720000e+01</td>\n",
              "      <td>9.000000e+00</td>\n",
              "      <td>9.000000e+00</td>\n",
              "      <td>3.430000e+02</td>\n",
              "      <td>1.045500e+03</td>\n",
              "      <td>3.600000e+02</td>\n",
              "      <td>1.900000e+01</td>\n",
              "      <td>1.200000e+01</td>\n",
              "      <td>3.100000e+01</td>\n",
              "      <td>2016.0</td>\n",
              "      <td>2.300000e+01</td>\n",
              "    </tr>\n",
              "  </tbody>\n",
              "</table>\n",
              "</div>"
            ],
            "text/plain": [
              "        building_id         meter  ...        year  hour_datetime\n",
              "count  2.013321e+07  2.013321e+07  ...  20133210.0   2.013321e+07\n",
              "mean   7.974179e+02  6.617699e-01  ...      2016.0   1.150934e+01\n",
              "std    4.264339e+02  9.310602e-01  ...         0.0   6.923804e+00\n",
              "min    0.000000e+00  0.000000e+00  ...      2016.0   0.000000e+00\n",
              "25%    3.910000e+02  0.000000e+00  ...      2016.0   6.000000e+00\n",
              "50%    8.940000e+02  0.000000e+00  ...      2016.0   1.200000e+01\n",
              "75%    1.176000e+03  1.000000e+00  ...      2016.0   1.800000e+01\n",
              "max    1.448000e+03  3.000000e+00  ...      2016.0   2.300000e+01\n",
              "\n",
              "[8 rows x 18 columns]"
            ]
          },
          "metadata": {
            "tags": []
          },
          "execution_count": 26
        }
      ]
    },
    {
      "cell_type": "code",
      "metadata": {
        "id": "v254ma5oCDow",
        "colab": {
          "base_uri": "https://localhost:8080/",
          "height": 617
        },
        "outputId": "904f52f0-6a0c-47b2-905e-5727cec10444"
      },
      "source": [
        "total=train.isnull().sum().sort_values(ascending=False)\n",
        "percent=(train.isnull().sum()/train.isnull().count()).sort_values(ascending=False)\n",
        "missing_values=pd.concat([total,percent],axis=1,keys=['total','percent'])\n",
        "missing_values.head(20)"
      ],
      "execution_count": null,
      "outputs": [
        {
          "output_type": "execute_result",
          "data": {
            "text/html": [
              "<div>\n",
              "<style scoped>\n",
              "    .dataframe tbody tr th:only-of-type {\n",
              "        vertical-align: middle;\n",
              "    }\n",
              "\n",
              "    .dataframe tbody tr th {\n",
              "        vertical-align: top;\n",
              "    }\n",
              "\n",
              "    .dataframe thead th {\n",
              "        text-align: right;\n",
              "    }\n",
              "</style>\n",
              "<table border=\"1\" class=\"dataframe\">\n",
              "  <thead>\n",
              "    <tr style=\"text-align: right;\">\n",
              "      <th></th>\n",
              "      <th>total</th>\n",
              "      <th>percent</th>\n",
              "    </tr>\n",
              "  </thead>\n",
              "  <tbody>\n",
              "    <tr>\n",
              "      <th>hour_datetime</th>\n",
              "      <td>0</td>\n",
              "      <td>0.0</td>\n",
              "    </tr>\n",
              "    <tr>\n",
              "      <th>air_temperature</th>\n",
              "      <td>0</td>\n",
              "      <td>0.0</td>\n",
              "    </tr>\n",
              "    <tr>\n",
              "      <th>meter</th>\n",
              "      <td>0</td>\n",
              "      <td>0.0</td>\n",
              "    </tr>\n",
              "    <tr>\n",
              "      <th>meter_reading</th>\n",
              "      <td>0</td>\n",
              "      <td>0.0</td>\n",
              "    </tr>\n",
              "    <tr>\n",
              "      <th>site_id</th>\n",
              "      <td>0</td>\n",
              "      <td>0.0</td>\n",
              "    </tr>\n",
              "    <tr>\n",
              "      <th>primary_use</th>\n",
              "      <td>0</td>\n",
              "      <td>0.0</td>\n",
              "    </tr>\n",
              "    <tr>\n",
              "      <th>square_feet</th>\n",
              "      <td>0</td>\n",
              "      <td>0.0</td>\n",
              "    </tr>\n",
              "    <tr>\n",
              "      <th>year_built</th>\n",
              "      <td>0</td>\n",
              "      <td>0.0</td>\n",
              "    </tr>\n",
              "    <tr>\n",
              "      <th>floor_count</th>\n",
              "      <td>0</td>\n",
              "      <td>0.0</td>\n",
              "    </tr>\n",
              "    <tr>\n",
              "      <th>cloud_coverage</th>\n",
              "      <td>0</td>\n",
              "      <td>0.0</td>\n",
              "    </tr>\n",
              "    <tr>\n",
              "      <th>year</th>\n",
              "      <td>0</td>\n",
              "      <td>0.0</td>\n",
              "    </tr>\n",
              "    <tr>\n",
              "      <th>dew_temperature</th>\n",
              "      <td>0</td>\n",
              "      <td>0.0</td>\n",
              "    </tr>\n",
              "    <tr>\n",
              "      <th>precip_depth_1_hr</th>\n",
              "      <td>0</td>\n",
              "      <td>0.0</td>\n",
              "    </tr>\n",
              "    <tr>\n",
              "      <th>sea_level_pressure</th>\n",
              "      <td>0</td>\n",
              "      <td>0.0</td>\n",
              "    </tr>\n",
              "    <tr>\n",
              "      <th>wind_direction</th>\n",
              "      <td>0</td>\n",
              "      <td>0.0</td>\n",
              "    </tr>\n",
              "    <tr>\n",
              "      <th>wind_speed</th>\n",
              "      <td>0</td>\n",
              "      <td>0.0</td>\n",
              "    </tr>\n",
              "    <tr>\n",
              "      <th>Month</th>\n",
              "      <td>0</td>\n",
              "      <td>0.0</td>\n",
              "    </tr>\n",
              "    <tr>\n",
              "      <th>Day_date</th>\n",
              "      <td>0</td>\n",
              "      <td>0.0</td>\n",
              "    </tr>\n",
              "    <tr>\n",
              "      <th>building_id</th>\n",
              "      <td>0</td>\n",
              "      <td>0.0</td>\n",
              "    </tr>\n",
              "  </tbody>\n",
              "</table>\n",
              "</div>"
            ],
            "text/plain": [
              "                    total  percent\n",
              "hour_datetime           0      0.0\n",
              "air_temperature         0      0.0\n",
              "meter                   0      0.0\n",
              "meter_reading           0      0.0\n",
              "site_id                 0      0.0\n",
              "primary_use             0      0.0\n",
              "square_feet             0      0.0\n",
              "year_built              0      0.0\n",
              "floor_count             0      0.0\n",
              "cloud_coverage          0      0.0\n",
              "year                    0      0.0\n",
              "dew_temperature         0      0.0\n",
              "precip_depth_1_hr       0      0.0\n",
              "sea_level_pressure      0      0.0\n",
              "wind_direction          0      0.0\n",
              "wind_speed              0      0.0\n",
              "Month                   0      0.0\n",
              "Day_date                0      0.0\n",
              "building_id             0      0.0"
            ]
          },
          "metadata": {
            "tags": []
          },
          "execution_count": 27
        }
      ]
    },
    {
      "cell_type": "markdown",
      "metadata": {
        "id": "g0EDnKT1CJoa"
      },
      "source": [
        "**Before applying pipeline transformation, hot water dataset has been separated**"
      ]
    },
    {
      "cell_type": "code",
      "metadata": {
        "id": "jPshKlF3CNMC"
      },
      "source": [
        "dataset_hot_water=train.loc[(train['meter']==3)]"
      ],
      "execution_count": null,
      "outputs": []
    },
    {
      "cell_type": "code",
      "metadata": {
        "id": "Lad2LScwCUSa",
        "colab": {
          "base_uri": "https://localhost:8080/",
          "height": 217
        },
        "outputId": "03bc5462-c49e-4816-bb34-b8992a2d184d"
      },
      "source": [
        "dataset_hot_water.head()"
      ],
      "execution_count": null,
      "outputs": [
        {
          "output_type": "execute_result",
          "data": {
            "text/html": [
              "<div>\n",
              "<style scoped>\n",
              "    .dataframe tbody tr th:only-of-type {\n",
              "        vertical-align: middle;\n",
              "    }\n",
              "\n",
              "    .dataframe tbody tr th {\n",
              "        vertical-align: top;\n",
              "    }\n",
              "\n",
              "    .dataframe thead th {\n",
              "        text-align: right;\n",
              "    }\n",
              "</style>\n",
              "<table border=\"1\" class=\"dataframe\">\n",
              "  <thead>\n",
              "    <tr style=\"text-align: right;\">\n",
              "      <th></th>\n",
              "      <th>building_id</th>\n",
              "      <th>meter</th>\n",
              "      <th>meter_reading</th>\n",
              "      <th>site_id</th>\n",
              "      <th>primary_use</th>\n",
              "      <th>square_feet</th>\n",
              "      <th>year_built</th>\n",
              "      <th>floor_count</th>\n",
              "      <th>air_temperature</th>\n",
              "      <th>cloud_coverage</th>\n",
              "      <th>dew_temperature</th>\n",
              "      <th>precip_depth_1_hr</th>\n",
              "      <th>sea_level_pressure</th>\n",
              "      <th>wind_direction</th>\n",
              "      <th>wind_speed</th>\n",
              "      <th>Month</th>\n",
              "      <th>Day_date</th>\n",
              "      <th>year</th>\n",
              "      <th>hour_datetime</th>\n",
              "    </tr>\n",
              "  </thead>\n",
              "  <tbody>\n",
              "    <tr>\n",
              "      <th>105</th>\n",
              "      <td>106</td>\n",
              "      <td>3</td>\n",
              "      <td>0.000</td>\n",
              "      <td>1</td>\n",
              "      <td>Education</td>\n",
              "      <td>5374</td>\n",
              "      <td>1954.388235</td>\n",
              "      <td>4</td>\n",
              "      <td>3.8</td>\n",
              "      <td>0.084656</td>\n",
              "      <td>0.084656</td>\n",
              "      <td>0.0</td>\n",
              "      <td>1020.9</td>\n",
              "      <td>240.0</td>\n",
              "      <td>3.1</td>\n",
              "      <td>1.0</td>\n",
              "      <td>1.0</td>\n",
              "      <td>2016.0</td>\n",
              "      <td>0</td>\n",
              "    </tr>\n",
              "    <tr>\n",
              "      <th>109</th>\n",
              "      <td>109</td>\n",
              "      <td>3</td>\n",
              "      <td>0.000</td>\n",
              "      <td>1</td>\n",
              "      <td>Education</td>\n",
              "      <td>56995</td>\n",
              "      <td>1953.000000</td>\n",
              "      <td>6</td>\n",
              "      <td>3.8</td>\n",
              "      <td>0.084656</td>\n",
              "      <td>0.084656</td>\n",
              "      <td>0.0</td>\n",
              "      <td>1020.9</td>\n",
              "      <td>240.0</td>\n",
              "      <td>3.1</td>\n",
              "      <td>1.0</td>\n",
              "      <td>1.0</td>\n",
              "      <td>2016.0</td>\n",
              "      <td>0</td>\n",
              "    </tr>\n",
              "    <tr>\n",
              "      <th>113</th>\n",
              "      <td>112</td>\n",
              "      <td>3</td>\n",
              "      <td>96.978</td>\n",
              "      <td>1</td>\n",
              "      <td>Education</td>\n",
              "      <td>32206</td>\n",
              "      <td>1954.388235</td>\n",
              "      <td>6</td>\n",
              "      <td>3.8</td>\n",
              "      <td>0.084656</td>\n",
              "      <td>0.084656</td>\n",
              "      <td>0.0</td>\n",
              "      <td>1020.9</td>\n",
              "      <td>240.0</td>\n",
              "      <td>3.1</td>\n",
              "      <td>1.0</td>\n",
              "      <td>1.0</td>\n",
              "      <td>2016.0</td>\n",
              "      <td>0</td>\n",
              "    </tr>\n",
              "    <tr>\n",
              "      <th>115</th>\n",
              "      <td>113</td>\n",
              "      <td>3</td>\n",
              "      <td>19.597</td>\n",
              "      <td>1</td>\n",
              "      <td>Education</td>\n",
              "      <td>100481</td>\n",
              "      <td>1958.000000</td>\n",
              "      <td>9</td>\n",
              "      <td>3.8</td>\n",
              "      <td>0.084656</td>\n",
              "      <td>0.084656</td>\n",
              "      <td>0.0</td>\n",
              "      <td>1020.9</td>\n",
              "      <td>240.0</td>\n",
              "      <td>3.1</td>\n",
              "      <td>1.0</td>\n",
              "      <td>1.0</td>\n",
              "      <td>2016.0</td>\n",
              "      <td>0</td>\n",
              "    </tr>\n",
              "    <tr>\n",
              "      <th>117</th>\n",
              "      <td>114</td>\n",
              "      <td>3</td>\n",
              "      <td>100.000</td>\n",
              "      <td>1</td>\n",
              "      <td>Education</td>\n",
              "      <td>139683</td>\n",
              "      <td>1958.000000</td>\n",
              "      <td>13</td>\n",
              "      <td>3.8</td>\n",
              "      <td>0.084656</td>\n",
              "      <td>0.084656</td>\n",
              "      <td>0.0</td>\n",
              "      <td>1020.9</td>\n",
              "      <td>240.0</td>\n",
              "      <td>3.1</td>\n",
              "      <td>1.0</td>\n",
              "      <td>1.0</td>\n",
              "      <td>2016.0</td>\n",
              "      <td>0</td>\n",
              "    </tr>\n",
              "  </tbody>\n",
              "</table>\n",
              "</div>"
            ],
            "text/plain": [
              "     building_id  meter  meter_reading  ...  Day_date    year  hour_datetime\n",
              "105          106      3          0.000  ...       1.0  2016.0              0\n",
              "109          109      3          0.000  ...       1.0  2016.0              0\n",
              "113          112      3         96.978  ...       1.0  2016.0              0\n",
              "115          113      3         19.597  ...       1.0  2016.0              0\n",
              "117          114      3        100.000  ...       1.0  2016.0              0\n",
              "\n",
              "[5 rows x 19 columns]"
            ]
          },
          "metadata": {
            "tags": []
          },
          "execution_count": 29
        }
      ]
    },
    {
      "cell_type": "code",
      "metadata": {
        "id": "aTFQ0LEl1sFK",
        "colab": {
          "base_uri": "https://localhost:8080/",
          "height": 34
        },
        "outputId": "6c593eb0-541e-4651-a167-239f0d425b5b"
      },
      "source": [
        "dataset_hot_water.shape"
      ],
      "execution_count": null,
      "outputs": [
        {
          "output_type": "execute_result",
          "data": {
            "text/plain": [
              "(1261500, 19)"
            ]
          },
          "metadata": {
            "tags": []
          },
          "execution_count": 30
        }
      ]
    },
    {
      "cell_type": "code",
      "metadata": {
        "id": "lTxaEIVcCeam"
      },
      "source": [
        "drop_cols=['meter_reading']"
      ],
      "execution_count": null,
      "outputs": []
    },
    {
      "cell_type": "code",
      "metadata": {
        "id": "yPIq20zhCixE"
      },
      "source": [
        "training_hot_water=dataset_hot_water.drop(drop_cols,axis=1)"
      ],
      "execution_count": null,
      "outputs": []
    },
    {
      "cell_type": "code",
      "metadata": {
        "id": "4btRSeXfCud9"
      },
      "source": [
        "target_hot_water=dataset_hot_water['meter_reading']"
      ],
      "execution_count": null,
      "outputs": []
    },
    {
      "cell_type": "code",
      "metadata": {
        "id": "47kdY3vSIpJ3",
        "colab": {
          "base_uri": "https://localhost:8080/",
          "height": 34
        },
        "outputId": "e309840e-f337-49e3-e123-a6266d9ba9b2"
      },
      "source": [
        "training_hot_water.shape"
      ],
      "execution_count": null,
      "outputs": [
        {
          "output_type": "execute_result",
          "data": {
            "text/plain": [
              "(1261500, 18)"
            ]
          },
          "metadata": {
            "tags": []
          },
          "execution_count": 34
        }
      ]
    },
    {
      "cell_type": "code",
      "metadata": {
        "id": "MgVwK7SkC7R2",
        "colab": {
          "base_uri": "https://localhost:8080/",
          "height": 34
        },
        "outputId": "3a6affa4-1cea-4f63-d173-ce2828d14967"
      },
      "source": [
        "target_hot_water.shape"
      ],
      "execution_count": null,
      "outputs": [
        {
          "output_type": "execute_result",
          "data": {
            "text/plain": [
              "(1261500,)"
            ]
          },
          "metadata": {
            "tags": []
          },
          "execution_count": 35
        }
      ]
    },
    {
      "cell_type": "code",
      "metadata": {
        "id": "NDn-c-mf8SaH",
        "colab": {
          "base_uri": "https://localhost:8080/",
          "height": 318
        },
        "outputId": "b69e2e44-7539-45ec-cf5e-584dd5352dc4"
      },
      "source": [
        "training_hot_water['primary_use'].value_counts()"
      ],
      "execution_count": null,
      "outputs": [
        {
          "output_type": "execute_result",
          "data": {
            "text/plain": [
              "Education                        606702\n",
              "Office                           289492\n",
              "Entertainment/public assembly    138877\n",
              "Lodging/residential               95829\n",
              "Public services                   78943\n",
              "Healthcare                        25327\n",
              "Food sales and service            17557\n",
              "Technology/science                 8773\n",
              "Warehouse/storage                     0\n",
              "Utility                               0\n",
              "Services                              0\n",
              "Retail                                0\n",
              "Religious worship                     0\n",
              "Parking                               0\n",
              "Other                                 0\n",
              "Manufacturing/industrial              0\n",
              "Name: primary_use, dtype: int64"
            ]
          },
          "metadata": {
            "tags": []
          },
          "execution_count": 36
        }
      ]
    },
    {
      "cell_type": "markdown",
      "metadata": {
        "id": "7NPMtJBNDKTc"
      },
      "source": [
        "**Apply pipeline transformation to training_chilled_water**"
      ]
    },
    {
      "cell_type": "code",
      "metadata": {
        "id": "acWwWD6eDJo6"
      },
      "source": [
        "num_cols=['square_feet','floor_count','air_temperature',\n",
        "                 'cloud_coverage','dew_temperature','precip_depth_1_hr',\n",
        "                 'sea_level_pressure','wind_direction','wind_speed']\n",
        "cat_cols=['primary_use']"
      ],
      "execution_count": null,
      "outputs": []
    },
    {
      "cell_type": "code",
      "metadata": {
        "id": "Y1FoKy-0DPEC"
      },
      "source": [
        "from sklearn.pipeline import Pipeline\n",
        "from sklearn.preprocessing import StandardScaler\n",
        "from sklearn.compose import ColumnTransformer\n",
        "from sklearn.preprocessing import OneHotEncoder \n",
        "\n",
        "num_attribs=list(num_cols)\n",
        "cat_attribs=['primary_use']\n",
        "\n",
        "num_pipeline=Pipeline([\n",
        "    ('std_scaler',StandardScaler())\n",
        "])\n",
        "\n",
        "full_pipeline=ColumnTransformer([\n",
        "    ('num',num_pipeline,num_attribs),\n",
        "    ('cat',OneHotEncoder(),cat_attribs)\n",
        "])\n",
        "\n",
        "training_prepared=full_pipeline.fit_transform(training_hot_water)"
      ],
      "execution_count": null,
      "outputs": []
    },
    {
      "cell_type": "code",
      "metadata": {
        "id": "ipL-jyIvDRFH"
      },
      "source": [
        "x_train=training_prepared[:750811]\n",
        "x_val=training_prepared[750811:]\n",
        "y_train=target_hot_water[:750811]\n",
        "y_val=target_hot_water[750811:]"
      ],
      "execution_count": null,
      "outputs": []
    },
    {
      "cell_type": "code",
      "metadata": {
        "id": "DewL79zVDVcP",
        "colab": {
          "base_uri": "https://localhost:8080/",
          "height": 87
        },
        "outputId": "df83025c-fafd-4d38-d7ae-b97bef9bd476"
      },
      "source": [
        "print('shape of x_train:',x_train.shape)\n",
        "print('shape of x_val:',x_val.shape)\n",
        "print('shape of y_train:',y_train.shape)\n",
        "print('shape of y_val:',y_val.shape)"
      ],
      "execution_count": null,
      "outputs": [
        {
          "output_type": "stream",
          "text": [
            "shape of x_train: (750811, 17)\n",
            "shape of x_val: (510689, 17)\n",
            "shape of y_train: (750811,)\n",
            "shape of y_val: (510689,)\n"
          ],
          "name": "stdout"
        }
      ]
    },
    {
      "cell_type": "code",
      "metadata": {
        "id": "FJ-i778y177d",
        "colab": {
          "base_uri": "https://localhost:8080/",
          "height": 87
        },
        "outputId": "64e6fdf6-54e0-4e61-80e9-f2222f110238"
      },
      "source": [
        "x_train[0]"
      ],
      "execution_count": null,
      "outputs": [
        {
          "output_type": "execute_result",
          "data": {
            "text/plain": [
              "array([-1.08331499, -0.13617522, -1.15213176, -0.61984805, -0.61984805,\n",
              "       -0.20624077,  0.88110768,  0.58337957, -0.01330586,  1.        ,\n",
              "        0.        ,  0.        ,  0.        ,  0.        ,  0.        ,\n",
              "        0.        ,  0.        ])"
            ]
          },
          "metadata": {
            "tags": []
          },
          "execution_count": 41
        }
      ]
    },
    {
      "cell_type": "markdown",
      "metadata": {
        "id": "eZmQBKh3DfSU"
      },
      "source": [
        "**Working with test set**"
      ]
    },
    {
      "cell_type": "code",
      "metadata": {
        "id": "sat097GSDXGJ",
        "colab": {
          "base_uri": "https://localhost:8080/",
          "height": 197
        },
        "outputId": "b39d3054-4345-46a5-ce0f-e68b05f968bf"
      },
      "source": [
        "test.head()"
      ],
      "execution_count": null,
      "outputs": [
        {
          "output_type": "execute_result",
          "data": {
            "text/html": [
              "<div>\n",
              "<style scoped>\n",
              "    .dataframe tbody tr th:only-of-type {\n",
              "        vertical-align: middle;\n",
              "    }\n",
              "\n",
              "    .dataframe tbody tr th {\n",
              "        vertical-align: top;\n",
              "    }\n",
              "\n",
              "    .dataframe thead th {\n",
              "        text-align: right;\n",
              "    }\n",
              "</style>\n",
              "<table border=\"1\" class=\"dataframe\">\n",
              "  <thead>\n",
              "    <tr style=\"text-align: right;\">\n",
              "      <th></th>\n",
              "      <th>row_id</th>\n",
              "      <th>building_id</th>\n",
              "      <th>meter</th>\n",
              "      <th>timestamp</th>\n",
              "    </tr>\n",
              "  </thead>\n",
              "  <tbody>\n",
              "    <tr>\n",
              "      <th>0</th>\n",
              "      <td>0</td>\n",
              "      <td>0</td>\n",
              "      <td>0</td>\n",
              "      <td>2017-01-01</td>\n",
              "    </tr>\n",
              "    <tr>\n",
              "      <th>1</th>\n",
              "      <td>1</td>\n",
              "      <td>1</td>\n",
              "      <td>0</td>\n",
              "      <td>2017-01-01</td>\n",
              "    </tr>\n",
              "    <tr>\n",
              "      <th>2</th>\n",
              "      <td>2</td>\n",
              "      <td>2</td>\n",
              "      <td>0</td>\n",
              "      <td>2017-01-01</td>\n",
              "    </tr>\n",
              "    <tr>\n",
              "      <th>3</th>\n",
              "      <td>3</td>\n",
              "      <td>3</td>\n",
              "      <td>0</td>\n",
              "      <td>2017-01-01</td>\n",
              "    </tr>\n",
              "    <tr>\n",
              "      <th>4</th>\n",
              "      <td>4</td>\n",
              "      <td>4</td>\n",
              "      <td>0</td>\n",
              "      <td>2017-01-01</td>\n",
              "    </tr>\n",
              "  </tbody>\n",
              "</table>\n",
              "</div>"
            ],
            "text/plain": [
              "   row_id  building_id  meter  timestamp\n",
              "0       0            0      0 2017-01-01\n",
              "1       1            1      0 2017-01-01\n",
              "2       2            2      0 2017-01-01\n",
              "3       3            3      0 2017-01-01\n",
              "4       4            4      0 2017-01-01"
            ]
          },
          "metadata": {
            "tags": []
          },
          "execution_count": 42
        }
      ]
    },
    {
      "cell_type": "code",
      "metadata": {
        "id": "a8s3p5yCDnXs",
        "colab": {
          "base_uri": "https://localhost:8080/",
          "height": 34
        },
        "outputId": "e4a9e91f-06f7-404a-dfba-91634496aef8"
      },
      "source": [
        "test.shape"
      ],
      "execution_count": null,
      "outputs": [
        {
          "output_type": "execute_result",
          "data": {
            "text/plain": [
              "(41697600, 4)"
            ]
          },
          "metadata": {
            "tags": []
          },
          "execution_count": 43
        }
      ]
    },
    {
      "cell_type": "code",
      "metadata": {
        "id": "s75CqHj5Dq0F"
      },
      "source": [
        "import pandas as pd\n",
        "\n",
        "temp=test[['building_id']]\n",
        "temp=temp.merge(building_met,on='building_id',how='left')\n",
        "del temp['building_id']\n",
        "test=pd.concat([test,temp],axis=1)"
      ],
      "execution_count": null,
      "outputs": []
    },
    {
      "cell_type": "code",
      "metadata": {
        "id": "Z4sMveIxD8vJ",
        "colab": {
          "base_uri": "https://localhost:8080/",
          "height": 197
        },
        "outputId": "47b0f4c5-aef9-435d-c506-9d00efbb0a4c"
      },
      "source": [
        "test.head()"
      ],
      "execution_count": null,
      "outputs": [
        {
          "output_type": "execute_result",
          "data": {
            "text/html": [
              "<div>\n",
              "<style scoped>\n",
              "    .dataframe tbody tr th:only-of-type {\n",
              "        vertical-align: middle;\n",
              "    }\n",
              "\n",
              "    .dataframe tbody tr th {\n",
              "        vertical-align: top;\n",
              "    }\n",
              "\n",
              "    .dataframe thead th {\n",
              "        text-align: right;\n",
              "    }\n",
              "</style>\n",
              "<table border=\"1\" class=\"dataframe\">\n",
              "  <thead>\n",
              "    <tr style=\"text-align: right;\">\n",
              "      <th></th>\n",
              "      <th>row_id</th>\n",
              "      <th>building_id</th>\n",
              "      <th>meter</th>\n",
              "      <th>timestamp</th>\n",
              "      <th>site_id</th>\n",
              "      <th>primary_use</th>\n",
              "      <th>square_feet</th>\n",
              "      <th>year_built</th>\n",
              "      <th>floor_count</th>\n",
              "    </tr>\n",
              "  </thead>\n",
              "  <tbody>\n",
              "    <tr>\n",
              "      <th>0</th>\n",
              "      <td>0</td>\n",
              "      <td>0</td>\n",
              "      <td>0</td>\n",
              "      <td>2017-01-01</td>\n",
              "      <td>0</td>\n",
              "      <td>Education</td>\n",
              "      <td>7432</td>\n",
              "      <td>2008.0</td>\n",
              "      <td>4</td>\n",
              "    </tr>\n",
              "    <tr>\n",
              "      <th>1</th>\n",
              "      <td>1</td>\n",
              "      <td>1</td>\n",
              "      <td>0</td>\n",
              "      <td>2017-01-01</td>\n",
              "      <td>0</td>\n",
              "      <td>Education</td>\n",
              "      <td>2720</td>\n",
              "      <td>2004.0</td>\n",
              "      <td>4</td>\n",
              "    </tr>\n",
              "    <tr>\n",
              "      <th>2</th>\n",
              "      <td>2</td>\n",
              "      <td>2</td>\n",
              "      <td>0</td>\n",
              "      <td>2017-01-01</td>\n",
              "      <td>0</td>\n",
              "      <td>Education</td>\n",
              "      <td>5376</td>\n",
              "      <td>1991.0</td>\n",
              "      <td>4</td>\n",
              "    </tr>\n",
              "    <tr>\n",
              "      <th>3</th>\n",
              "      <td>3</td>\n",
              "      <td>3</td>\n",
              "      <td>0</td>\n",
              "      <td>2017-01-01</td>\n",
              "      <td>0</td>\n",
              "      <td>Education</td>\n",
              "      <td>23685</td>\n",
              "      <td>2002.0</td>\n",
              "      <td>4</td>\n",
              "    </tr>\n",
              "    <tr>\n",
              "      <th>4</th>\n",
              "      <td>4</td>\n",
              "      <td>4</td>\n",
              "      <td>0</td>\n",
              "      <td>2017-01-01</td>\n",
              "      <td>0</td>\n",
              "      <td>Education</td>\n",
              "      <td>116607</td>\n",
              "      <td>1975.0</td>\n",
              "      <td>4</td>\n",
              "    </tr>\n",
              "  </tbody>\n",
              "</table>\n",
              "</div>"
            ],
            "text/plain": [
              "   row_id  building_id  meter  ... square_feet  year_built floor_count\n",
              "0       0            0      0  ...        7432      2008.0           4\n",
              "1       1            1      0  ...        2720      2004.0           4\n",
              "2       2            2      0  ...        5376      1991.0           4\n",
              "3       3            3      0  ...       23685      2002.0           4\n",
              "4       4            4      0  ...      116607      1975.0           4\n",
              "\n",
              "[5 rows x 9 columns]"
            ]
          },
          "metadata": {
            "tags": []
          },
          "execution_count": 45
        }
      ]
    },
    {
      "cell_type": "code",
      "metadata": {
        "id": "KnsUVUfoD_7w"
      },
      "source": [
        "temp=test[['site_id','timestamp']]\n",
        "temp=temp.merge(weather_test,on=['site_id','timestamp'],how='left')\n",
        "del temp['timestamp'],temp['site_id']\n",
        "test=pd.concat([test,temp],axis=1)\n",
        "\n",
        "del temp,weather_test"
      ],
      "execution_count": null,
      "outputs": []
    },
    {
      "cell_type": "code",
      "metadata": {
        "id": "tRKrGA4iEGbH",
        "colab": {
          "base_uri": "https://localhost:8080/",
          "height": 301
        },
        "outputId": "98cc245c-0179-428c-dbc4-e7f137cec0a0"
      },
      "source": [
        "test.head()"
      ],
      "execution_count": null,
      "outputs": [
        {
          "output_type": "execute_result",
          "data": {
            "text/html": [
              "<div>\n",
              "<style scoped>\n",
              "    .dataframe tbody tr th:only-of-type {\n",
              "        vertical-align: middle;\n",
              "    }\n",
              "\n",
              "    .dataframe tbody tr th {\n",
              "        vertical-align: top;\n",
              "    }\n",
              "\n",
              "    .dataframe thead th {\n",
              "        text-align: right;\n",
              "    }\n",
              "</style>\n",
              "<table border=\"1\" class=\"dataframe\">\n",
              "  <thead>\n",
              "    <tr style=\"text-align: right;\">\n",
              "      <th></th>\n",
              "      <th>row_id</th>\n",
              "      <th>building_id</th>\n",
              "      <th>meter</th>\n",
              "      <th>timestamp</th>\n",
              "      <th>site_id</th>\n",
              "      <th>primary_use</th>\n",
              "      <th>square_feet</th>\n",
              "      <th>year_built</th>\n",
              "      <th>floor_count</th>\n",
              "      <th>air_temperature</th>\n",
              "      <th>cloud_coverage</th>\n",
              "      <th>dew_temperature</th>\n",
              "      <th>precip_depth_1_hr</th>\n",
              "      <th>sea_level_pressure</th>\n",
              "      <th>wind_direction</th>\n",
              "      <th>wind_speed</th>\n",
              "      <th>Month</th>\n",
              "      <th>Day_date</th>\n",
              "      <th>year</th>\n",
              "    </tr>\n",
              "  </thead>\n",
              "  <tbody>\n",
              "    <tr>\n",
              "      <th>0</th>\n",
              "      <td>0</td>\n",
              "      <td>0</td>\n",
              "      <td>0</td>\n",
              "      <td>2017-01-01</td>\n",
              "      <td>0</td>\n",
              "      <td>Education</td>\n",
              "      <td>7432</td>\n",
              "      <td>2008.0</td>\n",
              "      <td>4</td>\n",
              "      <td>17.8</td>\n",
              "      <td>4.0</td>\n",
              "      <td>4.0</td>\n",
              "      <td>1.169297</td>\n",
              "      <td>1021.4</td>\n",
              "      <td>100.0</td>\n",
              "      <td>3.6</td>\n",
              "      <td>1.0</td>\n",
              "      <td>1.0</td>\n",
              "      <td>2017.0</td>\n",
              "    </tr>\n",
              "    <tr>\n",
              "      <th>1</th>\n",
              "      <td>1</td>\n",
              "      <td>1</td>\n",
              "      <td>0</td>\n",
              "      <td>2017-01-01</td>\n",
              "      <td>0</td>\n",
              "      <td>Education</td>\n",
              "      <td>2720</td>\n",
              "      <td>2004.0</td>\n",
              "      <td>4</td>\n",
              "      <td>17.8</td>\n",
              "      <td>4.0</td>\n",
              "      <td>4.0</td>\n",
              "      <td>1.169297</td>\n",
              "      <td>1021.4</td>\n",
              "      <td>100.0</td>\n",
              "      <td>3.6</td>\n",
              "      <td>1.0</td>\n",
              "      <td>1.0</td>\n",
              "      <td>2017.0</td>\n",
              "    </tr>\n",
              "    <tr>\n",
              "      <th>2</th>\n",
              "      <td>2</td>\n",
              "      <td>2</td>\n",
              "      <td>0</td>\n",
              "      <td>2017-01-01</td>\n",
              "      <td>0</td>\n",
              "      <td>Education</td>\n",
              "      <td>5376</td>\n",
              "      <td>1991.0</td>\n",
              "      <td>4</td>\n",
              "      <td>17.8</td>\n",
              "      <td>4.0</td>\n",
              "      <td>4.0</td>\n",
              "      <td>1.169297</td>\n",
              "      <td>1021.4</td>\n",
              "      <td>100.0</td>\n",
              "      <td>3.6</td>\n",
              "      <td>1.0</td>\n",
              "      <td>1.0</td>\n",
              "      <td>2017.0</td>\n",
              "    </tr>\n",
              "    <tr>\n",
              "      <th>3</th>\n",
              "      <td>3</td>\n",
              "      <td>3</td>\n",
              "      <td>0</td>\n",
              "      <td>2017-01-01</td>\n",
              "      <td>0</td>\n",
              "      <td>Education</td>\n",
              "      <td>23685</td>\n",
              "      <td>2002.0</td>\n",
              "      <td>4</td>\n",
              "      <td>17.8</td>\n",
              "      <td>4.0</td>\n",
              "      <td>4.0</td>\n",
              "      <td>1.169297</td>\n",
              "      <td>1021.4</td>\n",
              "      <td>100.0</td>\n",
              "      <td>3.6</td>\n",
              "      <td>1.0</td>\n",
              "      <td>1.0</td>\n",
              "      <td>2017.0</td>\n",
              "    </tr>\n",
              "    <tr>\n",
              "      <th>4</th>\n",
              "      <td>4</td>\n",
              "      <td>4</td>\n",
              "      <td>0</td>\n",
              "      <td>2017-01-01</td>\n",
              "      <td>0</td>\n",
              "      <td>Education</td>\n",
              "      <td>116607</td>\n",
              "      <td>1975.0</td>\n",
              "      <td>4</td>\n",
              "      <td>17.8</td>\n",
              "      <td>4.0</td>\n",
              "      <td>4.0</td>\n",
              "      <td>1.169297</td>\n",
              "      <td>1021.4</td>\n",
              "      <td>100.0</td>\n",
              "      <td>3.6</td>\n",
              "      <td>1.0</td>\n",
              "      <td>1.0</td>\n",
              "      <td>2017.0</td>\n",
              "    </tr>\n",
              "  </tbody>\n",
              "</table>\n",
              "</div>"
            ],
            "text/plain": [
              "   row_id  building_id  meter  timestamp  ...  wind_speed Month  Day_date    year\n",
              "0       0            0      0 2017-01-01  ...         3.6   1.0       1.0  2017.0\n",
              "1       1            1      0 2017-01-01  ...         3.6   1.0       1.0  2017.0\n",
              "2       2            2      0 2017-01-01  ...         3.6   1.0       1.0  2017.0\n",
              "3       3            3      0 2017-01-01  ...         3.6   1.0       1.0  2017.0\n",
              "4       4            4      0 2017-01-01  ...         3.6   1.0       1.0  2017.0\n",
              "\n",
              "[5 rows x 19 columns]"
            ]
          },
          "metadata": {
            "tags": []
          },
          "execution_count": 47
        }
      ]
    },
    {
      "cell_type": "code",
      "metadata": {
        "id": "3bUdQnQNPmjm"
      },
      "source": [
        "import numpy as np\n",
        "\n",
        "test['hour_datetime']=test['timestamp'].dt.hour.astype(np.int8)\n",
        "\n",
        "del test['timestamp']"
      ],
      "execution_count": null,
      "outputs": []
    },
    {
      "cell_type": "code",
      "metadata": {
        "id": "NM5bLXSb1YnQ",
        "colab": {
          "base_uri": "https://localhost:8080/",
          "height": 617
        },
        "outputId": "236a46fc-29ec-4b2d-abc5-2dd3fddb21d8"
      },
      "source": [
        "total=test.isnull().sum().sort_values(ascending=False)\n",
        "percent=(test.isnull().sum()/test.isnull().count()).sort_values(ascending=False)\n",
        "missing_values=pd.concat([total,percent],axis=1,keys=['total','percent'])\n",
        "missing_values.head(20)"
      ],
      "execution_count": null,
      "outputs": [
        {
          "output_type": "execute_result",
          "data": {
            "text/html": [
              "<div>\n",
              "<style scoped>\n",
              "    .dataframe tbody tr th:only-of-type {\n",
              "        vertical-align: middle;\n",
              "    }\n",
              "\n",
              "    .dataframe tbody tr th {\n",
              "        vertical-align: top;\n",
              "    }\n",
              "\n",
              "    .dataframe thead th {\n",
              "        text-align: right;\n",
              "    }\n",
              "</style>\n",
              "<table border=\"1\" class=\"dataframe\">\n",
              "  <thead>\n",
              "    <tr style=\"text-align: right;\">\n",
              "      <th></th>\n",
              "      <th>total</th>\n",
              "      <th>percent</th>\n",
              "    </tr>\n",
              "  </thead>\n",
              "  <tbody>\n",
              "    <tr>\n",
              "      <th>cloud_coverage</th>\n",
              "      <td>199029</td>\n",
              "      <td>0.004773</td>\n",
              "    </tr>\n",
              "    <tr>\n",
              "      <th>Day_date</th>\n",
              "      <td>199029</td>\n",
              "      <td>0.004773</td>\n",
              "    </tr>\n",
              "    <tr>\n",
              "      <th>Month</th>\n",
              "      <td>199029</td>\n",
              "      <td>0.004773</td>\n",
              "    </tr>\n",
              "    <tr>\n",
              "      <th>wind_speed</th>\n",
              "      <td>199029</td>\n",
              "      <td>0.004773</td>\n",
              "    </tr>\n",
              "    <tr>\n",
              "      <th>wind_direction</th>\n",
              "      <td>199029</td>\n",
              "      <td>0.004773</td>\n",
              "    </tr>\n",
              "    <tr>\n",
              "      <th>sea_level_pressure</th>\n",
              "      <td>199029</td>\n",
              "      <td>0.004773</td>\n",
              "    </tr>\n",
              "    <tr>\n",
              "      <th>precip_depth_1_hr</th>\n",
              "      <td>199029</td>\n",
              "      <td>0.004773</td>\n",
              "    </tr>\n",
              "    <tr>\n",
              "      <th>dew_temperature</th>\n",
              "      <td>199029</td>\n",
              "      <td>0.004773</td>\n",
              "    </tr>\n",
              "    <tr>\n",
              "      <th>year</th>\n",
              "      <td>199029</td>\n",
              "      <td>0.004773</td>\n",
              "    </tr>\n",
              "    <tr>\n",
              "      <th>air_temperature</th>\n",
              "      <td>199029</td>\n",
              "      <td>0.004773</td>\n",
              "    </tr>\n",
              "    <tr>\n",
              "      <th>primary_use</th>\n",
              "      <td>0</td>\n",
              "      <td>0.000000</td>\n",
              "    </tr>\n",
              "    <tr>\n",
              "      <th>building_id</th>\n",
              "      <td>0</td>\n",
              "      <td>0.000000</td>\n",
              "    </tr>\n",
              "    <tr>\n",
              "      <th>meter</th>\n",
              "      <td>0</td>\n",
              "      <td>0.000000</td>\n",
              "    </tr>\n",
              "    <tr>\n",
              "      <th>site_id</th>\n",
              "      <td>0</td>\n",
              "      <td>0.000000</td>\n",
              "    </tr>\n",
              "    <tr>\n",
              "      <th>hour_datetime</th>\n",
              "      <td>0</td>\n",
              "      <td>0.000000</td>\n",
              "    </tr>\n",
              "    <tr>\n",
              "      <th>square_feet</th>\n",
              "      <td>0</td>\n",
              "      <td>0.000000</td>\n",
              "    </tr>\n",
              "    <tr>\n",
              "      <th>year_built</th>\n",
              "      <td>0</td>\n",
              "      <td>0.000000</td>\n",
              "    </tr>\n",
              "    <tr>\n",
              "      <th>floor_count</th>\n",
              "      <td>0</td>\n",
              "      <td>0.000000</td>\n",
              "    </tr>\n",
              "    <tr>\n",
              "      <th>row_id</th>\n",
              "      <td>0</td>\n",
              "      <td>0.000000</td>\n",
              "    </tr>\n",
              "  </tbody>\n",
              "</table>\n",
              "</div>"
            ],
            "text/plain": [
              "                     total   percent\n",
              "cloud_coverage      199029  0.004773\n",
              "Day_date            199029  0.004773\n",
              "Month               199029  0.004773\n",
              "wind_speed          199029  0.004773\n",
              "wind_direction      199029  0.004773\n",
              "sea_level_pressure  199029  0.004773\n",
              "precip_depth_1_hr   199029  0.004773\n",
              "dew_temperature     199029  0.004773\n",
              "year                199029  0.004773\n",
              "air_temperature     199029  0.004773\n",
              "primary_use              0  0.000000\n",
              "building_id              0  0.000000\n",
              "meter                    0  0.000000\n",
              "site_id                  0  0.000000\n",
              "hour_datetime            0  0.000000\n",
              "square_feet              0  0.000000\n",
              "year_built               0  0.000000\n",
              "floor_count              0  0.000000\n",
              "row_id                   0  0.000000"
            ]
          },
          "metadata": {
            "tags": []
          },
          "execution_count": 49
        }
      ]
    },
    {
      "cell_type": "code",
      "metadata": {
        "id": "QUUZMStU4OgN",
        "colab": {
          "base_uri": "https://localhost:8080/",
          "height": 307
        },
        "outputId": "a810d867-3dc3-4e79-fe02-a0c5b8f2ad48"
      },
      "source": [
        "test.describe()"
      ],
      "execution_count": null,
      "outputs": [
        {
          "output_type": "execute_result",
          "data": {
            "text/html": [
              "<div>\n",
              "<style scoped>\n",
              "    .dataframe tbody tr th:only-of-type {\n",
              "        vertical-align: middle;\n",
              "    }\n",
              "\n",
              "    .dataframe tbody tr th {\n",
              "        vertical-align: top;\n",
              "    }\n",
              "\n",
              "    .dataframe thead th {\n",
              "        text-align: right;\n",
              "    }\n",
              "</style>\n",
              "<table border=\"1\" class=\"dataframe\">\n",
              "  <thead>\n",
              "    <tr style=\"text-align: right;\">\n",
              "      <th></th>\n",
              "      <th>row_id</th>\n",
              "      <th>building_id</th>\n",
              "      <th>meter</th>\n",
              "      <th>site_id</th>\n",
              "      <th>square_feet</th>\n",
              "      <th>year_built</th>\n",
              "      <th>floor_count</th>\n",
              "      <th>air_temperature</th>\n",
              "      <th>cloud_coverage</th>\n",
              "      <th>dew_temperature</th>\n",
              "      <th>precip_depth_1_hr</th>\n",
              "      <th>sea_level_pressure</th>\n",
              "      <th>wind_direction</th>\n",
              "      <th>wind_speed</th>\n",
              "      <th>Month</th>\n",
              "      <th>Day_date</th>\n",
              "      <th>year</th>\n",
              "      <th>hour_datetime</th>\n",
              "    </tr>\n",
              "  </thead>\n",
              "  <tbody>\n",
              "    <tr>\n",
              "      <th>count</th>\n",
              "      <td>4.169760e+07</td>\n",
              "      <td>4.169760e+07</td>\n",
              "      <td>4.169760e+07</td>\n",
              "      <td>4.169760e+07</td>\n",
              "      <td>4.169760e+07</td>\n",
              "      <td>4.169760e+07</td>\n",
              "      <td>4.169760e+07</td>\n",
              "      <td>4.149857e+07</td>\n",
              "      <td>4.149857e+07</td>\n",
              "      <td>4.149857e+07</td>\n",
              "      <td>4.149857e+07</td>\n",
              "      <td>4.149857e+07</td>\n",
              "      <td>4.149857e+07</td>\n",
              "      <td>4.149857e+07</td>\n",
              "      <td>4.149857e+07</td>\n",
              "      <td>4.149857e+07</td>\n",
              "      <td>4.149857e+07</td>\n",
              "      <td>4.169760e+07</td>\n",
              "    </tr>\n",
              "    <tr>\n",
              "      <th>mean</th>\n",
              "      <td>2.084880e+07</td>\n",
              "      <td>8.075824e+02</td>\n",
              "      <td>6.642857e-01</td>\n",
              "      <td>8.086134e+00</td>\n",
              "      <td>1.069469e+05</td>\n",
              "      <td>1.969393e+03</td>\n",
              "      <td>4.021008e+00</td>\n",
              "      <td>1.550734e+01</td>\n",
              "      <td>1.830514e+00</td>\n",
              "      <td>1.830514e+00</td>\n",
              "      <td>1.252654e+00</td>\n",
              "      <td>9.786402e+02</td>\n",
              "      <td>1.718198e+02</td>\n",
              "      <td>3.383756e+00</td>\n",
              "      <td>6.517360e+00</td>\n",
              "      <td>1.571009e+01</td>\n",
              "      <td>2.017500e+03</td>\n",
              "      <td>1.150000e+01</td>\n",
              "    </tr>\n",
              "    <tr>\n",
              "      <th>std</th>\n",
              "      <td>1.203706e+07</td>\n",
              "      <td>4.297680e+02</td>\n",
              "      <td>9.278067e-01</td>\n",
              "      <td>5.134712e+00</td>\n",
              "      <td>1.160888e+05</td>\n",
              "      <td>2.045075e+01</td>\n",
              "      <td>1.655263e+00</td>\n",
              "      <td>1.128247e+01</td>\n",
              "      <td>2.010436e+00</td>\n",
              "      <td>2.010436e+00</td>\n",
              "      <td>7.862236e+00</td>\n",
              "      <td>1.919029e+02</td>\n",
              "      <td>1.100916e+02</td>\n",
              "      <td>2.235641e+00</td>\n",
              "      <td>3.445343e+00</td>\n",
              "      <td>8.803499e+00</td>\n",
              "      <td>5.000000e-01</td>\n",
              "      <td>6.922187e+00</td>\n",
              "    </tr>\n",
              "    <tr>\n",
              "      <th>min</th>\n",
              "      <td>0.000000e+00</td>\n",
              "      <td>0.000000e+00</td>\n",
              "      <td>0.000000e+00</td>\n",
              "      <td>0.000000e+00</td>\n",
              "      <td>2.830000e+02</td>\n",
              "      <td>1.900000e+03</td>\n",
              "      <td>1.000000e+00</td>\n",
              "      <td>-2.810000e+01</td>\n",
              "      <td>0.000000e+00</td>\n",
              "      <td>0.000000e+00</td>\n",
              "      <td>-1.000000e+00</td>\n",
              "      <td>0.000000e+00</td>\n",
              "      <td>0.000000e+00</td>\n",
              "      <td>0.000000e+00</td>\n",
              "      <td>1.000000e+00</td>\n",
              "      <td>1.000000e+00</td>\n",
              "      <td>2.017000e+03</td>\n",
              "      <td>0.000000e+00</td>\n",
              "    </tr>\n",
              "    <tr>\n",
              "      <th>25%</th>\n",
              "      <td>1.042440e+07</td>\n",
              "      <td>4.047500e+02</td>\n",
              "      <td>0.000000e+00</td>\n",
              "      <td>3.000000e+00</td>\n",
              "      <td>3.224350e+04</td>\n",
              "      <td>1.963000e+03</td>\n",
              "      <td>4.000000e+00</td>\n",
              "      <td>7.800000e+00</td>\n",
              "      <td>0.000000e+00</td>\n",
              "      <td>0.000000e+00</td>\n",
              "      <td>0.000000e+00</td>\n",
              "      <td>1.010900e+03</td>\n",
              "      <td>8.000000e+01</td>\n",
              "      <td>2.100000e+00</td>\n",
              "      <td>4.000000e+00</td>\n",
              "      <td>8.000000e+00</td>\n",
              "      <td>2.017000e+03</td>\n",
              "      <td>5.750000e+00</td>\n",
              "    </tr>\n",
              "    <tr>\n",
              "      <th>50%</th>\n",
              "      <td>2.084880e+07</td>\n",
              "      <td>9.000000e+02</td>\n",
              "      <td>0.000000e+00</td>\n",
              "      <td>9.000000e+00</td>\n",
              "      <td>7.226250e+04</td>\n",
              "      <td>1.975000e+03</td>\n",
              "      <td>4.000000e+00</td>\n",
              "      <td>1.670000e+01</td>\n",
              "      <td>1.082078e+00</td>\n",
              "      <td>1.082078e+00</td>\n",
              "      <td>0.000000e+00</td>\n",
              "      <td>1.015900e+03</td>\n",
              "      <td>1.700000e+02</td>\n",
              "      <td>3.100000e+00</td>\n",
              "      <td>7.000000e+00</td>\n",
              "      <td>1.600000e+01</td>\n",
              "      <td>2.017000e+03</td>\n",
              "      <td>1.150000e+01</td>\n",
              "    </tr>\n",
              "    <tr>\n",
              "      <th>75%</th>\n",
              "      <td>3.127320e+07</td>\n",
              "      <td>1.194250e+03</td>\n",
              "      <td>1.000000e+00</td>\n",
              "      <td>1.300000e+01</td>\n",
              "      <td>1.383875e+05</td>\n",
              "      <td>1.975054e+03</td>\n",
              "      <td>4.000000e+00</td>\n",
              "      <td>2.390000e+01</td>\n",
              "      <td>2.730284e+00</td>\n",
              "      <td>2.730284e+00</td>\n",
              "      <td>0.000000e+00</td>\n",
              "      <td>1.020200e+03</td>\n",
              "      <td>2.700000e+02</td>\n",
              "      <td>4.600000e+00</td>\n",
              "      <td>1.000000e+01</td>\n",
              "      <td>2.300000e+01</td>\n",
              "      <td>2.018000e+03</td>\n",
              "      <td>1.725000e+01</td>\n",
              "    </tr>\n",
              "    <tr>\n",
              "      <th>max</th>\n",
              "      <td>4.169760e+07</td>\n",
              "      <td>1.448000e+03</td>\n",
              "      <td>3.000000e+00</td>\n",
              "      <td>1.500000e+01</td>\n",
              "      <td>8.750000e+05</td>\n",
              "      <td>2.017000e+03</td>\n",
              "      <td>2.600000e+01</td>\n",
              "      <td>4.830000e+01</td>\n",
              "      <td>9.000000e+00</td>\n",
              "      <td>9.000000e+00</td>\n",
              "      <td>5.970000e+02</td>\n",
              "      <td>1.050100e+03</td>\n",
              "      <td>3.600000e+02</td>\n",
              "      <td>2.420000e+01</td>\n",
              "      <td>1.200000e+01</td>\n",
              "      <td>3.100000e+01</td>\n",
              "      <td>2.018000e+03</td>\n",
              "      <td>2.300000e+01</td>\n",
              "    </tr>\n",
              "  </tbody>\n",
              "</table>\n",
              "</div>"
            ],
            "text/plain": [
              "             row_id   building_id  ...          year  hour_datetime\n",
              "count  4.169760e+07  4.169760e+07  ...  4.149857e+07   4.169760e+07\n",
              "mean   2.084880e+07  8.075824e+02  ...  2.017500e+03   1.150000e+01\n",
              "std    1.203706e+07  4.297680e+02  ...  5.000000e-01   6.922187e+00\n",
              "min    0.000000e+00  0.000000e+00  ...  2.017000e+03   0.000000e+00\n",
              "25%    1.042440e+07  4.047500e+02  ...  2.017000e+03   5.750000e+00\n",
              "50%    2.084880e+07  9.000000e+02  ...  2.017000e+03   1.150000e+01\n",
              "75%    3.127320e+07  1.194250e+03  ...  2.018000e+03   1.725000e+01\n",
              "max    4.169760e+07  1.448000e+03  ...  2.018000e+03   2.300000e+01\n",
              "\n",
              "[8 rows x 18 columns]"
            ]
          },
          "metadata": {
            "tags": []
          },
          "execution_count": 51
        }
      ]
    },
    {
      "cell_type": "code",
      "metadata": {
        "id": "3JKYHWPbEHAX"
      },
      "source": [
        "test_hot_water= test.loc[(test['meter']==3)]"
      ],
      "execution_count": null,
      "outputs": []
    },
    {
      "cell_type": "code",
      "metadata": {
        "id": "2x6oR37h1Wgo",
        "colab": {
          "base_uri": "https://localhost:8080/",
          "height": 34
        },
        "outputId": "5f235e2f-26e5-4caa-ed02-10498804dc7b"
      },
      "source": [
        "test_hot_water.shape"
      ],
      "execution_count": null,
      "outputs": [
        {
          "output_type": "execute_result",
          "data": {
            "text/plain": [
              "(2540400, 19)"
            ]
          },
          "metadata": {
            "tags": []
          },
          "execution_count": 55
        }
      ]
    },
    {
      "cell_type": "code",
      "metadata": {
        "id": "uRDVEAYT4GyL"
      },
      "source": [
        "test_drop_cols=['row_id']"
      ],
      "execution_count": null,
      "outputs": []
    },
    {
      "cell_type": "code",
      "metadata": {
        "id": "4qFroq5xFMos"
      },
      "source": [
        "testing=test_hot_water.drop(test_drop_cols,axis=1)"
      ],
      "execution_count": null,
      "outputs": []
    },
    {
      "cell_type": "code",
      "metadata": {
        "id": "3HXLLI4W0BOT",
        "colab": {
          "base_uri": "https://localhost:8080/",
          "height": 34
        },
        "outputId": "0a950d1b-d444-4609-d93f-e42085575e63"
      },
      "source": [
        "testing.shape"
      ],
      "execution_count": null,
      "outputs": [
        {
          "output_type": "execute_result",
          "data": {
            "text/plain": [
              "(2540400, 18)"
            ]
          },
          "metadata": {
            "tags": []
          },
          "execution_count": 58
        }
      ]
    },
    {
      "cell_type": "code",
      "metadata": {
        "id": "XpkgK8pyNKAV"
      },
      "source": [
        "testing_prepared=full_pipeline.transform(testing)"
      ],
      "execution_count": null,
      "outputs": []
    },
    {
      "cell_type": "code",
      "metadata": {
        "id": "7cEaU0x8KhOt",
        "colab": {
          "base_uri": "https://localhost:8080/",
          "height": 34
        },
        "outputId": "a574855a-a78e-45d3-d7b0-9ae09065333f"
      },
      "source": [
        "testing_prepared.shape"
      ],
      "execution_count": null,
      "outputs": [
        {
          "output_type": "execute_result",
          "data": {
            "text/plain": [
              "(2540400, 17)"
            ]
          },
          "metadata": {
            "tags": []
          },
          "execution_count": 60
        }
      ]
    },
    {
      "cell_type": "code",
      "metadata": {
        "id": "DKmibt794t42",
        "colab": {
          "base_uri": "https://localhost:8080/",
          "height": 34
        },
        "outputId": "da4e5c78-260b-4fd8-c28a-1fafee07b194"
      },
      "source": [
        "from sklearn.linear_model import LinearRegression\n",
        "from sklearn.metrics import mean_squared_error\n",
        "from math import sqrt\n",
        "\n",
        "lin_reg=LinearRegression()\n",
        "lin_reg.fit(x_train,y_train)\n",
        "lin_predict=lin_reg.predict(x_val)\n",
        "lin_mse=mean_squared_error(lin_predict,y_val)\n",
        "lin_rmse=sqrt(lin_mse)\n",
        "lin_rmse"
      ],
      "execution_count": null,
      "outputs": [
        {
          "output_type": "execute_result",
          "data": {
            "text/plain": [
              "2930.9912070032638"
            ]
          },
          "metadata": {
            "tags": []
          },
          "execution_count": 42
        }
      ]
    },
    {
      "cell_type": "markdown",
      "metadata": {
        "id": "uFd-B5nY6PHS"
      },
      "source": [
        "Linear regression RMSE 2930.9912070032638"
      ]
    },
    {
      "cell_type": "markdown",
      "metadata": {
        "id": "iABKX-Sc_BfZ"
      },
      "source": [
        "**Applying 2 degree polynomial**"
      ]
    },
    {
      "cell_type": "code",
      "metadata": {
        "id": "GtMrYcHO_AVJ",
        "colab": {
          "base_uri": "https://localhost:8080/",
          "height": 34
        },
        "outputId": "dc63d872-415a-41f5-c37d-5621f501e72d"
      },
      "source": [
        "from sklearn.preprocessing import PolynomialFeatures\n",
        "\n",
        "poly_features=PolynomialFeatures(degree=2,include_bias=False)\n",
        "x_poly=poly_features.fit_transform(x_train)\n",
        "lin_reg=LinearRegression()\n",
        "lin_reg.fit(x_poly,y_train)"
      ],
      "execution_count": null,
      "outputs": [
        {
          "output_type": "execute_result",
          "data": {
            "text/plain": [
              "LinearRegression(copy_X=True, fit_intercept=True, n_jobs=None, normalize=False)"
            ]
          },
          "metadata": {
            "tags": []
          },
          "execution_count": 80
        }
      ]
    },
    {
      "cell_type": "code",
      "metadata": {
        "id": "w2uH6cjNAnjb",
        "colab": {
          "base_uri": "https://localhost:8080/",
          "height": 34
        },
        "outputId": "21f4dfbe-bc37-4c19-f2a0-352209af340b"
      },
      "source": [
        "x_val_poly=poly_features.transform(x_val)\n",
        "predict=lin_reg.predict(x_val_poly)\n",
        "degree2_mse=mean_squared_error(predict,y_val)\n",
        "degree2_rmse=sqrt(degree2_mse)\n",
        "degree2_rmse"
      ],
      "execution_count": null,
      "outputs": [
        {
          "output_type": "execute_result",
          "data": {
            "text/plain": [
              "2486.5616840162443"
            ]
          },
          "metadata": {
            "tags": []
          },
          "execution_count": 81
        }
      ]
    },
    {
      "cell_type": "markdown",
      "metadata": {
        "id": "5qFwcn6S6WIo"
      },
      "source": [
        "2nd degree polynomial RMSE 2486.5616840162443"
      ]
    },
    {
      "cell_type": "markdown",
      "metadata": {
        "id": "9EQn3cWle1pM"
      },
      "source": [
        "**Using grid search with Ridge regression**"
      ]
    },
    {
      "cell_type": "code",
      "metadata": {
        "id": "nNs7sswBe1KJ",
        "colab": {
          "base_uri": "https://localhost:8080/",
          "height": 153
        },
        "outputId": "d2d5f1f2-52f4-4956-e7a6-4b2139d864ae"
      },
      "source": [
        "from sklearn.model_selection import GridSearchCV\n",
        "from sklearn.linear_model import Ridge\n",
        "param_grid=[\n",
        "            {'alpha':[0.001,0.003,0.01,0.03,0.1,0.3,1,3]}\n",
        "]\n",
        "\n",
        "ridge_reg=Ridge()\n",
        "\n",
        "grid_search=GridSearchCV(ridge_reg,param_grid,cv=5,\n",
        "                         scoring='neg_mean_squared_error',\n",
        "                         return_train_score=True)\n",
        "\n",
        "grid_search.fit(x_train,y_train)"
      ],
      "execution_count": null,
      "outputs": [
        {
          "output_type": "execute_result",
          "data": {
            "text/plain": [
              "GridSearchCV(cv=5, error_score=nan,\n",
              "             estimator=Ridge(alpha=1.0, copy_X=True, fit_intercept=True,\n",
              "                             max_iter=None, normalize=False, random_state=None,\n",
              "                             solver='auto', tol=0.001),\n",
              "             iid='deprecated', n_jobs=None,\n",
              "             param_grid=[{'alpha': [0.001, 0.003, 0.01, 0.03, 0.1, 0.3, 1, 3]}],\n",
              "             pre_dispatch='2*n_jobs', refit=True, return_train_score=True,\n",
              "             scoring='neg_mean_squared_error', verbose=0)"
            ]
          },
          "metadata": {
            "tags": []
          },
          "execution_count": 43
        }
      ]
    },
    {
      "cell_type": "code",
      "metadata": {
        "id": "6Rij3Fqzxkb8",
        "colab": {
          "base_uri": "https://localhost:8080/",
          "height": 34
        },
        "outputId": "9a893148-6145-4b9b-ce35-1843e3073a15"
      },
      "source": [
        "grid_search.best_params_"
      ],
      "execution_count": null,
      "outputs": [
        {
          "output_type": "execute_result",
          "data": {
            "text/plain": [
              "{'alpha': 3}"
            ]
          },
          "metadata": {
            "tags": []
          },
          "execution_count": 44
        }
      ]
    },
    {
      "cell_type": "markdown",
      "metadata": {
        "id": "QlTfE0Op6dQ5"
      },
      "source": [
        "Ridge regression alpha=3\n"
      ]
    },
    {
      "cell_type": "markdown",
      "metadata": {
        "id": "X2yXfhuOxprs"
      },
      "source": [
        "**Ridge regression with alpha=3**"
      ]
    },
    {
      "cell_type": "code",
      "metadata": {
        "id": "YFuOJ-QvxpQW",
        "colab": {
          "base_uri": "https://localhost:8080/",
          "height": 34
        },
        "outputId": "4aec7b0b-b739-427b-c742-442adcac1c68"
      },
      "source": [
        "from sklearn.metrics import mean_squared_error\n",
        "\n",
        "ridge_reg=Ridge(alpha=0.001,solver='cholesky')\n",
        "ridge_reg.fit(x_train,y_train)\n",
        "ridge_pred=ridge_reg.predict(x_val)\n",
        "ridge_mse=mean_squared_error(ridge_pred,y_val)\n",
        "ridge_rmse=np.sqrt(ridge_mse)\n",
        "ridge_rmse"
      ],
      "execution_count": null,
      "outputs": [
        {
          "output_type": "execute_result",
          "data": {
            "text/plain": [
              "2930.991207133157"
            ]
          },
          "metadata": {
            "tags": []
          },
          "execution_count": 45
        }
      ]
    },
    {
      "cell_type": "markdown",
      "metadata": {
        "id": "NGjQPFPR6g20"
      },
      "source": [
        "Ridge regression RMSE 2930.991207133157 "
      ]
    },
    {
      "cell_type": "markdown",
      "metadata": {
        "id": "9nAq-aTm2qFU"
      },
      "source": [
        "**Using grid search with Lasso regression**"
      ]
    },
    {
      "cell_type": "code",
      "metadata": {
        "id": "-v2KZaha2pLm",
        "colab": {
          "base_uri": "https://localhost:8080/",
          "height": 395
        },
        "outputId": "092f8ac6-0d6d-4813-a214-b54d5c2263d8"
      },
      "source": [
        "from sklearn.model_selection import GridSearchCV\n",
        "from sklearn.linear_model import Lasso\n",
        "\n",
        "param_grid=[\n",
        "            {'alpha':[0.001,0.003,0.01,0.03,0.1,0.3,1,3]}\n",
        "]\n",
        "\n",
        "lasso_reg=Lasso()\n",
        "\n",
        "grid_search=GridSearchCV(lasso_reg,param_grid,cv=5,\n",
        "                         scoring='neg_mean_squared_error',\n",
        "                         return_train_score=True)\n",
        "\n",
        "grid_search.fit(x_train,y_train)"
      ],
      "execution_count": null,
      "outputs": [
        {
          "output_type": "stream",
          "text": [
            "/usr/local/lib/python3.6/dist-packages/sklearn/linear_model/_coordinate_descent.py:476: ConvergenceWarning: Objective did not converge. You might want to increase the number of iterations. Duality gap: 269324296898.9441, tolerance: 257242302.19205338\n",
            "  positive)\n",
            "/usr/local/lib/python3.6/dist-packages/sklearn/linear_model/_coordinate_descent.py:476: ConvergenceWarning: Objective did not converge. You might want to increase the number of iterations. Duality gap: 44176121524.98633, tolerance: 215381640.22858506\n",
            "  positive)\n",
            "/usr/local/lib/python3.6/dist-packages/sklearn/linear_model/_coordinate_descent.py:476: ConvergenceWarning: Objective did not converge. You might want to increase the number of iterations. Duality gap: 62550590294.43408, tolerance: 310948226.5984097\n",
            "  positive)\n",
            "/usr/local/lib/python3.6/dist-packages/sklearn/linear_model/_coordinate_descent.py:476: ConvergenceWarning: Objective did not converge. You might want to increase the number of iterations. Duality gap: 64763417936.08789, tolerance: 323519227.4371659\n",
            "  positive)\n",
            "/usr/local/lib/python3.6/dist-packages/sklearn/linear_model/_coordinate_descent.py:476: ConvergenceWarning: Objective did not converge. You might want to increase the number of iterations. Duality gap: 52226515425.81201, tolerance: 257242302.19205338\n",
            "  positive)\n",
            "/usr/local/lib/python3.6/dist-packages/sklearn/linear_model/_coordinate_descent.py:476: ConvergenceWarning: Objective did not converge. You might want to increase the number of iterations. Duality gap: 62551165138.84375, tolerance: 310948226.5984097\n",
            "  positive)\n"
          ],
          "name": "stderr"
        },
        {
          "output_type": "execute_result",
          "data": {
            "text/plain": [
              "GridSearchCV(cv=5, error_score=nan,\n",
              "             estimator=Lasso(alpha=1.0, copy_X=True, fit_intercept=True,\n",
              "                             max_iter=1000, normalize=False, positive=False,\n",
              "                             precompute=False, random_state=None,\n",
              "                             selection='cyclic', tol=0.0001, warm_start=False),\n",
              "             iid='deprecated', n_jobs=None,\n",
              "             param_grid=[{'alpha': [0.001, 0.003, 0.01, 0.03, 0.1, 0.3, 1, 3]}],\n",
              "             pre_dispatch='2*n_jobs', refit=True, return_train_score=True,\n",
              "             scoring='neg_mean_squared_error', verbose=0)"
            ]
          },
          "metadata": {
            "tags": []
          },
          "execution_count": 46
        }
      ]
    },
    {
      "cell_type": "code",
      "metadata": {
        "id": "kewkZokv35gy",
        "colab": {
          "base_uri": "https://localhost:8080/",
          "height": 34
        },
        "outputId": "b7fcdbdc-c558-4f25-999a-37eb8728c888"
      },
      "source": [
        "grid_search.best_params_"
      ],
      "execution_count": null,
      "outputs": [
        {
          "output_type": "execute_result",
          "data": {
            "text/plain": [
              "{'alpha': 3}"
            ]
          },
          "metadata": {
            "tags": []
          },
          "execution_count": 47
        }
      ]
    },
    {
      "cell_type": "markdown",
      "metadata": {
        "id": "YlsV-tvA8nmk"
      },
      "source": [
        "Lasso regression alpha= 3"
      ]
    },
    {
      "cell_type": "markdown",
      "metadata": {
        "id": "l439lTVT8yl7"
      },
      "source": [
        "**Lasso regression with alpha= 3**"
      ]
    },
    {
      "cell_type": "code",
      "metadata": {
        "id": "g-p2qYh385cH",
        "colab": {
          "base_uri": "https://localhost:8080/",
          "height": 34
        },
        "outputId": "125350cf-c9b9-4e9f-c41d-b9a9a2402596"
      },
      "source": [
        "from sklearn.linear_model import Lasso\n",
        "\n",
        "lasso_reg=Lasso(alpha=3)\n",
        "lasso_reg.fit(x_train,y_train)\n",
        "lasso_pred=lasso_reg.predict(x_val)\n",
        "lasso_mse=mean_squared_error(lasso_pred,y_val)\n",
        "lasso_rmse=np.sqrt(lasso_mse)\n",
        "lasso_rmse"
      ],
      "execution_count": null,
      "outputs": [
        {
          "output_type": "execute_result",
          "data": {
            "text/plain": [
              "2931.682913534796"
            ]
          },
          "metadata": {
            "tags": []
          },
          "execution_count": 49
        }
      ]
    },
    {
      "cell_type": "markdown",
      "metadata": {
        "id": "pk9Bd86l-Fc9"
      },
      "source": [
        "Lasso regression RMSE 2931.682913534796"
      ]
    },
    {
      "cell_type": "markdown",
      "metadata": {
        "id": "Ev1KSepK-VtT"
      },
      "source": [
        "**Grid search with elastic net**"
      ]
    },
    {
      "cell_type": "code",
      "metadata": {
        "id": "U2dkoFOt-VSm",
        "colab": {
          "base_uri": "https://localhost:8080/",
          "height": 549
        },
        "outputId": "6ecaddfb-4218-4f37-df7c-b6d36bd90570"
      },
      "source": [
        "from sklearn.model_selection import GridSearchCV\n",
        "from sklearn.linear_model import ElasticNet\n",
        "\n",
        "param_grid=[\n",
        "            {'alpha':[0.001,0.003,0.01,0.03,0.1,0.3,1,3]}\n",
        "]\n",
        "\n",
        "elastic_reg=ElasticNet()\n",
        "\n",
        "grid_search=GridSearchCV(elastic_reg,param_grid,cv=5,\n",
        "                         scoring='neg_mean_squared_error',\n",
        "                         return_train_score=True)\n",
        "\n",
        "grid_search.fit(x_train,y_train)"
      ],
      "execution_count": null,
      "outputs": [
        {
          "output_type": "stream",
          "text": [
            "/usr/local/lib/python3.6/dist-packages/sklearn/linear_model/_coordinate_descent.py:476: ConvergenceWarning: Objective did not converge. You might want to increase the number of iterations. Duality gap: 1137131953586.7896, tolerance: 257242302.19205338\n",
            "  positive)\n",
            "/usr/local/lib/python3.6/dist-packages/sklearn/linear_model/_coordinate_descent.py:476: ConvergenceWarning: Objective did not converge. You might want to increase the number of iterations. Duality gap: 948422060001.4845, tolerance: 215381640.22858506\n",
            "  positive)\n",
            "/usr/local/lib/python3.6/dist-packages/sklearn/linear_model/_coordinate_descent.py:476: ConvergenceWarning: Objective did not converge. You might want to increase the number of iterations. Duality gap: 1379295069413.107, tolerance: 310948226.5984097\n",
            "  positive)\n",
            "/usr/local/lib/python3.6/dist-packages/sklearn/linear_model/_coordinate_descent.py:476: ConvergenceWarning: Objective did not converge. You might want to increase the number of iterations. Duality gap: 1446808804767.2925, tolerance: 323519227.4371659\n",
            "  positive)\n",
            "/usr/local/lib/python3.6/dist-packages/sklearn/linear_model/_coordinate_descent.py:476: ConvergenceWarning: Objective did not converge. You might want to increase the number of iterations. Duality gap: 1008627436854.9752, tolerance: 237921848.2803799\n",
            "  positive)\n",
            "/usr/local/lib/python3.6/dist-packages/sklearn/linear_model/_coordinate_descent.py:476: ConvergenceWarning: Objective did not converge. You might want to increase the number of iterations. Duality gap: 323015837133.97, tolerance: 257242302.19205338\n",
            "  positive)\n",
            "/usr/local/lib/python3.6/dist-packages/sklearn/linear_model/_coordinate_descent.py:476: ConvergenceWarning: Objective did not converge. You might want to increase the number of iterations. Duality gap: 370746427633.4319, tolerance: 215381640.22858506\n",
            "  positive)\n",
            "/usr/local/lib/python3.6/dist-packages/sklearn/linear_model/_coordinate_descent.py:476: ConvergenceWarning: Objective did not converge. You might want to increase the number of iterations. Duality gap: 735517131403.4956, tolerance: 310948226.5984097\n",
            "  positive)\n",
            "/usr/local/lib/python3.6/dist-packages/sklearn/linear_model/_coordinate_descent.py:476: ConvergenceWarning: Objective did not converge. You might want to increase the number of iterations. Duality gap: 931234081219.1998, tolerance: 323519227.4371659\n",
            "  positive)\n",
            "/usr/local/lib/python3.6/dist-packages/sklearn/linear_model/_coordinate_descent.py:476: ConvergenceWarning: Objective did not converge. You might want to increase the number of iterations. Duality gap: 149546579147.02368, tolerance: 237921848.2803799\n",
            "  positive)\n"
          ],
          "name": "stderr"
        },
        {
          "output_type": "execute_result",
          "data": {
            "text/plain": [
              "GridSearchCV(cv=5, error_score=nan,\n",
              "             estimator=ElasticNet(alpha=1.0, copy_X=True, fit_intercept=True,\n",
              "                                  l1_ratio=0.5, max_iter=1000, normalize=False,\n",
              "                                  positive=False, precompute=False,\n",
              "                                  random_state=None, selection='cyclic',\n",
              "                                  tol=0.0001, warm_start=False),\n",
              "             iid='deprecated', n_jobs=None,\n",
              "             param_grid=[{'alpha': [0.001, 0.003, 0.01, 0.03, 0.1, 0.3, 1, 3]}],\n",
              "             pre_dispatch='2*n_jobs', refit=True, return_train_score=True,\n",
              "             scoring='neg_mean_squared_error', verbose=0)"
            ]
          },
          "metadata": {
            "tags": []
          },
          "execution_count": 42
        }
      ]
    },
    {
      "cell_type": "code",
      "metadata": {
        "id": "2qExj37k_J_p",
        "colab": {
          "base_uri": "https://localhost:8080/",
          "height": 34
        },
        "outputId": "35b36129-ffb7-47fc-bd48-316b11d2be42"
      },
      "source": [
        "grid_search.best_params_"
      ],
      "execution_count": null,
      "outputs": [
        {
          "output_type": "execute_result",
          "data": {
            "text/plain": [
              "{'alpha': 0.1}"
            ]
          },
          "metadata": {
            "tags": []
          },
          "execution_count": 43
        }
      ]
    },
    {
      "cell_type": "markdown",
      "metadata": {
        "id": "jZAfZcjEF4fd"
      },
      "source": [
        "Elastic net alpha=0.1\n"
      ]
    },
    {
      "cell_type": "markdown",
      "metadata": {
        "id": "vS8rz_odF9QO"
      },
      "source": [
        "**Applying elastic net with alpha=0.1**"
      ]
    },
    {
      "cell_type": "code",
      "metadata": {
        "id": "fA-PnRPNF0od",
        "colab": {
          "base_uri": "https://localhost:8080/",
          "height": 34
        },
        "outputId": "594f9524-807d-4f92-aec7-5403adc5bb14"
      },
      "source": [
        "from sklearn.linear_model import ElasticNet\n",
        "from sklearn.metrics import mean_squared_error\n",
        "\n",
        "\n",
        "elastic_reg=ElasticNet(alpha=0.1)\n",
        "elastic_reg.fit(x_train,y_train)\n",
        "elastic_pred=elastic_reg.predict(x_val)\n",
        "elastic_mse=mean_squared_error(elastic_pred,y_val)\n",
        "elastic_rmse=np.sqrt(elastic_mse)\n",
        "elastic_rmse"
      ],
      "execution_count": null,
      "outputs": [
        {
          "output_type": "execute_result",
          "data": {
            "text/plain": [
              "2935.439969289137"
            ]
          },
          "metadata": {
            "tags": []
          },
          "execution_count": 46
        }
      ]
    },
    {
      "cell_type": "markdown",
      "metadata": {
        "id": "tLd3qlSqHaG9"
      },
      "source": [
        "Elastic net RMSE= 2935.439969289137"
      ]
    },
    {
      "cell_type": "markdown",
      "metadata": {
        "id": "sS1L0mmfIcld"
      },
      "source": [
        "**Grid search to get the optimal learning rate**"
      ]
    },
    {
      "cell_type": "code",
      "metadata": {
        "id": "8pBTkjDHIg7h",
        "colab": {
          "base_uri": "https://localhost:8080/",
          "height": 273
        },
        "outputId": "780942da-572e-41e1-ab57-1c7e10615226"
      },
      "source": [
        "from sklearn.model_selection import GridSearchCV\n",
        "from sklearn.linear_model import SGDRegressor\n",
        "\n",
        "param_grid=[\n",
        "            {'eta0':[0.001,0.003,0.01,0.03,0.1,0.3,1,3]}\n",
        "]\n",
        "\n",
        "sgd_reg=SGDRegressor(max_iter=1000,tol=1e-3,penalty='l2')\n",
        "\n",
        "grid_search=GridSearchCV(sgd_reg,param_grid,cv=5,\n",
        "                         scoring='neg_mean_squared_error',\n",
        "                         return_train_score=True)\n",
        "grid_search.fit(x_train,y_train)"
      ],
      "execution_count": null,
      "outputs": [
        {
          "output_type": "execute_result",
          "data": {
            "text/plain": [
              "GridSearchCV(cv=5, error_score=nan,\n",
              "             estimator=SGDRegressor(alpha=0.0001, average=False,\n",
              "                                    early_stopping=False, epsilon=0.1,\n",
              "                                    eta0=0.01, fit_intercept=True,\n",
              "                                    l1_ratio=0.15, learning_rate='invscaling',\n",
              "                                    loss='squared_loss', max_iter=1000,\n",
              "                                    n_iter_no_change=5, penalty='l2',\n",
              "                                    power_t=0.25, random_state=None,\n",
              "                                    shuffle=True, tol=0.001,\n",
              "                                    validation_fraction=0.1, verbose=0,\n",
              "                                    warm_start=False),\n",
              "             iid='deprecated', n_jobs=None,\n",
              "             param_grid=[{'eta0': [0.001, 0.003, 0.01, 0.03, 0.1, 0.3, 1, 3]}],\n",
              "             pre_dispatch='2*n_jobs', refit=True, return_train_score=True,\n",
              "             scoring='neg_mean_squared_error', verbose=0)"
            ]
          },
          "metadata": {
            "tags": []
          },
          "execution_count": 47
        }
      ]
    },
    {
      "cell_type": "code",
      "metadata": {
        "id": "Xmt0fMxTJfVK",
        "colab": {
          "base_uri": "https://localhost:8080/",
          "height": 34
        },
        "outputId": "301990c9-7636-4aa9-ab17-c86bf7ed15e4"
      },
      "source": [
        "grid_search.best_params_"
      ],
      "execution_count": null,
      "outputs": [
        {
          "output_type": "execute_result",
          "data": {
            "text/plain": [
              "{'eta0': 0.03}"
            ]
          },
          "metadata": {
            "tags": []
          },
          "execution_count": 48
        }
      ]
    },
    {
      "cell_type": "markdown",
      "metadata": {
        "id": "TYx5Q4RvOc3Y"
      },
      "source": [
        "**Stochastic gradient descent with eta0=0.03**"
      ]
    },
    {
      "cell_type": "code",
      "metadata": {
        "id": "xVbpBaVVHoqX",
        "colab": {
          "base_uri": "https://localhost:8080/",
          "height": 34
        },
        "outputId": "aaf8f1b0-301e-4bb7-f7b3-ac4fd86eb01e"
      },
      "source": [
        "from sklearn.linear_model import SGDRegressor\n",
        "from sklearn. metrics import mean_squared_error\n",
        "\n",
        "sgd_reg=SGDRegressor(max_iter=200,tol=1e-3,eta0=0.03)\n",
        "sgd_reg.fit(x_train,y_train)\n",
        "sgd_pred=sgd_reg.predict(x_val)\n",
        "sgd_mse=mean_squared_error(sgd_pred,y_val)\n",
        "sgd_rmse=np.sqrt(sgd_mse)\n",
        "sgd_rmse"
      ],
      "execution_count": null,
      "outputs": [
        {
          "output_type": "execute_result",
          "data": {
            "text/plain": [
              "2940.1910539915416"
            ]
          },
          "metadata": {
            "tags": []
          },
          "execution_count": 49
        }
      ]
    },
    {
      "cell_type": "markdown",
      "metadata": {
        "id": "noHNta54N-lS"
      },
      "source": [
        "Stochastic gradient descent RMSE with eta0=0.03 is 2940.1910539915416"
      ]
    },
    {
      "cell_type": "markdown",
      "metadata": {
        "id": "GLNndoyOuF68"
      },
      "source": [
        "**Support Vector Regressor**"
      ]
    },
    {
      "cell_type": "code",
      "metadata": {
        "id": "cm5Q7DqYxp5R",
        "colab": {
          "base_uri": "https://localhost:8080/",
          "height": 187
        },
        "outputId": "2721a888-8c0a-474d-c33e-cf5b3faf49d4"
      },
      "source": [
        "from sklearn.model_selection import GridSearchCV\n",
        "from sklearn.svm import LinearSVR\n",
        "\n",
        "param_grid = [\n",
        "              {'epsilon':[0.003,0.001,0.03,0.01,0.3,0.1,1,3,10,20,50,100,400,800,1000]}\n",
        "]\n",
        "\n",
        "svm_reg = LinearSVR()\n",
        "grid_search = GridSearchCV(svm_reg,param_grid,\n",
        "                           scoring ='neg_mean_squared_error',\n",
        "                           return_train_score =True)\n",
        "grid_search.fit(x_train,y_train)"
      ],
      "execution_count": null,
      "outputs": [
        {
          "output_type": "execute_result",
          "data": {
            "text/plain": [
              "GridSearchCV(cv=None, error_score=nan,\n",
              "             estimator=LinearSVR(C=1.0, dual=True, epsilon=0.0,\n",
              "                                 fit_intercept=True, intercept_scaling=1.0,\n",
              "                                 loss='epsilon_insensitive', max_iter=1000,\n",
              "                                 random_state=None, tol=0.0001, verbose=0),\n",
              "             iid='deprecated', n_jobs=None,\n",
              "             param_grid=[{'epsilon': [0.003, 0.001, 0.03, 0.01, 0.3, 0.1, 1, 3,\n",
              "                                      10, 20, 50, 100, 400, 800, 1000]}],\n",
              "             pre_dispatch='2*n_jobs', refit=True, return_train_score=True,\n",
              "             scoring='neg_mean_squared_error', verbose=0)"
            ]
          },
          "metadata": {
            "tags": []
          },
          "execution_count": 50
        }
      ]
    },
    {
      "cell_type": "code",
      "metadata": {
        "id": "G3upQSxIz4Ss",
        "colab": {
          "base_uri": "https://localhost:8080/",
          "height": 34
        },
        "outputId": "871edc83-25a2-471a-eda3-8f89e0e795a6"
      },
      "source": [
        "grid_search.best_params_"
      ],
      "execution_count": null,
      "outputs": [
        {
          "output_type": "execute_result",
          "data": {
            "text/plain": [
              "{'epsilon': 400}"
            ]
          },
          "metadata": {
            "tags": []
          },
          "execution_count": 51
        }
      ]
    },
    {
      "cell_type": "markdown",
      "metadata": {
        "id": "hYza_NP93Ygj"
      },
      "source": [
        "**from grid search epsilon = 400. LinearSVR with epsilon = 400**"
      ]
    },
    {
      "cell_type": "code",
      "metadata": {
        "id": "Nw-qLuzauK9A",
        "colab": {
          "base_uri": "https://localhost:8080/",
          "height": 34
        },
        "outputId": "17c7e43c-3432-48ac-9098-6020e92a5564"
      },
      "source": [
        "from sklearn.svm import LinearSVR\n",
        "from sklearn.metrics import mean_squared_error\n",
        "from math import sqrt\n",
        "\n",
        "svm_reg = LinearSVR(epsilon =400)\n",
        "svm_reg.fit(x_train,y_train)\n",
        "svm_reg_pred = svm_reg.predict(x_val)\n",
        "svm_reg_error = mean_squared_error(svm_reg_pred,y_val)\n",
        "svm_reg_rmse = sqrt(svm_reg_error)\n",
        "svm_reg_rmse"
      ],
      "execution_count": null,
      "outputs": [
        {
          "output_type": "execute_result",
          "data": {
            "text/plain": [
              "2976.1475145440604"
            ]
          },
          "metadata": {
            "tags": []
          },
          "execution_count": 52
        }
      ]
    },
    {
      "cell_type": "markdown",
      "metadata": {
        "id": "thcCVnz1IwTj"
      },
      "source": [
        "LinearSVR with epsilon 1000 RMSE = 2976.1475145440604"
      ]
    },
    {
      "cell_type": "code",
      "metadata": {
        "id": "dVHWglf53jjX"
      },
      "source": [
        "from sklearn.model_selection import GridSearchCV\n",
        "from sklearn.svm import SVR\n",
        "\n",
        "param_grid = [\n",
        "              {'epsilon':[10,20,50,100,400,800,1000]},\n",
        "              {'degree':[2,3,4,5]},\n",
        "              {'C':[0.003,0.001,0.03,0.01]} #,20,50,100,400,800,1000\n",
        "]\n",
        "\n",
        "svm_poly_reg = SVR(kernel = 'poly')\n",
        "\n",
        "grid_search = GridSearchCV(svm_poly_reg,param_grid,\n",
        "                           scoring ='neg_mean_squared_error',\n",
        "                           return_train_score =True)\n",
        "\n",
        "grid_search.fit(x_train,y_train)"
      ],
      "execution_count": null,
      "outputs": []
    },
    {
      "cell_type": "code",
      "metadata": {
        "id": "w1gW4feS5S29"
      },
      "source": [
        "grid_search.bet_params_"
      ],
      "execution_count": null,
      "outputs": []
    },
    {
      "cell_type": "code",
      "metadata": {
        "id": "5-cS0eSa7E8V"
      },
      "source": [
        "from sklearn.svm import SVR\n",
        "from sklearn.metrics mean_squared_error\n",
        "from math import sqrt\n",
        "\n",
        "svm_poly_reg = SVR(kernel ='poly', degree = '', C ='', epislon ='')\n",
        "svm_poly_reg.fit(x_train,y_train)\n",
        "svm_poly_pred = svm_poly_reg.pred(x_val)\n",
        "svm_poly_mse=mean_squared_error(svm_poy_pred,y_val)\n",
        "svm_poly_rmse = sqrt(svm_poly_mse)\n",
        "svm_poy_rmse"
      ],
      "execution_count": null,
      "outputs": []
    },
    {
      "cell_type": "markdown",
      "metadata": {
        "id": "TUP3S-7ROhh1"
      },
      "source": [
        "**Decision tree**"
      ]
    },
    {
      "cell_type": "markdown",
      "metadata": {
        "id": "sbkvTzHZECRx"
      },
      "source": [
        "**The plan was to let decision tree fit however it wanted and let it overfit, make the figure using export_graphviz and then reducing overfitting**"
      ]
    },
    {
      "cell_type": "code",
      "metadata": {
        "id": "wKvBdrvAOmRF",
        "colab": {
          "base_uri": "https://localhost:8080/",
          "height": 34
        },
        "outputId": "ac2eb5e2-6710-489d-8229-dddea0c94137"
      },
      "source": [
        "from sklearn.tree import DecisionTreeRegressor\n",
        "from sklearn.metrics import mean_squared_error\n",
        "\n",
        "tree_reg=DecisionTreeRegressor()\n",
        "tree_reg.fit(x_train,y_train)\n",
        "tree_pred=tree_reg.predict(x_val)\n",
        "tree_mse=mean_squared_error(tree_pred,y_val)\n",
        "tree_rmse=np.sqrt(tree_mse)\n",
        "tree_rmse"
      ],
      "execution_count": null,
      "outputs": [
        {
          "output_type": "execute_result",
          "data": {
            "text/plain": [
              "3071.9510853810343"
            ]
          },
          "metadata": {
            "tags": []
          },
          "execution_count": 53
        }
      ]
    },
    {
      "cell_type": "markdown",
      "metadata": {
        "id": "vEUbUyE2-cPB"
      },
      "source": [
        "Decision tree RMSE = 3071.9510853810343"
      ]
    },
    {
      "cell_type": "code",
      "metadata": {
        "id": "hb6v6HvF8ON_",
        "colab": {
          "base_uri": "https://localhost:8080/",
          "height": 34
        },
        "outputId": "d86ebfbb-b05a-4437-ada2-b0bb111eb260"
      },
      "source": [
        "from sklearn.tree import DecisionTreeRegressor\n",
        "from sklearn.metrics import mean_squared_error\n",
        "\n",
        "tree_reg=DecisionTreeRegressor(max_depth =10, max_leaf_nodes=10)\n",
        "tree_reg.fit(x_train,y_train)\n",
        "tree_pred=tree_reg.predict(x_val)\n",
        "tree_mse=mean_squared_error(tree_pred,y_val)\n",
        "tree_rmse=np.sqrt(tree_mse)\n",
        "tree_rmse"
      ],
      "execution_count": null,
      "outputs": [
        {
          "output_type": "execute_result",
          "data": {
            "text/plain": [
              "2489.6482968306777"
            ]
          },
          "metadata": {
            "tags": []
          },
          "execution_count": 61
        }
      ]
    },
    {
      "cell_type": "markdown",
      "metadata": {
        "id": "Tb2YJPGnOmx3"
      },
      "source": [
        "**Ensemble**"
      ]
    },
    {
      "cell_type": "code",
      "metadata": {
        "id": "wp6WOVgaOp4Y",
        "colab": {
          "base_uri": "https://localhost:8080/",
          "height": 324
        },
        "outputId": "9d9c61dc-12e6-4df4-b984-5e3f6e2fa862"
      },
      "source": [
        "from sklearn.ensemble import VotingRegressor\n",
        "from sklearn.svm import LinearSVR\n",
        "from sklearn.linear_model import LinearRegression\n",
        "from sklearn.linear_model import Ridge\n",
        "from sklearn.linear_model import Lasso\n",
        "from sklearn.linear_model import ElasticNet\n",
        "from sklearn.linear_model import SGDRegressor\n",
        "from sklearn.svm import LinearSVR\n",
        "from sklearn.svm import SVR\n",
        "from sklearn.tree import DecisionTreeRegressor\n",
        "\n",
        "lin_reg=LinearRegression()\n",
        "#ridge_reg=Ridge(alpha=0.001,solver='cholesky')\n",
        "#lasso_reg=Lasso(alpha=0.001)\n",
        "#elastic_reg=ElasticNet(alpha=0.003)\n",
        "#sgd_reg=SGDRegressor(max_iter=200,tol=1e-3,eta0=0.03)\n",
        "#svm_reg = LinearSVR(epsilon =400)\n",
        "tree_reg=DecisionTreeRegressor(max_depth =10, max_leaf_nodes=10)\n",
        "\n",
        "voting_reg=VotingRegressor(\n",
        "    estimators=[('lr',lin_reg), \n",
        "                ('tree',tree_reg)]\n",
        ")\n",
        "\n",
        "voting_reg.fit(x_train,y_train)"
      ],
      "execution_count": null,
      "outputs": [
        {
          "output_type": "execute_result",
          "data": {
            "text/plain": [
              "VotingRegressor(estimators=[('lr',\n",
              "                             LinearRegression(copy_X=True, fit_intercept=True,\n",
              "                                              n_jobs=None, normalize=False)),\n",
              "                            ('tree',\n",
              "                             DecisionTreeRegressor(ccp_alpha=0.0,\n",
              "                                                   criterion='mse',\n",
              "                                                   max_depth=10,\n",
              "                                                   max_features=None,\n",
              "                                                   max_leaf_nodes=10,\n",
              "                                                   min_impurity_decrease=0.0,\n",
              "                                                   min_impurity_split=None,\n",
              "                                                   min_samples_leaf=1,\n",
              "                                                   min_samples_split=2,\n",
              "                                                   min_weight_fraction_leaf=0.0,\n",
              "                                                   presort='deprecated',\n",
              "                                                   random_state=None,\n",
              "                                                   splitter='best'))],\n",
              "                n_jobs=None, weights=None)"
            ]
          },
          "metadata": {
            "tags": []
          },
          "execution_count": 71
        }
      ]
    },
    {
      "cell_type": "code",
      "metadata": {
        "id": "7ao0jAFEV0Gj",
        "colab": {
          "base_uri": "https://localhost:8080/",
          "height": 34
        },
        "outputId": "70a895a0-a620-4195-cd94-6c5bbb75f29e"
      },
      "source": [
        "from sklearn.metrics import mean_squared_error\n",
        "\n",
        "voting_reg_pred=voting_reg.predict(x_val)\n",
        "voting_reg_mse=mean_squared_error(voting_reg_pred,y_val)\n",
        "voting_reg_rmse=np.sqrt(voting_reg_mse)\n",
        "voting_reg_rmse"
      ],
      "execution_count": null,
      "outputs": [
        {
          "output_type": "execute_result",
          "data": {
            "text/plain": [
              "2669.26409222902"
            ]
          },
          "metadata": {
            "tags": []
          },
          "execution_count": 72
        }
      ]
    },
    {
      "cell_type": "markdown",
      "metadata": {
        "id": "BpEvBR2VkBdZ"
      },
      "source": [
        "Voting regressor RMSE 2669.26409222902"
      ]
    },
    {
      "cell_type": "markdown",
      "metadata": {
        "id": "QLF3VsxvahG-"
      },
      "source": [
        "**BaggingRegressor**"
      ]
    },
    {
      "cell_type": "code",
      "metadata": {
        "id": "xedDxHt1Yw1M"
      },
      "source": [
        "from sklearn.ensemble import BaggingRegressor\n",
        "from sklearn.tree import DecisionTreeRegressor\n",
        "\n",
        "bag_reg= BaggingRegressor(\n",
        "    DecisionTreeRegressor(max_depth =10, max_leaf_nodes=10),n_estimators =1000,\n",
        "    max_samples=2000, bootstrap =True, n_jobs=-1 \n",
        ")\n"
      ],
      "execution_count": null,
      "outputs": []
    },
    {
      "cell_type": "code",
      "metadata": {
        "id": "TIXdVnXBalnv"
      },
      "source": [
        "from math import sqrt\n",
        "\n",
        "bag_reg.fit(x_train,y_train)\n",
        "bag_pred= bag_reg.predict(x_val)\n",
        "bag_mse=mean_squared_error(y_val,bag_pred)\n",
        "bag_rmse =sqrt(bag_mse)"
      ],
      "execution_count": null,
      "outputs": []
    },
    {
      "cell_type": "code",
      "metadata": {
        "id": "_F52ylT4ePCj",
        "colab": {
          "base_uri": "https://localhost:8080/",
          "height": 34
        },
        "outputId": "5b4cc1f2-fd6b-434e-e4f3-4c56dc7c213e"
      },
      "source": [
        "bag_rmse"
      ],
      "execution_count": null,
      "outputs": [
        {
          "output_type": "execute_result",
          "data": {
            "text/plain": [
              "2531.0452042743564"
            ]
          },
          "metadata": {
            "tags": []
          },
          "execution_count": 75
        }
      ]
    },
    {
      "cell_type": "markdown",
      "metadata": {
        "id": "E13hKwSeebCe"
      },
      "source": [
        "Bagging regressor RMSE = 2531.0452042743564"
      ]
    },
    {
      "cell_type": "markdown",
      "metadata": {
        "id": "vGBb_a7DbepY"
      },
      "source": [
        "**RandomFOrest**"
      ]
    },
    {
      "cell_type": "markdown",
      "metadata": {
        "id": "hQ_NS-zIe0QW"
      },
      "source": [
        "**Gardient boosting**"
      ]
    },
    {
      "cell_type": "code",
      "metadata": {
        "id": "dT7dpKIFeycv",
        "colab": {
          "base_uri": "https://localhost:8080/",
          "height": 170
        },
        "outputId": "c7742cc1-1acd-4030-b114-e52c736d84db"
      },
      "source": [
        "from sklearn.ensemble import GradientBoostingRegressor\n",
        "from sklearn.metrics import mean_squared_error\n",
        "\n",
        "gbrt = GradientBoostingRegressor(max_depth =10, max_leaf_nodes=10,n_estimators=500,min_samples_leaf=1000,max_features =9,  random_state=42)\n",
        "gbrt.fit(x_train, y_train)\n",
        "\n",
        "errors = [mean_squared_error(y_val, y_pred)\n",
        "          for y_pred in gbrt.staged_predict(x_val)]\n",
        "bst_n_estimators = np.argmin(errors) + 1\n",
        "\n",
        "gbrt_best = GradientBoostingRegressor(max_depth=2, n_estimators=bst_n_estimators, random_state=42)\n",
        "gbrt_best.fit(x_train, y_train)"
      ],
      "execution_count": null,
      "outputs": [
        {
          "output_type": "execute_result",
          "data": {
            "text/plain": [
              "GradientBoostingRegressor(alpha=0.9, ccp_alpha=0.0, criterion='friedman_mse',\n",
              "                          init=None, learning_rate=0.1, loss='ls', max_depth=2,\n",
              "                          max_features=None, max_leaf_nodes=None,\n",
              "                          min_impurity_decrease=0.0, min_impurity_split=None,\n",
              "                          min_samples_leaf=1, min_samples_split=2,\n",
              "                          min_weight_fraction_leaf=0.0, n_estimators=105,\n",
              "                          n_iter_no_change=None, presort='deprecated',\n",
              "                          random_state=42, subsample=1.0, tol=0.0001,\n",
              "                          validation_fraction=0.1, verbose=0, warm_start=False)"
            ]
          },
          "metadata": {
            "tags": []
          },
          "execution_count": 76
        }
      ]
    },
    {
      "cell_type": "code",
      "metadata": {
        "id": "QzkUV1aXp9c9",
        "colab": {
          "base_uri": "https://localhost:8080/",
          "height": 34
        },
        "outputId": "c899fbf3-3ac6-470b-a4cd-0a2d9dac4fda"
      },
      "source": [
        "gbrt_best_pred=gbrt_best.predict(x_val)\n",
        "gbrt_best_mse=mean_squared_error(gbrt_best_pred,y_val)\n",
        "gbrt_best_rmse = sqrt(gbrt_best_mse)\n",
        "gbrt_best_rmse"
      ],
      "execution_count": null,
      "outputs": [
        {
          "output_type": "execute_result",
          "data": {
            "text/plain": [
              "2510.493479511271"
            ]
          },
          "metadata": {
            "tags": []
          },
          "execution_count": 77
        }
      ]
    },
    {
      "cell_type": "markdown",
      "metadata": {
        "id": "pPP6pdo6WTti"
      },
      "source": [
        "gradient boosting RMSE with max_depth=10, max_leaf_nodes=10,n_estimators=500,random_state=2510.493479511271///// "
      ]
    },
    {
      "cell_type": "markdown",
      "metadata": {
        "id": "hX6MH0HXMMEL"
      },
      "source": [
        "**Making test set predictions**"
      ]
    },
    {
      "cell_type": "code",
      "metadata": {
        "id": "-r0EklmbMNK1"
      },
      "source": [
        "tree_reg_test= tree_reg.predict(testing_prepared)"
      ],
      "execution_count": null,
      "outputs": []
    },
    {
      "cell_type": "markdown",
      "metadata": {
        "id": "KjXSpDrBMPow"
      },
      "source": [
        "**Saving test set predictions**"
      ]
    },
    {
      "cell_type": "code",
      "metadata": {
        "id": "91b1ve03MVuR",
        "colab": {
          "base_uri": "https://localhost:8080/",
          "height": 197
        },
        "outputId": "15aac1c3-583d-4a91-b460-1d66db3d450c"
      },
      "source": [
        "hot_water_preds = pd.DataFrame({'row_id':test_hot_water['row_id'],\n",
        "                            'meter_reading':tree_reg_test})\n",
        "hot_water_preds.head()"
      ],
      "execution_count": null,
      "outputs": [
        {
          "output_type": "execute_result",
          "data": {
            "text/html": [
              "<div>\n",
              "<style scoped>\n",
              "    .dataframe tbody tr th:only-of-type {\n",
              "        vertical-align: middle;\n",
              "    }\n",
              "\n",
              "    .dataframe tbody tr th {\n",
              "        vertical-align: top;\n",
              "    }\n",
              "\n",
              "    .dataframe thead th {\n",
              "        text-align: right;\n",
              "    }\n",
              "</style>\n",
              "<table border=\"1\" class=\"dataframe\">\n",
              "  <thead>\n",
              "    <tr style=\"text-align: right;\">\n",
              "      <th></th>\n",
              "      <th>row_id</th>\n",
              "      <th>meter_reading</th>\n",
              "    </tr>\n",
              "  </thead>\n",
              "  <tbody>\n",
              "    <tr>\n",
              "      <th>2260082</th>\n",
              "      <td>2260082</td>\n",
              "      <td>214.728357</td>\n",
              "    </tr>\n",
              "    <tr>\n",
              "      <th>2260086</th>\n",
              "      <td>2260086</td>\n",
              "      <td>214.728357</td>\n",
              "    </tr>\n",
              "    <tr>\n",
              "      <th>2260090</th>\n",
              "      <td>2260090</td>\n",
              "      <td>214.728357</td>\n",
              "    </tr>\n",
              "    <tr>\n",
              "      <th>2260092</th>\n",
              "      <td>2260092</td>\n",
              "      <td>214.728357</td>\n",
              "    </tr>\n",
              "    <tr>\n",
              "      <th>2260094</th>\n",
              "      <td>2260094</td>\n",
              "      <td>214.728357</td>\n",
              "    </tr>\n",
              "  </tbody>\n",
              "</table>\n",
              "</div>"
            ],
            "text/plain": [
              "          row_id  meter_reading\n",
              "2260082  2260082     214.728357\n",
              "2260086  2260086     214.728357\n",
              "2260090  2260090     214.728357\n",
              "2260092  2260092     214.728357\n",
              "2260094  2260094     214.728357"
            ]
          },
          "metadata": {
            "tags": []
          },
          "execution_count": 63
        }
      ]
    },
    {
      "cell_type": "code",
      "metadata": {
        "id": "-Wt4nbhaMd8T",
        "colab": {
          "base_uri": "https://localhost:8080/",
          "height": 34
        },
        "outputId": "3d053f36-bfb9-4812-96b1-7491413aa096"
      },
      "source": [
        "file_name='hot_water_preds.csv'\n",
        "hot_water_preds.to_csv(file_name,index=False)\n",
        "print('Saved file:'+file_name)"
      ],
      "execution_count": null,
      "outputs": [
        {
          "output_type": "stream",
          "text": [
            "Saved file:hot_water_preds.csv\n"
          ],
          "name": "stdout"
        }
      ]
    }
  ]
}