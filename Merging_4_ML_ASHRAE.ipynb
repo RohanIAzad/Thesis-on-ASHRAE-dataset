{
  "nbformat": 4,
  "nbformat_minor": 0,
  "metadata": {
    "colab": {
      "name": "Merging 4 ML ASHRAE.ipynb",
      "provenance": [],
      "collapsed_sections": []
    },
    "kernelspec": {
      "name": "python3",
      "display_name": "Python 3"
    }
  },
  "cells": [
    {
      "cell_type": "code",
      "metadata": {
        "id": "aWYoTzaJPXUl",
        "colab_type": "code",
        "colab": {}
      },
      "source": [
        "import pandas as pd"
      ],
      "execution_count": null,
      "outputs": []
    },
    {
      "cell_type": "code",
      "metadata": {
        "id": "WzaHk8kmP523",
        "colab_type": "code",
        "colab": {}
      },
      "source": [
        "chilled_water_preds_dir='/content/drive/My Drive/chilled_water_preds_3.csv'\n",
        "chilled_water_preds= pd.read_csv(chilled_water_preds_dir)\n",
        "hot_water_preds_dir = '/content/drive/My Drive/hot_water_preds_1.csv'\n",
        "hot_water_preds = pd.read_csv(hot_water_preds_dir)\n",
        "steam_outlier_preds_dir = '/content/drive/My Drive/steam_outlier_preds.csv'\n",
        "steam_outlier_preds = pd.read_csv(steam_outlier_preds_dir)\n",
        "electricity_preds_dummy_dir='/content/drive/My Drive/electricirty_preds_dummy.csv'\n",
        "electricity_preds_dummy=pd.read_csv(electricity_preds_dummy_dir)"
      ],
      "execution_count": null,
      "outputs": []
    },
    {
      "cell_type": "code",
      "metadata": {
        "id": "yZoS2PVk7TeR",
        "colab_type": "code",
        "colab": {}
      },
      "source": [
        "# import numpy as np\n",
        "# zero_data = np.zeros((28452195,2))\n",
        "# feature_list=['row_id','meter_reading']\n",
        "# d = pd.DataFrame(zero_data, columns=feature_list)\n",
        "# d.head()"
      ],
      "execution_count": null,
      "outputs": []
    },
    {
      "cell_type": "code",
      "metadata": {
        "id": "7m4Bmp5oQqdF",
        "colab_type": "code",
        "colab": {}
      },
      "source": [
        "merged_4files=pd.concat([electricity_preds_dummy,chilled_water_preds,steam_outlier_preds,hot_water_preds])"
      ],
      "execution_count": null,
      "outputs": []
    },
    {
      "cell_type": "code",
      "metadata": {
        "id": "GIKrM5wUQrVU",
        "colab_type": "code",
        "colab": {
          "base_uri": "https://localhost:8080/",
          "height": 197
        },
        "outputId": "4db1fe58-e9c9-438f-f466-6a580b74779a"
      },
      "source": [
        "merged_4files.head()"
      ],
      "execution_count": null,
      "outputs": [
        {
          "output_type": "execute_result",
          "data": {
            "text/html": [
              "<div>\n",
              "<style scoped>\n",
              "    .dataframe tbody tr th:only-of-type {\n",
              "        vertical-align: middle;\n",
              "    }\n",
              "\n",
              "    .dataframe tbody tr th {\n",
              "        vertical-align: top;\n",
              "    }\n",
              "\n",
              "    .dataframe thead th {\n",
              "        text-align: right;\n",
              "    }\n",
              "</style>\n",
              "<table border=\"1\" class=\"dataframe\">\n",
              "  <thead>\n",
              "    <tr style=\"text-align: right;\">\n",
              "      <th></th>\n",
              "      <th>row_id</th>\n",
              "      <th>meter_reading</th>\n",
              "    </tr>\n",
              "  </thead>\n",
              "  <tbody>\n",
              "    <tr>\n",
              "      <th>0</th>\n",
              "      <td>0</td>\n",
              "      <td>0.0</td>\n",
              "    </tr>\n",
              "    <tr>\n",
              "      <th>1</th>\n",
              "      <td>1</td>\n",
              "      <td>0.0</td>\n",
              "    </tr>\n",
              "    <tr>\n",
              "      <th>2</th>\n",
              "      <td>2</td>\n",
              "      <td>0.0</td>\n",
              "    </tr>\n",
              "    <tr>\n",
              "      <th>3</th>\n",
              "      <td>3</td>\n",
              "      <td>0.0</td>\n",
              "    </tr>\n",
              "    <tr>\n",
              "      <th>4</th>\n",
              "      <td>4</td>\n",
              "      <td>0.0</td>\n",
              "    </tr>\n",
              "  </tbody>\n",
              "</table>\n",
              "</div>"
            ],
            "text/plain": [
              "   row_id  meter_reading\n",
              "0       0            0.0\n",
              "1       1            0.0\n",
              "2       2            0.0\n",
              "3       3            0.0\n",
              "4       4            0.0"
            ]
          },
          "metadata": {
            "tags": []
          },
          "execution_count": 5
        }
      ]
    },
    {
      "cell_type": "code",
      "metadata": {
        "id": "6sR9hXT9SVTe",
        "colab_type": "code",
        "colab": {
          "base_uri": "https://localhost:8080/",
          "height": 34
        },
        "outputId": "7ee4f76a-d2ac-4833-9073-0997c56f747a"
      },
      "source": [
        "merged_4files.shape"
      ],
      "execution_count": null,
      "outputs": [
        {
          "output_type": "execute_result",
          "data": {
            "text/plain": [
              "(41697600, 2)"
            ]
          },
          "metadata": {
            "tags": []
          },
          "execution_count": 6
        }
      ]
    },
    {
      "cell_type": "code",
      "metadata": {
        "id": "WgnuN33QSLji",
        "colab_type": "code",
        "colab": {}
      },
      "source": [
        "merged_4files_sorted = merged_3files.sort_values(by ='row_id' )"
      ],
      "execution_count": null,
      "outputs": []
    },
    {
      "cell_type": "code",
      "metadata": {
        "id": "y9Eme7XYSkUm",
        "colab_type": "code",
        "colab": {
          "base_uri": "https://localhost:8080/",
          "height": 197
        },
        "outputId": "07308dbd-20b2-41c1-8fcf-e5ba8ddc1f42"
      },
      "source": [
        "save_4_merged_file = pd.DataFrame({'row_id':merged_3files['row_id'],\n",
        "                                   'meter_reading':merged_3files['meter_reading']})\n",
        "save_4_merged_file.head()"
      ],
      "execution_count": null,
      "outputs": [
        {
          "output_type": "execute_result",
          "data": {
            "text/html": [
              "<div>\n",
              "<style scoped>\n",
              "    .dataframe tbody tr th:only-of-type {\n",
              "        vertical-align: middle;\n",
              "    }\n",
              "\n",
              "    .dataframe tbody tr th {\n",
              "        vertical-align: top;\n",
              "    }\n",
              "\n",
              "    .dataframe thead th {\n",
              "        text-align: right;\n",
              "    }\n",
              "</style>\n",
              "<table border=\"1\" class=\"dataframe\">\n",
              "  <thead>\n",
              "    <tr style=\"text-align: right;\">\n",
              "      <th></th>\n",
              "      <th>row_id</th>\n",
              "      <th>meter_reading</th>\n",
              "    </tr>\n",
              "  </thead>\n",
              "  <tbody>\n",
              "    <tr>\n",
              "      <th>0</th>\n",
              "      <td>0</td>\n",
              "      <td>0.0</td>\n",
              "    </tr>\n",
              "    <tr>\n",
              "      <th>1</th>\n",
              "      <td>1</td>\n",
              "      <td>0.0</td>\n",
              "    </tr>\n",
              "    <tr>\n",
              "      <th>2</th>\n",
              "      <td>2</td>\n",
              "      <td>0.0</td>\n",
              "    </tr>\n",
              "    <tr>\n",
              "      <th>3</th>\n",
              "      <td>3</td>\n",
              "      <td>0.0</td>\n",
              "    </tr>\n",
              "    <tr>\n",
              "      <th>4</th>\n",
              "      <td>4</td>\n",
              "      <td>0.0</td>\n",
              "    </tr>\n",
              "  </tbody>\n",
              "</table>\n",
              "</div>"
            ],
            "text/plain": [
              "   row_id  meter_reading\n",
              "0       0            0.0\n",
              "1       1            0.0\n",
              "2       2            0.0\n",
              "3       3            0.0\n",
              "4       4            0.0"
            ]
          },
          "metadata": {
            "tags": []
          },
          "execution_count": 8
        }
      ]
    },
    {
      "cell_type": "code",
      "metadata": {
        "id": "6wUB9IL5TPXT",
        "colab_type": "code",
        "colab": {
          "base_uri": "https://localhost:8080/",
          "height": 34
        },
        "outputId": "7c06a93c-dbbc-4c40-a1f2-fb3ef2b2ec68"
      },
      "source": [
        "file_name='save_4_merged_file.csv'\n",
        "save_4_merged_file.to_csv(file_name,index=False)\n",
        "print('Saved file:'+file_name)"
      ],
      "execution_count": null,
      "outputs": [
        {
          "output_type": "stream",
          "text": [
            "Saved file:save_3_merged_file.csv\n"
          ],
          "name": "stdout"
        }
      ]
    }
  ]
}