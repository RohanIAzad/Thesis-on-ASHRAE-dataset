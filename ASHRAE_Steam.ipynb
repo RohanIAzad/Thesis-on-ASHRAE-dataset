{
  "nbformat": 4,
  "nbformat_minor": 0,
  "metadata": {
    "colab": {
      "name": "Copy of ASHRAE GPU-Steam.ipynb",
      "provenance": [],
      "collapsed_sections": [],
      "machine_shape": "hm"
    },
    "kernelspec": {
      "name": "python3",
      "display_name": "Python 3"
    }
  },
  "cells": [
    {
      "cell_type": "code",
      "metadata": {
        "id": "pkpOoLmu3WeC",
        "colab_type": "code",
        "colab": {}
      },
      "source": [
        "import os,shutil"
      ],
      "execution_count": null,
      "outputs": []
    },
    {
      "cell_type": "code",
      "metadata": {
        "id": "80SLOezQ66de",
        "colab_type": "code",
        "colab": {}
      },
      "source": [
        "os.environ['KAGGLE_USERNAME']='rohanazad'\n",
        "os.environ['KAGGLE_KEY']='f3cf3c594532e397b78564e4bbe88ec6'"
      ],
      "execution_count": null,
      "outputs": []
    },
    {
      "cell_type": "code",
      "metadata": {
        "id": "y7x1pAux75az",
        "colab_type": "code",
        "colab": {
          "base_uri": "https://localhost:8080/",
          "height": 141
        },
        "outputId": "e401d968-cc96-4710-fba1-558a0250dd5e"
      },
      "source": [
        "!kaggle competitions download -c ashrae-energy-prediction"
      ],
      "execution_count": null,
      "outputs": [
        {
          "output_type": "stream",
          "text": [
            "Warning: Looks like you're using an outdated API Version, please consider updating (server 1.5.6 / client 1.5.4)\n",
            "weather_train.csv.zip: Skipping, found more recently modified local copy (use --force to force download)\n",
            "train.csv.zip: Skipping, found more recently modified local copy (use --force to force download)\n",
            "sample_submission.csv.zip: Skipping, found more recently modified local copy (use --force to force download)\n",
            "building_metadata.csv: Skipping, found more recently modified local copy (use --force to force download)\n",
            "weather_test.csv.zip: Skipping, found more recently modified local copy (use --force to force download)\n",
            "test.csv.zip: Skipping, found more recently modified local copy (use --force to force download)\n"
          ],
          "name": "stdout"
        }
      ]
    },
    {
      "cell_type": "code",
      "metadata": {
        "id": "Xm3NAdYx7_6-",
        "colab_type": "code",
        "colab": {}
      },
      "source": [
        "import pandas as pd"
      ],
      "execution_count": null,
      "outputs": []
    },
    {
      "cell_type": "code",
      "metadata": {
        "id": "c6Lp7Rw09JR1",
        "colab_type": "code",
        "colab": {}
      },
      "source": [
        "import zipfile\n",
        "\n",
        "unzipped_train=zipfile.ZipFile('train.csv.zip')\n",
        "unzipped_train.extractall()\n",
        "unzipped_train.close()\n",
        "\n",
        "unzipped_test=zipfile.ZipFile('test.csv.zip')\n",
        "unzipped_test.extractall()\n",
        "unzipped_test.close()"
      ],
      "execution_count": null,
      "outputs": []
    },
    {
      "cell_type": "code",
      "metadata": {
        "id": "uy2EjlD29vtB",
        "colab_type": "code",
        "colab": {}
      },
      "source": [
        "train=pd.read_csv('train.csv')\n",
        "test=pd.read_csv('test.csv')\n",
        "weather_train_dir='/content/drive/My Drive/weather_train3.csv'\n",
        "weather_train=pd.read_csv(weather_train_dir)\n",
        "weather_test_dir='/content/drive/My Drive/weather_test2.csv'\n",
        "weather_test=pd.read_csv(weather_test_dir)\n",
        "building_met_dir='/content/drive/My Drive/building_metadata_save.csv'\n",
        "building_met=pd.read_csv(building_met_dir)"
      ],
      "execution_count": null,
      "outputs": []
    },
    {
      "cell_type": "code",
      "metadata": {
        "id": "8AmAEiyJ-RT8",
        "colab_type": "code",
        "colab": {}
      },
      "source": [
        "# train.head()"
      ],
      "execution_count": null,
      "outputs": []
    },
    {
      "cell_type": "code",
      "metadata": {
        "id": "4-c_lrEJ-kjt",
        "colab_type": "code",
        "colab": {
          "base_uri": "https://localhost:8080/",
          "height": 105
        },
        "outputId": "61a31087-7621-4d86-ec56-ad6d7425505f"
      },
      "source": [
        "print('shape of train:',train.shape)\n",
        "print('shape of test:',test.shape)\n",
        "print('shape of weather_train:',weather_train.shape)\n",
        "print('shape of weather_test:',weather_test.shape)\n",
        "print('shape of building_metadata:',building_met.shape)"
      ],
      "execution_count": null,
      "outputs": [
        {
          "output_type": "stream",
          "text": [
            "shape of train: (20216100, 4)\n",
            "shape of test: (41697600, 4)\n",
            "shape of weather_train: (139788, 12)\n",
            "shape of weather_test: (277243, 12)\n",
            "shape of building_metadata: (1449, 6)\n"
          ],
          "name": "stdout"
        }
      ]
    },
    {
      "cell_type": "markdown",
      "metadata": {
        "id": "oz5bdRbU-7WB",
        "colab_type": "text"
      },
      "source": [
        "**timestamp stores data as strings in a particular format. Year,month,day,time**"
      ]
    },
    {
      "cell_type": "markdown",
      "metadata": {
        "id": "vOEXNFcH_P-7",
        "colab_type": "text"
      },
      "source": [
        "**Apply to_datetime to convert string to object**"
      ]
    },
    {
      "cell_type": "code",
      "metadata": {
        "id": "O6KF554A_UxL",
        "colab_type": "code",
        "colab": {}
      },
      "source": [
        "train['timestamp']=pd.to_datetime(train['timestamp'])\n",
        "test['timestamp']=pd.to_datetime(test['timestamp'])\n",
        "weather_train['timestamp']=pd.to_datetime(weather_train['timestamp'])\n",
        "weather_test['timestamp']=pd.to_datetime(weather_test['timestamp'])\n",
        "\n",
        "building_met['primary_use']=building_met['primary_use'].astype('category')"
      ],
      "execution_count": null,
      "outputs": []
    },
    {
      "cell_type": "markdown",
      "metadata": {
        "id": "Dcm3uyua_Za2",
        "colab_type": "text"
      },
      "source": [
        "**Merging the three dataset to create train set**"
      ]
    },
    {
      "cell_type": "code",
      "metadata": {
        "id": "XMFA57F__eUt",
        "colab_type": "code",
        "colab": {}
      },
      "source": [
        "temp=train[['building_id']]\n",
        "temp=temp.merge(building_met,on='building_id',how='left')\n",
        "del temp['building_id']\n",
        "train=pd.concat([train,temp],axis=1)\n",
        "\n"
      ],
      "execution_count": null,
      "outputs": []
    },
    {
      "cell_type": "code",
      "metadata": {
        "id": "sjJNAAie_loh",
        "colab_type": "code",
        "colab": {
          "base_uri": "https://localhost:8080/",
          "height": 197
        },
        "outputId": "c0dc3771-8f84-42ee-e559-c606428429e6"
      },
      "source": [
        "train.head()"
      ],
      "execution_count": null,
      "outputs": [
        {
          "output_type": "execute_result",
          "data": {
            "text/html": [
              "<div>\n",
              "<style scoped>\n",
              "    .dataframe tbody tr th:only-of-type {\n",
              "        vertical-align: middle;\n",
              "    }\n",
              "\n",
              "    .dataframe tbody tr th {\n",
              "        vertical-align: top;\n",
              "    }\n",
              "\n",
              "    .dataframe thead th {\n",
              "        text-align: right;\n",
              "    }\n",
              "</style>\n",
              "<table border=\"1\" class=\"dataframe\">\n",
              "  <thead>\n",
              "    <tr style=\"text-align: right;\">\n",
              "      <th></th>\n",
              "      <th>building_id</th>\n",
              "      <th>meter</th>\n",
              "      <th>timestamp</th>\n",
              "      <th>meter_reading</th>\n",
              "      <th>site_id</th>\n",
              "      <th>primary_use</th>\n",
              "      <th>square_feet</th>\n",
              "      <th>year_built</th>\n",
              "      <th>floor_count</th>\n",
              "    </tr>\n",
              "  </thead>\n",
              "  <tbody>\n",
              "    <tr>\n",
              "      <th>0</th>\n",
              "      <td>0</td>\n",
              "      <td>0</td>\n",
              "      <td>2016-01-01</td>\n",
              "      <td>0.0</td>\n",
              "      <td>0</td>\n",
              "      <td>Education</td>\n",
              "      <td>7432</td>\n",
              "      <td>2008.0</td>\n",
              "      <td>4</td>\n",
              "    </tr>\n",
              "    <tr>\n",
              "      <th>1</th>\n",
              "      <td>1</td>\n",
              "      <td>0</td>\n",
              "      <td>2016-01-01</td>\n",
              "      <td>0.0</td>\n",
              "      <td>0</td>\n",
              "      <td>Education</td>\n",
              "      <td>2720</td>\n",
              "      <td>2004.0</td>\n",
              "      <td>4</td>\n",
              "    </tr>\n",
              "    <tr>\n",
              "      <th>2</th>\n",
              "      <td>2</td>\n",
              "      <td>0</td>\n",
              "      <td>2016-01-01</td>\n",
              "      <td>0.0</td>\n",
              "      <td>0</td>\n",
              "      <td>Education</td>\n",
              "      <td>5376</td>\n",
              "      <td>1991.0</td>\n",
              "      <td>4</td>\n",
              "    </tr>\n",
              "    <tr>\n",
              "      <th>3</th>\n",
              "      <td>3</td>\n",
              "      <td>0</td>\n",
              "      <td>2016-01-01</td>\n",
              "      <td>0.0</td>\n",
              "      <td>0</td>\n",
              "      <td>Education</td>\n",
              "      <td>23685</td>\n",
              "      <td>2002.0</td>\n",
              "      <td>4</td>\n",
              "    </tr>\n",
              "    <tr>\n",
              "      <th>4</th>\n",
              "      <td>4</td>\n",
              "      <td>0</td>\n",
              "      <td>2016-01-01</td>\n",
              "      <td>0.0</td>\n",
              "      <td>0</td>\n",
              "      <td>Education</td>\n",
              "      <td>116607</td>\n",
              "      <td>1975.0</td>\n",
              "      <td>4</td>\n",
              "    </tr>\n",
              "  </tbody>\n",
              "</table>\n",
              "</div>"
            ],
            "text/plain": [
              "   building_id  meter  timestamp  ...  square_feet  year_built floor_count\n",
              "0            0      0 2016-01-01  ...         7432      2008.0           4\n",
              "1            1      0 2016-01-01  ...         2720      2004.0           4\n",
              "2            2      0 2016-01-01  ...         5376      1991.0           4\n",
              "3            3      0 2016-01-01  ...        23685      2002.0           4\n",
              "4            4      0 2016-01-01  ...       116607      1975.0           4\n",
              "\n",
              "[5 rows x 9 columns]"
            ]
          },
          "metadata": {
            "tags": []
          },
          "execution_count": 17
        }
      ]
    },
    {
      "cell_type": "code",
      "metadata": {
        "id": "hq8EE8xA_orR",
        "colab_type": "code",
        "colab": {}
      },
      "source": [
        "temp=train[['site_id','timestamp']]\n",
        "temp=temp.merge(weather_train,on=['site_id','timestamp'],how='left')\n",
        "del temp['site_id'],temp['timestamp']\n",
        "train=pd.concat([train,temp],axis=1)\n",
        "\n",
        "del temp,weather_train"
      ],
      "execution_count": null,
      "outputs": []
    },
    {
      "cell_type": "code",
      "metadata": {
        "id": "gInV2R09_17r",
        "colab_type": "code",
        "colab": {
          "base_uri": "https://localhost:8080/",
          "height": 301
        },
        "outputId": "9beeeaeb-4e7c-4a6b-ddff-960da4d942bf"
      },
      "source": [
        "train.head()"
      ],
      "execution_count": null,
      "outputs": [
        {
          "output_type": "execute_result",
          "data": {
            "text/html": [
              "<div>\n",
              "<style scoped>\n",
              "    .dataframe tbody tr th:only-of-type {\n",
              "        vertical-align: middle;\n",
              "    }\n",
              "\n",
              "    .dataframe tbody tr th {\n",
              "        vertical-align: top;\n",
              "    }\n",
              "\n",
              "    .dataframe thead th {\n",
              "        text-align: right;\n",
              "    }\n",
              "</style>\n",
              "<table border=\"1\" class=\"dataframe\">\n",
              "  <thead>\n",
              "    <tr style=\"text-align: right;\">\n",
              "      <th></th>\n",
              "      <th>building_id</th>\n",
              "      <th>meter</th>\n",
              "      <th>timestamp</th>\n",
              "      <th>meter_reading</th>\n",
              "      <th>site_id</th>\n",
              "      <th>primary_use</th>\n",
              "      <th>square_feet</th>\n",
              "      <th>year_built</th>\n",
              "      <th>floor_count</th>\n",
              "      <th>air_temperature</th>\n",
              "      <th>cloud_coverage</th>\n",
              "      <th>dew_temperature</th>\n",
              "      <th>precip_depth_1_hr</th>\n",
              "      <th>sea_level_pressure</th>\n",
              "      <th>wind_direction</th>\n",
              "      <th>wind_speed</th>\n",
              "      <th>Month</th>\n",
              "      <th>Day_date</th>\n",
              "      <th>year</th>\n",
              "    </tr>\n",
              "  </thead>\n",
              "  <tbody>\n",
              "    <tr>\n",
              "      <th>0</th>\n",
              "      <td>0</td>\n",
              "      <td>0</td>\n",
              "      <td>2016-01-01</td>\n",
              "      <td>0.0</td>\n",
              "      <td>0</td>\n",
              "      <td>Education</td>\n",
              "      <td>7432</td>\n",
              "      <td>2008.0</td>\n",
              "      <td>4</td>\n",
              "      <td>25.0</td>\n",
              "      <td>6.0</td>\n",
              "      <td>6.0</td>\n",
              "      <td>1.382557</td>\n",
              "      <td>1019.7</td>\n",
              "      <td>0.0</td>\n",
              "      <td>0.0</td>\n",
              "      <td>1.0</td>\n",
              "      <td>1.0</td>\n",
              "      <td>2016.0</td>\n",
              "    </tr>\n",
              "    <tr>\n",
              "      <th>1</th>\n",
              "      <td>1</td>\n",
              "      <td>0</td>\n",
              "      <td>2016-01-01</td>\n",
              "      <td>0.0</td>\n",
              "      <td>0</td>\n",
              "      <td>Education</td>\n",
              "      <td>2720</td>\n",
              "      <td>2004.0</td>\n",
              "      <td>4</td>\n",
              "      <td>25.0</td>\n",
              "      <td>6.0</td>\n",
              "      <td>6.0</td>\n",
              "      <td>1.382557</td>\n",
              "      <td>1019.7</td>\n",
              "      <td>0.0</td>\n",
              "      <td>0.0</td>\n",
              "      <td>1.0</td>\n",
              "      <td>1.0</td>\n",
              "      <td>2016.0</td>\n",
              "    </tr>\n",
              "    <tr>\n",
              "      <th>2</th>\n",
              "      <td>2</td>\n",
              "      <td>0</td>\n",
              "      <td>2016-01-01</td>\n",
              "      <td>0.0</td>\n",
              "      <td>0</td>\n",
              "      <td>Education</td>\n",
              "      <td>5376</td>\n",
              "      <td>1991.0</td>\n",
              "      <td>4</td>\n",
              "      <td>25.0</td>\n",
              "      <td>6.0</td>\n",
              "      <td>6.0</td>\n",
              "      <td>1.382557</td>\n",
              "      <td>1019.7</td>\n",
              "      <td>0.0</td>\n",
              "      <td>0.0</td>\n",
              "      <td>1.0</td>\n",
              "      <td>1.0</td>\n",
              "      <td>2016.0</td>\n",
              "    </tr>\n",
              "    <tr>\n",
              "      <th>3</th>\n",
              "      <td>3</td>\n",
              "      <td>0</td>\n",
              "      <td>2016-01-01</td>\n",
              "      <td>0.0</td>\n",
              "      <td>0</td>\n",
              "      <td>Education</td>\n",
              "      <td>23685</td>\n",
              "      <td>2002.0</td>\n",
              "      <td>4</td>\n",
              "      <td>25.0</td>\n",
              "      <td>6.0</td>\n",
              "      <td>6.0</td>\n",
              "      <td>1.382557</td>\n",
              "      <td>1019.7</td>\n",
              "      <td>0.0</td>\n",
              "      <td>0.0</td>\n",
              "      <td>1.0</td>\n",
              "      <td>1.0</td>\n",
              "      <td>2016.0</td>\n",
              "    </tr>\n",
              "    <tr>\n",
              "      <th>4</th>\n",
              "      <td>4</td>\n",
              "      <td>0</td>\n",
              "      <td>2016-01-01</td>\n",
              "      <td>0.0</td>\n",
              "      <td>0</td>\n",
              "      <td>Education</td>\n",
              "      <td>116607</td>\n",
              "      <td>1975.0</td>\n",
              "      <td>4</td>\n",
              "      <td>25.0</td>\n",
              "      <td>6.0</td>\n",
              "      <td>6.0</td>\n",
              "      <td>1.382557</td>\n",
              "      <td>1019.7</td>\n",
              "      <td>0.0</td>\n",
              "      <td>0.0</td>\n",
              "      <td>1.0</td>\n",
              "      <td>1.0</td>\n",
              "      <td>2016.0</td>\n",
              "    </tr>\n",
              "  </tbody>\n",
              "</table>\n",
              "</div>"
            ],
            "text/plain": [
              "   building_id  meter  timestamp  ...  Month  Day_date    year\n",
              "0            0      0 2016-01-01  ...    1.0       1.0  2016.0\n",
              "1            1      0 2016-01-01  ...    1.0       1.0  2016.0\n",
              "2            2      0 2016-01-01  ...    1.0       1.0  2016.0\n",
              "3            3      0 2016-01-01  ...    1.0       1.0  2016.0\n",
              "4            4      0 2016-01-01  ...    1.0       1.0  2016.0\n",
              "\n",
              "[5 rows x 19 columns]"
            ]
          },
          "metadata": {
            "tags": []
          },
          "execution_count": 19
        }
      ]
    },
    {
      "cell_type": "code",
      "metadata": {
        "id": "CSMfxBB_AqVI",
        "colab_type": "code",
        "colab": {
          "base_uri": "https://localhost:8080/",
          "height": 34
        },
        "outputId": "4fba9265-dd82-4f5f-a046-7039bb46b1a9"
      },
      "source": [
        "train.shape"
      ],
      "execution_count": null,
      "outputs": [
        {
          "output_type": "execute_result",
          "data": {
            "text/plain": [
              "(20216100, 19)"
            ]
          },
          "metadata": {
            "tags": []
          },
          "execution_count": 20
        }
      ]
    },
    {
      "cell_type": "code",
      "metadata": {
        "id": "ArjwtGgVAtWm",
        "colab_type": "code",
        "colab": {
          "base_uri": "https://localhost:8080/",
          "height": 478
        },
        "outputId": "fa39fa53-d97e-40a2-8810-5a438d99624f"
      },
      "source": [
        "train.info()"
      ],
      "execution_count": null,
      "outputs": [
        {
          "output_type": "stream",
          "text": [
            "<class 'pandas.core.frame.DataFrame'>\n",
            "RangeIndex: 20216100 entries, 0 to 20216099\n",
            "Data columns (total 19 columns):\n",
            " #   Column              Dtype         \n",
            "---  ------              -----         \n",
            " 0   building_id         int64         \n",
            " 1   meter               int64         \n",
            " 2   timestamp           datetime64[ns]\n",
            " 3   meter_reading       float64       \n",
            " 4   site_id             int64         \n",
            " 5   primary_use         category      \n",
            " 6   square_feet         int64         \n",
            " 7   year_built          float64       \n",
            " 8   floor_count         int64         \n",
            " 9   air_temperature     float64       \n",
            " 10  cloud_coverage      float64       \n",
            " 11  dew_temperature     float64       \n",
            " 12  precip_depth_1_hr   float64       \n",
            " 13  sea_level_pressure  float64       \n",
            " 14  wind_direction      float64       \n",
            " 15  wind_speed          float64       \n",
            " 16  Month               float64       \n",
            " 17  Day_date            float64       \n",
            " 18  year                float64       \n",
            "dtypes: category(1), datetime64[ns](1), float64(12), int64(5)\n",
            "memory usage: 2.7 GB\n"
          ],
          "name": "stdout"
        }
      ]
    },
    {
      "cell_type": "markdown",
      "metadata": {
        "id": "eiQ2xQ80AzNM",
        "colab_type": "text"
      },
      "source": [
        "**Creating Hour column**"
      ]
    },
    {
      "cell_type": "code",
      "metadata": {
        "id": "2Xh1wRB9A2sZ",
        "colab_type": "code",
        "colab": {}
      },
      "source": [
        "import numpy as np\n",
        "\n",
        "train['hour_datetime']=train['timestamp'].dt.hour.astype(np.int8)\n",
        "\n",
        "del train['timestamp']"
      ],
      "execution_count": null,
      "outputs": []
    },
    {
      "cell_type": "code",
      "metadata": {
        "id": "1VzQ5paZBGbL",
        "colab_type": "code",
        "colab": {
          "base_uri": "https://localhost:8080/",
          "height": 217
        },
        "outputId": "8fe8208f-280a-48b7-a871-bae217a7c6d5"
      },
      "source": [
        "train.head()"
      ],
      "execution_count": null,
      "outputs": [
        {
          "output_type": "execute_result",
          "data": {
            "text/html": [
              "<div>\n",
              "<style scoped>\n",
              "    .dataframe tbody tr th:only-of-type {\n",
              "        vertical-align: middle;\n",
              "    }\n",
              "\n",
              "    .dataframe tbody tr th {\n",
              "        vertical-align: top;\n",
              "    }\n",
              "\n",
              "    .dataframe thead th {\n",
              "        text-align: right;\n",
              "    }\n",
              "</style>\n",
              "<table border=\"1\" class=\"dataframe\">\n",
              "  <thead>\n",
              "    <tr style=\"text-align: right;\">\n",
              "      <th></th>\n",
              "      <th>building_id</th>\n",
              "      <th>meter</th>\n",
              "      <th>meter_reading</th>\n",
              "      <th>site_id</th>\n",
              "      <th>primary_use</th>\n",
              "      <th>square_feet</th>\n",
              "      <th>year_built</th>\n",
              "      <th>floor_count</th>\n",
              "      <th>air_temperature</th>\n",
              "      <th>cloud_coverage</th>\n",
              "      <th>dew_temperature</th>\n",
              "      <th>precip_depth_1_hr</th>\n",
              "      <th>sea_level_pressure</th>\n",
              "      <th>wind_direction</th>\n",
              "      <th>wind_speed</th>\n",
              "      <th>Month</th>\n",
              "      <th>Day_date</th>\n",
              "      <th>year</th>\n",
              "      <th>hour_datetime</th>\n",
              "    </tr>\n",
              "  </thead>\n",
              "  <tbody>\n",
              "    <tr>\n",
              "      <th>0</th>\n",
              "      <td>0</td>\n",
              "      <td>0</td>\n",
              "      <td>0.0</td>\n",
              "      <td>0</td>\n",
              "      <td>Education</td>\n",
              "      <td>7432</td>\n",
              "      <td>2008.0</td>\n",
              "      <td>4</td>\n",
              "      <td>25.0</td>\n",
              "      <td>6.0</td>\n",
              "      <td>6.0</td>\n",
              "      <td>1.382557</td>\n",
              "      <td>1019.7</td>\n",
              "      <td>0.0</td>\n",
              "      <td>0.0</td>\n",
              "      <td>1.0</td>\n",
              "      <td>1.0</td>\n",
              "      <td>2016.0</td>\n",
              "      <td>0</td>\n",
              "    </tr>\n",
              "    <tr>\n",
              "      <th>1</th>\n",
              "      <td>1</td>\n",
              "      <td>0</td>\n",
              "      <td>0.0</td>\n",
              "      <td>0</td>\n",
              "      <td>Education</td>\n",
              "      <td>2720</td>\n",
              "      <td>2004.0</td>\n",
              "      <td>4</td>\n",
              "      <td>25.0</td>\n",
              "      <td>6.0</td>\n",
              "      <td>6.0</td>\n",
              "      <td>1.382557</td>\n",
              "      <td>1019.7</td>\n",
              "      <td>0.0</td>\n",
              "      <td>0.0</td>\n",
              "      <td>1.0</td>\n",
              "      <td>1.0</td>\n",
              "      <td>2016.0</td>\n",
              "      <td>0</td>\n",
              "    </tr>\n",
              "    <tr>\n",
              "      <th>2</th>\n",
              "      <td>2</td>\n",
              "      <td>0</td>\n",
              "      <td>0.0</td>\n",
              "      <td>0</td>\n",
              "      <td>Education</td>\n",
              "      <td>5376</td>\n",
              "      <td>1991.0</td>\n",
              "      <td>4</td>\n",
              "      <td>25.0</td>\n",
              "      <td>6.0</td>\n",
              "      <td>6.0</td>\n",
              "      <td>1.382557</td>\n",
              "      <td>1019.7</td>\n",
              "      <td>0.0</td>\n",
              "      <td>0.0</td>\n",
              "      <td>1.0</td>\n",
              "      <td>1.0</td>\n",
              "      <td>2016.0</td>\n",
              "      <td>0</td>\n",
              "    </tr>\n",
              "    <tr>\n",
              "      <th>3</th>\n",
              "      <td>3</td>\n",
              "      <td>0</td>\n",
              "      <td>0.0</td>\n",
              "      <td>0</td>\n",
              "      <td>Education</td>\n",
              "      <td>23685</td>\n",
              "      <td>2002.0</td>\n",
              "      <td>4</td>\n",
              "      <td>25.0</td>\n",
              "      <td>6.0</td>\n",
              "      <td>6.0</td>\n",
              "      <td>1.382557</td>\n",
              "      <td>1019.7</td>\n",
              "      <td>0.0</td>\n",
              "      <td>0.0</td>\n",
              "      <td>1.0</td>\n",
              "      <td>1.0</td>\n",
              "      <td>2016.0</td>\n",
              "      <td>0</td>\n",
              "    </tr>\n",
              "    <tr>\n",
              "      <th>4</th>\n",
              "      <td>4</td>\n",
              "      <td>0</td>\n",
              "      <td>0.0</td>\n",
              "      <td>0</td>\n",
              "      <td>Education</td>\n",
              "      <td>116607</td>\n",
              "      <td>1975.0</td>\n",
              "      <td>4</td>\n",
              "      <td>25.0</td>\n",
              "      <td>6.0</td>\n",
              "      <td>6.0</td>\n",
              "      <td>1.382557</td>\n",
              "      <td>1019.7</td>\n",
              "      <td>0.0</td>\n",
              "      <td>0.0</td>\n",
              "      <td>1.0</td>\n",
              "      <td>1.0</td>\n",
              "      <td>2016.0</td>\n",
              "      <td>0</td>\n",
              "    </tr>\n",
              "  </tbody>\n",
              "</table>\n",
              "</div>"
            ],
            "text/plain": [
              "   building_id  meter  meter_reading  ...  Day_date    year  hour_datetime\n",
              "0            0      0            0.0  ...       1.0  2016.0              0\n",
              "1            1      0            0.0  ...       1.0  2016.0              0\n",
              "2            2      0            0.0  ...       1.0  2016.0              0\n",
              "3            3      0            0.0  ...       1.0  2016.0              0\n",
              "4            4      0            0.0  ...       1.0  2016.0              0\n",
              "\n",
              "[5 rows x 19 columns]"
            ]
          },
          "metadata": {
            "tags": []
          },
          "execution_count": 23
        }
      ]
    },
    {
      "cell_type": "markdown",
      "metadata": {
        "id": "YwAqe9I-BNvY",
        "colab_type": "text"
      },
      "source": [
        "**Looking for missing values**"
      ]
    },
    {
      "cell_type": "code",
      "metadata": {
        "id": "mtVJR3FYBQqH",
        "colab_type": "code",
        "colab": {
          "base_uri": "https://localhost:8080/",
          "height": 617
        },
        "outputId": "fd5c655c-92c0-4026-bd68-679d801d526a"
      },
      "source": [
        "total=train.isnull().sum().sort_values(ascending=False)\n",
        "percent=(train.isnull().sum()/train.isnull().count()).sort_values(ascending=False)\n",
        "missing_values=pd.concat([total,percent],axis=1,keys=['total','percent'])\n",
        "missing_values.head(20)"
      ],
      "execution_count": null,
      "outputs": [
        {
          "output_type": "execute_result",
          "data": {
            "text/html": [
              "<div>\n",
              "<style scoped>\n",
              "    .dataframe tbody tr th:only-of-type {\n",
              "        vertical-align: middle;\n",
              "    }\n",
              "\n",
              "    .dataframe tbody tr th {\n",
              "        vertical-align: top;\n",
              "    }\n",
              "\n",
              "    .dataframe thead th {\n",
              "        text-align: right;\n",
              "    }\n",
              "</style>\n",
              "<table border=\"1\" class=\"dataframe\">\n",
              "  <thead>\n",
              "    <tr style=\"text-align: right;\">\n",
              "      <th></th>\n",
              "      <th>total</th>\n",
              "      <th>percent</th>\n",
              "    </tr>\n",
              "  </thead>\n",
              "  <tbody>\n",
              "    <tr>\n",
              "      <th>cloud_coverage</th>\n",
              "      <td>82890</td>\n",
              "      <td>0.0041</td>\n",
              "    </tr>\n",
              "    <tr>\n",
              "      <th>Day_date</th>\n",
              "      <td>82890</td>\n",
              "      <td>0.0041</td>\n",
              "    </tr>\n",
              "    <tr>\n",
              "      <th>Month</th>\n",
              "      <td>82890</td>\n",
              "      <td>0.0041</td>\n",
              "    </tr>\n",
              "    <tr>\n",
              "      <th>wind_speed</th>\n",
              "      <td>82890</td>\n",
              "      <td>0.0041</td>\n",
              "    </tr>\n",
              "    <tr>\n",
              "      <th>wind_direction</th>\n",
              "      <td>82890</td>\n",
              "      <td>0.0041</td>\n",
              "    </tr>\n",
              "    <tr>\n",
              "      <th>sea_level_pressure</th>\n",
              "      <td>82890</td>\n",
              "      <td>0.0041</td>\n",
              "    </tr>\n",
              "    <tr>\n",
              "      <th>precip_depth_1_hr</th>\n",
              "      <td>82890</td>\n",
              "      <td>0.0041</td>\n",
              "    </tr>\n",
              "    <tr>\n",
              "      <th>dew_temperature</th>\n",
              "      <td>82890</td>\n",
              "      <td>0.0041</td>\n",
              "    </tr>\n",
              "    <tr>\n",
              "      <th>year</th>\n",
              "      <td>82890</td>\n",
              "      <td>0.0041</td>\n",
              "    </tr>\n",
              "    <tr>\n",
              "      <th>air_temperature</th>\n",
              "      <td>82890</td>\n",
              "      <td>0.0041</td>\n",
              "    </tr>\n",
              "    <tr>\n",
              "      <th>primary_use</th>\n",
              "      <td>0</td>\n",
              "      <td>0.0000</td>\n",
              "    </tr>\n",
              "    <tr>\n",
              "      <th>meter</th>\n",
              "      <td>0</td>\n",
              "      <td>0.0000</td>\n",
              "    </tr>\n",
              "    <tr>\n",
              "      <th>meter_reading</th>\n",
              "      <td>0</td>\n",
              "      <td>0.0000</td>\n",
              "    </tr>\n",
              "    <tr>\n",
              "      <th>site_id</th>\n",
              "      <td>0</td>\n",
              "      <td>0.0000</td>\n",
              "    </tr>\n",
              "    <tr>\n",
              "      <th>hour_datetime</th>\n",
              "      <td>0</td>\n",
              "      <td>0.0000</td>\n",
              "    </tr>\n",
              "    <tr>\n",
              "      <th>square_feet</th>\n",
              "      <td>0</td>\n",
              "      <td>0.0000</td>\n",
              "    </tr>\n",
              "    <tr>\n",
              "      <th>year_built</th>\n",
              "      <td>0</td>\n",
              "      <td>0.0000</td>\n",
              "    </tr>\n",
              "    <tr>\n",
              "      <th>floor_count</th>\n",
              "      <td>0</td>\n",
              "      <td>0.0000</td>\n",
              "    </tr>\n",
              "    <tr>\n",
              "      <th>building_id</th>\n",
              "      <td>0</td>\n",
              "      <td>0.0000</td>\n",
              "    </tr>\n",
              "  </tbody>\n",
              "</table>\n",
              "</div>"
            ],
            "text/plain": [
              "                    total  percent\n",
              "cloud_coverage      82890   0.0041\n",
              "Day_date            82890   0.0041\n",
              "Month               82890   0.0041\n",
              "wind_speed          82890   0.0041\n",
              "wind_direction      82890   0.0041\n",
              "sea_level_pressure  82890   0.0041\n",
              "precip_depth_1_hr   82890   0.0041\n",
              "dew_temperature     82890   0.0041\n",
              "year                82890   0.0041\n",
              "air_temperature     82890   0.0041\n",
              "primary_use             0   0.0000\n",
              "meter                   0   0.0000\n",
              "meter_reading           0   0.0000\n",
              "site_id                 0   0.0000\n",
              "hour_datetime           0   0.0000\n",
              "square_feet             0   0.0000\n",
              "year_built              0   0.0000\n",
              "floor_count             0   0.0000\n",
              "building_id             0   0.0000"
            ]
          },
          "metadata": {
            "tags": []
          },
          "execution_count": 24
        }
      ]
    },
    {
      "cell_type": "code",
      "metadata": {
        "id": "6ef05tUUB4o5",
        "colab_type": "code",
        "colab": {}
      },
      "source": [
        "train=train.dropna()"
      ],
      "execution_count": null,
      "outputs": []
    },
    {
      "cell_type": "code",
      "metadata": {
        "id": "Wjo2YPcZB_O4",
        "colab_type": "code",
        "colab": {
          "base_uri": "https://localhost:8080/",
          "height": 307
        },
        "outputId": "c3aec0d2-0f98-45c7-a213-d54594ce771e"
      },
      "source": [
        "train.describe()"
      ],
      "execution_count": null,
      "outputs": [
        {
          "output_type": "execute_result",
          "data": {
            "text/html": [
              "<div>\n",
              "<style scoped>\n",
              "    .dataframe tbody tr th:only-of-type {\n",
              "        vertical-align: middle;\n",
              "    }\n",
              "\n",
              "    .dataframe tbody tr th {\n",
              "        vertical-align: top;\n",
              "    }\n",
              "\n",
              "    .dataframe thead th {\n",
              "        text-align: right;\n",
              "    }\n",
              "</style>\n",
              "<table border=\"1\" class=\"dataframe\">\n",
              "  <thead>\n",
              "    <tr style=\"text-align: right;\">\n",
              "      <th></th>\n",
              "      <th>building_id</th>\n",
              "      <th>meter</th>\n",
              "      <th>meter_reading</th>\n",
              "      <th>site_id</th>\n",
              "      <th>square_feet</th>\n",
              "      <th>year_built</th>\n",
              "      <th>floor_count</th>\n",
              "      <th>air_temperature</th>\n",
              "      <th>cloud_coverage</th>\n",
              "      <th>dew_temperature</th>\n",
              "      <th>precip_depth_1_hr</th>\n",
              "      <th>sea_level_pressure</th>\n",
              "      <th>wind_direction</th>\n",
              "      <th>wind_speed</th>\n",
              "      <th>Month</th>\n",
              "      <th>Day_date</th>\n",
              "      <th>year</th>\n",
              "      <th>hour_datetime</th>\n",
              "    </tr>\n",
              "  </thead>\n",
              "  <tbody>\n",
              "    <tr>\n",
              "      <th>count</th>\n",
              "      <td>2.013321e+07</td>\n",
              "      <td>2.013321e+07</td>\n",
              "      <td>2.013321e+07</td>\n",
              "      <td>2.013321e+07</td>\n",
              "      <td>2.013321e+07</td>\n",
              "      <td>2.013321e+07</td>\n",
              "      <td>2.013321e+07</td>\n",
              "      <td>2.013321e+07</td>\n",
              "      <td>2.013321e+07</td>\n",
              "      <td>2.013321e+07</td>\n",
              "      <td>2.013321e+07</td>\n",
              "      <td>2.013321e+07</td>\n",
              "      <td>2.013321e+07</td>\n",
              "      <td>2.013321e+07</td>\n",
              "      <td>2.013321e+07</td>\n",
              "      <td>2.013321e+07</td>\n",
              "      <td>20133210.0</td>\n",
              "      <td>2.013321e+07</td>\n",
              "    </tr>\n",
              "    <tr>\n",
              "      <th>mean</th>\n",
              "      <td>7.974179e+02</td>\n",
              "      <td>6.617699e-01</td>\n",
              "      <td>2.124405e+03</td>\n",
              "      <td>7.970224e+00</td>\n",
              "      <td>1.077780e+05</td>\n",
              "      <td>1.969521e+03</td>\n",
              "      <td>4.030442e+00</td>\n",
              "      <td>1.593926e+01</td>\n",
              "      <td>1.787219e+00</td>\n",
              "      <td>1.787219e+00</td>\n",
              "      <td>1.144656e+00</td>\n",
              "      <td>9.767713e+02</td>\n",
              "      <td>1.708236e+02</td>\n",
              "      <td>3.377249e+00</td>\n",
              "      <td>6.566733e+00</td>\n",
              "      <td>1.578433e+01</td>\n",
              "      <td>2016.0</td>\n",
              "      <td>1.150934e+01</td>\n",
              "    </tr>\n",
              "    <tr>\n",
              "      <th>std</th>\n",
              "      <td>4.264339e+02</td>\n",
              "      <td>9.310602e-01</td>\n",
              "      <td>1.535506e+05</td>\n",
              "      <td>5.092977e+00</td>\n",
              "      <td>1.171483e+05</td>\n",
              "      <td>2.014374e+01</td>\n",
              "      <td>1.665084e+00</td>\n",
              "      <td>1.098146e+01</td>\n",
              "      <td>2.003313e+00</td>\n",
              "      <td>2.003313e+00</td>\n",
              "      <td>6.979683e+00</td>\n",
              "      <td>1.961202e+02</td>\n",
              "      <td>1.107229e+02</td>\n",
              "      <td>2.261500e+00</td>\n",
              "      <td>3.441398e+00</td>\n",
              "      <td>8.802123e+00</td>\n",
              "      <td>0.0</td>\n",
              "      <td>6.923804e+00</td>\n",
              "    </tr>\n",
              "    <tr>\n",
              "      <th>min</th>\n",
              "      <td>0.000000e+00</td>\n",
              "      <td>0.000000e+00</td>\n",
              "      <td>0.000000e+00</td>\n",
              "      <td>0.000000e+00</td>\n",
              "      <td>2.830000e+02</td>\n",
              "      <td>1.900000e+03</td>\n",
              "      <td>1.000000e+00</td>\n",
              "      <td>-2.890000e+01</td>\n",
              "      <td>0.000000e+00</td>\n",
              "      <td>0.000000e+00</td>\n",
              "      <td>-1.000000e+00</td>\n",
              "      <td>0.000000e+00</td>\n",
              "      <td>0.000000e+00</td>\n",
              "      <td>0.000000e+00</td>\n",
              "      <td>1.000000e+00</td>\n",
              "      <td>1.000000e+00</td>\n",
              "      <td>2016.0</td>\n",
              "      <td>0.000000e+00</td>\n",
              "    </tr>\n",
              "    <tr>\n",
              "      <th>25%</th>\n",
              "      <td>3.910000e+02</td>\n",
              "      <td>0.000000e+00</td>\n",
              "      <td>1.830000e+01</td>\n",
              "      <td>3.000000e+00</td>\n",
              "      <td>3.252700e+04</td>\n",
              "      <td>1.964000e+03</td>\n",
              "      <td>4.000000e+00</td>\n",
              "      <td>8.300000e+00</td>\n",
              "      <td>0.000000e+00</td>\n",
              "      <td>0.000000e+00</td>\n",
              "      <td>0.000000e+00</td>\n",
              "      <td>1.011100e+03</td>\n",
              "      <td>8.000000e+01</td>\n",
              "      <td>2.100000e+00</td>\n",
              "      <td>4.000000e+00</td>\n",
              "      <td>8.000000e+00</td>\n",
              "      <td>2016.0</td>\n",
              "      <td>6.000000e+00</td>\n",
              "    </tr>\n",
              "    <tr>\n",
              "      <th>50%</th>\n",
              "      <td>8.940000e+02</td>\n",
              "      <td>0.000000e+00</td>\n",
              "      <td>7.875000e+01</td>\n",
              "      <td>9.000000e+00</td>\n",
              "      <td>7.270900e+04</td>\n",
              "      <td>1.975000e+03</td>\n",
              "      <td>4.000000e+00</td>\n",
              "      <td>1.670000e+01</td>\n",
              "      <td>1.109988e+00</td>\n",
              "      <td>1.109988e+00</td>\n",
              "      <td>0.000000e+00</td>\n",
              "      <td>1.015895e+03</td>\n",
              "      <td>1.700000e+02</td>\n",
              "      <td>3.100000e+00</td>\n",
              "      <td>7.000000e+00</td>\n",
              "      <td>1.600000e+01</td>\n",
              "      <td>2016.0</td>\n",
              "      <td>1.200000e+01</td>\n",
              "    </tr>\n",
              "    <tr>\n",
              "      <th>75%</th>\n",
              "      <td>1.176000e+03</td>\n",
              "      <td>1.000000e+00</td>\n",
              "      <td>2.679400e+02</td>\n",
              "      <td>1.300000e+01</td>\n",
              "      <td>1.391130e+05</td>\n",
              "      <td>1.975054e+03</td>\n",
              "      <td>4.000000e+00</td>\n",
              "      <td>2.390000e+01</td>\n",
              "      <td>2.873133e+00</td>\n",
              "      <td>2.873133e+00</td>\n",
              "      <td>0.000000e+00</td>\n",
              "      <td>1.020200e+03</td>\n",
              "      <td>2.700000e+02</td>\n",
              "      <td>4.600000e+00</td>\n",
              "      <td>1.000000e+01</td>\n",
              "      <td>2.300000e+01</td>\n",
              "      <td>2016.0</td>\n",
              "      <td>1.800000e+01</td>\n",
              "    </tr>\n",
              "    <tr>\n",
              "      <th>max</th>\n",
              "      <td>1.448000e+03</td>\n",
              "      <td>3.000000e+00</td>\n",
              "      <td>2.190470e+07</td>\n",
              "      <td>1.500000e+01</td>\n",
              "      <td>8.750000e+05</td>\n",
              "      <td>2.017000e+03</td>\n",
              "      <td>2.600000e+01</td>\n",
              "      <td>4.720000e+01</td>\n",
              "      <td>9.000000e+00</td>\n",
              "      <td>9.000000e+00</td>\n",
              "      <td>3.430000e+02</td>\n",
              "      <td>1.045500e+03</td>\n",
              "      <td>3.600000e+02</td>\n",
              "      <td>1.900000e+01</td>\n",
              "      <td>1.200000e+01</td>\n",
              "      <td>3.100000e+01</td>\n",
              "      <td>2016.0</td>\n",
              "      <td>2.300000e+01</td>\n",
              "    </tr>\n",
              "  </tbody>\n",
              "</table>\n",
              "</div>"
            ],
            "text/plain": [
              "        building_id         meter  ...        year  hour_datetime\n",
              "count  2.013321e+07  2.013321e+07  ...  20133210.0   2.013321e+07\n",
              "mean   7.974179e+02  6.617699e-01  ...      2016.0   1.150934e+01\n",
              "std    4.264339e+02  9.310602e-01  ...         0.0   6.923804e+00\n",
              "min    0.000000e+00  0.000000e+00  ...      2016.0   0.000000e+00\n",
              "25%    3.910000e+02  0.000000e+00  ...      2016.0   6.000000e+00\n",
              "50%    8.940000e+02  0.000000e+00  ...      2016.0   1.200000e+01\n",
              "75%    1.176000e+03  1.000000e+00  ...      2016.0   1.800000e+01\n",
              "max    1.448000e+03  3.000000e+00  ...      2016.0   2.300000e+01\n",
              "\n",
              "[8 rows x 18 columns]"
            ]
          },
          "metadata": {
            "tags": []
          },
          "execution_count": 26
        }
      ]
    },
    {
      "cell_type": "code",
      "metadata": {
        "id": "v254ma5oCDow",
        "colab_type": "code",
        "colab": {
          "base_uri": "https://localhost:8080/",
          "height": 617
        },
        "outputId": "9f508641-5f87-4977-a2a6-32ee8b6b266d"
      },
      "source": [
        "total=train.isnull().sum().sort_values(ascending=False)\n",
        "percent=(train.isnull().sum()/train.isnull().count()).sort_values(ascending=False)\n",
        "missing_values=pd.concat([total,percent],axis=1,keys=['total','percent'])\n",
        "missing_values.head(20)"
      ],
      "execution_count": null,
      "outputs": [
        {
          "output_type": "execute_result",
          "data": {
            "text/html": [
              "<div>\n",
              "<style scoped>\n",
              "    .dataframe tbody tr th:only-of-type {\n",
              "        vertical-align: middle;\n",
              "    }\n",
              "\n",
              "    .dataframe tbody tr th {\n",
              "        vertical-align: top;\n",
              "    }\n",
              "\n",
              "    .dataframe thead th {\n",
              "        text-align: right;\n",
              "    }\n",
              "</style>\n",
              "<table border=\"1\" class=\"dataframe\">\n",
              "  <thead>\n",
              "    <tr style=\"text-align: right;\">\n",
              "      <th></th>\n",
              "      <th>total</th>\n",
              "      <th>percent</th>\n",
              "    </tr>\n",
              "  </thead>\n",
              "  <tbody>\n",
              "    <tr>\n",
              "      <th>hour_datetime</th>\n",
              "      <td>0</td>\n",
              "      <td>0.0</td>\n",
              "    </tr>\n",
              "    <tr>\n",
              "      <th>air_temperature</th>\n",
              "      <td>0</td>\n",
              "      <td>0.0</td>\n",
              "    </tr>\n",
              "    <tr>\n",
              "      <th>meter</th>\n",
              "      <td>0</td>\n",
              "      <td>0.0</td>\n",
              "    </tr>\n",
              "    <tr>\n",
              "      <th>meter_reading</th>\n",
              "      <td>0</td>\n",
              "      <td>0.0</td>\n",
              "    </tr>\n",
              "    <tr>\n",
              "      <th>site_id</th>\n",
              "      <td>0</td>\n",
              "      <td>0.0</td>\n",
              "    </tr>\n",
              "    <tr>\n",
              "      <th>primary_use</th>\n",
              "      <td>0</td>\n",
              "      <td>0.0</td>\n",
              "    </tr>\n",
              "    <tr>\n",
              "      <th>square_feet</th>\n",
              "      <td>0</td>\n",
              "      <td>0.0</td>\n",
              "    </tr>\n",
              "    <tr>\n",
              "      <th>year_built</th>\n",
              "      <td>0</td>\n",
              "      <td>0.0</td>\n",
              "    </tr>\n",
              "    <tr>\n",
              "      <th>floor_count</th>\n",
              "      <td>0</td>\n",
              "      <td>0.0</td>\n",
              "    </tr>\n",
              "    <tr>\n",
              "      <th>cloud_coverage</th>\n",
              "      <td>0</td>\n",
              "      <td>0.0</td>\n",
              "    </tr>\n",
              "    <tr>\n",
              "      <th>year</th>\n",
              "      <td>0</td>\n",
              "      <td>0.0</td>\n",
              "    </tr>\n",
              "    <tr>\n",
              "      <th>dew_temperature</th>\n",
              "      <td>0</td>\n",
              "      <td>0.0</td>\n",
              "    </tr>\n",
              "    <tr>\n",
              "      <th>precip_depth_1_hr</th>\n",
              "      <td>0</td>\n",
              "      <td>0.0</td>\n",
              "    </tr>\n",
              "    <tr>\n",
              "      <th>sea_level_pressure</th>\n",
              "      <td>0</td>\n",
              "      <td>0.0</td>\n",
              "    </tr>\n",
              "    <tr>\n",
              "      <th>wind_direction</th>\n",
              "      <td>0</td>\n",
              "      <td>0.0</td>\n",
              "    </tr>\n",
              "    <tr>\n",
              "      <th>wind_speed</th>\n",
              "      <td>0</td>\n",
              "      <td>0.0</td>\n",
              "    </tr>\n",
              "    <tr>\n",
              "      <th>Month</th>\n",
              "      <td>0</td>\n",
              "      <td>0.0</td>\n",
              "    </tr>\n",
              "    <tr>\n",
              "      <th>Day_date</th>\n",
              "      <td>0</td>\n",
              "      <td>0.0</td>\n",
              "    </tr>\n",
              "    <tr>\n",
              "      <th>building_id</th>\n",
              "      <td>0</td>\n",
              "      <td>0.0</td>\n",
              "    </tr>\n",
              "  </tbody>\n",
              "</table>\n",
              "</div>"
            ],
            "text/plain": [
              "                    total  percent\n",
              "hour_datetime           0      0.0\n",
              "air_temperature         0      0.0\n",
              "meter                   0      0.0\n",
              "meter_reading           0      0.0\n",
              "site_id                 0      0.0\n",
              "primary_use             0      0.0\n",
              "square_feet             0      0.0\n",
              "year_built              0      0.0\n",
              "floor_count             0      0.0\n",
              "cloud_coverage          0      0.0\n",
              "year                    0      0.0\n",
              "dew_temperature         0      0.0\n",
              "precip_depth_1_hr       0      0.0\n",
              "sea_level_pressure      0      0.0\n",
              "wind_direction          0      0.0\n",
              "wind_speed              0      0.0\n",
              "Month                   0      0.0\n",
              "Day_date                0      0.0\n",
              "building_id             0      0.0"
            ]
          },
          "metadata": {
            "tags": []
          },
          "execution_count": 27
        }
      ]
    },
    {
      "cell_type": "markdown",
      "metadata": {
        "id": "g0EDnKT1CJoa",
        "colab_type": "text"
      },
      "source": [
        "**Before applying pipeline transformation, steam dataset has been separated**"
      ]
    },
    {
      "cell_type": "code",
      "metadata": {
        "id": "jPshKlF3CNMC",
        "colab_type": "code",
        "colab": {}
      },
      "source": [
        "dataset_steam=train.loc[(train['meter']==2)]"
      ],
      "execution_count": null,
      "outputs": []
    },
    {
      "cell_type": "code",
      "metadata": {
        "id": "Lad2LScwCUSa",
        "colab_type": "code",
        "colab": {
          "base_uri": "https://localhost:8080/",
          "height": 34
        },
        "outputId": "fae74378-b4da-4bde-e4fd-68452a36baa7"
      },
      "source": [
        "dataset_steam.shape"
      ],
      "execution_count": null,
      "outputs": [
        {
          "output_type": "execute_result",
          "data": {
            "text/plain": [
              "(2688755, 19)"
            ]
          },
          "metadata": {
            "tags": []
          },
          "execution_count": 29
        }
      ]
    },
    {
      "cell_type": "code",
      "metadata": {
        "id": "lTxaEIVcCeam",
        "colab_type": "code",
        "colab": {}
      },
      "source": [
        "drop_cols=['meter_reading']"
      ],
      "execution_count": null,
      "outputs": []
    },
    {
      "cell_type": "code",
      "metadata": {
        "id": "yPIq20zhCixE",
        "colab_type": "code",
        "colab": {}
      },
      "source": [
        "training_steam=dataset_steam.drop(drop_cols,axis=1)"
      ],
      "execution_count": null,
      "outputs": []
    },
    {
      "cell_type": "code",
      "metadata": {
        "id": "4btRSeXfCud9",
        "colab_type": "code",
        "colab": {}
      },
      "source": [
        "target_steam=dataset_steam['meter_reading']"
      ],
      "execution_count": null,
      "outputs": []
    },
    {
      "cell_type": "code",
      "metadata": {
        "id": "47kdY3vSIpJ3",
        "colab_type": "code",
        "colab": {
          "base_uri": "https://localhost:8080/",
          "height": 34
        },
        "outputId": "5e4edc31-fb26-42e6-cee5-07040a857c2b"
      },
      "source": [
        "training_steam.shape"
      ],
      "execution_count": null,
      "outputs": [
        {
          "output_type": "execute_result",
          "data": {
            "text/plain": [
              "(2688755, 18)"
            ]
          },
          "metadata": {
            "tags": []
          },
          "execution_count": 33
        }
      ]
    },
    {
      "cell_type": "code",
      "metadata": {
        "id": "MgVwK7SkC7R2",
        "colab_type": "code",
        "colab": {
          "base_uri": "https://localhost:8080/",
          "height": 34
        },
        "outputId": "f7a48ee6-1df5-4a9b-bfe3-65d774642c48"
      },
      "source": [
        "target_steam.shape"
      ],
      "execution_count": null,
      "outputs": [
        {
          "output_type": "execute_result",
          "data": {
            "text/plain": [
              "(2688755,)"
            ]
          },
          "metadata": {
            "tags": []
          },
          "execution_count": 34
        }
      ]
    },
    {
      "cell_type": "markdown",
      "metadata": {
        "id": "7NPMtJBNDKTc",
        "colab_type": "text"
      },
      "source": [
        "**Apply pipeline transformation to training_chilled_water**"
      ]
    },
    {
      "cell_type": "code",
      "metadata": {
        "id": "acWwWD6eDJo6",
        "colab_type": "code",
        "colab": {}
      },
      "source": [
        "num_cols=['square_feet','floor_count','air_temperature',\n",
        "                 'cloud_coverage','dew_temperature','precip_depth_1_hr',\n",
        "                 'sea_level_pressure','wind_direction','wind_speed']\n",
        "cat_cols=['primary_use']"
      ],
      "execution_count": null,
      "outputs": []
    },
    {
      "cell_type": "code",
      "metadata": {
        "id": "Y1FoKy-0DPEC",
        "colab_type": "code",
        "colab": {}
      },
      "source": [
        "from sklearn.pipeline import Pipeline\n",
        "from sklearn.preprocessing import StandardScaler\n",
        "from sklearn.compose import ColumnTransformer\n",
        "from sklearn.preprocessing import OneHotEncoder\n",
        "\n",
        "num_attribs=list(num_cols)\n",
        "cat_attribs=['primary_use']\n",
        "\n",
        "num_pipeline=Pipeline([\n",
        "    ('std_scaler',StandardScaler())\n",
        "])\n",
        "\n",
        "full_pipeline=ColumnTransformer([\n",
        "    ('num',num_pipeline,num_attribs),\n",
        "    ('cat',OneHotEncoder(),cat_attribs)\n",
        "])\n",
        "\n",
        "training_prepared=full_pipeline.fit_transform(training_steam)\n",
        "#('num',num_pipeline,num_attribs),"
      ],
      "execution_count": null,
      "outputs": []
    },
    {
      "cell_type": "markdown",
      "metadata": {
        "id": "QSS5tGFqJ0Wb",
        "colab_type": "text"
      },
      "source": [
        "2688755*0.2 = 537751‬///////2688755-537751‬ = 2151004"
      ]
    },
    {
      "cell_type": "code",
      "metadata": {
        "id": "ipL-jyIvDRFH",
        "colab_type": "code",
        "colab": {}
      },
      "source": [
        "x_train=training_prepared[:2151004]\n",
        "x_val=training_prepared[2151004:]\n",
        "y_train=target_steam[:2151004]\n",
        "y_val=target_steam[2151004:]"
      ],
      "execution_count": null,
      "outputs": []
    },
    {
      "cell_type": "code",
      "metadata": {
        "id": "DewL79zVDVcP",
        "colab_type": "code",
        "colab": {
          "base_uri": "https://localhost:8080/",
          "height": 87
        },
        "outputId": "c1d73002-3441-4ab5-c753-89b3cd672275"
      },
      "source": [
        "print('shape of x_train:',x_train.shape)\n",
        "print('shape of x_val:',x_val.shape)\n",
        "print('shape of y_train:',y_train.shape)\n",
        "print('shape of y_val:',y_val.shape)"
      ],
      "execution_count": null,
      "outputs": [
        {
          "output_type": "stream",
          "text": [
            "shape of x_train: (2151004, 23)\n",
            "shape of x_val: (537751, 23)\n",
            "shape of y_train: (2151004,)\n",
            "shape of y_val: (537751,)\n"
          ],
          "name": "stdout"
        }
      ]
    },
    {
      "cell_type": "markdown",
      "metadata": {
        "id": "eZmQBKh3DfSU",
        "colab_type": "text"
      },
      "source": [
        "**Working with test set**"
      ]
    },
    {
      "cell_type": "code",
      "metadata": {
        "id": "sat097GSDXGJ",
        "colab_type": "code",
        "colab": {
          "base_uri": "https://localhost:8080/",
          "height": 197
        },
        "outputId": "60f20688-1bb0-49e5-d46b-18dd93cb5196"
      },
      "source": [
        "test.head()"
      ],
      "execution_count": null,
      "outputs": [
        {
          "output_type": "execute_result",
          "data": {
            "text/html": [
              "<div>\n",
              "<style scoped>\n",
              "    .dataframe tbody tr th:only-of-type {\n",
              "        vertical-align: middle;\n",
              "    }\n",
              "\n",
              "    .dataframe tbody tr th {\n",
              "        vertical-align: top;\n",
              "    }\n",
              "\n",
              "    .dataframe thead th {\n",
              "        text-align: right;\n",
              "    }\n",
              "</style>\n",
              "<table border=\"1\" class=\"dataframe\">\n",
              "  <thead>\n",
              "    <tr style=\"text-align: right;\">\n",
              "      <th></th>\n",
              "      <th>row_id</th>\n",
              "      <th>building_id</th>\n",
              "      <th>meter</th>\n",
              "      <th>timestamp</th>\n",
              "    </tr>\n",
              "  </thead>\n",
              "  <tbody>\n",
              "    <tr>\n",
              "      <th>0</th>\n",
              "      <td>0</td>\n",
              "      <td>0</td>\n",
              "      <td>0</td>\n",
              "      <td>2017-01-01</td>\n",
              "    </tr>\n",
              "    <tr>\n",
              "      <th>1</th>\n",
              "      <td>1</td>\n",
              "      <td>1</td>\n",
              "      <td>0</td>\n",
              "      <td>2017-01-01</td>\n",
              "    </tr>\n",
              "    <tr>\n",
              "      <th>2</th>\n",
              "      <td>2</td>\n",
              "      <td>2</td>\n",
              "      <td>0</td>\n",
              "      <td>2017-01-01</td>\n",
              "    </tr>\n",
              "    <tr>\n",
              "      <th>3</th>\n",
              "      <td>3</td>\n",
              "      <td>3</td>\n",
              "      <td>0</td>\n",
              "      <td>2017-01-01</td>\n",
              "    </tr>\n",
              "    <tr>\n",
              "      <th>4</th>\n",
              "      <td>4</td>\n",
              "      <td>4</td>\n",
              "      <td>0</td>\n",
              "      <td>2017-01-01</td>\n",
              "    </tr>\n",
              "  </tbody>\n",
              "</table>\n",
              "</div>"
            ],
            "text/plain": [
              "   row_id  building_id  meter  timestamp\n",
              "0       0            0      0 2017-01-01\n",
              "1       1            1      0 2017-01-01\n",
              "2       2            2      0 2017-01-01\n",
              "3       3            3      0 2017-01-01\n",
              "4       4            4      0 2017-01-01"
            ]
          },
          "metadata": {
            "tags": []
          },
          "execution_count": 39
        }
      ]
    },
    {
      "cell_type": "code",
      "metadata": {
        "id": "a8s3p5yCDnXs",
        "colab_type": "code",
        "colab": {
          "base_uri": "https://localhost:8080/",
          "height": 34
        },
        "outputId": "9e14fe67-aad0-4210-f50f-f3c0d00858d2"
      },
      "source": [
        "test.shape"
      ],
      "execution_count": null,
      "outputs": [
        {
          "output_type": "execute_result",
          "data": {
            "text/plain": [
              "(41697600, 4)"
            ]
          },
          "metadata": {
            "tags": []
          },
          "execution_count": 40
        }
      ]
    },
    {
      "cell_type": "code",
      "metadata": {
        "id": "s75CqHj5Dq0F",
        "colab_type": "code",
        "colab": {}
      },
      "source": [
        "import pandas as pd\n",
        "\n",
        "temp=test[['building_id']]\n",
        "temp=temp.merge(building_met,on='building_id',how='left')\n",
        "del temp['building_id']\n",
        "test=pd.concat([test,temp],axis=1)"
      ],
      "execution_count": null,
      "outputs": []
    },
    {
      "cell_type": "code",
      "metadata": {
        "id": "Z4sMveIxD8vJ",
        "colab_type": "code",
        "colab": {
          "base_uri": "https://localhost:8080/",
          "height": 197
        },
        "outputId": "6176b25d-4ab2-4510-ea21-7e61e5970bc1"
      },
      "source": [
        "test.head()"
      ],
      "execution_count": null,
      "outputs": [
        {
          "output_type": "execute_result",
          "data": {
            "text/html": [
              "<div>\n",
              "<style scoped>\n",
              "    .dataframe tbody tr th:only-of-type {\n",
              "        vertical-align: middle;\n",
              "    }\n",
              "\n",
              "    .dataframe tbody tr th {\n",
              "        vertical-align: top;\n",
              "    }\n",
              "\n",
              "    .dataframe thead th {\n",
              "        text-align: right;\n",
              "    }\n",
              "</style>\n",
              "<table border=\"1\" class=\"dataframe\">\n",
              "  <thead>\n",
              "    <tr style=\"text-align: right;\">\n",
              "      <th></th>\n",
              "      <th>row_id</th>\n",
              "      <th>building_id</th>\n",
              "      <th>meter</th>\n",
              "      <th>timestamp</th>\n",
              "      <th>site_id</th>\n",
              "      <th>primary_use</th>\n",
              "      <th>square_feet</th>\n",
              "      <th>year_built</th>\n",
              "      <th>floor_count</th>\n",
              "    </tr>\n",
              "  </thead>\n",
              "  <tbody>\n",
              "    <tr>\n",
              "      <th>0</th>\n",
              "      <td>0</td>\n",
              "      <td>0</td>\n",
              "      <td>0</td>\n",
              "      <td>2017-01-01</td>\n",
              "      <td>0</td>\n",
              "      <td>Education</td>\n",
              "      <td>7432</td>\n",
              "      <td>2008.0</td>\n",
              "      <td>4</td>\n",
              "    </tr>\n",
              "    <tr>\n",
              "      <th>1</th>\n",
              "      <td>1</td>\n",
              "      <td>1</td>\n",
              "      <td>0</td>\n",
              "      <td>2017-01-01</td>\n",
              "      <td>0</td>\n",
              "      <td>Education</td>\n",
              "      <td>2720</td>\n",
              "      <td>2004.0</td>\n",
              "      <td>4</td>\n",
              "    </tr>\n",
              "    <tr>\n",
              "      <th>2</th>\n",
              "      <td>2</td>\n",
              "      <td>2</td>\n",
              "      <td>0</td>\n",
              "      <td>2017-01-01</td>\n",
              "      <td>0</td>\n",
              "      <td>Education</td>\n",
              "      <td>5376</td>\n",
              "      <td>1991.0</td>\n",
              "      <td>4</td>\n",
              "    </tr>\n",
              "    <tr>\n",
              "      <th>3</th>\n",
              "      <td>3</td>\n",
              "      <td>3</td>\n",
              "      <td>0</td>\n",
              "      <td>2017-01-01</td>\n",
              "      <td>0</td>\n",
              "      <td>Education</td>\n",
              "      <td>23685</td>\n",
              "      <td>2002.0</td>\n",
              "      <td>4</td>\n",
              "    </tr>\n",
              "    <tr>\n",
              "      <th>4</th>\n",
              "      <td>4</td>\n",
              "      <td>4</td>\n",
              "      <td>0</td>\n",
              "      <td>2017-01-01</td>\n",
              "      <td>0</td>\n",
              "      <td>Education</td>\n",
              "      <td>116607</td>\n",
              "      <td>1975.0</td>\n",
              "      <td>4</td>\n",
              "    </tr>\n",
              "  </tbody>\n",
              "</table>\n",
              "</div>"
            ],
            "text/plain": [
              "   row_id  building_id  meter  ... square_feet  year_built floor_count\n",
              "0       0            0      0  ...        7432      2008.0           4\n",
              "1       1            1      0  ...        2720      2004.0           4\n",
              "2       2            2      0  ...        5376      1991.0           4\n",
              "3       3            3      0  ...       23685      2002.0           4\n",
              "4       4            4      0  ...      116607      1975.0           4\n",
              "\n",
              "[5 rows x 9 columns]"
            ]
          },
          "metadata": {
            "tags": []
          },
          "execution_count": 42
        }
      ]
    },
    {
      "cell_type": "code",
      "metadata": {
        "id": "KnsUVUfoD_7w",
        "colab_type": "code",
        "colab": {}
      },
      "source": [
        "temp=test[['site_id','timestamp']]\n",
        "temp=temp.merge(weather_test,on=['site_id','timestamp'],how='left')\n",
        "del temp['timestamp'],temp['site_id']\n",
        "test=pd.concat([test,temp],axis=1)\n",
        "\n",
        "del temp,weather_test"
      ],
      "execution_count": null,
      "outputs": []
    },
    {
      "cell_type": "code",
      "metadata": {
        "id": "tRKrGA4iEGbH",
        "colab_type": "code",
        "colab": {
          "base_uri": "https://localhost:8080/",
          "height": 301
        },
        "outputId": "f6f4782e-3aeb-4d31-d849-1b8394f578eb"
      },
      "source": [
        "test.head()"
      ],
      "execution_count": null,
      "outputs": [
        {
          "output_type": "execute_result",
          "data": {
            "text/html": [
              "<div>\n",
              "<style scoped>\n",
              "    .dataframe tbody tr th:only-of-type {\n",
              "        vertical-align: middle;\n",
              "    }\n",
              "\n",
              "    .dataframe tbody tr th {\n",
              "        vertical-align: top;\n",
              "    }\n",
              "\n",
              "    .dataframe thead th {\n",
              "        text-align: right;\n",
              "    }\n",
              "</style>\n",
              "<table border=\"1\" class=\"dataframe\">\n",
              "  <thead>\n",
              "    <tr style=\"text-align: right;\">\n",
              "      <th></th>\n",
              "      <th>row_id</th>\n",
              "      <th>building_id</th>\n",
              "      <th>meter</th>\n",
              "      <th>timestamp</th>\n",
              "      <th>site_id</th>\n",
              "      <th>primary_use</th>\n",
              "      <th>square_feet</th>\n",
              "      <th>year_built</th>\n",
              "      <th>floor_count</th>\n",
              "      <th>air_temperature</th>\n",
              "      <th>cloud_coverage</th>\n",
              "      <th>dew_temperature</th>\n",
              "      <th>precip_depth_1_hr</th>\n",
              "      <th>sea_level_pressure</th>\n",
              "      <th>wind_direction</th>\n",
              "      <th>wind_speed</th>\n",
              "      <th>Month</th>\n",
              "      <th>Day_date</th>\n",
              "      <th>year</th>\n",
              "    </tr>\n",
              "  </thead>\n",
              "  <tbody>\n",
              "    <tr>\n",
              "      <th>0</th>\n",
              "      <td>0</td>\n",
              "      <td>0</td>\n",
              "      <td>0</td>\n",
              "      <td>2017-01-01</td>\n",
              "      <td>0</td>\n",
              "      <td>Education</td>\n",
              "      <td>7432</td>\n",
              "      <td>2008.0</td>\n",
              "      <td>4</td>\n",
              "      <td>17.8</td>\n",
              "      <td>4.0</td>\n",
              "      <td>4.0</td>\n",
              "      <td>1.169297</td>\n",
              "      <td>1021.4</td>\n",
              "      <td>100.0</td>\n",
              "      <td>3.6</td>\n",
              "      <td>1.0</td>\n",
              "      <td>1.0</td>\n",
              "      <td>2017.0</td>\n",
              "    </tr>\n",
              "    <tr>\n",
              "      <th>1</th>\n",
              "      <td>1</td>\n",
              "      <td>1</td>\n",
              "      <td>0</td>\n",
              "      <td>2017-01-01</td>\n",
              "      <td>0</td>\n",
              "      <td>Education</td>\n",
              "      <td>2720</td>\n",
              "      <td>2004.0</td>\n",
              "      <td>4</td>\n",
              "      <td>17.8</td>\n",
              "      <td>4.0</td>\n",
              "      <td>4.0</td>\n",
              "      <td>1.169297</td>\n",
              "      <td>1021.4</td>\n",
              "      <td>100.0</td>\n",
              "      <td>3.6</td>\n",
              "      <td>1.0</td>\n",
              "      <td>1.0</td>\n",
              "      <td>2017.0</td>\n",
              "    </tr>\n",
              "    <tr>\n",
              "      <th>2</th>\n",
              "      <td>2</td>\n",
              "      <td>2</td>\n",
              "      <td>0</td>\n",
              "      <td>2017-01-01</td>\n",
              "      <td>0</td>\n",
              "      <td>Education</td>\n",
              "      <td>5376</td>\n",
              "      <td>1991.0</td>\n",
              "      <td>4</td>\n",
              "      <td>17.8</td>\n",
              "      <td>4.0</td>\n",
              "      <td>4.0</td>\n",
              "      <td>1.169297</td>\n",
              "      <td>1021.4</td>\n",
              "      <td>100.0</td>\n",
              "      <td>3.6</td>\n",
              "      <td>1.0</td>\n",
              "      <td>1.0</td>\n",
              "      <td>2017.0</td>\n",
              "    </tr>\n",
              "    <tr>\n",
              "      <th>3</th>\n",
              "      <td>3</td>\n",
              "      <td>3</td>\n",
              "      <td>0</td>\n",
              "      <td>2017-01-01</td>\n",
              "      <td>0</td>\n",
              "      <td>Education</td>\n",
              "      <td>23685</td>\n",
              "      <td>2002.0</td>\n",
              "      <td>4</td>\n",
              "      <td>17.8</td>\n",
              "      <td>4.0</td>\n",
              "      <td>4.0</td>\n",
              "      <td>1.169297</td>\n",
              "      <td>1021.4</td>\n",
              "      <td>100.0</td>\n",
              "      <td>3.6</td>\n",
              "      <td>1.0</td>\n",
              "      <td>1.0</td>\n",
              "      <td>2017.0</td>\n",
              "    </tr>\n",
              "    <tr>\n",
              "      <th>4</th>\n",
              "      <td>4</td>\n",
              "      <td>4</td>\n",
              "      <td>0</td>\n",
              "      <td>2017-01-01</td>\n",
              "      <td>0</td>\n",
              "      <td>Education</td>\n",
              "      <td>116607</td>\n",
              "      <td>1975.0</td>\n",
              "      <td>4</td>\n",
              "      <td>17.8</td>\n",
              "      <td>4.0</td>\n",
              "      <td>4.0</td>\n",
              "      <td>1.169297</td>\n",
              "      <td>1021.4</td>\n",
              "      <td>100.0</td>\n",
              "      <td>3.6</td>\n",
              "      <td>1.0</td>\n",
              "      <td>1.0</td>\n",
              "      <td>2017.0</td>\n",
              "    </tr>\n",
              "  </tbody>\n",
              "</table>\n",
              "</div>"
            ],
            "text/plain": [
              "   row_id  building_id  meter  timestamp  ...  wind_speed Month  Day_date    year\n",
              "0       0            0      0 2017-01-01  ...         3.6   1.0       1.0  2017.0\n",
              "1       1            1      0 2017-01-01  ...         3.6   1.0       1.0  2017.0\n",
              "2       2            2      0 2017-01-01  ...         3.6   1.0       1.0  2017.0\n",
              "3       3            3      0 2017-01-01  ...         3.6   1.0       1.0  2017.0\n",
              "4       4            4      0 2017-01-01  ...         3.6   1.0       1.0  2017.0\n",
              "\n",
              "[5 rows x 19 columns]"
            ]
          },
          "metadata": {
            "tags": []
          },
          "execution_count": 44
        }
      ]
    },
    {
      "cell_type": "code",
      "metadata": {
        "id": "acfdobFXKJEI",
        "colab_type": "code",
        "colab": {}
      },
      "source": [
        "import numpy as np\n",
        "\n",
        "test['hour_datetime']=test['timestamp'].dt.hour.astype(np.int8)\n",
        "\n",
        "del test['timestamp']"
      ],
      "execution_count": null,
      "outputs": []
    },
    {
      "cell_type": "code",
      "metadata": {
        "id": "NM5bLXSb1YnQ",
        "colab_type": "code",
        "colab": {
          "base_uri": "https://localhost:8080/",
          "height": 617
        },
        "outputId": "de736b11-c777-4a12-a9d5-5c2df55a1ed0"
      },
      "source": [
        "total=test.isnull().sum().sort_values(ascending=False)\n",
        "percent=(test.isnull().sum()/test.isnull().count()).sort_values(ascending=False)\n",
        "missing_values=pd.concat([total,percent],axis=1,keys=['total','percent'])\n",
        "missing_values.head(20)"
      ],
      "execution_count": null,
      "outputs": [
        {
          "output_type": "execute_result",
          "data": {
            "text/html": [
              "<div>\n",
              "<style scoped>\n",
              "    .dataframe tbody tr th:only-of-type {\n",
              "        vertical-align: middle;\n",
              "    }\n",
              "\n",
              "    .dataframe tbody tr th {\n",
              "        vertical-align: top;\n",
              "    }\n",
              "\n",
              "    .dataframe thead th {\n",
              "        text-align: right;\n",
              "    }\n",
              "</style>\n",
              "<table border=\"1\" class=\"dataframe\">\n",
              "  <thead>\n",
              "    <tr style=\"text-align: right;\">\n",
              "      <th></th>\n",
              "      <th>total</th>\n",
              "      <th>percent</th>\n",
              "    </tr>\n",
              "  </thead>\n",
              "  <tbody>\n",
              "    <tr>\n",
              "      <th>cloud_coverage</th>\n",
              "      <td>199029</td>\n",
              "      <td>0.004773</td>\n",
              "    </tr>\n",
              "    <tr>\n",
              "      <th>Day_date</th>\n",
              "      <td>199029</td>\n",
              "      <td>0.004773</td>\n",
              "    </tr>\n",
              "    <tr>\n",
              "      <th>Month</th>\n",
              "      <td>199029</td>\n",
              "      <td>0.004773</td>\n",
              "    </tr>\n",
              "    <tr>\n",
              "      <th>wind_speed</th>\n",
              "      <td>199029</td>\n",
              "      <td>0.004773</td>\n",
              "    </tr>\n",
              "    <tr>\n",
              "      <th>wind_direction</th>\n",
              "      <td>199029</td>\n",
              "      <td>0.004773</td>\n",
              "    </tr>\n",
              "    <tr>\n",
              "      <th>sea_level_pressure</th>\n",
              "      <td>199029</td>\n",
              "      <td>0.004773</td>\n",
              "    </tr>\n",
              "    <tr>\n",
              "      <th>precip_depth_1_hr</th>\n",
              "      <td>199029</td>\n",
              "      <td>0.004773</td>\n",
              "    </tr>\n",
              "    <tr>\n",
              "      <th>dew_temperature</th>\n",
              "      <td>199029</td>\n",
              "      <td>0.004773</td>\n",
              "    </tr>\n",
              "    <tr>\n",
              "      <th>year</th>\n",
              "      <td>199029</td>\n",
              "      <td>0.004773</td>\n",
              "    </tr>\n",
              "    <tr>\n",
              "      <th>air_temperature</th>\n",
              "      <td>199029</td>\n",
              "      <td>0.004773</td>\n",
              "    </tr>\n",
              "    <tr>\n",
              "      <th>primary_use</th>\n",
              "      <td>0</td>\n",
              "      <td>0.000000</td>\n",
              "    </tr>\n",
              "    <tr>\n",
              "      <th>building_id</th>\n",
              "      <td>0</td>\n",
              "      <td>0.000000</td>\n",
              "    </tr>\n",
              "    <tr>\n",
              "      <th>meter</th>\n",
              "      <td>0</td>\n",
              "      <td>0.000000</td>\n",
              "    </tr>\n",
              "    <tr>\n",
              "      <th>site_id</th>\n",
              "      <td>0</td>\n",
              "      <td>0.000000</td>\n",
              "    </tr>\n",
              "    <tr>\n",
              "      <th>hour_datetime</th>\n",
              "      <td>0</td>\n",
              "      <td>0.000000</td>\n",
              "    </tr>\n",
              "    <tr>\n",
              "      <th>square_feet</th>\n",
              "      <td>0</td>\n",
              "      <td>0.000000</td>\n",
              "    </tr>\n",
              "    <tr>\n",
              "      <th>year_built</th>\n",
              "      <td>0</td>\n",
              "      <td>0.000000</td>\n",
              "    </tr>\n",
              "    <tr>\n",
              "      <th>floor_count</th>\n",
              "      <td>0</td>\n",
              "      <td>0.000000</td>\n",
              "    </tr>\n",
              "    <tr>\n",
              "      <th>row_id</th>\n",
              "      <td>0</td>\n",
              "      <td>0.000000</td>\n",
              "    </tr>\n",
              "  </tbody>\n",
              "</table>\n",
              "</div>"
            ],
            "text/plain": [
              "                     total   percent\n",
              "cloud_coverage      199029  0.004773\n",
              "Day_date            199029  0.004773\n",
              "Month               199029  0.004773\n",
              "wind_speed          199029  0.004773\n",
              "wind_direction      199029  0.004773\n",
              "sea_level_pressure  199029  0.004773\n",
              "precip_depth_1_hr   199029  0.004773\n",
              "dew_temperature     199029  0.004773\n",
              "year                199029  0.004773\n",
              "air_temperature     199029  0.004773\n",
              "primary_use              0  0.000000\n",
              "building_id              0  0.000000\n",
              "meter                    0  0.000000\n",
              "site_id                  0  0.000000\n",
              "hour_datetime            0  0.000000\n",
              "square_feet              0  0.000000\n",
              "year_built               0  0.000000\n",
              "floor_count              0  0.000000\n",
              "row_id                   0  0.000000"
            ]
          },
          "metadata": {
            "tags": []
          },
          "execution_count": 46
        }
      ]
    },
    {
      "cell_type": "code",
      "metadata": {
        "id": "TQQ7j5bw2ByT",
        "colab_type": "code",
        "colab": {}
      },
      "source": [
        "# test=test.dropna()"
      ],
      "execution_count": null,
      "outputs": []
    },
    {
      "cell_type": "code",
      "metadata": {
        "id": "QUUZMStU4OgN",
        "colab_type": "code",
        "colab": {
          "base_uri": "https://localhost:8080/",
          "height": 307
        },
        "outputId": "4f422dec-893c-49e5-d8b9-ea8f570b9964"
      },
      "source": [
        "test.describe()"
      ],
      "execution_count": null,
      "outputs": [
        {
          "output_type": "execute_result",
          "data": {
            "text/html": [
              "<div>\n",
              "<style scoped>\n",
              "    .dataframe tbody tr th:only-of-type {\n",
              "        vertical-align: middle;\n",
              "    }\n",
              "\n",
              "    .dataframe tbody tr th {\n",
              "        vertical-align: top;\n",
              "    }\n",
              "\n",
              "    .dataframe thead th {\n",
              "        text-align: right;\n",
              "    }\n",
              "</style>\n",
              "<table border=\"1\" class=\"dataframe\">\n",
              "  <thead>\n",
              "    <tr style=\"text-align: right;\">\n",
              "      <th></th>\n",
              "      <th>row_id</th>\n",
              "      <th>building_id</th>\n",
              "      <th>meter</th>\n",
              "      <th>site_id</th>\n",
              "      <th>square_feet</th>\n",
              "      <th>year_built</th>\n",
              "      <th>floor_count</th>\n",
              "      <th>air_temperature</th>\n",
              "      <th>cloud_coverage</th>\n",
              "      <th>dew_temperature</th>\n",
              "      <th>precip_depth_1_hr</th>\n",
              "      <th>sea_level_pressure</th>\n",
              "      <th>wind_direction</th>\n",
              "      <th>wind_speed</th>\n",
              "      <th>Month</th>\n",
              "      <th>Day_date</th>\n",
              "      <th>year</th>\n",
              "      <th>hour_datetime</th>\n",
              "    </tr>\n",
              "  </thead>\n",
              "  <tbody>\n",
              "    <tr>\n",
              "      <th>count</th>\n",
              "      <td>4.169760e+07</td>\n",
              "      <td>4.169760e+07</td>\n",
              "      <td>4.169760e+07</td>\n",
              "      <td>4.169760e+07</td>\n",
              "      <td>4.169760e+07</td>\n",
              "      <td>4.169760e+07</td>\n",
              "      <td>4.169760e+07</td>\n",
              "      <td>4.149857e+07</td>\n",
              "      <td>4.149857e+07</td>\n",
              "      <td>4.149857e+07</td>\n",
              "      <td>4.149857e+07</td>\n",
              "      <td>4.149857e+07</td>\n",
              "      <td>4.149857e+07</td>\n",
              "      <td>4.149857e+07</td>\n",
              "      <td>4.149857e+07</td>\n",
              "      <td>4.149857e+07</td>\n",
              "      <td>4.149857e+07</td>\n",
              "      <td>4.169760e+07</td>\n",
              "    </tr>\n",
              "    <tr>\n",
              "      <th>mean</th>\n",
              "      <td>2.084880e+07</td>\n",
              "      <td>8.075824e+02</td>\n",
              "      <td>6.642857e-01</td>\n",
              "      <td>8.086134e+00</td>\n",
              "      <td>1.069469e+05</td>\n",
              "      <td>1.969393e+03</td>\n",
              "      <td>4.021008e+00</td>\n",
              "      <td>1.550734e+01</td>\n",
              "      <td>1.830514e+00</td>\n",
              "      <td>1.830514e+00</td>\n",
              "      <td>1.252654e+00</td>\n",
              "      <td>9.786402e+02</td>\n",
              "      <td>1.718198e+02</td>\n",
              "      <td>3.383756e+00</td>\n",
              "      <td>6.517360e+00</td>\n",
              "      <td>1.571009e+01</td>\n",
              "      <td>2.017500e+03</td>\n",
              "      <td>1.150000e+01</td>\n",
              "    </tr>\n",
              "    <tr>\n",
              "      <th>std</th>\n",
              "      <td>1.203706e+07</td>\n",
              "      <td>4.297680e+02</td>\n",
              "      <td>9.278067e-01</td>\n",
              "      <td>5.134712e+00</td>\n",
              "      <td>1.160888e+05</td>\n",
              "      <td>2.045075e+01</td>\n",
              "      <td>1.655263e+00</td>\n",
              "      <td>1.128247e+01</td>\n",
              "      <td>2.010436e+00</td>\n",
              "      <td>2.010436e+00</td>\n",
              "      <td>7.862236e+00</td>\n",
              "      <td>1.919029e+02</td>\n",
              "      <td>1.100916e+02</td>\n",
              "      <td>2.235641e+00</td>\n",
              "      <td>3.445343e+00</td>\n",
              "      <td>8.803499e+00</td>\n",
              "      <td>5.000000e-01</td>\n",
              "      <td>6.922187e+00</td>\n",
              "    </tr>\n",
              "    <tr>\n",
              "      <th>min</th>\n",
              "      <td>0.000000e+00</td>\n",
              "      <td>0.000000e+00</td>\n",
              "      <td>0.000000e+00</td>\n",
              "      <td>0.000000e+00</td>\n",
              "      <td>2.830000e+02</td>\n",
              "      <td>1.900000e+03</td>\n",
              "      <td>1.000000e+00</td>\n",
              "      <td>-2.810000e+01</td>\n",
              "      <td>0.000000e+00</td>\n",
              "      <td>0.000000e+00</td>\n",
              "      <td>-1.000000e+00</td>\n",
              "      <td>0.000000e+00</td>\n",
              "      <td>0.000000e+00</td>\n",
              "      <td>0.000000e+00</td>\n",
              "      <td>1.000000e+00</td>\n",
              "      <td>1.000000e+00</td>\n",
              "      <td>2.017000e+03</td>\n",
              "      <td>0.000000e+00</td>\n",
              "    </tr>\n",
              "    <tr>\n",
              "      <th>25%</th>\n",
              "      <td>1.042440e+07</td>\n",
              "      <td>4.047500e+02</td>\n",
              "      <td>0.000000e+00</td>\n",
              "      <td>3.000000e+00</td>\n",
              "      <td>3.224350e+04</td>\n",
              "      <td>1.963000e+03</td>\n",
              "      <td>4.000000e+00</td>\n",
              "      <td>7.800000e+00</td>\n",
              "      <td>0.000000e+00</td>\n",
              "      <td>0.000000e+00</td>\n",
              "      <td>0.000000e+00</td>\n",
              "      <td>1.010900e+03</td>\n",
              "      <td>8.000000e+01</td>\n",
              "      <td>2.100000e+00</td>\n",
              "      <td>4.000000e+00</td>\n",
              "      <td>8.000000e+00</td>\n",
              "      <td>2.017000e+03</td>\n",
              "      <td>5.750000e+00</td>\n",
              "    </tr>\n",
              "    <tr>\n",
              "      <th>50%</th>\n",
              "      <td>2.084880e+07</td>\n",
              "      <td>9.000000e+02</td>\n",
              "      <td>0.000000e+00</td>\n",
              "      <td>9.000000e+00</td>\n",
              "      <td>7.226250e+04</td>\n",
              "      <td>1.975000e+03</td>\n",
              "      <td>4.000000e+00</td>\n",
              "      <td>1.670000e+01</td>\n",
              "      <td>1.082078e+00</td>\n",
              "      <td>1.082078e+00</td>\n",
              "      <td>0.000000e+00</td>\n",
              "      <td>1.015900e+03</td>\n",
              "      <td>1.700000e+02</td>\n",
              "      <td>3.100000e+00</td>\n",
              "      <td>7.000000e+00</td>\n",
              "      <td>1.600000e+01</td>\n",
              "      <td>2.017000e+03</td>\n",
              "      <td>1.150000e+01</td>\n",
              "    </tr>\n",
              "    <tr>\n",
              "      <th>75%</th>\n",
              "      <td>3.127320e+07</td>\n",
              "      <td>1.194250e+03</td>\n",
              "      <td>1.000000e+00</td>\n",
              "      <td>1.300000e+01</td>\n",
              "      <td>1.383875e+05</td>\n",
              "      <td>1.975054e+03</td>\n",
              "      <td>4.000000e+00</td>\n",
              "      <td>2.390000e+01</td>\n",
              "      <td>2.730284e+00</td>\n",
              "      <td>2.730284e+00</td>\n",
              "      <td>0.000000e+00</td>\n",
              "      <td>1.020200e+03</td>\n",
              "      <td>2.700000e+02</td>\n",
              "      <td>4.600000e+00</td>\n",
              "      <td>1.000000e+01</td>\n",
              "      <td>2.300000e+01</td>\n",
              "      <td>2.018000e+03</td>\n",
              "      <td>1.725000e+01</td>\n",
              "    </tr>\n",
              "    <tr>\n",
              "      <th>max</th>\n",
              "      <td>4.169760e+07</td>\n",
              "      <td>1.448000e+03</td>\n",
              "      <td>3.000000e+00</td>\n",
              "      <td>1.500000e+01</td>\n",
              "      <td>8.750000e+05</td>\n",
              "      <td>2.017000e+03</td>\n",
              "      <td>2.600000e+01</td>\n",
              "      <td>4.830000e+01</td>\n",
              "      <td>9.000000e+00</td>\n",
              "      <td>9.000000e+00</td>\n",
              "      <td>5.970000e+02</td>\n",
              "      <td>1.050100e+03</td>\n",
              "      <td>3.600000e+02</td>\n",
              "      <td>2.420000e+01</td>\n",
              "      <td>1.200000e+01</td>\n",
              "      <td>3.100000e+01</td>\n",
              "      <td>2.018000e+03</td>\n",
              "      <td>2.300000e+01</td>\n",
              "    </tr>\n",
              "  </tbody>\n",
              "</table>\n",
              "</div>"
            ],
            "text/plain": [
              "             row_id   building_id  ...          year  hour_datetime\n",
              "count  4.169760e+07  4.169760e+07  ...  4.149857e+07   4.169760e+07\n",
              "mean   2.084880e+07  8.075824e+02  ...  2.017500e+03   1.150000e+01\n",
              "std    1.203706e+07  4.297680e+02  ...  5.000000e-01   6.922187e+00\n",
              "min    0.000000e+00  0.000000e+00  ...  2.017000e+03   0.000000e+00\n",
              "25%    1.042440e+07  4.047500e+02  ...  2.017000e+03   5.750000e+00\n",
              "50%    2.084880e+07  9.000000e+02  ...  2.017000e+03   1.150000e+01\n",
              "75%    3.127320e+07  1.194250e+03  ...  2.018000e+03   1.725000e+01\n",
              "max    4.169760e+07  1.448000e+03  ...  2.018000e+03   2.300000e+01\n",
              "\n",
              "[8 rows x 18 columns]"
            ]
          },
          "metadata": {
            "tags": []
          },
          "execution_count": 48
        }
      ]
    },
    {
      "cell_type": "code",
      "metadata": {
        "id": "3JKYHWPbEHAX",
        "colab_type": "code",
        "colab": {}
      },
      "source": [
        "test_steam= test.loc[(test['meter']==2)]"
      ],
      "execution_count": null,
      "outputs": []
    },
    {
      "cell_type": "markdown",
      "metadata": {
        "id": "JXXfFz7NI308",
        "colab_type": "text"
      },
      "source": [
        "Instead of getting rid of ,issing values in test set, they are replaced with 0"
      ]
    },
    {
      "cell_type": "code",
      "metadata": {
        "id": "9LdcPIAyI6FM",
        "colab_type": "code",
        "colab": {
          "base_uri": "https://localhost:8080/",
          "height": 105
        },
        "outputId": "e39c5e17-3d88-443f-8f27-04b5114c104c"
      },
      "source": [
        "test_steam['cloud_coverage'].fillna(0,inplace=True)\n",
        "test_steam['Day_date'].fillna(0,inplace=True)\n",
        "test_steam['Month'].fillna(0,inplace=True)\n",
        "test_steam['wind_speed'].fillna(0,inplace=True)\n",
        "test_steam['wind_direction'].fillna(0,inplace=True)\n",
        "test_steam['sea_level_pressure'].fillna(0,inplace=True)\n",
        "test_steam['precip_depth_1_hr'].fillna(0,inplace=True)\n",
        "test_steam['dew_temperature'].fillna(0,inplace=True)\n",
        "test_steam['year'].fillna(2017,inplace=True)\n",
        "test_steam['air_temperature'].fillna(0,inplace=True)"
      ],
      "execution_count": null,
      "outputs": [
        {
          "output_type": "stream",
          "text": [
            "/usr/local/lib/python3.6/dist-packages/pandas/core/generic.py:6245: SettingWithCopyWarning: \n",
            "A value is trying to be set on a copy of a slice from a DataFrame\n",
            "\n",
            "See the caveats in the documentation: https://pandas.pydata.org/pandas-docs/stable/user_guide/indexing.html#returning-a-view-versus-a-copy\n",
            "  self._update_inplace(new_data)\n"
          ],
          "name": "stderr"
        }
      ]
    },
    {
      "cell_type": "code",
      "metadata": {
        "id": "2x6oR37h1Wgo",
        "colab_type": "code",
        "colab": {
          "base_uri": "https://localhost:8080/",
          "height": 34
        },
        "outputId": "73ec93a8-d8a0-46cb-aea7-e1c40bfd95d6"
      },
      "source": [
        "test_steam.shape"
      ],
      "execution_count": null,
      "outputs": [
        {
          "output_type": "execute_result",
          "data": {
            "text/plain": [
              "(5676480, 19)"
            ]
          },
          "metadata": {
            "tags": []
          },
          "execution_count": 51
        }
      ]
    },
    {
      "cell_type": "code",
      "metadata": {
        "id": "uRDVEAYT4GyL",
        "colab_type": "code",
        "colab": {}
      },
      "source": [
        "test_drop_cols=['row_id']"
      ],
      "execution_count": null,
      "outputs": []
    },
    {
      "cell_type": "code",
      "metadata": {
        "id": "4qFroq5xFMos",
        "colab_type": "code",
        "colab": {}
      },
      "source": [
        "testing=test_steam.drop(test_drop_cols,axis=1)"
      ],
      "execution_count": null,
      "outputs": []
    },
    {
      "cell_type": "code",
      "metadata": {
        "id": "3HXLLI4W0BOT",
        "colab_type": "code",
        "colab": {
          "base_uri": "https://localhost:8080/",
          "height": 34
        },
        "outputId": "1a1ec761-94fa-4385-9c58-6c2bf60a2254"
      },
      "source": [
        "testing.shape"
      ],
      "execution_count": null,
      "outputs": [
        {
          "output_type": "execute_result",
          "data": {
            "text/plain": [
              "(5676480, 18)"
            ]
          },
          "metadata": {
            "tags": []
          },
          "execution_count": 54
        }
      ]
    },
    {
      "cell_type": "code",
      "metadata": {
        "id": "FuIiZnonJFNE",
        "colab_type": "code",
        "colab": {}
      },
      "source": [
        "testing_prepared=full_pipeline.transform(testing)"
      ],
      "execution_count": null,
      "outputs": []
    },
    {
      "cell_type": "code",
      "metadata": {
        "id": "VSCbMzAPJIJ8",
        "colab_type": "code",
        "colab": {
          "base_uri": "https://localhost:8080/",
          "height": 34
        },
        "outputId": "26edd100-c093-47c1-f9df-0d7eaf756b2a"
      },
      "source": [
        "testing_prepared.shape"
      ],
      "execution_count": null,
      "outputs": [
        {
          "output_type": "execute_result",
          "data": {
            "text/plain": [
              "(5676480, 23)"
            ]
          },
          "metadata": {
            "tags": []
          },
          "execution_count": 57
        }
      ]
    },
    {
      "cell_type": "code",
      "metadata": {
        "id": "DKmibt794t42",
        "colab_type": "code",
        "colab": {
          "base_uri": "https://localhost:8080/",
          "height": 34
        },
        "outputId": "06de2d53-84e1-408d-ee50-1786279855dd"
      },
      "source": [
        "from sklearn.linear_model import LinearRegression\n",
        "from sklearn.metrics import mean_squared_error\n",
        "from math import sqrt\n",
        "\n",
        "lin_reg=LinearRegression()\n",
        "lin_reg.fit(x_train,y_train)\n",
        "lin_predict=lin_reg.predict(x_val)\n",
        "lin_mse=mean_squared_error(lin_predict,y_val)\n",
        "lin_rmse=sqrt(lin_mse)\n",
        "lin_rmse"
      ],
      "execution_count": null,
      "outputs": [
        {
          "output_type": "execute_result",
          "data": {
            "text/plain": [
              "154863.67357206307"
            ]
          },
          "metadata": {
            "tags": []
          },
          "execution_count": 39
        }
      ]
    },
    {
      "cell_type": "markdown",
      "metadata": {
        "id": "uFd-B5nY6PHS",
        "colab_type": "text"
      },
      "source": [
        "Linear regression RMSE 154863.67357206307"
      ]
    },
    {
      "cell_type": "markdown",
      "metadata": {
        "id": "iABKX-Sc_BfZ",
        "colab_type": "text"
      },
      "source": [
        "**Applying 2 degree polynomial**"
      ]
    },
    {
      "cell_type": "code",
      "metadata": {
        "id": "GtMrYcHO_AVJ",
        "colab_type": "code",
        "colab": {
          "base_uri": "https://localhost:8080/",
          "height": 34
        },
        "outputId": "dc63d872-415a-41f5-c37d-5621f501e72d"
      },
      "source": [
        "from sklearn.preprocessing import PolynomialFeatures\n",
        "\n",
        "poly_features=PolynomialFeatures(degree=2,include_bias=False)\n",
        "x_poly=poly_features.fit_transform(x_train)\n",
        "lin_reg=LinearRegression()\n",
        "lin_reg.fit(x_poly,y_train)"
      ],
      "execution_count": null,
      "outputs": [
        {
          "output_type": "execute_result",
          "data": {
            "text/plain": [
              "LinearRegression(copy_X=True, fit_intercept=True, n_jobs=None, normalize=False)"
            ]
          },
          "metadata": {
            "tags": []
          },
          "execution_count": 80
        }
      ]
    },
    {
      "cell_type": "code",
      "metadata": {
        "id": "w2uH6cjNAnjb",
        "colab_type": "code",
        "colab": {
          "base_uri": "https://localhost:8080/",
          "height": 34
        },
        "outputId": "21f4dfbe-bc37-4c19-f2a0-352209af340b"
      },
      "source": [
        "x_val_poly=poly_features.transform(x_val)\n",
        "predict=lin_reg.predict(x_val_poly)\n",
        "degree2_mse=mean_squared_error(predict,y_val)\n",
        "degree2_rmse=sqrt(degree2_mse)\n",
        "degree2_rmse"
      ],
      "execution_count": null,
      "outputs": [
        {
          "output_type": "execute_result",
          "data": {
            "text/plain": [
              "2486.5616840162443"
            ]
          },
          "metadata": {
            "tags": []
          },
          "execution_count": 81
        }
      ]
    },
    {
      "cell_type": "markdown",
      "metadata": {
        "id": "5qFwcn6S6WIo",
        "colab_type": "text"
      },
      "source": [
        "2nd degree polynomial RMSE 2486.5616840162443"
      ]
    },
    {
      "cell_type": "markdown",
      "metadata": {
        "id": "P5wTTtrCE8KO",
        "colab_type": "text"
      },
      "source": [
        "**Applying 3 degree polynomial. 3 or higher degree polynomial will have to be done through virtual server**"
      ]
    },
    {
      "cell_type": "code",
      "metadata": {
        "id": "hv6IrO_uEhAq",
        "colab_type": "code",
        "colab": {}
      },
      "source": [
        "# from sklearn.preprocessing import PolynomialFeatures\n",
        "\n",
        "# poly3_features=PolynomialFeatures(degree=3,include_bias=False)\n",
        "# x_poly=poly3_features.fit_transform(x_train[:1000000])\n",
        "# lin_reg=LinearRegression()\n",
        "# lin_reg.fit(x_poly,y_train[:1000000])"
      ],
      "execution_count": null,
      "outputs": []
    },
    {
      "cell_type": "code",
      "metadata": {
        "id": "--2oekTEF4Ve",
        "colab_type": "code",
        "colab": {}
      },
      "source": [
        "# x_val_poly=poly3_features.transform(x_val)\n",
        "# predict=lin_reg.predict(x_val_poly)\n",
        "# degree3_mse=mean_squared_error(predict,y_val)\n",
        "# degree3rmse=sqrt(degree2_mse)\n",
        "# degree3_rmse"
      ],
      "execution_count": null,
      "outputs": []
    },
    {
      "cell_type": "markdown",
      "metadata": {
        "id": "9EQn3cWle1pM",
        "colab_type": "text"
      },
      "source": [
        "**Using grid search with Ridge regression**"
      ]
    },
    {
      "cell_type": "code",
      "metadata": {
        "id": "nNs7sswBe1KJ",
        "colab_type": "code",
        "colab": {
          "base_uri": "https://localhost:8080/",
          "height": 153
        },
        "outputId": "c927927d-2e42-4ee0-e897-b9a1d9c95f2c"
      },
      "source": [
        "from sklearn.model_selection import GridSearchCV\n",
        "from sklearn.linear_model import Ridge\n",
        "param_grid=[\n",
        "            {'alpha':[0.001,0.003,0.01,0.03,0.1,0.3,1,3]}\n",
        "]\n",
        "\n",
        "ridge_reg=Ridge()\n",
        "\n",
        "grid_search=GridSearchCV(ridge_reg,param_grid,cv=5,\n",
        "                         scoring='neg_mean_squared_error',\n",
        "                         return_train_score=True)\n",
        "\n",
        "grid_search.fit(x_train,y_train)"
      ],
      "execution_count": null,
      "outputs": [
        {
          "output_type": "execute_result",
          "data": {
            "text/plain": [
              "GridSearchCV(cv=5, error_score=nan,\n",
              "             estimator=Ridge(alpha=1.0, copy_X=True, fit_intercept=True,\n",
              "                             max_iter=None, normalize=False, random_state=None,\n",
              "                             solver='auto', tol=0.001),\n",
              "             iid='deprecated', n_jobs=None,\n",
              "             param_grid=[{'alpha': [0.001, 0.003, 0.01, 0.03, 0.1, 0.3, 1, 3]}],\n",
              "             pre_dispatch='2*n_jobs', refit=True, return_train_score=True,\n",
              "             scoring='neg_mean_squared_error', verbose=0)"
            ]
          },
          "metadata": {
            "tags": []
          },
          "execution_count": 40
        }
      ]
    },
    {
      "cell_type": "code",
      "metadata": {
        "id": "6Rij3Fqzxkb8",
        "colab_type": "code",
        "colab": {
          "base_uri": "https://localhost:8080/",
          "height": 34
        },
        "outputId": "59924271-0946-41ef-f928-7d714ccadd7d"
      },
      "source": [
        "grid_search.best_params_"
      ],
      "execution_count": null,
      "outputs": [
        {
          "output_type": "execute_result",
          "data": {
            "text/plain": [
              "{'alpha': 3}"
            ]
          },
          "metadata": {
            "tags": []
          },
          "execution_count": 41
        }
      ]
    },
    {
      "cell_type": "markdown",
      "metadata": {
        "id": "QlTfE0Op6dQ5",
        "colab_type": "text"
      },
      "source": [
        "Ridge regression alpha=3\n"
      ]
    },
    {
      "cell_type": "markdown",
      "metadata": {
        "id": "X2yXfhuOxprs",
        "colab_type": "text"
      },
      "source": [
        "**Ridge regression with alpha=3**"
      ]
    },
    {
      "cell_type": "code",
      "metadata": {
        "id": "YFuOJ-QvxpQW",
        "colab_type": "code",
        "colab": {
          "base_uri": "https://localhost:8080/",
          "height": 34
        },
        "outputId": "9cac663c-0991-4679-bac0-56a9457da181"
      },
      "source": [
        "from sklearn.metrics import mean_squared_error\n",
        "\n",
        "ridge_reg=Ridge(alpha=3,solver='cholesky')\n",
        "ridge_reg.fit(x_train,y_train)\n",
        "ridge_pred=ridge_reg.predict(x_val)\n",
        "ridge_mse=mean_squared_error(ridge_pred,y_val)\n",
        "ridge_rmse=np.sqrt(ridge_mse)\n",
        "ridge_rmse"
      ],
      "execution_count": null,
      "outputs": [
        {
          "output_type": "execute_result",
          "data": {
            "text/plain": [
              "154864.58963155036"
            ]
          },
          "metadata": {
            "tags": []
          },
          "execution_count": 42
        }
      ]
    },
    {
      "cell_type": "markdown",
      "metadata": {
        "id": "NGjQPFPR6g20",
        "colab_type": "text"
      },
      "source": [
        "Ridge regression RMSE 154864.58963155036"
      ]
    },
    {
      "cell_type": "markdown",
      "metadata": {
        "id": "9nAq-aTm2qFU",
        "colab_type": "text"
      },
      "source": [
        "**Using grid search with Lasso regression**"
      ]
    },
    {
      "cell_type": "code",
      "metadata": {
        "id": "-v2KZaha2pLm",
        "colab_type": "code",
        "colab": {
          "base_uri": "https://localhost:8080/",
          "height": 1000
        },
        "outputId": "11d7ac78-7ba6-4f2c-f561-12bce3d93b77"
      },
      "source": [
        "from sklearn.model_selection import GridSearchCV\n",
        "from sklearn.linear_model import Lasso\n",
        "\n",
        "param_grid=[\n",
        "            {'alpha':[0.001,0.003,0.01,0.03,0.1,0.3,1,3]}\n",
        "]\n",
        "\n",
        "lasso_reg=Lasso()\n",
        "\n",
        "grid_search=GridSearchCV(lasso_reg,param_grid,cv=5,\n",
        "                         scoring='neg_mean_squared_error',\n",
        "                         return_train_score=True)\n",
        "\n",
        "grid_search.fit(x_train,y_train)"
      ],
      "execution_count": null,
      "outputs": [
        {
          "output_type": "stream",
          "text": [
            "/usr/local/lib/python3.6/dist-packages/sklearn/linear_model/_coordinate_descent.py:476: ConvergenceWarning: Objective did not converge. You might want to increase the number of iterations. Duality gap: 9.856368194697171e+16, tolerance: 44939526498086.04\n",
            "  positive)\n",
            "/usr/local/lib/python3.6/dist-packages/sklearn/linear_model/_coordinate_descent.py:476: ConvergenceWarning: Objective did not converge. You might want to increase the number of iterations. Duality gap: 1.7893341535448416e+16, tolerance: 22888749025155.25\n",
            "  positive)\n",
            "/usr/local/lib/python3.6/dist-packages/sklearn/linear_model/_coordinate_descent.py:476: ConvergenceWarning: Objective did not converge. You might want to increase the number of iterations. Duality gap: 5.402873257376592e+16, tolerance: 24523825519327.965\n",
            "  positive)\n",
            "/usr/local/lib/python3.6/dist-packages/sklearn/linear_model/_coordinate_descent.py:476: ConvergenceWarning: Objective did not converge. You might want to increase the number of iterations. Duality gap: 1.0141752674915478e+17, tolerance: 46154710254504.44\n",
            "  positive)\n",
            "/usr/local/lib/python3.6/dist-packages/sklearn/linear_model/_coordinate_descent.py:476: ConvergenceWarning: Objective did not converge. You might want to increase the number of iterations. Duality gap: 1.014898393227937e+17, tolerance: 46155439349096.234\n",
            "  positive)\n",
            "/usr/local/lib/python3.6/dist-packages/sklearn/linear_model/_coordinate_descent.py:476: ConvergenceWarning: Objective did not converge. You might want to increase the number of iterations. Duality gap: 9.856368330513565e+16, tolerance: 44939526498086.04\n",
            "  positive)\n",
            "/usr/local/lib/python3.6/dist-packages/sklearn/linear_model/_coordinate_descent.py:476: ConvergenceWarning: Objective did not converge. You might want to increase the number of iterations. Duality gap: 1.7893341909641776e+16, tolerance: 22888749025155.25\n",
            "  positive)\n",
            "/usr/local/lib/python3.6/dist-packages/sklearn/linear_model/_coordinate_descent.py:476: ConvergenceWarning: Objective did not converge. You might want to increase the number of iterations. Duality gap: 5.402873329403789e+16, tolerance: 24523825519327.965\n",
            "  positive)\n",
            "/usr/local/lib/python3.6/dist-packages/sklearn/linear_model/_coordinate_descent.py:476: ConvergenceWarning: Objective did not converge. You might want to increase the number of iterations. Duality gap: 1.0141752781324506e+17, tolerance: 46154710254504.44\n",
            "  positive)\n",
            "/usr/local/lib/python3.6/dist-packages/sklearn/linear_model/_coordinate_descent.py:476: ConvergenceWarning: Objective did not converge. You might want to increase the number of iterations. Duality gap: 1.0148984039994653e+17, tolerance: 46155439349096.234\n",
            "  positive)\n",
            "/usr/local/lib/python3.6/dist-packages/sklearn/linear_model/_coordinate_descent.py:476: ConvergenceWarning: Objective did not converge. You might want to increase the number of iterations. Duality gap: 9.856368720065098e+16, tolerance: 44939526498086.04\n",
            "  positive)\n",
            "/usr/local/lib/python3.6/dist-packages/sklearn/linear_model/_coordinate_descent.py:476: ConvergenceWarning: Objective did not converge. You might want to increase the number of iterations. Duality gap: 1.7893343413837936e+16, tolerance: 22888749025155.25\n",
            "  positive)\n",
            "/usr/local/lib/python3.6/dist-packages/sklearn/linear_model/_coordinate_descent.py:476: ConvergenceWarning: Objective did not converge. You might want to increase the number of iterations. Duality gap: 5.402873572874149e+16, tolerance: 24523825519327.965\n",
            "  positive)\n",
            "/usr/local/lib/python3.6/dist-packages/sklearn/linear_model/_coordinate_descent.py:476: ConvergenceWarning: Objective did not converge. You might want to increase the number of iterations. Duality gap: 1.014175318451281e+17, tolerance: 46154710254504.44\n",
            "  positive)\n",
            "/usr/local/lib/python3.6/dist-packages/sklearn/linear_model/_coordinate_descent.py:476: ConvergenceWarning: Objective did not converge. You might want to increase the number of iterations. Duality gap: 1.0148984447578522e+17, tolerance: 46155439349096.234\n",
            "  positive)\n",
            "/usr/local/lib/python3.6/dist-packages/sklearn/linear_model/_coordinate_descent.py:476: ConvergenceWarning: Objective did not converge. You might want to increase the number of iterations. Duality gap: 9.856369807569443e+16, tolerance: 44939526498086.04\n",
            "  positive)\n",
            "/usr/local/lib/python3.6/dist-packages/sklearn/linear_model/_coordinate_descent.py:476: ConvergenceWarning: Objective did not converge. You might want to increase the number of iterations. Duality gap: 1.7893347751755008e+16, tolerance: 22888749025155.25\n",
            "  positive)\n",
            "/usr/local/lib/python3.6/dist-packages/sklearn/linear_model/_coordinate_descent.py:476: ConvergenceWarning: Objective did not converge. You might want to increase the number of iterations. Duality gap: 5.402874259509051e+16, tolerance: 24523825519327.965\n",
            "  positive)\n",
            "/usr/local/lib/python3.6/dist-packages/sklearn/linear_model/_coordinate_descent.py:476: ConvergenceWarning: Objective did not converge. You might want to increase the number of iterations. Duality gap: 1.014175433570417e+17, tolerance: 46154710254504.44\n",
            "  positive)\n",
            "/usr/local/lib/python3.6/dist-packages/sklearn/linear_model/_coordinate_descent.py:476: ConvergenceWarning: Objective did not converge. You might want to increase the number of iterations. Duality gap: 1.01489855935708e+17, tolerance: 46155439349096.234\n",
            "  positive)\n",
            "/usr/local/lib/python3.6/dist-packages/sklearn/linear_model/_coordinate_descent.py:476: ConvergenceWarning: Objective did not converge. You might want to increase the number of iterations. Duality gap: 9.85637350162985e+16, tolerance: 44939526498086.04\n",
            "  positive)\n",
            "/usr/local/lib/python3.6/dist-packages/sklearn/linear_model/_coordinate_descent.py:476: ConvergenceWarning: Objective did not converge. You might want to increase the number of iterations. Duality gap: 1.7893362418414144e+16, tolerance: 22888749025155.25\n",
            "  positive)\n",
            "/usr/local/lib/python3.6/dist-packages/sklearn/linear_model/_coordinate_descent.py:476: ConvergenceWarning: Objective did not converge. You might want to increase the number of iterations. Duality gap: 1.928484102539533e+16, tolerance: 24523825519327.965\n",
            "  positive)\n",
            "/usr/local/lib/python3.6/dist-packages/sklearn/linear_model/_coordinate_descent.py:476: ConvergenceWarning: Objective did not converge. You might want to increase the number of iterations. Duality gap: 1.0141758252436189e+17, tolerance: 46154710254504.44\n",
            "  positive)\n",
            "/usr/local/lib/python3.6/dist-packages/sklearn/linear_model/_coordinate_descent.py:476: ConvergenceWarning: Objective did not converge. You might want to increase the number of iterations. Duality gap: 1.0148989498591808e+17, tolerance: 46155439349096.234\n",
            "  positive)\n",
            "/usr/local/lib/python3.6/dist-packages/sklearn/linear_model/_coordinate_descent.py:476: ConvergenceWarning: Objective did not converge. You might want to increase the number of iterations. Duality gap: 3.494547471375427e+16, tolerance: 44939526498086.04\n",
            "  positive)\n",
            "/usr/local/lib/python3.6/dist-packages/sklearn/linear_model/_coordinate_descent.py:476: ConvergenceWarning: Objective did not converge. You might want to increase the number of iterations. Duality gap: 1.7893400226106624e+16, tolerance: 22888749025155.25\n",
            "  positive)\n",
            "/usr/local/lib/python3.6/dist-packages/sklearn/linear_model/_coordinate_descent.py:476: ConvergenceWarning: Objective did not converge. You might want to increase the number of iterations. Duality gap: 4476512529709152.0, tolerance: 24523825519327.965\n",
            "  positive)\n",
            "/usr/local/lib/python3.6/dist-packages/sklearn/linear_model/_coordinate_descent.py:476: ConvergenceWarning: Objective did not converge. You might want to increase the number of iterations. Duality gap: 3.618090290673987e+16, tolerance: 46154710254504.44\n",
            "  positive)\n",
            "/usr/local/lib/python3.6/dist-packages/sklearn/linear_model/_coordinate_descent.py:476: ConvergenceWarning: Objective did not converge. You might want to increase the number of iterations. Duality gap: 3.627184112579402e+16, tolerance: 46155439349096.234\n",
            "  positive)\n"
          ],
          "name": "stderr"
        },
        {
          "output_type": "execute_result",
          "data": {
            "text/plain": [
              "GridSearchCV(cv=5, error_score=nan,\n",
              "             estimator=Lasso(alpha=1.0, copy_X=True, fit_intercept=True,\n",
              "                             max_iter=1000, normalize=False, positive=False,\n",
              "                             precompute=False, random_state=None,\n",
              "                             selection='cyclic', tol=0.0001, warm_start=False),\n",
              "             iid='deprecated', n_jobs=None,\n",
              "             param_grid=[{'alpha': [0.001, 0.003, 0.01, 0.03, 0.1, 0.3, 1, 3]}],\n",
              "             pre_dispatch='2*n_jobs', refit=True, return_train_score=True,\n",
              "             scoring='neg_mean_squared_error', verbose=0)"
            ]
          },
          "metadata": {
            "tags": []
          },
          "execution_count": 43
        }
      ]
    },
    {
      "cell_type": "code",
      "metadata": {
        "id": "kewkZokv35gy",
        "colab_type": "code",
        "colab": {
          "base_uri": "https://localhost:8080/",
          "height": 34
        },
        "outputId": "a5888cbc-32f0-49d2-dfb9-ed9bd3014fce"
      },
      "source": [
        "grid_search.best_params_"
      ],
      "execution_count": null,
      "outputs": [
        {
          "output_type": "execute_result",
          "data": {
            "text/plain": [
              "{'alpha': 3}"
            ]
          },
          "metadata": {
            "tags": []
          },
          "execution_count": 44
        }
      ]
    },
    {
      "cell_type": "markdown",
      "metadata": {
        "id": "YlsV-tvA8nmk",
        "colab_type": "text"
      },
      "source": [
        "Lasso regression alpha= 3"
      ]
    },
    {
      "cell_type": "markdown",
      "metadata": {
        "id": "l439lTVT8yl7",
        "colab_type": "text"
      },
      "source": [
        "**Lasso regression with alpha= 3**"
      ]
    },
    {
      "cell_type": "code",
      "metadata": {
        "id": "g-p2qYh385cH",
        "colab_type": "code",
        "colab": {
          "base_uri": "https://localhost:8080/",
          "height": 34
        },
        "outputId": "a3ec3e90-f33a-46b1-9b40-689973f3ef29"
      },
      "source": [
        "from sklearn.linear_model import Lasso\n",
        "\n",
        "lasso_reg=Lasso(alpha=3)\n",
        "lasso_reg.fit(x_train,y_train)\n",
        "lasso_pred=lasso_reg.predict(x_val)\n",
        "lasso_mse=mean_squared_error(lasso_pred,y_val)\n",
        "lasso_rmse=np.sqrt(lasso_mse)\n",
        "lasso_rmse"
      ],
      "execution_count": null,
      "outputs": [
        {
          "output_type": "execute_result",
          "data": {
            "text/plain": [
              "154859.84386516863"
            ]
          },
          "metadata": {
            "tags": []
          },
          "execution_count": 45
        }
      ]
    },
    {
      "cell_type": "markdown",
      "metadata": {
        "id": "pk9Bd86l-Fc9",
        "colab_type": "text"
      },
      "source": [
        "Lasso regression RMSE 154859.84386516863"
      ]
    },
    {
      "cell_type": "markdown",
      "metadata": {
        "id": "Ev1KSepK-VtT",
        "colab_type": "text"
      },
      "source": [
        "**Grid search with elastic net**"
      ]
    },
    {
      "cell_type": "code",
      "metadata": {
        "id": "U2dkoFOt-VSm",
        "colab_type": "code",
        "colab": {
          "base_uri": "https://localhost:8080/",
          "height": 549
        },
        "outputId": "e6956cdb-e916-4d3d-c3af-c7989542acee"
      },
      "source": [
        "from sklearn.model_selection import GridSearchCV\n",
        "from sklearn.linear_model import ElasticNet\n",
        "\n",
        "param_grid=[\n",
        "            {'alpha':[0.001,0.003,0.01,0.03,0.1,0.3,1,3]}\n",
        "]\n",
        "\n",
        "elastic_reg=ElasticNet()\n",
        "\n",
        "grid_search=GridSearchCV(elastic_reg,param_grid,cv=5,\n",
        "                         scoring='neg_mean_squared_error',\n",
        "                         return_train_score=True)\n",
        "\n",
        "grid_search.fit(x_train,y_train)"
      ],
      "execution_count": null,
      "outputs": [
        {
          "output_type": "stream",
          "text": [
            "/usr/local/lib/python3.6/dist-packages/sklearn/linear_model/_coordinate_descent.py:476: ConvergenceWarning: Objective did not converge. You might want to increase the number of iterations. Duality gap: 2.2300143245554515e+17, tolerance: 44939526498086.04\n",
            "  positive)\n",
            "/usr/local/lib/python3.6/dist-packages/sklearn/linear_model/_coordinate_descent.py:476: ConvergenceWarning: Objective did not converge. You might want to increase the number of iterations. Duality gap: 1.1391162423599557e+17, tolerance: 22888749025155.25\n",
            "  positive)\n",
            "/usr/local/lib/python3.6/dist-packages/sklearn/linear_model/_coordinate_descent.py:476: ConvergenceWarning: Objective did not converge. You might want to increase the number of iterations. Duality gap: 1.2190864321625146e+17, tolerance: 24523825519327.965\n",
            "  positive)\n",
            "/usr/local/lib/python3.6/dist-packages/sklearn/linear_model/_coordinate_descent.py:476: ConvergenceWarning: Objective did not converge. You might want to increase the number of iterations. Duality gap: 2.2892642541665578e+17, tolerance: 46154710254504.44\n",
            "  positive)\n",
            "/usr/local/lib/python3.6/dist-packages/sklearn/linear_model/_coordinate_descent.py:476: ConvergenceWarning: Objective did not converge. You might want to increase the number of iterations. Duality gap: 2.2893153228388845e+17, tolerance: 46155439349096.234\n",
            "  positive)\n",
            "/usr/local/lib/python3.6/dist-packages/sklearn/linear_model/_coordinate_descent.py:476: ConvergenceWarning: Objective did not converge. You might want to increase the number of iterations. Duality gap: 2.2252929783822064e+17, tolerance: 44939526498086.04\n",
            "  positive)\n",
            "/usr/local/lib/python3.6/dist-packages/sklearn/linear_model/_coordinate_descent.py:476: ConvergenceWarning: Objective did not converge. You might want to increase the number of iterations. Duality gap: 1.1347866910800978e+17, tolerance: 22888749025155.25\n",
            "  positive)\n",
            "/usr/local/lib/python3.6/dist-packages/sklearn/linear_model/_coordinate_descent.py:476: ConvergenceWarning: Objective did not converge. You might want to increase the number of iterations. Duality gap: 1.215653446528282e+17, tolerance: 24523825519327.965\n",
            "  positive)\n",
            "/usr/local/lib/python3.6/dist-packages/sklearn/linear_model/_coordinate_descent.py:476: ConvergenceWarning: Objective did not converge. You might want to increase the number of iterations. Duality gap: 2.2853485237027117e+17, tolerance: 46154710254504.44\n",
            "  positive)\n",
            "/usr/local/lib/python3.6/dist-packages/sklearn/linear_model/_coordinate_descent.py:476: ConvergenceWarning: Objective did not converge. You might want to increase the number of iterations. Duality gap: 2.28540716871536e+17, tolerance: 46155439349096.234\n",
            "  positive)\n"
          ],
          "name": "stderr"
        },
        {
          "output_type": "execute_result",
          "data": {
            "text/plain": [
              "GridSearchCV(cv=5, error_score=nan,\n",
              "             estimator=ElasticNet(alpha=1.0, copy_X=True, fit_intercept=True,\n",
              "                                  l1_ratio=0.5, max_iter=1000, normalize=False,\n",
              "                                  positive=False, precompute=False,\n",
              "                                  random_state=None, selection='cyclic',\n",
              "                                  tol=0.0001, warm_start=False),\n",
              "             iid='deprecated', n_jobs=None,\n",
              "             param_grid=[{'alpha': [0.001, 0.003, 0.01, 0.03, 0.1, 0.3, 1, 3]}],\n",
              "             pre_dispatch='2*n_jobs', refit=True, return_train_score=True,\n",
              "             scoring='neg_mean_squared_error', verbose=0)"
            ]
          },
          "metadata": {
            "tags": []
          },
          "execution_count": 46
        }
      ]
    },
    {
      "cell_type": "code",
      "metadata": {
        "id": "2qExj37k_J_p",
        "colab_type": "code",
        "colab": {
          "base_uri": "https://localhost:8080/",
          "height": 34
        },
        "outputId": "d49981de-3ac6-4c55-d186-718029797486"
      },
      "source": [
        "grid_search.best_params_"
      ],
      "execution_count": null,
      "outputs": [
        {
          "output_type": "execute_result",
          "data": {
            "text/plain": [
              "{'alpha': 1}"
            ]
          },
          "metadata": {
            "tags": []
          },
          "execution_count": 47
        }
      ]
    },
    {
      "cell_type": "markdown",
      "metadata": {
        "id": "jZAfZcjEF4fd",
        "colab_type": "text"
      },
      "source": [
        "Elastic net alpha=1"
      ]
    },
    {
      "cell_type": "markdown",
      "metadata": {
        "id": "vS8rz_odF9QO",
        "colab_type": "text"
      },
      "source": [
        "**Applying elastic net with alpha=1**"
      ]
    },
    {
      "cell_type": "code",
      "metadata": {
        "id": "fA-PnRPNF0od",
        "colab_type": "code",
        "colab": {
          "base_uri": "https://localhost:8080/",
          "height": 34
        },
        "outputId": "1f40460e-fb20-47e3-be64-bbcc42657c3d"
      },
      "source": [
        "from sklearn.linear_model import ElasticNet\n",
        "\n",
        "elastic_reg=ElasticNet(alpha=1)\n",
        "elastic_reg.fit(x_train,y_train)\n",
        "elastic_pred=elastic_reg.predict(x_val)\n",
        "elastic_mse=mean_squared_error(elastic_pred,y_val)\n",
        "elastic_rmse=np.sqrt(elastic_mse)\n",
        "elastic_rmse"
      ],
      "execution_count": null,
      "outputs": [
        {
          "output_type": "execute_result",
          "data": {
            "text/plain": [
              "152293.53403779372"
            ]
          },
          "metadata": {
            "tags": []
          },
          "execution_count": 48
        }
      ]
    },
    {
      "cell_type": "markdown",
      "metadata": {
        "id": "tLd3qlSqHaG9",
        "colab_type": "text"
      },
      "source": [
        "Elastic net RMSE= 152293.53403779372"
      ]
    },
    {
      "cell_type": "markdown",
      "metadata": {
        "id": "SBtbLz9aFX4t",
        "colab_type": "text"
      },
      "source": [
        "**Batch gradient descent**"
      ]
    },
    {
      "cell_type": "code",
      "metadata": {
        "id": "iangtu4hHMbF",
        "colab_type": "code",
        "colab": {}
      },
      "source": [
        "#bias_column_size = x_train.shape[0] \n",
        "bias_column_size = 1000000   # when running the full simulation the first bias_column_size will be used But in colab, to accodomate for RAM, the second bias_column_size will be used."
      ],
      "execution_count": null,
      "outputs": []
    },
    {
      "cell_type": "code",
      "metadata": {
        "id": "x_hjMYmJFb4F",
        "colab_type": "code",
        "colab": {}
      },
      "source": [
        "x_train_b = np.c_ [np.ones((bias_column_size,1)), x_train[:1000000]]# adding the bias column in x_train"
      ],
      "execution_count": null,
      "outputs": []
    },
    {
      "cell_type": "markdown",
      "metadata": {
        "id": "eoe3lwCNJIjj",
        "colab_type": "text"
      },
      "source": [
        "**Using normal equation to get theta and then compare with BGD and SGD,MGD**"
      ]
    },
    {
      "cell_type": "code",
      "metadata": {
        "id": "_fMjx-AAJINb",
        "colab_type": "code",
        "colab": {}
      },
      "source": [
        "theta_best = np.linalg.inv(x_train_b.T .dot (x_train_b)) .dot(x_train_b.T) .dot (y_train[:1000000])\n",
        "theta_best"
      ],
      "execution_count": null,
      "outputs": []
    },
    {
      "cell_type": "code",
      "metadata": {
        "id": "EB7CuvCCKqZC",
        "colab_type": "code",
        "colab": {}
      },
      "source": [
        "bias_val_column_size = x_val.shape[0]"
      ],
      "execution_count": null,
      "outputs": []
    },
    {
      "cell_type": "code",
      "metadata": {
        "id": "yQXeY59rKUZV",
        "colab_type": "code",
        "colab": {}
      },
      "source": [
        "x_val_b = np.c_[np.ones((bias_val_column_size,1)),x_val]"
      ],
      "execution_count": null,
      "outputs": []
    },
    {
      "cell_type": "markdown",
      "metadata": {
        "id": "AWGhYGTlLJEb",
        "colab_type": "text"
      },
      "source": [
        "**Batch gradient descent**"
      ]
    },
    {
      "cell_type": "code",
      "metadata": {
        "id": "IV7btz0sK757",
        "colab_type": "code",
        "colab": {}
      },
      "source": [
        "eta_BGD=0.3\n",
        "n_iterations = 20\n",
        "m= 1000000\n",
        "\n",
        "theta_BGD = np.random.randn(theta_best.shape[0],1)\n",
        "for iteration in range(n_iterations):\n",
        "    gradients_BGD = 2/m * x_train_b.T.dot(x_train_b.dot(theta_BGD) - y_train[:1000000])\n",
        "    theta_BGD = theta_BGD - eta_BGD * gradients_BGD "
      ],
      "execution_count": null,
      "outputs": []
    },
    {
      "cell_type": "code",
      "metadata": {
        "id": "WrFy4_zoMW2u",
        "colab_type": "code",
        "colab": {}
      },
      "source": [
        "theta_BGD"
      ],
      "execution_count": null,
      "outputs": []
    },
    {
      "cell_type": "code",
      "metadata": {
        "id": "LArpfzHNNC1r",
        "colab_type": "code",
        "colab": {}
      },
      "source": [
        ""
      ],
      "execution_count": null,
      "outputs": []
    },
    {
      "cell_type": "markdown",
      "metadata": {
        "id": "sS1L0mmfIcld",
        "colab_type": "text"
      },
      "source": [
        "**Grid search to get the optimal learning rate**"
      ]
    },
    {
      "cell_type": "code",
      "metadata": {
        "id": "8pBTkjDHIg7h",
        "colab_type": "code",
        "colab": {
          "base_uri": "https://localhost:8080/",
          "height": 273
        },
        "outputId": "51379b50-99d3-4469-ee76-95bf36188e9b"
      },
      "source": [
        "from sklearn.model_selection import GridSearchCV\n",
        "from sklearn.linear_model import SGDRegressor\n",
        "\n",
        "param_grid=[\n",
        "            {'eta0':[0.001,0.003,0.01,0.03,0.1,0.3,1,3]}\n",
        "]\n",
        "\n",
        "sgd_reg=SGDRegressor(max_iter=1000,tol=1e-3,penalty='l2')\n",
        "\n",
        "grid_search=GridSearchCV(sgd_reg,param_grid,cv=5,\n",
        "                         scoring='neg_mean_squared_error',\n",
        "                         return_train_score=True)\n",
        "grid_search.fit(x_train,y_train)"
      ],
      "execution_count": null,
      "outputs": [
        {
          "output_type": "execute_result",
          "data": {
            "text/plain": [
              "GridSearchCV(cv=5, error_score=nan,\n",
              "             estimator=SGDRegressor(alpha=0.0001, average=False,\n",
              "                                    early_stopping=False, epsilon=0.1,\n",
              "                                    eta0=0.01, fit_intercept=True,\n",
              "                                    l1_ratio=0.15, learning_rate='invscaling',\n",
              "                                    loss='squared_loss', max_iter=1000,\n",
              "                                    n_iter_no_change=5, penalty='l2',\n",
              "                                    power_t=0.25, random_state=None,\n",
              "                                    shuffle=True, tol=0.001,\n",
              "                                    validation_fraction=0.1, verbose=0,\n",
              "                                    warm_start=False),\n",
              "             iid='deprecated', n_jobs=None,\n",
              "             param_grid=[{'eta0': [0.001, 0.003, 0.01, 0.03, 0.1, 0.3, 1, 3]}],\n",
              "             pre_dispatch='2*n_jobs', refit=True, return_train_score=True,\n",
              "             scoring='neg_mean_squared_error', verbose=0)"
            ]
          },
          "metadata": {
            "tags": []
          },
          "execution_count": 49
        }
      ]
    },
    {
      "cell_type": "code",
      "metadata": {
        "id": "Xmt0fMxTJfVK",
        "colab_type": "code",
        "colab": {
          "base_uri": "https://localhost:8080/",
          "height": 34
        },
        "outputId": "c58f39cd-d8aa-41cc-db74-3bcd9915f8f6"
      },
      "source": [
        "grid_search.best_params_"
      ],
      "execution_count": null,
      "outputs": [
        {
          "output_type": "execute_result",
          "data": {
            "text/plain": [
              "{'eta0': 0.3}"
            ]
          },
          "metadata": {
            "tags": []
          },
          "execution_count": 50
        }
      ]
    },
    {
      "cell_type": "markdown",
      "metadata": {
        "id": "TYx5Q4RvOc3Y",
        "colab_type": "text"
      },
      "source": [
        "**Stochastic gradient descent with eta0=0.3**"
      ]
    },
    {
      "cell_type": "code",
      "metadata": {
        "id": "xVbpBaVVHoqX",
        "colab_type": "code",
        "colab": {
          "base_uri": "https://localhost:8080/",
          "height": 34
        },
        "outputId": "16c74c2f-4eb1-4d4b-ab77-1ed3e7dc7711"
      },
      "source": [
        "from sklearn.linear_model import SGDRegressor\n",
        "from sklearn. metrics import mean_squared_error\n",
        "\n",
        "sgd_reg=SGDRegressor(max_iter=200,tol=1e-3,eta0=0.3)\n",
        "sgd_reg.fit(x_train,y_train)\n",
        "sgd_pred=sgd_reg.predict(x_val)\n",
        "sgd_mse=mean_squared_error(sgd_pred,y_val)\n",
        "sgd_rmse=np.sqrt(sgd_mse)\n",
        "sgd_rmse"
      ],
      "execution_count": null,
      "outputs": [
        {
          "output_type": "execute_result",
          "data": {
            "text/plain": [
              "150796.92378727117"
            ]
          },
          "metadata": {
            "tags": []
          },
          "execution_count": 71
        }
      ]
    },
    {
      "cell_type": "markdown",
      "metadata": {
        "id": "noHNta54N-lS",
        "colab_type": "text"
      },
      "source": [
        "Stochastic gradient descent RMSE with eta0=0.3 is 150796.92378727117"
      ]
    },
    {
      "cell_type": "markdown",
      "metadata": {
        "id": "GLNndoyOuF68",
        "colab_type": "text"
      },
      "source": [
        "**Support Vector Regressor**"
      ]
    },
    {
      "cell_type": "code",
      "metadata": {
        "id": "cm5Q7DqYxp5R",
        "colab_type": "code",
        "colab": {
          "base_uri": "https://localhost:8080/",
          "height": 187
        },
        "outputId": "9706cfca-d68e-4e32-b3b9-1c6e2417affc"
      },
      "source": [
        "from sklearn.model_selection import GridSearchCV\n",
        "from sklearn.svm import LinearSVR\n",
        "\n",
        "param_grid = [\n",
        "              {'epsilon':[0.003,0.001,0.03,0.01,0.3,0.1,1,3,10,20,50,100,400,800,1000]}\n",
        "]\n",
        "\n",
        "svm_reg = LinearSVR()\n",
        "grid_search = GridSearchCV(svm_reg,param_grid,\n",
        "                           scoring ='neg_mean_squared_error',\n",
        "                           return_train_score =True)\n",
        "grid_search.fit(x_train,y_train)"
      ],
      "execution_count": null,
      "outputs": [
        {
          "output_type": "execute_result",
          "data": {
            "text/plain": [
              "GridSearchCV(cv=None, error_score=nan,\n",
              "             estimator=LinearSVR(C=1.0, dual=True, epsilon=0.0,\n",
              "                                 fit_intercept=True, intercept_scaling=1.0,\n",
              "                                 loss='epsilon_insensitive', max_iter=1000,\n",
              "                                 random_state=None, tol=0.0001, verbose=0),\n",
              "             iid='deprecated', n_jobs=None,\n",
              "             param_grid=[{'epsilon': [0.003, 0.001, 0.03, 0.01, 0.3, 0.1, 1, 3,\n",
              "                                      10, 20, 50, 100, 400, 800, 1000]}],\n",
              "             pre_dispatch='2*n_jobs', refit=True, return_train_score=True,\n",
              "             scoring='neg_mean_squared_error', verbose=0)"
            ]
          },
          "metadata": {
            "tags": []
          },
          "execution_count": 52
        }
      ]
    },
    {
      "cell_type": "code",
      "metadata": {
        "id": "G3upQSxIz4Ss",
        "colab_type": "code",
        "colab": {
          "base_uri": "https://localhost:8080/",
          "height": 34
        },
        "outputId": "ef9b807f-0b23-4077-db33-046eece91c43"
      },
      "source": [
        "grid_search.best_params_"
      ],
      "execution_count": null,
      "outputs": [
        {
          "output_type": "execute_result",
          "data": {
            "text/plain": [
              "{'epsilon': 1000}"
            ]
          },
          "metadata": {
            "tags": []
          },
          "execution_count": 53
        }
      ]
    },
    {
      "cell_type": "markdown",
      "metadata": {
        "id": "hYza_NP93Ygj",
        "colab_type": "text"
      },
      "source": [
        "**from grid search epsilon = 1000. LinearSVR with epsilon = 1000**"
      ]
    },
    {
      "cell_type": "code",
      "metadata": {
        "id": "Nw-qLuzauK9A",
        "colab_type": "code",
        "colab": {
          "base_uri": "https://localhost:8080/",
          "height": 34
        },
        "outputId": "47a3af76-c147-476e-d729-b940e665b93f"
      },
      "source": [
        "from sklearn.svm import LinearSVR\n",
        "from sklearn.metrics import mean_squared_error\n",
        "from math import sqrt\n",
        "\n",
        "svm_reg = LinearSVR(epsilon =7500)\n",
        "svm_reg.fit(x_train,y_train)\n",
        "svm_reg_pred = svm_reg.predict(x_val)\n",
        "svm_reg_error = mean_squared_error(svm_reg_pred,y_val)\n",
        "svm_reg_rmse = sqrt(svm_reg_error)\n",
        "svm_reg_rmse"
      ],
      "execution_count": null,
      "outputs": [
        {
          "output_type": "execute_result",
          "data": {
            "text/plain": [
              "150666.6151785476"
            ]
          },
          "metadata": {
            "tags": []
          },
          "execution_count": 83
        }
      ]
    },
    {
      "cell_type": "markdown",
      "metadata": {
        "id": "thcCVnz1IwTj",
        "colab_type": "text"
      },
      "source": [
        "LinearSVR with epsilon 1000 RMSE = 150666.6151785476"
      ]
    },
    {
      "cell_type": "code",
      "metadata": {
        "id": "dVHWglf53jjX",
        "colab_type": "code",
        "colab": {}
      },
      "source": [
        "from sklearn.model_selection import GridSearchCV\n",
        "from sklearn.svm import SVR\n",
        "\n",
        "param_grid = [\n",
        "              {'epsilon':[10,20,50,100,400,800,1000]},\n",
        "              {'degree':[2,3,4,5]},\n",
        "              {'C':[0.003,0.001,0.03,0.01]} #,20,50,100,400,800,1000\n",
        "]\n",
        "\n",
        "svm_poly_reg = SVR(kernel = 'poly')\n",
        "\n",
        "grid_search = GridSearchCV(svm_poly_reg,param_grid,\n",
        "                           scoring ='neg_mean_squared_error',\n",
        "                           return_train_score =True)\n",
        "\n",
        "grid_search.fit(x_train,y_train)"
      ],
      "execution_count": null,
      "outputs": []
    },
    {
      "cell_type": "code",
      "metadata": {
        "id": "w1gW4feS5S29",
        "colab_type": "code",
        "colab": {}
      },
      "source": [
        "grid_search.bet_params_"
      ],
      "execution_count": null,
      "outputs": []
    },
    {
      "cell_type": "code",
      "metadata": {
        "id": "5-cS0eSa7E8V",
        "colab_type": "code",
        "colab": {}
      },
      "source": [
        "from sklearn.svm import SVR\n",
        "from sklearn.metrics mean_squared_error\n",
        "from math import sqrt\n",
        "\n",
        "svm_poly_reg = SVR(kernel ='poly', degree = '', C ='', epislon ='')\n",
        "svm_poly_reg.fit(x_train,y_train)\n",
        "svm_poly_pred = svm_poly_reg.pred(x_val)\n",
        "svm_poly_mse=mean_squared_error(svm_poy_pred,y_val)\n",
        "svm_poly_rmse = sqrt(svm_poly_mse)\n",
        "svm_poy_rmse"
      ],
      "execution_count": null,
      "outputs": []
    },
    {
      "cell_type": "markdown",
      "metadata": {
        "id": "TUP3S-7ROhh1",
        "colab_type": "text"
      },
      "source": [
        "**Decision tree**"
      ]
    },
    {
      "cell_type": "markdown",
      "metadata": {
        "id": "sbkvTzHZECRx",
        "colab_type": "text"
      },
      "source": [
        "**The plan was to let decision tree fit however it wanted and let it overfit, make the figure using export_graphviz and then reducing overfitting**"
      ]
    },
    {
      "cell_type": "code",
      "metadata": {
        "id": "wKvBdrvAOmRF",
        "colab_type": "code",
        "colab": {
          "base_uri": "https://localhost:8080/",
          "height": 34
        },
        "outputId": "25c0b1e4-22bd-4158-d322-75b537db0c3f"
      },
      "source": [
        "from sklearn.tree import DecisionTreeRegressor\n",
        "from sklearn.metrics import mean_squared_error\n",
        "\n",
        "tree_reg=DecisionTreeRegressor()\n",
        "tree_reg.fit(x_train,y_train)\n",
        "tree_pred=tree_reg.predict(x_val)\n",
        "tree_mse=mean_squared_error(tree_pred,y_val)\n",
        "tree_rmse=np.sqrt(tree_mse)\n",
        "tree_rmse"
      ],
      "execution_count": null,
      "outputs": [
        {
          "output_type": "execute_result",
          "data": {
            "text/plain": [
              "413891.5899614067"
            ]
          },
          "metadata": {
            "tags": []
          },
          "execution_count": 55
        }
      ]
    },
    {
      "cell_type": "markdown",
      "metadata": {
        "id": "vEUbUyE2-cPB",
        "colab_type": "text"
      },
      "source": [
        "Decision tree RMSE = 413891.5899614067"
      ]
    },
    {
      "cell_type": "code",
      "metadata": {
        "id": "hb6v6HvF8ON_",
        "colab_type": "code",
        "colab": {
          "base_uri": "https://localhost:8080/",
          "height": 34
        },
        "outputId": "7e8c68f5-768f-4ab6-92fb-ea8148b4b324"
      },
      "source": [
        "from sklearn.tree import DecisionTreeRegressor\n",
        "from sklearn.metrics import mean_squared_error\n",
        "\n",
        "tree_reg=DecisionTreeRegressor(max_depth =10, max_leaf_nodes=30)\n",
        "tree_reg.fit(x_train,y_train)\n",
        "tree_pred=tree_reg.predict(x_val)\n",
        "tree_mse=mean_squared_error(tree_pred,y_val)\n",
        "tree_rmse=np.sqrt(tree_mse)\n",
        "tree_rmse"
      ],
      "execution_count": null,
      "outputs": [
        {
          "output_type": "execute_result",
          "data": {
            "text/plain": [
              "309383.3251347409"
            ]
          },
          "metadata": {
            "tags": []
          },
          "execution_count": 85
        }
      ]
    },
    {
      "cell_type": "markdown",
      "metadata": {
        "id": "n3YNQCD-MwDa",
        "colab_type": "text"
      },
      "source": [
        "Decision tree RMSE = 318004.3030072844"
      ]
    },
    {
      "cell_type": "markdown",
      "metadata": {
        "id": "Tb2YJPGnOmx3",
        "colab_type": "text"
      },
      "source": [
        "**Ensemble**"
      ]
    },
    {
      "cell_type": "code",
      "metadata": {
        "id": "wp6WOVgaOp4Y",
        "colab_type": "code",
        "colab": {
          "base_uri": "https://localhost:8080/",
          "height": 512
        },
        "outputId": "df8bc428-b1cd-43c7-e16a-1b3082fc6758"
      },
      "source": [
        "from sklearn.ensemble import VotingRegressor\n",
        "from sklearn.svm import LinearSVR\n",
        "from sklearn.linear_model import LinearRegression\n",
        "from sklearn.linear_model import Ridge\n",
        "from sklearn.linear_model import Lasso\n",
        "from sklearn.linear_model import ElasticNet\n",
        "from sklearn.linear_model import SGDRegressor\n",
        "from sklearn.svm import LinearSVR\n",
        "from sklearn.svm import SVR\n",
        "from sklearn.tree import DecisionTreeRegressor\n",
        "\n",
        "lin_reg=LinearRegression()\n",
        "#ridge_reg=Ridge(alpha=3,solver='cholesky')\n",
        "#lasso_reg=Lasso(alpha=3)\n",
        "#elastic_reg=ElasticNet(alpha=1)\n",
        "#sgd_reg=SGDRegressor(max_iter=200,tol=1e-3,eta0=0.3)\n",
        "svm_reg = LinearSVR(epsilon =7500)\n",
        "tree_reg=DecisionTreeRegressor(max_depth =10, max_leaf_nodes=30)\n",
        "\n",
        "voting_reg=VotingRegressor(\n",
        "    estimators=[('lr',lin_reg),('sgd_reg',sgd_reg),('svm',svm_reg),\n",
        "                ('tree',tree_reg)]\n",
        ")\n",
        "\n",
        "voting_reg.fit(x_train,y_train)"
      ],
      "execution_count": null,
      "outputs": [
        {
          "output_type": "execute_result",
          "data": {
            "text/plain": [
              "VotingRegressor(estimators=[('lr',\n",
              "                             LinearRegression(copy_X=True, fit_intercept=True,\n",
              "                                              n_jobs=None, normalize=False)),\n",
              "                            ('sgd_reg',\n",
              "                             SGDRegressor(alpha=0.0001, average=False,\n",
              "                                          early_stopping=False, epsilon=0.1,\n",
              "                                          eta0=0.3, fit_intercept=True,\n",
              "                                          l1_ratio=0.15,\n",
              "                                          learning_rate='invscaling',\n",
              "                                          loss='squared_loss', max_iter=200,\n",
              "                                          n_iter_no_change=5, penalty='l2',\n",
              "                                          power_t=0.25, random_...\n",
              "                                       max_iter=1000, random_state=None,\n",
              "                                       tol=0.0001, verbose=0)),\n",
              "                            ('tree',\n",
              "                             DecisionTreeRegressor(ccp_alpha=0.0,\n",
              "                                                   criterion='mse',\n",
              "                                                   max_depth=10,\n",
              "                                                   max_features=None,\n",
              "                                                   max_leaf_nodes=30,\n",
              "                                                   min_impurity_decrease=0.0,\n",
              "                                                   min_impurity_split=None,\n",
              "                                                   min_samples_leaf=1,\n",
              "                                                   min_samples_split=2,\n",
              "                                                   min_weight_fraction_leaf=0.0,\n",
              "                                                   presort='deprecated',\n",
              "                                                   random_state=None,\n",
              "                                                   splitter='best'))],\n",
              "                n_jobs=None, weights=None)"
            ]
          },
          "metadata": {
            "tags": []
          },
          "execution_count": 95
        }
      ]
    },
    {
      "cell_type": "code",
      "metadata": {
        "id": "kp8lwwDMRxAG",
        "colab_type": "code",
        "colab": {}
      },
      "source": [
        "# from sklearn.metrics import accuracy_score\n",
        "\n",
        "# for reg in (lin_reg,ridge_reg,sgd_reg,svm_reg,tree_reg):\n",
        "#   reg.fit(x_train[:1000000],y_train[:1000000])\n",
        "#   pred = reg.predict(x_val)\n",
        "#   print(reg.__class__.__name__, score(y_val, pred))"
      ],
      "execution_count": null,
      "outputs": []
    },
    {
      "cell_type": "code",
      "metadata": {
        "id": "7ao0jAFEV0Gj",
        "colab_type": "code",
        "colab": {
          "base_uri": "https://localhost:8080/",
          "height": 34
        },
        "outputId": "41f991bd-96d0-406a-893d-8abe4ba35dc2"
      },
      "source": [
        "from sklearn.metrics import mean_squared_error\n",
        "\n",
        "voting_reg_pred=voting_reg.predict(x_val)\n",
        "voting_reg_mse=mean_squared_error(voting_reg_pred,y_val)\n",
        "voting_reg_rmse=np.sqrt(voting_reg_mse)\n",
        "voting_reg_rmse"
      ],
      "execution_count": null,
      "outputs": [
        {
          "output_type": "execute_result",
          "data": {
            "text/plain": [
              "157984.06424212476"
            ]
          },
          "metadata": {
            "tags": []
          },
          "execution_count": 96
        }
      ]
    },
    {
      "cell_type": "markdown",
      "metadata": {
        "id": "BpEvBR2VkBdZ",
        "colab_type": "text"
      },
      "source": [
        "Voting regressor RMSE 157984.06424212476"
      ]
    },
    {
      "cell_type": "markdown",
      "metadata": {
        "id": "QLF3VsxvahG-",
        "colab_type": "text"
      },
      "source": [
        "**BaggingRegressor**"
      ]
    },
    {
      "cell_type": "code",
      "metadata": {
        "id": "xedDxHt1Yw1M",
        "colab_type": "code",
        "colab": {}
      },
      "source": [
        "from sklearn.ensemble import BaggingRegressor\n",
        "from sklearn.tree import DecisionTreeRegressor\n",
        "\n",
        "bag_reg= BaggingRegressor(\n",
        "    DecisionTreeRegressor(max_depth =10, max_leaf_nodes=30),n_estimators =500,\n",
        "    max_samples=2000, bootstrap =True, n_jobs=-1 \n",
        ")\n"
      ],
      "execution_count": null,
      "outputs": []
    },
    {
      "cell_type": "code",
      "metadata": {
        "id": "TIXdVnXBalnv",
        "colab_type": "code",
        "colab": {}
      },
      "source": [
        "from math import sqrt\n",
        "from sklearn.metrics import mean_squared_error\n",
        "\n",
        "bag_reg.fit(x_train,y_train)\n",
        "bag_pred= bag_reg.predict(x_val)\n",
        "bag_mse=mean_squared_error(y_val,bag_pred)\n",
        "bag_rmse =sqrt(bag_mse)"
      ],
      "execution_count": null,
      "outputs": []
    },
    {
      "cell_type": "code",
      "metadata": {
        "id": "_F52ylT4ePCj",
        "colab_type": "code",
        "colab": {
          "base_uri": "https://localhost:8080/",
          "height": 34
        },
        "outputId": "5c8a709d-81d3-45fd-aab2-51e3f7910e40"
      },
      "source": [
        "bag_rmse"
      ],
      "execution_count": null,
      "outputs": [
        {
          "output_type": "execute_result",
          "data": {
            "text/plain": [
              "285949.4035147903"
            ]
          },
          "metadata": {
            "tags": []
          },
          "execution_count": 44
        }
      ]
    },
    {
      "cell_type": "markdown",
      "metadata": {
        "id": "E13hKwSeebCe",
        "colab_type": "text"
      },
      "source": [
        "Bagging regressor RMSE = 285949.4035147903"
      ]
    },
    {
      "cell_type": "markdown",
      "metadata": {
        "id": "hQ_NS-zIe0QW",
        "colab_type": "text"
      },
      "source": [
        "**Gardient boosting**"
      ]
    },
    {
      "cell_type": "code",
      "metadata": {
        "id": "dT7dpKIFeycv",
        "colab_type": "code",
        "colab": {
          "base_uri": "https://localhost:8080/",
          "height": 176
        },
        "outputId": "3d213f14-c3fb-4ec2-8bc8-c0f9c8f2fef5"
      },
      "source": [
        "from sklearn.ensemble import GradientBoostingRegressor\n",
        "from sklearn.metrics import mean_squared_error\n",
        "\n",
        "gbrt = GradientBoostingRegressor(max_depth =2, max_leaf_nodes=30,n_estimators=500,min_samples_leaf=1000,max_features =9,  random_state=42)\n",
        "gbrt.fit(x_train, y_train)\n",
        "\n",
        "errors = [mean_squared_error(y_val, y_pred)\n",
        "          for y_pred in gbrt.staged_predict(x_val)]\n",
        "bst_n_estimators = np.argmin(errors) + 1\n",
        "\n",
        "gbrt_best = GradientBoostingRegressor(max_depth=2, n_estimators=bst_n_estimators, random_state=42)\n",
        "gbrt_best.fit(x_train, y_train)"
      ],
      "execution_count": null,
      "outputs": [
        {
          "output_type": "execute_result",
          "data": {
            "text/plain": [
              "GradientBoostingRegressor(alpha=0.9, ccp_alpha=0.0, criterion='friedman_mse',\n",
              "                          init=None, learning_rate=0.1, loss='ls', max_depth=2,\n",
              "                          max_features=None, max_leaf_nodes=None,\n",
              "                          min_impurity_decrease=0.0, min_impurity_split=None,\n",
              "                          min_samples_leaf=1, min_samples_split=2,\n",
              "                          min_weight_fraction_leaf=0.0, n_estimators=4,\n",
              "                          n_iter_no_change=None, presort='deprecated',\n",
              "                          random_state=42, subsample=1.0, tol=0.0001,\n",
              "                          validation_fraction=0.1, verbose=0, warm_start=False)"
            ]
          },
          "metadata": {
            "tags": []
          },
          "execution_count": 59
        }
      ]
    },
    {
      "cell_type": "code",
      "metadata": {
        "id": "QzkUV1aXp9c9",
        "colab_type": "code",
        "colab": {
          "base_uri": "https://localhost:8080/",
          "height": 34
        },
        "outputId": "497e96f1-01ca-46e8-c1fb-d2ddd4e8c84e"
      },
      "source": [
        "gbrt_best_pred=gbrt_best.predict(x_val)\n",
        "gbrt_best_mse=mean_squared_error(gbrt_best_pred,y_val)\n",
        "gbrt_best_rmse = sqrt(gbrt_best_mse)\n",
        "gbrt_best_rmse"
      ],
      "execution_count": null,
      "outputs": [
        {
          "output_type": "execute_result",
          "data": {
            "text/plain": [
              "149273.13963311614"
            ]
          },
          "metadata": {
            "tags": []
          },
          "execution_count": 46
        }
      ]
    },
    {
      "cell_type": "markdown",
      "metadata": {
        "id": "pPP6pdo6WTti",
        "colab_type": "text"
      },
      "source": [
        "gradient boosting RMSE with max_depth=10, max_leaf_nodes=30,random_state 42 RMSE = 149273.13963311614///// "
      ]
    },
    {
      "cell_type": "markdown",
      "metadata": {
        "id": "hhjDLIoQgOd8",
        "colab_type": "text"
      },
      "source": [
        "**Making test set predictions**"
      ]
    },
    {
      "cell_type": "code",
      "metadata": {
        "id": "4DLm52YROAGQ",
        "colab_type": "code",
        "colab": {}
      },
      "source": [
        "gbrt_best_test=gbrt_best.predict(testing_prepared)"
      ],
      "execution_count": null,
      "outputs": []
    },
    {
      "cell_type": "markdown",
      "metadata": {
        "id": "Yy_fTFWhgSEG",
        "colab_type": "text"
      },
      "source": [
        "**Saving test set predictions**"
      ]
    },
    {
      "cell_type": "code",
      "metadata": {
        "id": "ZFOOYUIxgVeJ",
        "colab_type": "code",
        "colab": {
          "base_uri": "https://localhost:8080/",
          "height": 197
        },
        "outputId": "ddedfece-1554-45b4-9a11-e3ac4e4e6474"
      },
      "source": [
        "steam_outlier_preds = pd.DataFrame({'row_id':test_steam['row_id'],\n",
        "                            'meter_reading':gbrt_best_test})\n",
        "steam_outlier_preds.head()"
      ],
      "execution_count": null,
      "outputs": [
        {
          "output_type": "execute_result",
          "data": {
            "text/html": [
              "<div>\n",
              "<style scoped>\n",
              "    .dataframe tbody tr th:only-of-type {\n",
              "        vertical-align: middle;\n",
              "    }\n",
              "\n",
              "    .dataframe tbody tr th {\n",
              "        vertical-align: top;\n",
              "    }\n",
              "\n",
              "    .dataframe thead th {\n",
              "        text-align: right;\n",
              "    }\n",
              "</style>\n",
              "<table border=\"1\" class=\"dataframe\">\n",
              "  <thead>\n",
              "    <tr style=\"text-align: right;\">\n",
              "      <th></th>\n",
              "      <th>row_id</th>\n",
              "      <th>meter_reading</th>\n",
              "    </tr>\n",
              "  </thead>\n",
              "  <tbody>\n",
              "    <tr>\n",
              "      <th>16340505</th>\n",
              "      <td>16340505</td>\n",
              "      <td>11238.186518</td>\n",
              "    </tr>\n",
              "    <tr>\n",
              "      <th>16340509</th>\n",
              "      <td>16340509</td>\n",
              "      <td>11238.186518</td>\n",
              "    </tr>\n",
              "    <tr>\n",
              "      <th>16340515</th>\n",
              "      <td>16340515</td>\n",
              "      <td>11238.186518</td>\n",
              "    </tr>\n",
              "    <tr>\n",
              "      <th>16340517</th>\n",
              "      <td>16340517</td>\n",
              "      <td>11238.186518</td>\n",
              "    </tr>\n",
              "    <tr>\n",
              "      <th>16340521</th>\n",
              "      <td>16340521</td>\n",
              "      <td>11238.186518</td>\n",
              "    </tr>\n",
              "  </tbody>\n",
              "</table>\n",
              "</div>"
            ],
            "text/plain": [
              "            row_id  meter_reading\n",
              "16340505  16340505   11238.186518\n",
              "16340509  16340509   11238.186518\n",
              "16340515  16340515   11238.186518\n",
              "16340517  16340517   11238.186518\n",
              "16340521  16340521   11238.186518"
            ]
          },
          "metadata": {
            "tags": []
          },
          "execution_count": 63
        }
      ]
    },
    {
      "cell_type": "code",
      "metadata": {
        "id": "8eYrTIeRjfQN",
        "colab_type": "code",
        "colab": {
          "base_uri": "https://localhost:8080/",
          "height": 34
        },
        "outputId": "313a814d-b6f0-4c7b-8a47-f7c42abdad10"
      },
      "source": [
        "file_name='steam_outlier_preds.csv'\n",
        "steam_outlier_preds.to_csv(file_name,index=False)\n",
        "print('Saved file:'+file_name)"
      ],
      "execution_count": null,
      "outputs": [
        {
          "output_type": "stream",
          "text": [
            "Saved file:steam_outlier_preds.csv\n"
          ],
          "name": "stdout"
        }
      ]
    }
  ]
}